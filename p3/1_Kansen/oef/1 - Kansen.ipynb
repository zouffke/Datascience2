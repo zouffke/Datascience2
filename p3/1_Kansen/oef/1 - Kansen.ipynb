{
 "cells": [
  {
   "cell_type": "markdown",
   "source": [
    "# Oef Kansen 1"
   ],
   "metadata": {
    "collapsed": false
   },
   "id": "ea6cb661193dd8d6"
  },
  {
   "cell_type": "markdown",
   "source": [
    "## Vraag 1\n",
    "- $P(G)=P(A\\ ∩\\ B)+P(B\\ ∩\\ A)$\n",
    "- $P(A\\ ∩\\ B)=P(A)*P(B) ⇔ \\frac{1}{6}*\\frac{1}{6}$\n",
    "- $P(B\\ ∩\\ A)=P(B)*P(A) ⇔ \\frac{1}{6}*\\frac{1}{6}$\n",
    "- $P(G)=\\frac{1}{6}*\\frac{1}{6}+\\frac{1}{6}*\\frac{1}{6}$\n",
    "- $P(G)=\\frac{1}{36}+\\frac{1}{36}$\n",
    "- $P(G)=\\frac{2}{36}=0.0556 ⇔ 5.56\\%$"
   ],
   "metadata": {
    "collapsed": false
   },
   "id": "9afbe8db7bf34751"
  },
  {
   "cell_type": "markdown",
   "source": [
    "## Vraag 2\n",
    "- $P(G) = P(A) * P(B) + P(B)*P(A)$\n",
    "- $P(G)\\frac{1}{2}*\\frac{1}{6}+\\frac{1}{2}*\\frac{5}{6}$\n",
    "- $P(G)=\\frac{1}{12}+\\frac{5}{12}$\n",
    "- $P(G)=\\frac{6}{12} ⇔ \\frac{1}{2} ⇔ 0.5 ⇔ 50\\%$"
   ],
   "metadata": {
    "collapsed": false
   },
   "id": "7956eeef592cfb24"
  },
  {
   "cell_type": "markdown",
   "source": [
    "## Vraag 3\n",
    "### .1\n",
    "- $P(G) \\frac{4}{10}*\\frac{3}{9}*\\frac{2}{8}*\\frac{1}{7}$\n",
    "- $P(G)=\\frac{24}{5040}⇔0.0048 ⇔0.48\\%$\n",
    "\n",
    "### .2\n",
    "- $P(G)=\\frac{2}{10}*\\frac{1}{9}+\\frac{1}{10}*\\frac{2}{9}$\n",
    "- $P(G)=\\frac{2}{90}+\\frac{2}{90}$\n",
    "- $P(G)=\\frac{4}{90}⇔0.044 ⇔ 4.4\\%$\n",
    "\n",
    "### .3\n",
    "- $P(G) = \\frac{1}{10}+\\frac{1}{10}$\n",
    "- $P(G) = \\frac{2}{10} ⇔ 0.2 ⇔ 20\\%$"
   ],
   "metadata": {
    "collapsed": false
   },
   "id": "d6f24a72a66c4dab"
  },
  {
   "cell_type": "markdown",
   "source": [
    "## Vraag 4\n",
    "- $P(G) = P(A)+P(B)-P(A\\ ∩\\ B)$\n",
    "- $P(G) = \\frac{90}{144}+\\frac{60}{144}-\\frac{30}{144}$\n",
    "- $P(G) = \\frac{120}{144} ⇔ 0.8333 ⇔ 83.33\\%$"
   ],
   "metadata": {
    "collapsed": false
   },
   "id": "3da028a45fabe6a3"
  },
  {
   "cell_type": "markdown",
   "source": [
    "## Vraag 5\n",
    "- $P(G) = P(A) + P(B) - P(A\\ ∩\\ B)$\n",
    "- $P(G) = \\frac{4}{10}+\\frac{2}{10}-\\frac{1}{10}$\n",
    "- $P(G)=\\frac{5}{10} ⇔ 0.5 ⇔ 50\\%$"
   ],
   "metadata": {
    "collapsed": false
   },
   "id": "ac26527fccfcb17d"
  },
  {
   "cell_type": "markdown",
   "source": [
    "## Vraag 6"
   ],
   "metadata": {
    "collapsed": false
   },
   "id": "3ac19706ebcd54a6"
  },
  {
   "cell_type": "markdown",
   "source": [
    "## Vraag 7\n",
    "- $P(G) = \\frac{1}{3}*\\frac{1}{2}$\n",
    "- $P(G) = \\frac{1}{6} ⇔ 0.1667 ⇔ 16.67\\%$"
   ],
   "metadata": {
    "collapsed": false
   },
   "id": "980f86ae65b7fd2a"
  },
  {
   "cell_type": "markdown",
   "source": [
    "## Vraag 8\n",
    "- $P(B|A) = \\frac{P(A|B) * P(B)}{P(A)}$\n",
    "- $P(B|A) = \\frac{0.5 * \\frac{35}{365}}{\\frac{20}{365}}$\n",
    "- $P(B|A) = 0.875 ⇔ 87.5\\%$"
   ],
   "metadata": {
    "collapsed": false
   },
   "id": "2f6c931f9e58ae7c"
  },
  {
   "cell_type": "markdown",
   "source": [
    "## Vraag 9\n"
   ],
   "metadata": {
    "collapsed": false
   },
   "id": "29c19ea91937bf9e"
  }
 ],
 "metadata": {
  "kernelspec": {
   "display_name": "Python 3",
   "language": "python",
   "name": "python3"
  },
  "language_info": {
   "codemirror_mode": {
    "name": "ipython",
    "version": 2
   },
   "file_extension": ".py",
   "mimetype": "text/x-python",
   "name": "python",
   "nbconvert_exporter": "python",
   "pygments_lexer": "ipython2",
   "version": "2.7.6"
  }
 },
 "nbformat": 4,
 "nbformat_minor": 5
}
