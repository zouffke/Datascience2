{
 "cells": [
  {
   "cell_type": "markdown",
   "source": [
    "# [Laplace](https://datascience2.netlify.app/ch1_kansen/2_laplace#kansen-volgens-laplace)\n",
    "\n",
    "- $P(G) = \\frac{#G}{#U}$\n",
    "- P(G) = de kans dat G gebeurt\n",
    "- #G = het aantal gunstige uitkomsten\n",
    "- #U = het aantal uitkomsten\n",
    "<img src=\"https://i.imgur.com/qzgBZmG.png\">"
   ],
   "metadata": {
    "collapsed": false
   },
   "id": "f87b3fa89b521653"
  },
  {
   "cell_type": "markdown",
   "source": [
    "# [Productregel](https://datascience2.netlify.app/ch1_kansen/3_rekenen#de-productregel)\n",
    "\n",
    "## Onafhankelijk\n",
    "Wat is de kans dat gebeurtenissen samen gebeuren, **maar onafhankelijk zijn van elkaar?**\n",
    "\n",
    "- $P(G) = P(G₁$ $EN$ $G₂$ $EN$ $...$ $EN$ $Gₙ)$\n",
    "- $⇔ P(G) = P(G₁ ∩ G₂ ∩ ... ∩ Gₙ)$\n",
    "- $⇔ P(G₁) * P(G₂) * ... * P(Gₙ)$ \n",
    "\n",
    "<img src=\"https://i.imgur.com/IGhrlN7.png\">\n",
    "\n",
    "## Afhankelijk\n",
    "Wat is de kans dat gebeurtenissen samen gebeuren, **maar afhankelijke zijn van elkaar?**\n",
    "- $P(A ∩ B) = P(A) * P(B|A) ⇔ P(A ∩ B) = P(B) * P(A|B)$ \n",
    "\n",
    "Waarbij\n",
    "- $P(A|B)$ = de kans van B als de andere waarde A is\n",
    "\n",
    "Opmerking\n",
    "- $P(A|B) = \\frac{P(A ∩ B)}{P(B)}$\n",
    "- $P(A|B) = \\frac{P(A ∩ B)}{P(B)} = \\frac{P(B ∩ A)}{P(B)} = \\frac{P(B|A) * P(A)}{P(B)}$\n",
    "\n",
    "<img src=\"https://i.imgur.com/xW4wJ9E.png\">"
   ],
   "metadata": {
    "collapsed": false
   },
   "id": "dae09e00eb491200"
  },
  {
   "cell_type": "markdown",
   "source": [
    "# [Somregel](https://datascience2.netlify.app/ch1_kansen/3_rekenen#de-somregel)\n",
    "- Wat is de kans dat een van de n gebeurtenissen gebeurt?\n",
    "- Stel dat de deelgebeurtenissen Gᵢ (i=1, ..n) niet overlappen, het zijn **uitsluitende deelgebeurtenissen** (ze kunnen niet samen voorkomen of m.a.w\n",
    "Gᵢ ∩ Gⱼ = ∅ ∀ i=1..n, j=1..n waarbij i≠j)\n",
    "- We vragen ons af wat de kans is dat 1 van deze gebeurtenissen optreedt:\n",
    "    - P(G) = P(G₁ <u>OF</u> G₂ <u>OF</u> ... <u>OF</u> Gₙ)\n",
    "        - = P(G₁ ∪ G₂ ∪ ... ∪ Gₙ\n",
    "        - = P(G₁) + P(G₂) + ... + P(Gₙ)\n",
    "\n",
    "- <mark>**OF, ∪ ⇒ +**</mark>"
   ],
   "metadata": {
    "collapsed": false
   },
   "id": "69095d2481225554"
  },
  {
   "cell_type": "code",
   "outputs": [
    {
     "data": {
      "text/plain": "0.08000000000000002"
     },
     "execution_count": 11,
     "metadata": {},
     "output_type": "execute_result"
    }
   ],
   "source": [
    "from functions.functions_Y2.Kansen import *\n",
    "\n",
    "productDependent(0.4, 0.2)"
   ],
   "metadata": {
    "collapsed": false,
    "ExecuteTime": {
     "end_time": "2024-02-21T21:51:20.408904400Z",
     "start_time": "2024-02-21T21:51:20.400789400Z"
    }
   },
   "id": "989970323a858f03",
   "execution_count": 11
  }
 ],
 "metadata": {
  "kernelspec": {
   "display_name": "Python 3",
   "language": "python",
   "name": "python3"
  },
  "language_info": {
   "codemirror_mode": {
    "name": "ipython",
    "version": 2
   },
   "file_extension": ".py",
   "mimetype": "text/x-python",
   "name": "python",
   "nbconvert_exporter": "python",
   "pygments_lexer": "ipython2",
   "version": "2.7.6"
  }
 },
 "nbformat": 4,
 "nbformat_minor": 5
}
