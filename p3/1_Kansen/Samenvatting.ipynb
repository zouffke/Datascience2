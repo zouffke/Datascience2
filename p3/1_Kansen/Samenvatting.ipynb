{
 "cells": [
  {
   "cell_type": "markdown",
   "source": [
    "# Kansen"
   ],
   "metadata": {
    "collapsed": false
   },
   "id": "7925b4aae6ffda08"
  },
  {
   "cell_type": "markdown",
   "source": [
    "## Laplace\n",
    "Franse wiskundige en astronoom"
   ],
   "metadata": {
    "collapsed": false
   },
   "id": "2b56f0a66a8adbd0"
  },
  {
   "cell_type": "markdown",
   "source": [
    "### Kansen volgens Laplace\n",
    "De kans dat een gebeurtenis A gebeurt is de verhouding van het aantal gunstige uitkomsten voor A tot het aantal mogelijke uitkomsten.\n",
    "$$P(A) = \\frac{aantal\\ gunstige\\ uitkomsten\\ voor\\ A}{aantal\\ mogelijke\\ uitkomsten}$$\n",
    "Voorbeeld:\n",
    "- Een rode knikker trekken uit een pot met 30 rode en 20 blauwe knikkers.\n",
    "- De kans op een rode knikker is $\\frac{30}{50}⇔0.6$.\n",
    "\n",
    "Een kans is altijd een getal tussen 0 en 1.\n",
    "- 0: onmogelijk\n",
    "- 0.5: even waarschijnlijk als onwaarschijnlijk \n",
    "- 1: zeker\n",
    "- Als je een getal kleiner dan 0 of groter dan 1 krijgt, heb je een fout gemaakt.\n",
    "\n",
    "De formule kan ook zichtbaar gemaakt worden.\n",
    "<br>\n",
    "<img src=\"rescources/img/Schermafbeelding 2024-03-17 091947.png\">\n",
    "\n",
    "- De verzameling van alle mogelijke uitkomsten noemen we U (universum).\n",
    "- De verzameling van alle gunstige uitkomsten noemen we G.\n",
    "- De kans dat G gebeurt is gelijk aan $P(G)=\\frac{#G}{#U}$"
   ],
   "metadata": {
    "collapsed": false
   },
   "id": "883d1e6ab4d0c81b"
  },
  {
   "cell_type": "markdown",
   "source": [
    "### Relatieve frequentie\n",
    "Een kans kan ook bekeken worden als een relatieve frequentie.\n",
    "- Stel dat je 1000 keer een knikker uit de zak neemt (en weer terug zou leggen), dan zou je waarschijnlijk 600 keer een rode knikker hebben.\n",
    "- Hoe meer keer je een knikker uit de zak neemt, hoe dichter de relatieve frequentie bij de kans komt.\n",
    "\n",
    "In Python is dit te simuleren met:"
   ],
   "metadata": {
    "collapsed": false
   },
   "id": "36477ab37ac34125"
  },
  {
   "cell_type": "code",
   "outputs": [
    {
     "name": "stdout",
     "output_type": "stream",
     "text": [
      "['rood', 'rood', 'rood', 'rood', 'rood', 'rood', 'blauw', 'rood', 'rood', 'rood']\n"
     ]
    }
   ],
   "source": [
    "import random\n",
    "\n",
    "#Maak een zak met 20 blauwe en 30 rode knikkers\n",
    "zak = ['blauw'] * 20 + ['rood'] * 30\n",
    "#Zet de random seed op 5 (uitkomst zal altijd hetzelfde zijn)\n",
    "random.seed(5)\n",
    "#Neem 10 knikkers uit de zak\n",
    "steekproef = random.choices(zak, k=10)\n",
    "print(steekproef)"
   ],
   "metadata": {
    "collapsed": false,
    "ExecuteTime": {
     "end_time": "2024-03-17T09:35:30.282511Z",
     "start_time": "2024-03-17T09:35:30.276713Z"
    }
   },
   "id": "a4fe66087e36b92d",
   "execution_count": 25
  },
  {
   "cell_type": "code",
   "outputs": [
    {
     "data": {
      "text/plain": "rood     0.9\nblauw    0.1\nName: proportion, dtype: float64"
     },
     "execution_count": 26,
     "metadata": {},
     "output_type": "execute_result"
    }
   ],
   "source": [
    "import pandas as pd\n",
    "\n",
    "pd.Series(steekproef).value_counts(normalize=True)"
   ],
   "metadata": {
    "collapsed": false,
    "ExecuteTime": {
     "end_time": "2024-03-17T09:35:30.404962Z",
     "start_time": "2024-03-17T09:35:30.356995Z"
    }
   },
   "id": "4d42a7367fe715c0",
   "execution_count": 26
  },
  {
   "cell_type": "markdown",
   "source": [
    "Bij deze steekproef was de kans op een rode knikker 90%.\n",
    "Dit is ver van de berkekende kan van 60%.\n",
    "Dit komt omdat de steekproef te klein is. We hebben maar 10 knikkers getrokken.\n",
    "Als we de steekproef groter maken, zal de relatieve frequentie dichter bij de kans komen: "
   ],
   "metadata": {
    "collapsed": false
   },
   "id": "4134e7b6168102ce"
  },
  {
   "cell_type": "code",
   "outputs": [
    {
     "data": {
      "text/plain": "rood     0.54\nblauw    0.46\nName: proportion, dtype: float64"
     },
     "execution_count": 27,
     "metadata": {},
     "output_type": "execute_result"
    }
   ],
   "source": [
    "random.seed(5)\n",
    "steekproef = random.choices(zak, k=100)\n",
    "pd.Series(steekproef).value_counts(normalize=True)"
   ],
   "metadata": {
    "collapsed": false,
    "ExecuteTime": {
     "end_time": "2024-03-17T09:35:30.417047Z",
     "start_time": "2024-03-17T09:35:30.406974Z"
    }
   },
   "id": "a75d84741ccaf556",
   "execution_count": 27
  },
  {
   "cell_type": "code",
   "outputs": [
    {
     "data": {
      "text/plain": "rood     0.581\nblauw    0.419\nName: proportion, dtype: float64"
     },
     "execution_count": 28,
     "metadata": {},
     "output_type": "execute_result"
    }
   ],
   "source": [
    "random.seed(5)\n",
    "steekproef = random.choices(zak, k=1000)\n",
    "pd.Series(steekproef).value_counts(normalize=True)"
   ],
   "metadata": {
    "collapsed": false,
    "ExecuteTime": {
     "end_time": "2024-03-17T09:35:30.453156Z",
     "start_time": "2024-03-17T09:35:30.443665Z"
    }
   },
   "id": "ffc153253c2d8206",
   "execution_count": 28
  },
  {
   "cell_type": "markdown",
   "source": [
    "Als de steekproef oneindig groot zou zijn, zou de relatieve frequentie gelijk zijn aan de kans.\n",
    "Een kans kunnen we dus definiëren als de limiet van de relatieve frequentie als de steekproefgrootte naar oneindig gaat."
   ],
   "metadata": {
    "collapsed": false
   },
   "id": "8f2fa4c70914587a"
  },
  {
   "cell_type": "markdown",
   "source": [
    "## Rekenen met kansen\n",
    "\n",
    "Als je de kans van een gebeurtenis wil vinden, dan kan je dat soms doen aan de hand van de kans van andere (deel)gebeurtenissen. We zien in eerste instantie 3 veel voorkomende formules: de inverse, de productregel en de somregel."
   ],
   "metadata": {
    "collapsed": false
   },
   "id": "d1e3b3d74bb0c22f"
  },
  {
   "cell_type": "markdown",
   "source": [
    "### De Inverse\n",
    "\n",
    "Als je de kans weet van een gebeurtenis, dan kan je heel gemakkelijk de kans berekenen dat deze gebeurtenis niet zal gebeuren.\n",
    "$P(G̅) = 1 - P(G)$"
   ],
   "metadata": {
    "collapsed": false
   },
   "id": "16c9125df351c470"
  },
  {
   "cell_type": "markdown",
   "source": [
    "### De productregel\n",
    "Bereken de kans dat 2 gebeurtenissen tegelijk optreden."
   ],
   "metadata": {
    "collapsed": false
   },
   "id": "c0c47158a9e1bdbd"
  },
  {
   "cell_type": "markdown",
   "source": [
    "#### De algemene productregel\n",
    "Als je de kans wil berekenen dat twee gebeurtenissen A en B gebeuren, dan kan je dat doen aan de hand van de kans van A en de kans van B.\n",
    "Om dit duidelijk te maken gebruiken we een voorbeeld:\n",
    "Stel:\n",
    "- Een groep kinderen bestaat voor 40% uit meisjes en 60% uit jongens.\n",
    "- 10% van de kinderen draagt een bril.\n",
    "\n",
    "Als we een willekeurig kind uit de groep nemen is de kans dat het een meisje is 40% en de kans dat het een bril draagt 10%.\n",
    "- $P(meisje) = 0.4$ en $P(bril) = 0.1$\n",
    "\n",
    "Als we nu willen weten wat de kans is dat het kind een meisje EN een bril draagt missen we nog één gegeven.\n",
    "We moeten weten wat de kans is dat een meisje een bril draagt. Deze kunnen we noteren als $P(bril|meisje)$.\n",
    "De kansen zijn afhankelijk van elkaar.\n",
    "\n",
    "Als we de kans van $P(bril|meisje)$ weten, dan kunnen we de kans van $P(meisje\\ en\\ bril)$ berekenen met de volgende formule:\n",
    "$$P(meisje\\ en\\ bril) = P(meisje) * P(bril|meisje)$$\n",
    "\n",
    "Stel dat de kans dat een meisje een bril draagt 20% is,\n",
    "Dan kunnen we de formule invullen met de gegevens:\n",
    "$$P(meisje\\ en\\ bril) = 0.4 * 0.2 = 0.08 ⇔ 8\\%$$\n",
    "<img src=\"rescources/img/Schermafbeelding 2024-03-17 100130.png\">\n",
    "<br>\n",
    "De algemene productregel is:\n",
    "$$P(A\\ en\\ B) = P(A) * P(B|A)$$"
   ],
   "metadata": {
    "collapsed": false
   },
   "id": "f0c9fbc2e8ee2959"
  },
  {
   "cell_type": "markdown",
   "source": [
    "#### Onafhankelijke gebeurtenissen\n",
    "In sommige gevallen zijn de kansen van twee gebeurtenissen niet afhankelijk van elkaar. Dit noemen we onafhankelijke gebeurtenissen.\n",
    "Een voorbeeld hiervan:\n",
    "Wat is de kans dat iemand een rood tshirt draagt en goed is in wiskunde?\n",
    "$$P(rood\\ EN\\ wiskunde) = P(rood) * P(wiskunde|rood)$$\n",
    "Maar omdat de kans dat iemand goed is in wiskunde niet afhankelijk is van de kleur van het tshirt, kunnen we de formule ook schrijven als:\n",
    "$$P(rood\\ EN\\ wiskunde) = P(rood) * P(wiskunde)$$"
   ],
   "metadata": {
    "collapsed": false
   },
   "id": "329f5dc8e10404bc"
  },
  {
   "cell_type": "markdown",
   "source": [
    "### De somregel\n",
    "Bereken de kans dat één van twee gebeurtenissen optreedt of allebei.\n",
    "\n",
    "Deze kans kan worden berekend worden met volgende formule:\n",
    "$$P(A\\ of\\ B) = P(A) + P(B) - P(A\\ en\\ B)$$\n",
    "\n",
    "We kunnen deze formule toepassen op het vorige voorbeeld:\n",
    "$P(meisje\\ of\\ bril) = P(meisje) + P(bril) - P(meisje\\ en\\ bril)$\n",
    "<br>\n",
    "<img src=\"rescources/img/Schermafbeelding 2024-03-17 103055.png\">\n",
    "Het is zeer belangrijk om de kans dat de 2 gebeurtenissen samen gebeuren terug af te trekken van de som van de kansen van de 2 gebeurtenissen. Als we dit niet doen, dan tellen we de kans dat de 2 gebeurtenissen samen gebeuren 2 keer. Dit kan je zien aan de afbeelding hierboven. Als we de kans niet terug aftrekken dan zou het rood gearceerde deel 2 keer geteld worden.\n",
    "\n",
    "Als we de data van het voorbeeld invullen krijgen we:\n",
    "$$P(meisje\\ of\\ bril) = 0.4 + 0.1 - 0.08 = 0.42 ⇔ 42\\%$$"
   ],
   "metadata": {
    "collapsed": false
   },
   "id": "76c7239c9c52c696"
  },
  {
   "cell_type": "markdown",
   "source": [
    "## De regel van Bayes\n",
    "De productregel zegt: $P(A\\ en\\ B) = P(A) * P(B|A)$\n",
    "Maar volgende formule is ook waar: $P(A\\ en\\ B) = P(B) * P(A|B)$\n",
    "Het is mogelijk om A en B om te wisselen. Dit betekent dat:\n",
    "$$P(A) * P(B|A) = P(B) * P(A|B)$$\n",
    "hieruit volgt:\n",
    "$$P(B|A) = \\frac{P(A|B) * P(B)}{P(A)}$$\n",
    "of\n",
    "$$P(A|B) = \\frac{P(B|A) * P(A)}{P(B)}$$\n",
    "\n",
    "Hierdoor kunnnen we $P(A|B)$ berekenen aan de hand van $P(B|A)$ en vice versa."
   ],
   "metadata": {
    "collapsed": false
   },
   "id": "878991423c3f902d"
  },
  {
   "cell_type": "markdown",
   "source": [
    "## Wet van de totale kans\n",
    "De wet van de totale kans is niet echt een nieuwe formule maar eerder een samenstelling van de vorige formules.\n",
    "De wet van de totale kans kan gebruikt worden om de totale kans te berekenen van een gebeurtenis A waarbij er een aantal deelgebeurtenissen zijn die nooit samen kunnen voorkomen.\n",
    "\n",
    "$$P(A) = P(G_1) * P(A|G_1) + P(G_2) * P(A|G_2) + ... + P(G_n) * P(A|G_n)$$"
   ],
   "metadata": {
    "collapsed": false
   },
   "id": "8ac043e370d8645e"
  }
 ],
 "metadata": {
  "kernelspec": {
   "display_name": "Python 3",
   "language": "python",
   "name": "python3"
  },
  "language_info": {
   "codemirror_mode": {
    "name": "ipython",
    "version": 2
   },
   "file_extension": ".py",
   "mimetype": "text/x-python",
   "name": "python",
   "nbconvert_exporter": "python",
   "pygments_lexer": "ipython2",
   "version": "2.7.6"
  }
 },
 "nbformat": 4,
 "nbformat_minor": 5
}
