{
 "cells": [
  {
   "cell_type": "markdown",
   "source": [
    " # Samenvatting"
   ],
   "metadata": {
    "collapsed": false
   },
   "id": "2316571fe73e13df"
  },
  {
   "cell_type": "markdown",
   "source": [
    "## Begrip kansverdeling"
   ],
   "metadata": {
    "collapsed": false
   },
   "id": "66f4d89051c5339e"
  },
  {
   "cell_type": "markdown",
   "source": [
    "### Relatie met frequenties\n",
    "Stel:\n",
    "- Je gooit met 2 dobbelstenen en schrijft de som van de twee waarden op.\n",
    "- Wat is de kans dat je een 3 gooit en wat is de kans dat je een 7 gooit?\n",
    "Deze kansen kunnen benaderen door het experiment heel vaak uit te voeren en te kijken hoe vaak je een 3 of een 7 gooit.\n",
    "We kunnen de kans ook theoretisch berekenen.\n",
    "- Er zijn 36 mogelijke uitkomsten (6 mogelijkheden voor de eerste dobbelsteen en 6 mogelijkheden voor de tweede dobbelsteen).\n",
    "\n",
    "**Worpen**\n",
    "\n",
    "|       | 1     | 2     | 3     | 4     | 5     | 6     |\n",
    "|-------|-------|-------|-------|-------|-------|-------|\n",
    "| **1** | (1,1) | (1,2) | (1,3) | (1,4) | (1,5) | (1,6) |\n",
    "| **2** | (2,1) | (2,2) | (2,3) | (2,4) | (2,5) | (2,6) |\n",
    "| **3** | (3,1) | (3,2) | (3,3) | (3,4) | (3,5) | (3,6) |\n",
    "| **4** | (4,1) | (4,2) | (4,3) | (4,4) | (4,5) | (4,6) |\n",
    "| **5** | (5,1) | (5,2) | (5,3) | (5,4) | (5,5) | (5,6) |\n",
    "| **6** | (6,1) | (6,2) | (6,3) | (6,4) | (6,5) | (6,6) |\n",
    "\n",
    "⇒\n",
    "\n",
    "**Som van de ogen**\n",
    "\n",
    "|       | 1 | 2 | 3 | 4  | 5  | 6  |\n",
    "|-------|---|---|---|----|----|----|\n",
    "| **1** | 2 | 3 | 4 | 5  | 6  | 7  |\n",
    "| **2** | 3 | 4 | 5 | 6  | 7  | 8  |\n",
    "| **3** | 4 | 5 | 6 | 7  | 8  | 9  |\n",
    "| **4** | 5 | 6 | 7 | 8  | 9  | 10 |\n",
    "| **5** | 6 | 7 | 8 | 9  | 10 | 11 |\n",
    "| **6** | 7 | 8 | 9 | 10 | 11 | 12 |\n",
    "\n",
    "Uit bovenstaande tabel kunnen we afleiden dat:\n",
    "- Het gooien van een som van 7 het vaakste voorkomt.\n",
    "\n",
    "Als we willen weten wat de kans is om een 3 te gooien, dan moeten we tellen hoeveel van de 36 mogelijkheden een som van 3 opleveren. Dit zijn er 2: (1,2) en (2,1). De kans om een 3 te gooien is dus 2/36 = 1/18.\n",
    "\n",
    "Voor de andere waarden vinden we:\n",
    "\n",
    "| Waarde | Kans |\n",
    "|--------|------|\n",
    "| 2      | 1/36 |\n",
    "| 3      | 2/36 |\n",
    "| 4      | 3/36 |\n",
    "| 5      | 4/36 |\n",
    "| 6      | 5/36 |\n",
    "| 7      | 6/36 |\n",
    "| 8      | 5/36 |\n",
    "| 9      | 4/36 |\n",
    "| 10     | 3/36 |\n",
    "| 11     | 2/36 |\n",
    "| 12     | 1/36 |\n",
    "\n",
    "In Python kunnen we deze kansen ook laten zien:"
   ],
   "metadata": {
    "collapsed": false
   },
   "id": "badc5b37e1bef343"
  },
  {
   "cell_type": "code",
   "outputs": [
    {
     "data": {
      "text/plain": "<Figure size 640x480 with 1 Axes>",
      "image/png": "[encoded data removed]"
     },
     "metadata": {},
     "output_type": "display_data"
    }
   ],
   "source": [
    "from functions.functions_Y2.Kansverdeling import *\n",
    "import pandas as pd\n",
    "\n",
    "value = range(2, 13)\n",
    "prob = pd.Series([1, 2, 3, 4, 5, 6, 5, 4, 3, 2, 1]) / 36\n",
    "\n",
    "verdeling = pd.Series([value, prob])\n",
    "\n",
    "kansverdeling(verdeling, 'Som van de dobbelstenen', 'Kans om de som te gooien')"
   ],
   "metadata": {
    "collapsed": false,
    "ExecuteTime": {
     "end_time": "2024-03-17T19:46:29.391644Z",
     "start_time": "2024-03-17T19:46:29.274867Z"
    }
   },
   "id": "183380d21c25ed86",
   "execution_count": 15
  },
  {
   "cell_type": "markdown",
   "source": [
    "Bovenstaande grafiek wordt een kansverdeling genoemd.\n",
    "Een kansverdeling is een overzicht van alle relatieve frequenties van een oneindige steekproef.\n"
   ],
   "metadata": {
    "collapsed": false
   },
   "id": "8198454535e5ac30"
  },
  {
   "cell_type": "markdown",
   "source": [
    "## Gemiddelde en standaardafwijking\n",
    "Aangezien een kansverdeling een frequentietabel is, kunnen we hiervoor het gemiddelde en de standaardafwijking berekenen.\n",
    "De formule voor het gemiddelde is:\n",
    "$$ x̅ = \\sum_{i=1}^{n} x_i \\cdot f_i$$\n",
    "en voor de standaardafwijking:\n",
    "$$ s = \\sqrt{\\sum_{i=1}^{n} (x_i - x̅)^2 \\cdot f_i}$$\n",
    "\n",
    "Om deze formules te gebruiken voor een kansverdeling, moeten we de frequenties vervangen door kansen. De formules worden dan:\n",
    "$$ μ = \\sum_{i=1}^{n} x_i \\cdot P(x_i)$$\n",
    "en\n",
    "$$ σ = \\sqrt{\\sum_{i=1}^{n} (x_i - x̅)^2 \\cdot P(x_i)}$$\n",
    "\n",
    "Deze kunnen in python worden berekend als volgt:"
   ],
   "metadata": {
    "collapsed": false
   },
   "id": "7003a9bed39db13c"
  },
  {
   "cell_type": "code",
   "outputs": [
    {
     "data": {
      "text/plain": "6.999999999999998"
     },
     "execution_count": 16,
     "metadata": {},
     "output_type": "execute_result"
    }
   ],
   "source": [
    "from functions.functions_Y2.Kansverdeling import *\n",
    "\n",
    "µ = (value * prob).sum()\n",
    "#of\n",
    "average(value, prob)"
   ],
   "metadata": {
    "collapsed": false,
    "ExecuteTime": {
     "end_time": "2024-03-17T19:46:29.397347Z",
     "start_time": "2024-03-17T19:46:29.392954Z"
    }
   },
   "id": "ac3b945f86cb78ce",
   "execution_count": 16
  },
  {
   "cell_type": "code",
   "outputs": [
    {
     "data": {
      "text/plain": "2.41522945769824"
     },
     "execution_count": 17,
     "metadata": {},
     "output_type": "execute_result"
    }
   ],
   "source": [
    "σ = math.sqrt(((value - µ) ** 2 * prob).sum())\n",
    "#OF\n",
    "standard_deviation(value, prob)"
   ],
   "metadata": {
    "collapsed": false,
    "ExecuteTime": {
     "end_time": "2024-03-17T19:46:29.403262Z",
     "start_time": "2024-03-17T19:46:29.397347Z"
    }
   },
   "id": "d19da3cd846ac82b",
   "execution_count": 17
  },
  {
   "cell_type": "markdown",
   "source": [
    "De gevonden waarden betekenen dat:\n",
    "- Het gevonden gemiddelde is het verwachte gemiddelde van een steekproef. Als we een steekproef doen, verwachten we dus een gemiddelde in de buurt van dit gemiddelde. Daarom dat men dit getal \"verwachten waarde\" noemt.\n",
    "- De gevonden standaardafwijking is ook de verwachte (gemiddelde) afwijking die we bij een steekproef zouden vinden.\n",
    "\n",
    "In dit geval vinden we dat μ = 7 en σ = 2.415. Als we dus een steekproef zouden doen, dan verwachten we dat de gegooide waarde gemiddeld rond de 7 zal liggen. We verwachten ook dat de gemiddelde afwijking van alle waarden ten opzichte van die 7, ongeveer 2.4 zal zijn."
   ],
   "metadata": {
    "collapsed": false
   },
   "id": "b7d6c284035ab838"
  },
  {
   "cell_type": "markdown",
   "source": [
    "## Veel voorkomende kansverdelingen\n",
    "Er zijn een aantal veel voorkomende kansverdelingen:\n",
    "Er zijn in principe twee categorieën van kansverdelingen:\n",
    "- Discrete kansverdelingen\n",
    "- Continue kansverdelingen\n",
    "\n",
    "We zien 3 kansverdelingen:\n",
    "- De binomiaalverdeling\n",
    "- De Poissonverdeling\n",
    "- De normaalverdeling"
   ],
   "metadata": {
    "collapsed": false
   },
   "id": "bcd0b894753c5e56"
  },
  {
   "cell_type": "markdown",
   "source": [
    "### De binomiaalverdeling\n",
    "De binomiaalverdeling is een kansverdeling die relijk eenvoudig te begrijpen is. Je kan de formule ervan zelfs eenvoudig afleiden uit de somregel en de productregel.\n",
    "\n",
    "#### Context\n",
    "De binomiaalverdeling is van toepassing in de volgende context:\n",
    "- Je doet een experiment een totaal aantal keren, $n$, achter elkaar.\n",
    "- De uitkomst van het experiment beïnvloedt het resultaat van het volgende experiment niet.\n",
    "- De uitkomst van het experiment kan slechts **twee mogelijke waarden**, succes of mislukking, opleveren.\n",
    "- Je weet wat de kansen, $p$ en $q = 1 - p$ zijn om de twee waarden te verkrijgen als je het experiment één keer uitvoert.\n",
    "- Je vraagt je af wat de kans is dat je aantal keren ($x$) een bepaalde waarde verkrijgt.\n",
    "\n",
    "#### Voorbeeld\n",
    "Stel:\n",
    "- Een toets met 5 meerkeuzevragen\n",
    "- Iedere vraag heeft 4 mogelijke oplossingen\n",
    "- Wat is de kans dat je 2/5 haalt als je alle vragen gokt?\n",
    "\n",
    "Dit berekenen we met behulp van volgende formule:\n",
    "$$ P(X) = \\binom{n}{x} \\cdot p^x \\cdot q^{n-x}$$\n",
    "\n",
    "waarbij:\n",
    "- n = het aantal keer dat je het experiment doet\n",
    "- p = De kans dat een experiment de waarde oplevert waarin je geïnteresseerd bent\n",
    "- x = Het aantal keer dat je wil dat het experiment de waarde oplevert waarin je geïnteresseerd bent\n",
    "- $\\binom{n}{x}$ = het aantal mogelijkheden om uit $n$ waarden, er $x$ te kiezen. Oftwel $C^n_x$\n",
    "\n",
    "De formule kan in Python worden berekend als volgt:"
   ],
   "metadata": {
    "collapsed": false
   },
   "id": "99e7e6ac6d2305f6"
  },
  {
   "cell_type": "code",
   "outputs": [
    {
     "data": {
      "text/plain": "0.26367187499999983"
     },
     "execution_count": 18,
     "metadata": {},
     "output_type": "execute_result"
    }
   ],
   "source": [
    "from scipy import stats\n",
    "\n",
    "n = 5  #5 vragen op de test\n",
    "p = 1 / 4  #kans om een vraag juist te beantwoorden\n",
    "x = 2  #aantal vragen juist beantwoord\n",
    "prob = stats.binom.pmf(x, n, p)  #De kans dat we 2 vragen juist beantwoorden\n",
    "\n",
    "prob"
   ],
   "metadata": {
    "collapsed": false,
    "ExecuteTime": {
     "end_time": "2024-03-17T19:46:29.408851Z",
     "start_time": "2024-03-17T19:46:29.404281Z"
    }
   },
   "id": "85e043639102bc88",
   "execution_count": 18
  },
  {
   "cell_type": "markdown",
   "source": [
    "We kunnen ook de complete kansverdeling laten zien:"
   ],
   "metadata": {
    "collapsed": false
   },
   "id": "2d98debc26e74f"
  },
  {
   "cell_type": "code",
   "outputs": [
    {
     "data": {
      "text/plain": "array([0.23730469, 0.39550781, 0.26367187, 0.08789062, 0.01464844])"
     },
     "execution_count": 19,
     "metadata": {},
     "output_type": "execute_result"
    }
   ],
   "source": [
    "n = 5  #5 vragen op de test\n",
    "p = 1 / 4  #kans om een vraag juist te beantwoorden\n",
    "x = range(0, 5)  #aantal vragen juist beantwoord\n",
    "prob = stats.binom.pmf(x, n, p)  #De kans dat we x vragen juist beantwoorden\n",
    "\n",
    "prob"
   ],
   "metadata": {
    "collapsed": false,
    "ExecuteTime": {
     "end_time": "2024-03-17T19:46:29.414546Z",
     "start_time": "2024-03-17T19:46:29.409875Z"
    }
   },
   "id": "1f61bbf16b92e429",
   "execution_count": 19
  },
  {
   "cell_type": "markdown",
   "source": [
    "We kunnen deze kansverdeling ook laten zien:"
   ],
   "metadata": {
    "collapsed": false
   },
   "id": "5fba9b5b04795f26"
  },
  {
   "cell_type": "code",
   "outputs": [
    {
     "data": {
      "text/plain": "<Figure size 640x480 with 1 Axes>",
      "image/png": "[encoded data removed]"
     },
     "metadata": {},
     "output_type": "display_data"
    }
   ],
   "source": [
    "fix, ax = plt.subplots()\n",
    "_ = ax.bar(x, prob)\n",
    "_ = ax.set_xlabel('Score op 5')\n",
    "_ = ax.set_ylabel('Kans om score te behalen')"
   ],
   "metadata": {
    "collapsed": false,
    "ExecuteTime": {
     "end_time": "2024-03-17T19:46:29.514899Z",
     "start_time": "2024-03-17T19:46:29.415552Z"
    }
   },
   "id": "c826dd29a1d5b06f",
   "execution_count": 20
  },
  {
   "cell_type": "markdown",
   "source": [
    "We kunnen ook berekenen wat de kans is om te buizen. Dit is de kans dat je 0/5, 1/5 of 2/5 haalt."
   ],
   "metadata": {
    "collapsed": false
   },
   "id": "6ab82a29d3cfa3f3"
  },
  {
   "cell_type": "code",
   "outputs": [
    {
     "data": {
      "text/plain": "0.8964843749999996"
     },
     "execution_count": 21,
     "metadata": {},
     "output_type": "execute_result"
    }
   ],
   "source": [
    "n = 5  #5 vragen op de test\n",
    "p = 1 / 4  #kans om een vraag juist te beantwoorden\n",
    "x = range(0, 3)  #aantal vragen juist beantwoord\n",
    "\n",
    "X = stats.binom.pmf(x, n, p).sum()  #De kans dat we x vragen juist beantwoorden\n",
    "\n",
    "X"
   ],
   "metadata": {
    "collapsed": false,
    "ExecuteTime": {
     "end_time": "2024-03-17T19:46:29.520262Z",
     "start_time": "2024-03-17T19:46:29.515904Z"
    }
   },
   "id": "15795ab0ccb8cdf",
   "execution_count": 21
  },
  {
   "cell_type": "markdown",
   "source": [
    "Bovenstaande berekening toont aan dat de kans om te buizen bijna 90% is.\n",
    "We kunnen de vorige formule ook op snellere manier berekenen:"
   ],
   "metadata": {
    "collapsed": false
   },
   "id": "8f625bf9a5cd7df"
  },
  {
   "cell_type": "code",
   "outputs": [
    {
     "data": {
      "text/plain": "array([0.23730469, 0.6328125 , 0.89648438, 0.984375  , 0.99902344,\n       1.        ])"
     },
     "execution_count": 22,
     "metadata": {},
     "output_type": "execute_result"
    }
   ],
   "source": [
    "n = 5  #5 vragen op de test\n",
    "p = 1 / 4  #kans om een vraag juist te beantwoorden\n",
    "x = range(0, 6)  #aantal vragen juist beantwoord\n",
    "\n",
    "X = stats.binom.cdf(x, n, p)\n",
    "\n",
    "X"
   ],
   "metadata": {
    "collapsed": false,
    "ExecuteTime": {
     "end_time": "2024-03-17T19:46:29.525981Z",
     "start_time": "2024-03-17T19:46:29.521276Z"
    }
   },
   "id": "484a57b435cf059",
   "execution_count": 22
  },
  {
   "cell_type": "markdown",
   "source": [
    "cdf zal de cumulatieve kansverdeling gebruiken. Dit betent dat de kans van n gelijk is aan de som van de kansen van 0 tot n.\n",
    "Vorige formule kan in Python ook op een andere manier worden berekend:"
   ],
   "metadata": {
    "collapsed": false
   },
   "id": "fce1aba927438dbc"
  },
  {
   "cell_type": "code",
   "outputs": [
    {
     "data": {
      "text/plain": "array([0.23730469, 0.6328125 , 0.89648437, 0.984375  , 0.99902344,\n       1.        ])"
     },
     "execution_count": 23,
     "metadata": {},
     "output_type": "execute_result"
    }
   ],
   "source": [
    "n = 5  #5 vragen op de test\n",
    "p = 1 / 4  #kans om een vraag juist te beantwoorden\n",
    "x = range(0, 6)  #aantal vragen juist beantwoord\n",
    "\n",
    "X = stats.binom.pmf(x, n, p).cumsum()\n",
    "\n",
    "X"
   ],
   "metadata": {
    "collapsed": false,
    "ExecuteTime": {
     "end_time": "2024-03-17T19:46:29.531376Z",
     "start_time": "2024-03-17T19:46:29.526489Z"
    }
   },
   "id": "17871f157eeb1705",
   "execution_count": 23
  },
  {
   "cell_type": "markdown",
   "source": [
    "Als je 80% kans zou hebben om het antwoord juist te hebben in de plaats van te gokken dan zou de kans om te buizen gelijk zijn aan:"
   ],
   "metadata": {
    "collapsed": false
   },
   "id": "19a008a2afc16a61"
  },
  {
   "cell_type": "code",
   "outputs": [
    {
     "data": {
      "text/plain": "0.05791999999999996"
     },
     "execution_count": 24,
     "metadata": {},
     "output_type": "execute_result"
    }
   ],
   "source": [
    "n = 5  #5 vragen op de test\n",
    "p = 0.8  #kans om een vraag juist te beantwoorden\n",
    "x = 2  #aantal vragen juist beantwoord\n",
    "X = stats.binom.cdf(x, n, p)\n",
    "\n",
    "X"
   ],
   "metadata": {
    "collapsed": false,
    "ExecuteTime": {
     "end_time": "2024-03-17T19:46:29.537327Z",
     "start_time": "2024-03-17T19:46:29.532919Z"
    }
   },
   "id": "99c3251803f7aaf6",
   "execution_count": 24
  },
  {
   "cell_type": "markdown",
   "source": [
    "En om te slagen:"
   ],
   "metadata": {
    "collapsed": false
   },
   "id": "7d2b758a4e52f779"
  },
  {
   "cell_type": "code",
   "outputs": [
    {
     "data": {
      "text/plain": "0.94208"
     },
     "execution_count": 25,
     "metadata": {},
     "output_type": "execute_result"
    }
   ],
   "source": [
    "n = 5  #5 vragen op de test\n",
    "p = 0.8  #kans om een vraag juist te beantwoorden\n",
    "x = 2  #aantal vragen juist beantwoord\n",
    "X = 1 - stats.binom.cdf(x, n, p)\n",
    "\n",
    "X"
   ],
   "metadata": {
    "collapsed": false,
    "ExecuteTime": {
     "end_time": "2024-03-17T19:46:29.542578Z",
     "start_time": "2024-03-17T19:46:29.537327Z"
    }
   },
   "id": "52c6d625efd653be",
   "execution_count": 25
  },
  {
   "cell_type": "markdown",
   "source": [
    "#### Verwachte waarde en standaardafwijking\n",
    "De verwachte waarde geeft weer hoeveel maal je experiment gemiddeld zal slagen als je $n$ experimenten doet.\n",
    "Je kan deze berekenen met de algemene formule die we hiervoor zagen, maar in het geval van een binomiaalverdeling worden deze eenvoudiger.\n",
    "Verwachte waarde:\n",
    "$$ μ = n \\cdot p$$\n",
    "Standaardafwijking:\n",
    "$$ σ = \\sqrt{n \\cdot p \\cdot (1-p)}$$\n",
    "\n",
    "Voor het voorbeeld van de toets:\n",
    "$ μ = 5 \\cdot \\frac{1}{4} = 1.25$\n",
    "En\n",
    "$ σ = \\sqrt{5 \\cdot \\frac{1}{4} \\cdot \\frac{3}{4}} = 0.97$"
   ],
   "metadata": {
    "collapsed": false
   },
   "id": "e00c423ca570c081"
  },
  {
   "cell_type": "markdown",
   "source": [
    "#### Grafisch\n",
    "Stel:\n",
    "- Je maakt een website met 20 pagina's\n",
    "- Da kans dat er nog een fout in een pagina zit is 0.2\n",
    "- We kunnen nagaan wat de kans is dat er x pagina's fouten bevatten.\n",
    "\n",
    "We stellen dit grafisch voor:"
   ],
   "metadata": {
    "collapsed": false
   },
   "id": "ca53da92b2367c4a"
  },
  {
   "cell_type": "code",
   "outputs": [
    {
     "data": {
      "text/plain": "<Figure size 640x480 with 1 Axes>",
      "image/png": "[encoded data removed]"
     },
     "metadata": {},
     "output_type": "display_data"
    }
   ],
   "source": [
    "n = 20\n",
    "p = 0.2\n",
    "x = range(0, 21) \n",
    "\n",
    "kansverdeling([x, stats.binom.pmf(x, n, p)], 'Aantal foute pagina\\'s', 'Kans om aantal foute pagina\\'s te hebben')"
   ],
   "metadata": {
    "collapsed": false,
    "ExecuteTime": {
     "end_time": "2024-03-17T19:46:29.645367Z",
     "start_time": "2024-03-17T19:46:29.543585Z"
    }
   },
   "id": "f140b11f793a9df",
   "execution_count": 26
  },
  {
   "cell_type": "markdown",
   "source": [
    "Er is duidelijk een grote piek aan de linkerkant van de grafiek.\n",
    "Een binomiaalverdeling is kenmerkend voor snel te stijgen en dan terug af te nemen.\n",
    "Men zegt ook wel van de binomiaalverdeling dat deze **rechtsscheef** is."
   ],
   "metadata": {
    "collapsed": false
   },
   "id": "70903bad12753810"
  },
  {
   "cell_type": "markdown",
   "source": [
    "### De Poissonverdeling\n",
    "De Poissonverdeling is een verdeling die heel erg veel voorkomt in de theoretische informatica. Ze wordt gebruikt bij het beschrijven van **wachtrijen** en die komen vaak voor in netwerken."
   ],
   "metadata": {
    "collapsed": false
   },
   "id": "f68cf3af3bf97b1a"
  },
  {
   "cell_type": "markdown",
   "source": [
    "#### Context\n",
    "De Poissonverdeling is van toepassing in de volgende context:\n",
    "- Een gebeurtenis doet zich gemiddeld een aantal keren voor per tijdseenheid, maar er zit variatie op.\n",
    "- We vragen ons af wat de kans is dat deze gebeurtenis zich een aantal keren voordoet binnen een bepaalde tijd."
   ],
   "metadata": {
    "collapsed": false
   },
   "id": "5a43bd392ddf719d"
  },
  {
   "cell_type": "markdown",
   "source": [
    "#### Voorbeeld\n",
    "Stel:\n",
    "- Op een helpdesk komen er gemiddeld 3 oproepen per uur binnen.\n",
    "- We vragen ons af wat de kans is dat er meer dan 10 oproepen per uur zouden binnenkomen.\n",
    "\n",
    "Dit kunnen we berekenen met volgende formule:\n",
    "$$ P(k) = \\frac{λ^k}{k!} \\cdot e^{-λ}$$\n",
    "\n",
    "In Python kunnen we dit als volgt berekenen:"
   ],
   "metadata": {
    "collapsed": false
   },
   "id": "841e3c337759c7a1"
  },
  {
   "cell_type": "code",
   "outputs": [
    {
     "data": {
      "text/plain": "array([0.04978707, 0.14936121, 0.22404181, 0.22404181, 0.16803136,\n       0.10081881, 0.05040941, 0.02160403, 0.00810151, 0.0027005 ,\n       0.00081015])"
     },
     "execution_count": 30,
     "metadata": {},
     "output_type": "execute_result"
    }
   ],
   "source": [
    "x = range(0, 11)\n",
    "λ = 3\n",
    "Pk = stats.poisson.pmf(x, λ)\n",
    "\n",
    "Pk"
   ],
   "metadata": {
    "collapsed": false,
    "ExecuteTime": {
     "end_time": "2024-03-17T19:57:34.303214Z",
     "start_time": "2024-03-17T19:57:34.297341Z"
    }
   },
   "id": "c3c823464910deaf",
   "execution_count": 30
  },
  {
   "cell_type": "code",
   "outputs": [
    {
     "data": {
      "text/plain": "<Figure size 640x480 with 1 Axes>",
      "image/png": "[encoded data removed]"
     },
     "metadata": {},
     "output_type": "display_data"
    }
   ],
   "source": [
    "#grafisch voorgesteld\n",
    "kansverdeling([x, Pk], 'Aantal oproepen', 'Kans om aantal oproepen te hebben')"
   ],
   "metadata": {
    "collapsed": false,
    "ExecuteTime": {
     "end_time": "2024-03-17T19:58:37.882353Z",
     "start_time": "2024-03-17T19:58:37.783239Z"
    }
   },
   "id": "f60b1a765ed89040",
   "execution_count": 32
  },
  {
   "cell_type": "markdown",
   "source": [
    "Als we willen weten wat de kans is dat er meer dan 10 oproepen zullen binnen komen gebruiken we de cumulatieve kansverdeling:"
   ],
   "metadata": {
    "collapsed": false
   },
   "id": "dafc7938ed61c2a3"
  },
  {
   "cell_type": "code",
   "outputs": [
    {
     "data": {
      "text/plain": "array([9.50212932e-01, 8.00851727e-01, 5.76809919e-01, 3.52768111e-01,\n       1.84736755e-01, 8.39179420e-02, 3.35085353e-02, 1.19045039e-02,\n       3.80299206e-03, 1.10248813e-03, 2.92336951e-04])"
     },
     "execution_count": 35,
     "metadata": {},
     "output_type": "execute_result"
    }
   ],
   "source": [
    "x = range(0, 11)\n",
    "λ = 3\n",
    "Pk = 1 - stats.poisson.cdf(x, λ)\n",
    "\n",
    "Pk"
   ],
   "metadata": {
    "collapsed": false,
    "ExecuteTime": {
     "end_time": "2024-03-17T19:59:49.274855Z",
     "start_time": "2024-03-17T19:59:49.269411Z"
    }
   },
   "id": "78a1db92d19c0e51",
   "execution_count": 35
  },
  {
   "cell_type": "markdown",
   "source": [
    "Als we willen bepalen hoeveel mensen we nodig hebben om 95% van de tijd de klant te kunnen helpen, dan kunnen we dit als volgt berekenen:"
   ],
   "metadata": {
    "collapsed": false
   },
   "id": "5eff08435c3180d0"
  },
  {
   "cell_type": "code",
   "outputs": [
    {
     "data": {
      "text/plain": "6.0"
     },
     "execution_count": 36,
     "metadata": {},
     "output_type": "execute_result"
    }
   ],
   "source": [
    "λ = 3\n",
    "x = 0.95\n",
    "\n",
    "n = stats.poisson.ppf(x, λ)\n",
    "\n",
    "n"
   ],
   "metadata": {
    "collapsed": false,
    "ExecuteTime": {
     "end_time": "2024-03-17T20:01:59.230974Z",
     "start_time": "2024-03-17T20:01:59.225359Z"
    }
   },
   "id": "464ff1ef4c3da909",
   "execution_count": 36
  },
  {
   "cell_type": "markdown",
   "source": [
    "#### Verwachte waarde en standaardafwijking\n",
    "De verwachte waarde:\n",
    "$$ μ = λ$$\n",
    "De standaardafwijking:\n",
    "$$ σ = \\sqrt{λ}$$"
   ],
   "metadata": {
    "collapsed": false
   },
   "id": "b79d476dcf8221e6"
  }
 ],
 "metadata": {
  "kernelspec": {
   "display_name": "Python 3",
   "language": "python",
   "name": "python3"
  },
  "language_info": {
   "codemirror_mode": {
    "name": "ipython",
    "version": 2
   },
   "file_extension": ".py",
   "mimetype": "text/x-python",
   "name": "python",
   "nbconvert_exporter": "python",
   "pygments_lexer": "ipython2",
   "version": "2.7.6"
  }
 },
 "nbformat": 4,
 "nbformat_minor": 5
}
