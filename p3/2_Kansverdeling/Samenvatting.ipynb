{
 "cells": [
  {
   "cell_type": "markdown",
   "source": [
    " # Samenvatting"
   ],
   "metadata": {
    "collapsed": false
   },
   "id": "2316571fe73e13df"
  },
  {
   "cell_type": "markdown",
   "source": [
    "## Begrip kansverdeling"
   ],
   "metadata": {
    "collapsed": false
   },
   "id": "66f4d89051c5339e"
  },
  {
   "cell_type": "markdown",
   "source": [
    "### Relatie met frequenties\n",
    "Stel:\n",
    "- Je gooit met 2 dobbelstenen en schrijft de som van de twee waarden op.\n",
    "- Wat is de kans dat je een 3 gooit en wat is de kans dat je een 7 gooit?\n",
    "Deze kansen kunnen benaderen door het experiment heel vaak uit te voeren en te kijken hoe vaak je een 3 of een 7 gooit.\n",
    "We kunnen de kans ook theoretisch berekenen.\n",
    "- Er zijn 36 mogelijke uitkomsten (6 mogelijkheden voor de eerste dobbelsteen en 6 mogelijkheden voor de tweede dobbelsteen).\n",
    "\n",
    "**Worpen**\n",
    "\n",
    "|       | 1     | 2     | 3     | 4     | 5     | 6     |\n",
    "|-------|-------|-------|-------|-------|-------|-------|\n",
    "| **1** | (1,1) | (1,2) | (1,3) | (1,4) | (1,5) | (1,6) |\n",
    "| **2** | (2,1) | (2,2) | (2,3) | (2,4) | (2,5) | (2,6) |\n",
    "| **3** | (3,1) | (3,2) | (3,3) | (3,4) | (3,5) | (3,6) |\n",
    "| **4** | (4,1) | (4,2) | (4,3) | (4,4) | (4,5) | (4,6) |\n",
    "| **5** | (5,1) | (5,2) | (5,3) | (5,4) | (5,5) | (5,6) |\n",
    "| **6** | (6,1) | (6,2) | (6,3) | (6,4) | (6,5) | (6,6) |\n",
    "\n",
    "⇒\n",
    "\n",
    "**Som van de ogen**\n",
    "\n",
    "|       | 1 | 2 | 3 | 4  | 5  | 6  |\n",
    "|-------|---|---|---|----|----|----|\n",
    "| **1** | 2 | 3 | 4 | 5  | 6  | 7  |\n",
    "| **2** | 3 | 4 | 5 | 6  | 7  | 8  |\n",
    "| **3** | 4 | 5 | 6 | 7  | 8  | 9  |\n",
    "| **4** | 5 | 6 | 7 | 8  | 9  | 10 |\n",
    "| **5** | 6 | 7 | 8 | 9  | 10 | 11 |\n",
    "| **6** | 7 | 8 | 9 | 10 | 11 | 12 |\n",
    "\n",
    "Uit bovenstaande tabel kunnen we afleiden dat:\n",
    "- Het gooien van een som van 7 het vaakste voorkomt.\n",
    "\n",
    "Als we willen weten wat de kans is om een 3 te gooien, dan moeten we tellen hoeveel van de 36 mogelijkheden een som van 3 opleveren. Dit zijn er 2: (1,2) en (2,1). De kans om een 3 te gooien is dus 2/36 = 1/18.\n",
    "\n",
    "Voor de andere waarden vinden we:\n",
    "\n",
    "| Waarde | Kans |\n",
    "|--------|------|\n",
    "| 2      | 1/36 |\n",
    "| 3      | 2/36 |\n",
    "| 4      | 3/36 |\n",
    "| 5      | 4/36 |\n",
    "| 6      | 5/36 |\n",
    "| 7      | 6/36 |\n",
    "| 8      | 5/36 |\n",
    "| 9      | 4/36 |\n",
    "| 10     | 3/36 |\n",
    "| 11     | 2/36 |\n",
    "| 12     | 1/36 |\n",
    "\n",
    "In Python kunnen we deze kansen ook laten zien:"
   ],
   "metadata": {
    "collapsed": false
   },
   "id": "badc5b37e1bef343"
  },
  {
   "cell_type": "code",
   "outputs": [
    {
     "data": {
      "text/plain": "<BarContainer object of 11 artists>"
     },
     "execution_count": 1,
     "metadata": {},
     "output_type": "execute_result"
    },
    {
     "data": {
      "text/plain": "<Figure size 640x480 with 1 Axes>",
      "image/png": "[encoded data removed]"
     },
     "metadata": {},
     "output_type": "display_data"
    }
   ],
   "source": [
    "import pandas as pd\n",
    "import matplotlib.pyplot as plt\n",
    "\n",
    "value = range(2, 13)\n",
    "probability = pd.Series([1, 2, 3, 4, 5, 6, 5, 4, 3, 2, 1]) / 36\n",
    "fix, ax = plt.subplots()\n",
    "ax.set_xlabel('Som van de dobbelstenen')\n",
    "ax.set_ylabel('Kans om de som te gooien')\n",
    "ax.bar(value, probability)"
   ],
   "metadata": {
    "collapsed": false,
    "ExecuteTime": {
     "end_time": "2024-03-17T14:59:49.777892Z",
     "start_time": "2024-03-17T14:59:47.340905Z"
    }
   },
   "id": "183380d21c25ed86",
   "execution_count": 1
  },
  {
   "cell_type": "markdown",
   "source": [
    "Bovenstaande grafiek wordt een kansverdeling genoemd.\n",
    "Een kansverdeling is een overzicht van alle relatieve frequenties van een oneindige steekproef.\n"
   ],
   "metadata": {
    "collapsed": false
   },
   "id": "8198454535e5ac30"
  }
 ],
 "metadata": {
  "kernelspec": {
   "display_name": "Python 3",
   "language": "python",
   "name": "python3"
  },
  "language_info": {
   "codemirror_mode": {
    "name": "ipython",
    "version": 2
   },
   "file_extension": ".py",
   "mimetype": "text/x-python",
   "name": "python",
   "nbconvert_exporter": "python",
   "pygments_lexer": "ipython2",
   "version": "2.7.6"
  }
 },
 "nbformat": 4,
 "nbformat_minor": 5
}
