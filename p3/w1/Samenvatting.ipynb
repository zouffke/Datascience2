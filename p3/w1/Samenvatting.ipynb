{
 "cells": [
  {
   "cell_type": "markdown",
   "source": [
    "# Samenvatting Y2-P3-W1"
   ],
   "metadata": {
    "collapsed": false
   },
   "id": "a1b3b0412d22335b"
  },
  {
   "cell_type": "markdown",
   "source": [
    "## Wat is een kans?\n",
    "\n",
    "**Een experiment dat verschillende uitkomsten produceert ondanks dezelfde beginsituatie**\n",
    "- Toch regelmatigheden:\n",
    "    - bepaalde waarden komen vaker voor dan andere\n",
    "    - alle waarden komen ongeveer even veel voor\n",
    "    - Het gemiddelde van de waarden situeert zich rond een bepaalde waarde"
   ],
   "metadata": {
    "collapsed": false
   },
   "id": "e84e039e0df7fd5e"
  },
  {
   "cell_type": "markdown",
   "source": [
    "## Kansen met Verzamelingsleer"
   ],
   "metadata": {
    "collapsed": false
   },
   "id": "e0cc9cd0712bf344"
  },
  {
   "cell_type": "markdown",
   "source": [
    "### Laplace\n",
    "- **Verzameling** met mogelijke uitkomsten: U\n",
    "- Elke uitkomst is **even waarschijnlijk** *(uniforme verdeling)*\n",
    "- **Gebeurtenis** = verzameling van gewenste uitkomsten: G\n",
    "- Kans dat gebeurtenis optreedt, **P(G)** = #G / #U\n",
    "\n",
    "<img src=\"https://i.imgur.com/qzgBZmG.png\">"
   ],
   "metadata": {
    "collapsed": false
   },
   "id": "bdb2fd87eb6b7c6c"
  },
  {
   "cell_type": "markdown",
   "source": [
    "### Voorbeeld\n",
    "2 Dobbelstenen:\n",
    "\n",
    "|    | Gebeurtenis                              | #G | P(G)   |\n",
    "|----|------------------------------------------|----|--------|\n",
    "| 2  | (1,1)                                    | 1  | 0,0278 |\n",
    "| 3  | (1,2);(2,1)                              | 2  | 0,0556 |\n",
    "| 4  | (1,3); (2,2); (3,1)                      | 3  | 0,0833 |\n",
    "| 5  | 1,4); (2,3), (3,2); (4,1)                | 4  | 0,1111 |\n",
    "| 6  | (1,5); (2,4); (3,3); (4,2); (5,1         | 5  | 0,1389 |\n",
    "| 7  | (1,6); (2,5); (3,4); (4,3); (5,2); (6,1) | 6  | 0,1667 |\n",
    "| 8  | (2,6); (3,5); (4,4); (5,3); (6,2)        | 5  | 0,1389 |\n",
    "| 9  | (3,6); (4,5); (5,4); (6,3)               | 4  | 0,1111 |\n",
    "| 10 | (4,6); (5,5); (6,4)                      | 3  | 0,0833 |\n",
    "| 11 | (5,6); (6,5)                             | 2  | 0,0556 |\n",
    "| 12 | (6,6)                                    | 1  | 0,0278 |\n",
    "|    | #U (=Totaal)                             | 36 | 1      |"
   ],
   "metadata": {
    "collapsed": false
   },
   "id": "ef4a8180a8ae37dd"
  },
  {
   "cell_type": "markdown",
   "source": [
    "#### Andere voorbeelden\n",
    "- Munt opwerpen\n",
    "- Dobbelstenen\n",
    "- Kaarten"
   ],
   "metadata": {
    "collapsed": false
   },
   "id": "22327b30fd776e75"
  },
  {
   "cell_type": "markdown",
   "source": [
    "## Kruistabellen en kansen\n",
    "\n",
    "Data opgesomd in een tabel waaruit kansen kunnen worden berekend."
   ],
   "metadata": {
    "collapsed": false
   },
   "id": "ef035700f657ab45"
  },
  {
   "cell_type": "markdown",
   "source": [
    "### Voorbeeld\n",
    "Koeling van een wit merk en een privaat merk\n",
    "\n",
    "|                 | Wit Merk | Privaat merk |       |\n",
    "|-----------------|----------|--------------|-------|\n",
    "| Slechte koeling | 1498     | 1513         | 3011  |\n",
    "| Goede koeling   | 504      | 6485         | 6989  |\n",
    "|                 | 2002     | 7998         | 10000 |\n",
    "\n",
    "* Wat is de kans dat een pc van een wit merk een slechte koeling heeft?\n",
    "    * U = {pc's van wit merk}, G = {Slechte koeling}\n",
    "    * Kans is: $#U / #G = P(G)$\n",
    "        * ⇒ $1498 / 2002 = 0.75$\n",
    "        * ⇔ 75%"
   ],
   "metadata": {
    "collapsed": false
   },
   "id": "1614fdec59737896"
  },
  {
   "cell_type": "markdown",
   "source": [
    "## Rekenen met kansen"
   ],
   "metadata": {
    "collapsed": false
   },
   "id": "f592045d3243a64b"
  },
  {
   "cell_type": "markdown",
   "source": [
    "### Algemeen\n",
    "\n",
    "#### De kans van tegengestelde gebeurtenis\n",
    "- $P(G̅) = 1 - P(G)$\n",
    "- Soms eenvoudiger te berekenen\n",
    "- Opmerkingen\n",
    "    - De tegengestelde gebeurtenis wordt ook wel de **complementaire gebeurtenis** genoemd\n",
    "    - G en G̅ zijn **uitsluitende gebeurtenissen**"
   ],
   "metadata": {
    "collapsed": false
   },
   "id": "d9f8ad3cc5b374e7"
  },
  {
   "cell_type": "markdown",
   "source": [
    "### De Somregel\n",
    "- Gebeurtenissen kunnen bestaan uit **deelgebeurtenissen**\n",
    "- Stel dat de deelgebeurtenissen G<sub>i</sub> (i=1, ..n) niet overlappen, het zijn **uitsluitende deelgebeurtenissen** (ze kunnen niet samen voorkomen of m.a.w\n",
    "G<sub>i</sub>∩G<sub>j</sub> = ∅ ∀ i=1..n, j=1..n waarbij i≠j)\n",
    "- We vragen ons af wat de kans is dat 1 van deze gebeurtenissen optreedt:\n",
    "    - P(G) = P(G<sub>1</sub> <u>OF</u> G<sub>2</sub> <u>OF</u> ... <u>OF</u> G<sub>n</sub>)\n",
    "           = P(G<sub>1</sub> ∪ G<sub>2</sub> ∪ ... ∪ G<sub>n</sub>\n",
    "           = P(G<sub>1</sub>) + P(G<sub>2</sub>) + ... + P(G<sub>n</sub>)\n",
    "\n",
    "- <mark>**OF, ∪ ⇒ +**</mark>"
   ],
   "metadata": {
    "collapsed": false
   },
   "id": "bc50b89b6efa44eb"
  },
  {
   "cell_type": "markdown",
   "source": [
    "#### Voorbeeld\n",
    "\n",
    "kaarten:\n",
    "- Kies een kaart, wat is de kans dat de kaart een aas of een 4 is?\n",
    "    - Kans op een aas = 4/52\n",
    "    - Kans op een 4 = 4/52\n",
    "    - Kans dat de kaart een Aas OF een 4 is = 4/52 + 4/52 = 8/52\n",
    "        - ⇔ 0,154\n",
    "        - ⇔ 15,4%"
   ],
   "metadata": {
    "collapsed": false
   },
   "id": "e28415dedcfe6916"
  },
  {
   "cell_type": "markdown",
   "source": [
    "#### Overlappende Somregel\n",
    "\n",
    "- Stel dat de gebeurtenissen overlappen (niet uitsluitend zijn)\n",
    "- Stel, enkel 2 deelgebeurtenissen:\n",
    "    - P(G) = P(G<sub>1</sub> ∪ G<sub>2</sub>) = P(G<sub>1</sub>) + P(G<sub>2</sub>) - P(G<sub>1</sub> ∩ G<sub>2</sub>)"
   ],
   "metadata": {
    "collapsed": false
   },
   "id": "b9c0e7c8977d657a"
  },
  {
   "cell_type": "markdown",
   "source": [
    "##### Voorbeeld\n",
    "\n",
    "kaarten:\n",
    "- Kies 1 kaart, wat is de kans dat deze een aas is of een harten kaart?\n",
    "    - G = G<sub>aas</sub> ∪ G<sub>harten</sub> maar doorsnede is niet leeg (harten aas)\n",
    "    - \\#G<sub>aas</sub> = 4, #G<sub>harten</sub> = 13, #(G<sub>aas</sub> en G<sub>harten</sub>) = 1\n",
    "    - Kans van G is nu (4+13-1)/52 = 16/52 = 30,8%"
   ],
   "metadata": {
    "collapsed": false
   },
   "id": "6b8f138fef720bed"
  },
  {
   "cell_type": "markdown",
   "source": [
    "### De productregel\n",
    "- Een gebeurtenis bestaat uit deelgebeurtenissen\n",
    "- Wat is de kans dat alle deelgebeurtenissen <u>tegelijk</u> optreden?\n",
    "    - Als de gebeurtenissen **\"onafhankelijk\"** zijn, dan geldt:\n",
    "        - P(G) = P(G<sub>1</sub> <u>EN</u> G<sub>2</sub> <u>EN</u> ... <u>EN</u> G<sub>n</sub>)\n",
    "               = P(G<sub>1</sub> ∩ G<sub>2</sub> ∩ ... ∩ G<sub>n</sub>)\n",
    "               = P(G<sub>1</sub>) \\* P(G<sub>2</sub>) \\* ... * P(G<sub>n</sub>)"
   ],
   "metadata": {
    "collapsed": false
   },
   "id": "da032a7f02c96ab6"
  },
  {
   "cell_type": "markdown",
   "source": [
    "#### Voorbeeld\n",
    "* Counter-strike\n",
    "    * 3 spelers\n",
    "        * 1 schiet 1 keer op 5 raak\n",
    "        * 2 schiet 1 keer op 4 raak\n",
    "        * 3 schiet 1 keer op 3 raak\n",
    "    * 1 terrorist probeert door tunnel te geraken\n",
    "    * spelers kunnen elk 1 keer schieten\n",
    "Wat is de kans dat de terrorist levend door de tunnel geraakt?\n",
    "    * De kans dat 1 (G<sub>1</sub>) **EN** 2 (G<sub>2</sub>) **EN** 3 (G<sub>3</sub>) mist:\n",
    "        * P(G) = P(G<sub>1</sub> **EN** G<sub>2</sub> **EN** G<sub>3</sub>)\n",
    "        * = P(G<sub>1</sub> ∩ G<sub>2</sub> ∩ G<sub>3</sub>)\n",
    "        * = P(G<sub>1</sub>) \\* P(G<sub>2</sub>) \\* P(G<sub>3</sub>)\n",
    "        * = \\frac{4}{5}"
   ],
   "metadata": {
    "collapsed": false
   },
   "id": "abdfbd51f9ade24d"
  }
 ],
 "metadata": {
  "kernelspec": {
   "display_name": "Python 3",
   "language": "python",
   "name": "python3"
  },
  "language_info": {
   "codemirror_mode": {
    "name": "ipython",
    "version": 2
   },
   "file_extension": ".py",
   "mimetype": "text/x-python",
   "name": "python",
   "nbconvert_exporter": "python",
   "pygments_lexer": "ipython2",
   "version": "2.7.6"
  }
 },
 "nbformat": 4,
 "nbformat_minor": 5
}
