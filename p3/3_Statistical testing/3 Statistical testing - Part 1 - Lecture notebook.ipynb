{
 "cells": [
  {
   "cell_type": "code",
   "execution_count": 2,
   "id": "fdea8be9",
   "metadata": {
    "pycharm": {
     "name": "#%%\n"
    },
    "ExecuteTime": {
     "end_time": "2024-03-06T09:54:39.221199Z",
     "start_time": "2024-03-06T09:54:32.143115Z"
    }
   },
   "outputs": [],
   "source": [
    "import os\n",
    "os.chdir(r\"C:\\Users\\zouff\\PycharmProjects\\Y2\\Datascience2\\data_aux\")\n",
    "\n",
    "import numpy as np\n",
    "import pandas as pd\n",
    "import matplotlib\n",
    "import matplotlib.pyplot as plt\n",
    "import math\n",
    "import six\n",
    "import sys\n",
    "import scipy.stats as stats\n",
    "from scipy.stats import binom\n",
    "from scipy.stats import norm\n",
    "from scipy.stats import poisson\n",
    "from scipy.stats import t\n",
    "\n",
    "pd.set_option('display.max_columns', None)\n",
    "pd.set_option('display.max_row', None)\n",
    "\n",
    "missing_values = ['n/a', 'na', 'nan', 'N/A', 'NA', 'NaN', 'NAN', '--', 'Missing', 'missing', 'Unknown', 'unknown', 'UNKNOWN']\n",
    "\n"
   ]
  },
  {
   "cell_type": "markdown",
   "id": "28ada036",
   "metadata": {
    "pycharm": {
     "name": "#%% md\n"
    }
   },
   "source": [
    "# 1. EXAMPLE\n"
   ]
  },
  {
   "cell_type": "code",
   "execution_count": 3,
   "id": "33412eb6",
   "metadata": {
    "pycharm": {
     "name": "#%%\n"
    },
    "ExecuteTime": {
     "end_time": "2024-03-06T09:54:44.045442Z",
     "start_time": "2024-03-06T09:54:44.011286Z"
    }
   },
   "outputs": [
    {
     "name": "stdout",
     "output_type": "stream",
     "text": [
      "<class 'pandas.core.frame.DataFrame'>\n",
      "RangeIndex: 30 entries, 0 to 29\n",
      "Data columns (total 1 columns):\n",
      " #   Column              Non-Null Count  Dtype  \n",
      "---  ------              --------------  -----  \n",
      " 0   consumptionLaptops  30 non-null     float64\n",
      "dtypes: float64(1)\n",
      "memory usage: 372.0 bytes\n",
      "\n",
      "Sample mean : 39.99999999999999\n",
      "Sample standard deviation : 19.999999999999996\n"
     ]
    }
   ],
   "source": [
    "df_c = pd.read_csv('consumptionLaptops.csv',decimal='.')\n",
    "df_c.info()\n",
    "x_bar = df_c.consumptionLaptops.mean()\n",
    "print()\n",
    "print('Sample mean : ' + str(x_bar))\n",
    "s = df_c.consumptionLaptops.std()\n",
    "print('Sample standard deviation : ' + str(s))\n",
    "n = len(df_c)\n",
    "\n"
   ]
  },
  {
   "cell_type": "markdown",
   "source": [
    "What if we took a sample of the sample?"
   ],
   "metadata": {
    "collapsed": false
   },
   "id": "6917a8b3267b2b2f"
  },
  {
   "cell_type": "code",
   "execution_count": 26,
   "outputs": [
    {
     "name": "stdout",
     "output_type": "stream",
     "text": [
      "Sample mean : 46.84288799172478\n",
      "Sample standard deviation : 24.412124298963523\n"
     ]
    }
   ],
   "source": [
    "sample = df_c.sample(5)\n",
    "x_bar_sample = sample.consumptionLaptops.mean()\n",
    "print('Sample mean : ' + str(x_bar_sample))\n",
    "s_sample = sample.consumptionLaptops.std()\n",
    "print('Sample standard deviation : ' + str(s_sample))"
   ],
   "metadata": {
    "collapsed": false,
    "ExecuteTime": {
     "end_time": "2024-03-06T09:55:12.230274Z",
     "start_time": "2024-03-06T09:55:12.225236Z"
    }
   },
   "id": "d3c82f554a65c3ca"
  },
  {
   "cell_type": "markdown",
   "id": "37d5048c",
   "metadata": {
    "pycharm": {
     "name": "#%% md\n"
    }
   },
   "source": [
    "# 2. CONFIDENCE INTERVALS"
   ]
  },
  {
   "cell_type": "markdown",
   "source": [
    "## Normal distribution"
   ],
   "metadata": {
    "collapsed": false
   },
   "id": "aca7765efe3123a4"
  },
  {
   "cell_type": "markdown",
   "source": [
    "2 standard deviations confidence interval:"
   ],
   "metadata": {
    "collapsed": false
   },
   "id": "b3f22907f30fcc7e"
  },
  {
   "cell_type": "code",
   "execution_count": 31,
   "id": "30cc1842a763b802",
   "metadata": {
    "pycharm": {
     "name": "#%%\n"
    },
    "ExecuteTime": {
     "end_time": "2024-03-06T09:55:17.186712Z",
     "start_time": "2024-03-06T09:55:17.180635Z"
    }
   },
   "outputs": [
    {
     "name": "stdout",
     "output_type": "stream",
     "text": [
      "low : 32.69703256659778\n",
      "upper : 47.30296743340221\n"
     ]
    }
   ],
   "source": [
    "low = x_bar - 2 * s / math.sqrt(n)\n",
    "print('low : ' + str(low))\n",
    "upper = x_bar + 2 * s / math.sqrt(n)\n",
    "print('upper : ' + str(upper))"
   ]
  },
  {
   "cell_type": "code",
   "execution_count": 35,
   "outputs": [
    {
     "name": "stdout",
     "output_type": "stream",
     "text": [
      "factor : 2.0046544617650968\n",
      "(32.68003687525252, 47.31996312474747)\n"
     ]
    }
   ],
   "source": [
    "P = 0.955\n",
    "factor = norm.ppf((1+P)/2) \n",
    "print('factor : ' + str(factor))\n",
    "interval = (x_bar - (factor * s / math.sqrt(n)),x_bar + (factor * s / math.sqrt(n)))\n",
    "print(interval)"
   ],
   "metadata": {
    "collapsed": false,
    "ExecuteTime": {
     "end_time": "2024-03-06T09:55:19.805897Z",
     "start_time": "2024-03-06T09:55:19.800470Z"
    }
   },
   "id": "0c627432"
  },
  {
   "cell_type": "code",
   "execution_count": 39,
   "outputs": [
    {
     "data": {
      "text/plain": "(32.680036875252526, 47.31996312474747)"
     },
     "execution_count": 39,
     "metadata": {},
     "output_type": "execute_result"
    }
   ],
   "source": [
    "norm.interval(confidence=0.955,loc=x_bar, scale=s/math.sqrt(30))"
   ],
   "metadata": {
    "collapsed": false,
    "ExecuteTime": {
     "end_time": "2024-03-06T09:55:23.127921Z",
     "start_time": "2024-03-06T09:55:23.121451Z"
    }
   },
   "id": "544fafaf0d1bde9f"
  },
  {
   "cell_type": "markdown",
   "source": [
    "Until now, we worked with a confidence interval of 2 standard deviations, which is about 95.5% (factor = 2).\n",
    "\n",
    "What if we want to use a 95% confidence interval?"
   ],
   "metadata": {
    "collapsed": false
   },
   "id": "d40c8de6b18db183"
  },
  {
   "cell_type": "code",
   "execution_count": 42,
   "outputs": [
    {
     "name": "stdout",
     "output_type": "stream",
     "text": [
      "factor : 1.959963984540054\n",
      "(32.84322342513136, 47.15677657486862)\n"
     ]
    }
   ],
   "source": [
    "P = 0.95\n",
    "factor = norm.ppf((1+P)/2) \n",
    "print('factor : ' + str(factor))\n",
    "\n",
    "interval = (x_bar - (factor * s / math.sqrt(n)),x_bar + (factor * s / math.sqrt(n)))\n",
    "print(interval)"
   ],
   "metadata": {
    "collapsed": false,
    "ExecuteTime": {
     "end_time": "2024-03-06T09:55:27.088048Z",
     "start_time": "2024-03-06T09:55:27.082726Z"
    }
   },
   "id": "387f501b3f4a7669"
  },
  {
   "cell_type": "code",
   "execution_count": 8,
   "outputs": [
    {
     "name": "stdout",
     "output_type": "stream",
     "text": [
      "factor : 1.959963984540054\n",
      "(32.84322342513138, 47.15677657486864)\n"
     ]
    }
   ],
   "source": [
    "alpha = 0.05\n",
    "factor = norm.ppf(1-(alpha/2))\n",
    "print('factor : ' + str(factor))\n",
    "\n",
    "interval = (x_bar - (factor * s / math.sqrt(n)),x_bar + (factor * s / math.sqrt(n)))\n",
    "print(interval)"
   ],
   "metadata": {
    "collapsed": false,
    "ExecuteTime": {
     "end_time": "2024-02-27T23:25:44.702389200Z",
     "start_time": "2024-02-27T23:25:44.686399800Z"
    }
   },
   "id": "b029db8b6c645d6f"
  },
  {
   "cell_type": "code",
   "execution_count": null,
   "id": "a2eedd7419da66e5",
   "metadata": {
    "pycharm": {
     "name": "#%%\n"
    }
   },
   "outputs": [],
   "source": [
    "norm.interval(confidence=0.95, loc=x_bar, scale=s/math.sqrt(n))"
   ]
  },
  {
   "cell_type": "markdown",
   "source": [
    "Cumulative distribution function versus percent point function"
   ],
   "metadata": {
    "collapsed": false
   },
   "id": "fde6b3e247c2006e"
  },
  {
   "cell_type": "code",
   "execution_count": 9,
   "outputs": [
    {
     "name": "stdout",
     "output_type": "stream",
     "text": [
      "0.950000038474587\n",
      "1.6448536269514722\n"
     ]
    }
   ],
   "source": [
    "print(norm.cdf(1.644854))\n",
    "print(norm.ppf(0.95))"
   ],
   "metadata": {
    "collapsed": false,
    "ExecuteTime": {
     "end_time": "2024-02-27T23:26:51.198510700Z",
     "start_time": "2024-02-27T23:26:51.176489600Z"
    }
   },
   "id": "c3e07708cf36b409"
  },
  {
   "cell_type": "code",
   "execution_count": null,
   "outputs": [],
   "source": [
    "print(norm.ppf(0.975))\n",
    "print(norm.cdf(1.959963))"
   ],
   "metadata": {
    "collapsed": false
   },
   "id": "d7233d8342809f18"
  },
  {
   "cell_type": "markdown",
   "source": [
    "## Student's t-distribution"
   ],
   "metadata": {
    "collapsed": false
   },
   "id": "1f95e2e06e0d3496"
  },
  {
   "cell_type": "code",
   "execution_count": 10,
   "outputs": [
    {
     "name": "stdout",
     "output_type": "stream",
     "text": [
      "factor : 2.045229642132703\n",
      "(32.53187726483801, 47.468122735162005)\n"
     ]
    }
   ],
   "source": [
    "alpha = 0.05\n",
    "factor = t.ppf(1-(alpha/2), n-1)\n",
    "print('factor : ' + str(factor))\n",
    "\n",
    "interval = (x_bar-factor*s/math.sqrt(n), x_bar+factor*s/math.sqrt(n))\n",
    "print(interval)"
   ],
   "metadata": {
    "collapsed": false,
    "ExecuteTime": {
     "end_time": "2024-02-27T23:33:48.041916500Z",
     "start_time": "2024-02-27T23:33:47.974912700Z"
    }
   },
   "id": "aeb53298"
  },
  {
   "cell_type": "code",
   "execution_count": null,
   "id": "5674a7f9",
   "metadata": {
    "pycharm": {
     "name": "#%%\n"
    }
   },
   "outputs": [],
   "source": [
    "t.interval(confidence=0.955,df=n-1,loc=x_bar,scale=s/math.sqrt(n))"
   ]
  },
  {
   "cell_type": "code",
   "execution_count": 11,
   "outputs": [
    {
     "name": "stdout",
     "output_type": "stream",
     "text": [
      "factor : 2.7764451051977987\n",
      "(29.86185590805575, 50.13814409194426)\n"
     ]
    }
   ],
   "source": [
    "alpha = 0.05\n",
    "factor = t.ppf(1-(alpha/2), 5-+1)\n",
    "print('factor : ' + str(factor))\n",
    "\n",
    "interval = (x_bar-factor*s/math.sqrt(n), x_bar+factor*s/math.sqrt(n))\n",
    "print(interval)"
   ],
   "metadata": {
    "collapsed": false,
    "ExecuteTime": {
     "end_time": "2024-02-27T23:33:53.413289700Z",
     "start_time": "2024-02-27T23:33:53.388533200Z"
    }
   },
   "id": "4007db618cf3a583"
  },
  {
   "cell_type": "markdown",
   "id": "1d20d42a609cfe2a",
   "metadata": {
    "pycharm": {
     "name": "#%% md\n"
    }
   },
   "source": [
    "# 3. HYPOTHESIS TESTING"
   ]
  },
  {
   "cell_type": "markdown",
   "source": [
    "## t-test"
   ],
   "metadata": {
    "collapsed": false
   },
   "id": "fb22b7e1"
  },
  {
   "cell_type": "code",
   "execution_count": 13,
   "id": "34b93540",
   "metadata": {
    "pycharm": {
     "name": "#%%\n"
    },
    "ExecuteTime": {
     "end_time": "2024-02-27T23:52:30.588174800Z",
     "start_time": "2024-02-27T23:52:30.555148900Z"
    }
   },
   "outputs": [
    {
     "name": "stdout",
     "output_type": "stream",
     "text": [
      "factor : 2.045229642132703\n",
      "(23.531877264838002, 38.468122735162)\n"
     ]
    }
   ],
   "source": [
    "# Hypothesis: real mean is 31\n",
    "\n",
    "alpha = 0.05\n",
    "factor = t.ppf(1-(alpha/2),n-1)\n",
    "print('factor : ' + str(factor))\n",
    "\n",
    "mu0=31\n",
    "interval = (mu0-factor*s/math.sqrt(n), mu0+factor*s/math.sqrt(n))\n",
    "print(interval)"
   ]
  },
  {
   "cell_type": "markdown",
   "source": [
    "Given an alpha of 0.5, reject the hypothesis that the real mean (the mean of the complete population) is 31, because if the real mean would be 31, there is a 95% confidence interval that the observed mean (the mean observed in the sample) would have to be between 23.5 and 38.5. As the observed mean is 40, which is outside the interval 23.5 - 38.5, reject the hypothesis that the real mean is 31.\n",
    "\n",
    "Mind there is a 5% chance of a type 1 error, i.e. a 5% chance to reject the hypothesis that the real mean is 31 while it is true. I.e. if the real mean would indeed be 31, there is a 5% chance that the observed mean is outside the interval 23.5 - 38.5. So there is a 5% chance that the result of our test - reject that the mean is 31 - is wrong."
   ],
   "metadata": {
    "collapsed": false
   },
   "id": "f11396c3b6fc52c7"
  },
  {
   "cell_type": "code",
   "execution_count": 12,
   "outputs": [
    {
     "data": {
      "text/plain": "(32.53187726483801, 47.468122735162005)"
     },
     "execution_count": 12,
     "metadata": {},
     "output_type": "execute_result"
    }
   ],
   "source": [
    "t.interval(confidence=0.95, df=n-1, loc=x_bar,scale=s/math.sqrt(n))"
   ],
   "metadata": {
    "collapsed": false,
    "ExecuteTime": {
     "end_time": "2024-02-27T23:52:25.913847700Z",
     "start_time": "2024-02-27T23:52:25.891828600Z"
    }
   },
   "id": "a90e39ba2c5ba66c"
  },
  {
   "cell_type": "markdown",
   "source": [
    "Given an alpha of 0.5, and given that the observed mean is 40 (the mean observed in the sample), there is a 95% confidence interval that the real mean (the mean in the complete population) is between 32.5 and 47.5. As the hypothesis presumes a real mean of 31, we reject the hypothesis that the real mean is 31, because 31 is outside the interval 32.5 - 47.5.\n",
    "\n",
    "Mind there is a 5% chance of a type 1 error, there is a 5% chance to observe a mean of 40 if the real mean is 31."
   ],
   "metadata": {
    "collapsed": false
   },
   "id": "da3d5c9536498367"
  },
  {
   "cell_type": "code",
   "execution_count": null,
   "id": "e39d6dcf",
   "metadata": {
    "pycharm": {
     "name": "#%%\n"
    }
   },
   "outputs": [],
   "source": [
    "# Hypothesis: real mean is 33\n",
    "\n",
    "alpha = 0.05\n",
    "factor = t.ppf(1-(alpha/2),n-1)\n",
    "print('factor : ' + str(factor))\n",
    "\n",
    "mu0=33\n",
    "interval = (mu0-factor*s/math.sqrt(n), mu0+factor*s/math.sqrt(n))\n",
    "print(interval)"
   ]
  },
  {
   "cell_type": "markdown",
   "source": [
    "Given an alpha of 0.5, accept the hypothesis that the real mean is 33 (the mean of the complete population), because given that the real mean would be 33, there is a 95% confidence interval that the observed mean (the mean observed in the sample) is between 25.5 and 40.5, and the observed mean is 40, which is in the interval 26.5 - 40.5."
   ],
   "metadata": {
    "collapsed": false
   },
   "id": "e9280f19fa2865ea"
  },
  {
   "cell_type": "code",
   "execution_count": null,
   "outputs": [],
   "source": [
    "t.interval(confidence=0.95, df=n-1, loc=x_bar,scale=s/math.sqrt(n))"
   ],
   "metadata": {
    "collapsed": false
   },
   "id": "cd302834dd127736"
  },
  {
   "cell_type": "markdown",
   "source": [
    "Or, given an observed mean of 40, there is a 95% confidence interval that the real mean is between 32.5 and 57.5, and the assumed real mean of 33 is within that interval.\n",
    "\n",
    "Mind that we also might make a type II error, it might be that the real mean is not 33. We accept the hypothesis that the real mean is 33 because our data does not contradict it. But it still might be the real mean is not 33."
   ],
   "metadata": {
    "collapsed": false
   },
   "id": "2263d786cd130c30"
  },
  {
   "cell_type": "markdown",
   "id": "f22cbb1f",
   "metadata": {
    "pycharm": {
     "name": "#%% md\n"
    }
   },
   "source": [
    "# 5. QUESTIONNAIRE"
   ]
  },
  {
   "cell_type": "markdown",
   "source": [
    "Load data:"
   ],
   "metadata": {
    "collapsed": false
   },
   "id": "822e072f17da37ed"
  },
  {
   "cell_type": "code",
   "execution_count": null,
   "id": "c2d79510",
   "metadata": {
    "pycharm": {
     "name": "#%%\n"
    }
   },
   "outputs": [],
   "source": [
    "studenq = pd.read_csv('Questionnaire 21-22.csv', delimiter=';', decimal='.')\n",
    "studenq.info()"
   ]
  },
  {
   "cell_type": "markdown",
   "id": "7d297a54",
   "metadata": {
    "pycharm": {
     "name": "#%% md\n"
    }
   },
   "source": [
    "## Question 1"
   ]
  },
  {
   "cell_type": "markdown",
   "source": [
    "1.a. Add a column to the dataframe and place in it the length of a person expressed in his shoe size (i.e. length divided by shoe size)"
   ],
   "metadata": {
    "collapsed": false
   },
   "id": "90beacae2a6497d2"
  },
  {
   "cell_type": "code",
   "execution_count": null,
   "id": "d4ac1e89",
   "metadata": {
    "pycharm": {
     "name": "#%%\n"
    }
   },
   "outputs": [],
   "source": [
    "studenq[\"Length in shoe size\"] = studenq['Length'] / studenq['Shoe Size']"
   ]
  },
  {
   "cell_type": "markdown",
   "id": "c7939375",
   "metadata": {
    "pycharm": {
     "name": "#%% md\n"
    }
   },
   "source": [
    "1.b. Determine the mean and standard deviation"
   ]
  },
  {
   "cell_type": "code",
   "execution_count": null,
   "id": "d2b5174e",
   "metadata": {
    "pycharm": {
     "name": "#%%\n"
    }
   },
   "outputs": [],
   "source": [
    "x_bar = studenq[\"Length in shoe size\"].mean()\n",
    "s = studenq[\"Length in shoe size\"].std()\n",
    "print(x_bar, s)"
   ]
  },
  {
   "cell_type": "markdown",
   "id": "2508e8c0",
   "metadata": {
    "pycharm": {
     "name": "#%% md\n"
    }
   },
   "source": [
    "## Question 2"
   ]
  },
  {
   "cell_type": "markdown",
   "source": [
    "2\\. Specify the confidence interval (&alpha;=5%) for the average ratio of length to shoe size"
   ],
   "metadata": {
    "collapsed": false
   },
   "id": "add34046258135fb"
  },
  {
   "cell_type": "code",
   "execution_count": null,
   "id": "f085557b",
   "metadata": {
    "pycharm": {
     "name": "#%%\n"
    }
   },
   "outputs": [],
   "source": [
    "alpha=0.05 # This means P is 95%\n",
    "n = len(studenq[\"Length in shoe size\"])\n",
    "factor = t.ppf(1-(alpha/2),df=n-1)\n",
    "interval = (x_bar - factor * s/math.sqrt(n), x_bar + factor * s/math.sqrt(n))\n",
    "print(interval)"
   ]
  },
  {
   "cell_type": "code",
   "execution_count": null,
   "id": "d6bb9c88",
   "metadata": {
    "pycharm": {
     "name": "#%%\n"
    }
   },
   "outputs": [],
   "source": [
    "t.interval(confidence=1-alpha,df=n-1,loc=x_bar,scale=s/math.sqrt(n))"
   ]
  },
  {
   "cell_type": "markdown",
   "id": "ecf374470fc7a3bb",
   "metadata": {
    "pycharm": {
     "name": "#%% md\n"
    }
   },
   "source": [
    "## Question 3"
   ]
  },
  {
   "cell_type": "markdown",
   "source": [
    "3\\. Someone claims that the ratio of length to shoe size of a person is equal to 4.2 with a standard deviation of 0.05. Based on the data from the questionnaire, can you agree with this (with &alpha; = 5%)? And with &alpha; = 2.5%?"
   ],
   "metadata": {
    "collapsed": false
   },
   "id": "4d1cdda7"
  },
  {
   "cell_type": "code",
   "execution_count": null,
   "id": "1499222d",
   "metadata": {
    "pycharm": {
     "name": "#%%\n"
    }
   },
   "outputs": [],
   "source": [
    "# Alpha = 5%\n",
    "\n",
    "alpha=0.05\n",
    "mu0=4.2\n",
    "s0=0.05\n",
    "factor = norm.ppf(1-(alpha/2))\n",
    "interval = (mu0 - factor * s0/math.sqrt(n), mu0 + factor * s0/math.sqrt(n))\n",
    "print(interval)"
   ]
  },
  {
   "cell_type": "code",
   "execution_count": null,
   "outputs": [],
   "source": [
    "norm.interval(confidence=1-alpha,loc=mu0,scale=s0/math.sqrt(n))"
   ],
   "metadata": {
    "collapsed": false
   },
   "id": "801ce2f51e060f8e"
  },
  {
   "cell_type": "code",
   "execution_count": null,
   "outputs": [],
   "source": [
    "# Alpha = 2.5%\n",
    "\n",
    "alpha=0.025\n",
    "mu0=4.2\n",
    "factor = norm.ppf(1-(alpha/2))\n",
    "interval = (mu0 - factor * s0/math.sqrt(n), mu0 + factor * s0/math.sqrt(n))\n",
    "print(interval)"
   ],
   "metadata": {
    "collapsed": false
   },
   "id": "167ef319490f2122"
  },
  {
   "cell_type": "code",
   "execution_count": null,
   "outputs": [],
   "source": [
    "norm.interval(confidence=1-alpha, loc=mu0, scale=s0/math.sqrt(n))"
   ],
   "metadata": {
    "collapsed": false
   },
   "id": "2d256d1572dcb2c5"
  }
 ],
 "metadata": {
  "kernelspec": {
   "name": "python3",
   "language": "python",
   "display_name": "Python 3 (ipykernel)"
  }
 },
 "nbformat": 4,
 "nbformat_minor": 5
}
