{
 "cells": [
  {
   "cell_type": "markdown",
   "source": [
    "# Formules"
   ],
   "metadata": {
    "collapsed": false
   },
   "id": "d31ff3d7cbb69923"
  },
  {
   "cell_type": "markdown",
   "source": [
    "## Kansen"
   ],
   "metadata": {
    "collapsed": false
   },
   "id": "83b08ea554ca14ea"
  },
  {
   "cell_type": "markdown",
   "source": [
    "### Laplace\n",
    "\n",
    "$$P(G) = \\frac{\\#G}{\\#U}$$\n",
    "- P(G) = de kans dat G gebeurt\n",
    "- \\#G = het aantal gunstige uitkomsten\n",
    "- \\#U = het aantal mogelijke uitkomsten\n",
    "<br>\n",
    "<img src=\"1_Kansen/rescources/img/Schermafbeelding 2024-03-17 091947.png\">"
   ],
   "metadata": {
    "collapsed": false
   },
   "id": "f87b3fa89b521653"
  },
  {
   "cell_type": "markdown",
   "source": [
    "### De Inverse\n",
    "\n",
    "$$P(G̅) = 1 - P(G)$$\n",
    "- P(G̅) = De kans dat G niet gebeurt\n",
    "- P(G) = De kans dat G gebeurt"
   ],
   "metadata": {
    "collapsed": false
   },
   "id": "ed5a615d11d269bd"
  },
  {
   "cell_type": "markdown",
   "source": [
    "### De productregel"
   ],
   "metadata": {
    "collapsed": false
   },
   "id": "a137377201a13d27"
  },
  {
   "cell_type": "markdown",
   "source": [
    "#### De algemene productregel\n",
    "$$P(A\\ en\\ B) = P(A) * P(B|A)$$\n",
    "- P(A en B) = De kans dat A en B tezamen gebeuren\n",
    "- P(A) = De kans dat A gebeurt\n",
    "- P(A|B) = De kans dat B gebeurt als A is gebeurd\n",
    "<br>\n",
    "<img src=\"1_Kansen/rescources/img/Schermafbeelding 2024-03-17 100130.png\">\n"
   ],
   "metadata": {
    "collapsed": false
   },
   "id": "dde6484f30b0a4d"
  },
  {
   "cell_type": "markdown",
   "source": [
    "#### Onafhankelijke gebeurtenissen\n",
    "$$P(A\\ EN\\ B) = P(A) * P(B)$$\n",
    "- P(A en B) = De kans dat A en B tezamen gebeuren\n",
    "- P(A) = De kans dat A gebeurt\n",
    "- P(B) = De kans dat B gebeurt"
   ],
   "metadata": {
    "collapsed": false
   },
   "id": "2e6e5ff57677d626"
  },
  {
   "cell_type": "markdown",
   "source": [
    "### De somregel\n",
    "$$P(A\\ ∪\\ B) = P(A) + P(B) - P(A\\ ∩\\ B)$$\n",
    "- P(A ∪ B) = De kans dat A of B optreedt\n",
    "- P(A) = De kans dat A gebeurt\n",
    "- P(B) = De kans dat B gebeurt\n",
    "- P(A ∩ B) = De kans dat A en B tezamen gebeuren\n",
    "<br>\n",
    "<img src=\"1_Kansen/rescources/img/Schermafbeelding 2024-03-17 103055.png\">"
   ],
   "metadata": {
    "collapsed": false
   },
   "id": "9baafee9a412a33c"
  },
  {
   "cell_type": "markdown",
   "source": [
    "### De regel van Bayes\n",
    "$$P(B|A) = \\frac{P(A|B) * P(B)}{P(A)}$$\n",
    "of\n",
    "$$P(A|B) = \\frac{P(B|A) * P(A)}{P(B)}$$\n",
    "\n",
    "- P(A|B) = De kans dat B zich voordoet als A zich voordoet\n",
    "- P(B|A) = De kans dat A zich voordoet als B zich voordoet\n",
    "- P(A) = De kans dat A zich voordoet\n",
    "- P(B) = De kans dat B zich voordoet"
   ],
   "metadata": {
    "collapsed": false
   },
   "id": "af86b422fd08534d"
  },
  {
   "cell_type": "markdown",
   "source": [
    "### De wet van de totale kans\n",
    "$$P(A) = P(G_1) * P(A|G_1) + P(G_2) * P(A|G_2) + ... + P(G_n) * P(A|G_n)$$\n",
    "\n",
    "- P(A) = De kans dat A zich voordoet\n",
    "- P(Gₙ) = De kans dat Gₙ zich voordoet\n",
    "- P(A|Gₙ) = De kans dat Gₙ zicht voordoet als A zich voordoet"
   ],
   "metadata": {
    "collapsed": false
   },
   "id": "d256919c4c61ac29"
  },
  {
   "cell_type": "markdown",
   "source": [
    "## Kansverdelingen"
   ],
   "metadata": {
    "collapsed": false
   },
   "id": "e4f7161341aa5932"
  },
  {
   "cell_type": "markdown",
   "source": [
    "### Gemiddelde\n",
    "$$\\mu = \\sum_{i=1}^{n} x_i * P(x_i)$$"
   ],
   "metadata": {
    "collapsed": false
   },
   "id": "f8ebcff630d21271"
  },
  {
   "cell_type": "code",
   "outputs": [
    {
     "data": {
      "text/plain": "6.999999999999998"
     },
     "execution_count": 1,
     "metadata": {},
     "output_type": "execute_result"
    }
   ],
   "source": [
    "from functions.functions_Y2.Kansverdeling import *\n",
    "import pandas as pd\n",
    "\n",
    "value = range(2, 13)\n",
    "prob = pd.Series([1, 2, 3, 4, 5, 6, 5, 4, 3, 2, 1]) / 36\n",
    "\n",
    "µ = average(value, prob)\n",
    "#OF\n",
    "µ = (value * prob).sum()\n",
    "\n",
    "µ"
   ],
   "metadata": {
    "collapsed": false,
    "ExecuteTime": {
     "end_time": "2024-03-28T18:02:56.438595Z",
     "start_time": "2024-03-28T18:02:55.501413Z"
    }
   },
   "id": "883759131acbbc25",
   "execution_count": 1
  },
  {
   "cell_type": "markdown",
   "source": [
    "### Standaardafwijking\n",
    "$$\\sigma = \\sqrt{\\sum_{i=1}^{n} (x_i - \\mu)^2 * P(x_i)}$$"
   ],
   "metadata": {
    "collapsed": false
   },
   "id": "356e10bf512ab1fd"
  },
  {
   "cell_type": "code",
   "outputs": [
    {
     "data": {
      "text/plain": "2.41522945769824"
     },
     "execution_count": 2,
     "metadata": {},
     "output_type": "execute_result"
    }
   ],
   "source": [
    "σ = standard_deviation(value, prob)\n",
    "#OF\n",
    "σ = math.sqrt(((value - µ) ** 2 * prob).sum())\n",
    "\n",
    "σ"
   ],
   "metadata": {
    "collapsed": false,
    "ExecuteTime": {
     "end_time": "2024-03-28T18:02:56.445544Z",
     "start_time": "2024-03-28T18:02:56.440230Z"
    }
   },
   "id": "ea71fdba08971928",
   "execution_count": 2
  },
  {
   "cell_type": "markdown",
   "source": [
    "### Binomiaalverdeling\n",
    "$$P(X) = \\binom{n}{x} * p^x * (1 - p)^{n - x}$$\n",
    "- n = het aantal keer dat je het experiment doet\n",
    "- p = De kans dat een experiment de waarde oplevert waarin je geïnteresseerd bent\n",
    "- x = Het aantal keer dat je wil dat het experiment de waarde oplevert waarin je geïnteresseerd bent\n",
    "- $\\binom{n}{x}$ = het aantal mogelijkheden om uit $n$ waarden, er $x$ te kiezen. Oftwel $C^n_x$"
   ],
   "metadata": {
    "collapsed": false
   },
   "id": "9456655acf0932c1"
  },
  {
   "cell_type": "code",
   "outputs": [
    {
     "data": {
      "text/plain": "0.26367187499999983"
     },
     "execution_count": 3,
     "metadata": {},
     "output_type": "execute_result"
    }
   ],
   "source": [
    "from scipy import stats\n",
    "\n",
    "n = 5\n",
    "p = 1 / 4\n",
    "x = 2\n",
    "PX = stats.binom.pmf(x, n, p)\n",
    "\n",
    "PX"
   ],
   "metadata": {
    "collapsed": false,
    "ExecuteTime": {
     "end_time": "2024-03-28T18:02:56.867783Z",
     "start_time": "2024-03-28T18:02:56.446559Z"
    }
   },
   "id": "ab2875132dbb13a0",
   "execution_count": 3
  },
  {
   "cell_type": "markdown",
   "source": [
    "#### Verwachte waarde / Gemiddelde\n",
    "$$\\mu = n * p$$\n",
    "- n = het aantal keer dat je het experiment doet\n",
    "- p = De kans dat een experiment de waarde oplevert waarin je geïnteresseerd bent"
   ],
   "metadata": {
    "collapsed": false
   },
   "id": "6e0224055d8543a4"
  },
  {
   "cell_type": "code",
   "outputs": [
    {
     "data": {
      "text/plain": "1.25"
     },
     "execution_count": 4,
     "metadata": {},
     "output_type": "execute_result"
    }
   ],
   "source": [
    "µ = average(n, p, \"binomial\")\n",
    "#OF\n",
    "µ = n * p\n",
    "\n",
    "µ"
   ],
   "metadata": {
    "collapsed": false,
    "ExecuteTime": {
     "end_time": "2024-03-28T18:02:56.873359Z",
     "start_time": "2024-03-28T18:02:56.868793Z"
    }
   },
   "id": "eec375d9015a9f89",
   "execution_count": 4
  },
  {
   "cell_type": "markdown",
   "source": [
    "#### Standaardafwijking\n",
    "$$\\sigma = \\sqrt{n * p * (1 - p)}$$\n",
    "- n = het aantal keer dat je het experiment doet\n",
    "- p = De kans dat een experiment de waarde oplevert waarin je geïnteresseerd bent"
   ],
   "metadata": {
    "collapsed": false
   },
   "id": "d2ca4a4650c51489"
  },
  {
   "cell_type": "code",
   "outputs": [
    {
     "data": {
      "text/plain": "0.9682458365518543"
     },
     "execution_count": 5,
     "metadata": {},
     "output_type": "execute_result"
    }
   ],
   "source": [
    "σ = standard_deviation(n, p, \"binomial\")\n",
    "#OF\n",
    "σ = math.sqrt(n * p * (1 - p))\n",
    "\n",
    "σ"
   ],
   "metadata": {
    "collapsed": false,
    "ExecuteTime": {
     "end_time": "2024-03-28T18:02:56.885680Z",
     "start_time": "2024-03-28T18:02:56.873869Z"
    }
   },
   "id": "e0291c229d8f18e3",
   "execution_count": 5
  },
  {
   "cell_type": "markdown",
   "source": [
    "### Poissonverdeling\n",
    "$$ P(k) = \\frac{λ^k}{k!} \\cdot e^{-λ}$$\n",
    "- λ = gemiddelde aantal gebeurtenissen per interval\n",
    "- k = het aantal gebeurtenissen waarin je geïnteresseerd bent\n",
    "- e = 2.71828"
   ],
   "metadata": {
    "collapsed": false
   },
   "id": "54e37a0181c1ecf1"
  },
  {
   "cell_type": "markdown",
   "source": [
    "#### Verwachte waarde / Gemiddelde\n",
    "$$\\mu = λ$$"
   ],
   "metadata": {
    "collapsed": false
   },
   "id": "1b265f54fac62083"
  },
  {
   "cell_type": "markdown",
   "source": [
    "#### Standaardafwijking\n",
    "$$\\sigma = \\sqrt{λ}$$"
   ],
   "metadata": {
    "collapsed": false
   },
   "id": "26248bfc35adc4a1"
  },
  {
   "cell_type": "markdown",
   "source": [
    "### Normaalverdeling\n",
    "$$ f(x) = \\frac{1}{σ \\cdot \\sqrt{2π}} \\cdot e^{-\\frac{(x-μ)^2}{2σ^2}}$$\n",
    "- μ = gemiddelde\n",
    "- σ = standaardafwijking\n",
    "- π = 3.14159\n",
    "- e = 2.71828\n",
    "- x = de waarde waarin je geïnteresseerd bent"
   ],
   "metadata": {
    "collapsed": false
   },
   "id": "c26d97487a5d80d2"
  },
  {
   "cell_type": "markdown",
   "source": [
    "## Toetsen"
   ],
   "metadata": {
    "collapsed": false
   },
   "id": "6a8f0d4b34acb3"
  },
  {
   "cell_type": "code",
   "outputs": [],
   "source": [
    "import pandas as pd\n",
    "\n",
    "laptops = pd.Series([41.7, 10.0, 32.4, 52.1, 23.8, 36.7, 50.4, 41.2,\n",
    "                     28.3, 3.1, 79.7, 22.5, 35.2, 65.3, 54.1, 85.0,\n",
    "                     72.8, 8.4, 46.6, 27.6, 39.2, 57.6, 35.0, 42.3,\n",
    "                     54.5, 36.4, 13.7, 40.7, 28.3, 26.4], name='verbruik')"
   ],
   "metadata": {
    "collapsed": false,
    "ExecuteTime": {
     "end_time": "2024-03-28T18:02:56.890653Z",
     "start_time": "2024-03-28T18:02:56.885680Z"
    }
   },
   "id": "b3902d18dfe4e50b",
   "execution_count": 6
  },
  {
   "cell_type": "markdown",
   "source": [
    "### Betrouwbaarheidsinterval met  95.5% betrouwbaarheid\n",
    "$$μ - \\frac{2σ}{\\sqrt{n}} < \\bar{x} < μ + \\frac{2σ}{\\sqrt{n}}$$\n",
    "- μ = gemiddelde\n",
    "- σ = standaardafwijking\n",
    "- n = aantal waarnemingen\n",
    "- $\\bar{x}$ = steekproefgemiddelde\n",
    "\n",
    "OF\n",
    "\n",
    "$$ \\bar{x} - \\frac{2σ}{\\sqrt{n}} < μ < \\bar{x} + \\frac{2σ}{\\sqrt{n}}$$\n",
    "\n",
    "In Python:"
   ],
   "metadata": {
    "collapsed": false
   },
   "id": "8c4c43e3ad0abf7"
  },
  {
   "cell_type": "code",
   "outputs": [
    {
     "data": {
      "text/plain": "(33.69262194697507, 45.70737805302495)"
     },
     "execution_count": 7,
     "metadata": {},
     "output_type": "execute_result"
    }
   ],
   "source": [
    "from functions.functions_Y2.Testing import *\n",
    "\n",
    "betrouwbaarheids_interval(laptops, 0.90, t=False)"
   ],
   "metadata": {
    "collapsed": false,
    "ExecuteTime": {
     "end_time": "2024-03-28T18:02:56.899438Z",
     "start_time": "2024-03-28T18:02:56.891661Z"
    }
   },
   "id": "7f40e1d78f9fceb1",
   "execution_count": 7
  },
  {
   "cell_type": "markdown",
   "source": [
    "### Studentverdeling\n",
    "\n",
    "$$t = n - 1$$\n",
    "- t = de t-waarde\n",
    "- n = aantal waarnemingen\n",
    "\n",
    "In python kan de t-waarde als volgt worden gebruikt voor het betrouwbaarheidsinterval:"
   ],
   "metadata": {
    "collapsed": false
   },
   "id": "71ac359740d89609"
  },
  {
   "cell_type": "code",
   "outputs": [
    {
     "data": {
      "text/plain": "(33.494403197191005, 45.905596802809015)"
     },
     "execution_count": 8,
     "metadata": {},
     "output_type": "execute_result"
    }
   ],
   "source": [
    "betrouwbaarheids_interval(laptops, 0.90)"
   ],
   "metadata": {
    "collapsed": false,
    "ExecuteTime": {
     "end_time": "2024-03-28T18:02:56.904579Z",
     "start_time": "2024-03-28T18:02:56.900455Z"
    }
   },
   "id": "366928ddbd9b85f",
   "execution_count": 8
  },
  {
   "cell_type": "markdown",
   "source": [
    "## Associatieregels"
   ],
   "metadata": {
    "collapsed": false
   },
   "id": "9f561c8f0d2ad84f"
  },
  {
   "cell_type": "code",
   "outputs": [
    {
     "name": "stderr",
     "output_type": "stream",
     "text": [
      "C:\\Users\\zouff\\.venvs\\DS2\\Lib\\site-packages\\mlxtend\\frequent_patterns\\fpcommon.py:110: DeprecationWarning: DataFrames with non-bool types result in worse computationalperformance and their support might be discontinued in the future.Please use a DataFrame with bool type\n",
      "  warnings.warn(\n"
     ]
    }
   ],
   "source": [
    "import pandas as pd\n",
    "\n",
    "verkopen = pd.DataFrame({\n",
    "    'KassaTicket': [1000123, 1000123, 1000123, 1000124, 1000124, 1000125, 1000125, 1000126, 1000126, 1000127, 1000127,\n",
    "                    1000128, 1000129, 1000129, 1000129, 1000130, 1000131, 1000131, 1000132],\n",
    "    'Product': ['Printer', 'Cartridge', 'Balpen', 'Papier', 'Cartridge', 'Papier', 'Cartridge', 'Printer', 'Cartridge',\n",
    "                'Printer', 'Cartridge', 'Balpen', 'Papier', 'Cartridge', 'Balpen', 'Cartridge', 'Printer', 'Balpen',\n",
    "                'Papier']\n",
    "})\n",
    "verkopen.set_index('KassaTicket', inplace=True)\n",
    "\n",
    "transacties = pd.get_dummies(verkopen, columns=['Product'], prefix='', prefix_sep='').groupby(level='KassaTicket').sum()\n",
    "\n",
    "from mlxtend.frequent_patterns import apriori\n",
    "\n",
    "itemsets = apriori(transacties, min_support=0.2, use_colnames=True)"
   ],
   "metadata": {
    "collapsed": false,
    "ExecuteTime": {
     "end_time": "2024-03-28T18:02:57.231269Z",
     "start_time": "2024-03-28T18:02:56.905594Z"
    }
   },
   "id": "8720e47c13cb0376",
   "execution_count": 9
  },
  {
   "cell_type": "markdown",
   "source": [
    "### Support\n",
    "$$support(A) = \\frac{\\#A}{N}$$\n",
    "- support(A) = De relatieve frequentie van A in dataset N\n",
    "- \\#A = het aantal keer dat A voorkomt in dataset N\n",
    "- N = de grootte van dataset N\n",
    "\n",
    "OF\n",
    "\n",
    "$$support(A) = P(A)$$\n",
    "\n",
    "#### Meerdere items\n",
    "$$support(A\\ ∧ \\ B) = \\frac{\\#A\\ ∩\\ B}{N}$$\n",
    "- support(A ∧ B) = De relatieve frequentie van A en B in dataset N\n",
    "- \\#A ∩ B = het aantal keer dat A en B tezamen voorkomen in dataset N\n",
    "- N = de grootte van dataset N\n",
    "\n",
    "OF\n",
    "\n",
    "$$support(A\\ ∧ \\ B) = P(A\\ ∩\\ B)$$"
   ],
   "metadata": {
    "collapsed": false
   },
   "id": "b69bb84d15b7628a"
  },
  {
   "cell_type": "markdown",
   "source": [
    "#### Confidence\n",
    "$$confidence(A\\ →\\ B) = \\frac{support(A\\ ∧\\ B)}{support(A)}$$\n",
    "- confidence(A → B) = De kans dat B voorkomt als A voorkomt\n",
    "- support(A ∧ B) = De relatieve frequentie van A en B in dataset N\n",
    "- support(A) = De relatieve frequentie van A in dataset N\n",
    "\n",
    "Of kan gezien worden als:\n",
    "$$confidence(A\\ →\\ B) = P(B|A) = \\frac{P(A∧B)}{P(A)}$$\n",
    "\n",
    "Kan met volgende Pyhton code berekend worden:"
   ],
   "metadata": {
    "collapsed": false
   },
   "id": "294c7cf8a7ba82fc"
  },
  {
   "cell_type": "code",
   "outputs": [
    {
     "data": {
      "text/plain": "0.7499999999999999"
     },
     "execution_count": 10,
     "metadata": {},
     "output_type": "execute_result"
    }
   ],
   "source": [
    "from functions.functions_Y2.Ar import *\n",
    "\n",
    "confidence = confidence(itemsets, 'Printer', 'Cartridge')\n",
    "\n",
    "confidence"
   ],
   "metadata": {
    "collapsed": false,
    "ExecuteTime": {
     "end_time": "2024-03-28T18:02:57.238505Z",
     "start_time": "2024-03-28T18:02:57.232329Z"
    }
   },
   "id": "d3d076c63ceb357a",
   "execution_count": 10
  },
  {
   "cell_type": "markdown",
   "source": [
    "#### Lift\n",
    "$$lift(A\\ →\\ B) = \\frac{confidence(A\\ →\\ B)}{support(B)}$$\n",
    "- lift(A → B) = De mate waarin B afhankelijk is van A\n",
    "- confidence(A → B) = De kans dat B voorkomt als A voorkomt\n",
    "- support(B) = De relatieve frequentie van B in dataset N\n",
    "\n",
    "In Python kan dit als volgt berekend worden:"
   ],
   "metadata": {
    "collapsed": false
   },
   "id": "b3dbdf10a70e80b8"
  },
  {
   "cell_type": "code",
   "outputs": [
    {
     "data": {
      "text/plain": "0.7142857142857143"
     },
     "execution_count": 11,
     "metadata": {},
     "output_type": "execute_result"
    }
   ],
   "source": [
    "lift = lift(itemsets, 'Balpen', 'Cartridge')\n",
    "\n",
    "lift"
   ],
   "metadata": {
    "collapsed": false,
    "ExecuteTime": {
     "end_time": "2024-03-28T18:02:57.244064Z",
     "start_time": "2024-03-28T18:02:57.238505Z"
    }
   },
   "id": "e50f198964803900",
   "execution_count": 11
  },
  {
   "cell_type": "markdown",
   "source": [
    "#### Leverage\n",
    "$$leverage(A\\ →\\ B) = support(A\\ ∧\\ B) - support(A) * support(B)$$\n",
    "- leverage(A → B) = De mate waarin A en B samen voorkomen\n",
    "- support(A ∧ B) = De relatieve frequentie van A en B in dataset N\n",
    "- support(A) = De relatieve frequentie van A in dataset N\n",
    "- support(B) = De relatieve frequentie van B in dataset N\n",
    "\n",
    "In Python kan dit als volgt berekend worden:"
   ],
   "metadata": {
    "collapsed": false
   },
   "id": "797347f62d6e73d6"
  },
  {
   "cell_type": "code",
   "outputs": [
    {
     "data": {
      "text/plain": "0.020000000000000018"
     },
     "execution_count": 12,
     "metadata": {},
     "output_type": "execute_result"
    }
   ],
   "source": [
    "leverage = leverage(itemsets, 'Printer', 'Cartridge')\n",
    "\n",
    "leverage"
   ],
   "metadata": {
    "collapsed": false,
    "ExecuteTime": {
     "end_time": "2024-03-28T18:02:57.250189Z",
     "start_time": "2024-03-28T18:02:57.245071Z"
    }
   },
   "id": "cbe44d46bb914c47",
   "execution_count": 12
  }
 ],
 "metadata": {
  "kernelspec": {
   "display_name": "Python 3",
   "language": "python",
   "name": "python3"
  },
  "language_info": {
   "codemirror_mode": {
    "name": "ipython",
    "version": 2
   },
   "file_extension": ".py",
   "mimetype": "text/x-python",
   "name": "python",
   "nbconvert_exporter": "python",
   "pygments_lexer": "ipython2",
   "version": "2.7.6"
  }
 },
 "nbformat": 4,
 "nbformat_minor": 5
}
