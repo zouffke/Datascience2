{
 "cells": [
  {
   "cell_type": "markdown",
   "source": [
    "# Formules"
   ],
   "metadata": {
    "collapsed": false
   },
   "id": "d31ff3d7cbb69923"
  },
  {
   "cell_type": "markdown",
   "source": [
    "## Kansen"
   ],
   "metadata": {
    "collapsed": false
   },
   "id": "83b08ea554ca14ea"
  },
  {
   "cell_type": "markdown",
   "source": [
    "### Laplace\n",
    "\n",
    "$$P(G) = \\frac{\\#G}{\\#U}$$\n",
    "- P(G) = de kans dat G gebeurt\n",
    "- \\#G = het aantal gunstige uitkomsten\n",
    "- \\#U = het aantal mogelijke uitkomsten\n",
    "<br>\n",
    "<img src=\"1_Kansen/rescources/img/Schermafbeelding 2024-03-17 091947.png\">"
   ],
   "metadata": {
    "collapsed": false
   },
   "id": "f87b3fa89b521653"
  },
  {
   "cell_type": "markdown",
   "source": [
    "### De Inverse\n",
    "\n",
    "$$P(G̅) = 1 - P(G)$$\n",
    "- P(G̅) = De kans dat G niet gebeurt\n",
    "- P(G) = De kans dat G gebeurt"
   ],
   "metadata": {
    "collapsed": false
   },
   "id": "ed5a615d11d269bd"
  },
  {
   "cell_type": "markdown",
   "source": [
    "### De productregel"
   ],
   "metadata": {
    "collapsed": false
   },
   "id": "a137377201a13d27"
  },
  {
   "cell_type": "markdown",
   "source": [
    "#### De algemene productregel\n",
    "$$P(A\\ en\\ B) = P(A) * P(B|A)$$\n",
    "- P(A en B) = De kans dat A en B tezamen gebeuren\n",
    "- P(A) = De kans dat A gebeurt\n",
    "- P(A|B) = De kans dat B gebeurt als A is gebeurd\n",
    "<br>\n",
    "<img src=\"1_Kansen/rescources/img/Schermafbeelding 2024-03-17 100130.png\">\n"
   ],
   "metadata": {
    "collapsed": false
   },
   "id": "dde6484f30b0a4d"
  },
  {
   "cell_type": "markdown",
   "source": [
    "#### Onafhankelijke gebeurtenissen\n",
    "$$P(A\\ EN\\ B) = P(A) * P(B)$$\n",
    "- P(A en B) = De kans dat A en B tezamen gebeuren\n",
    "- P(A) = De kans dat A gebeurt\n",
    "- P(B) = De kans dat B gebeurt"
   ],
   "metadata": {
    "collapsed": false
   },
   "id": "2e6e5ff57677d626"
  },
  {
   "cell_type": "markdown",
   "source": [
    "### De somregel\n",
    "$$P(A\\ ∪\\ B) = P(A) + P(B) - P(A\\ ∩\\ B)$$\n",
    "- P(A ∪ B) = De kans dat A of B optreedt\n",
    "- P(A) = De kans dat A gebeurt\n",
    "- P(B) = De kans dat B gebeurt\n",
    "- P(A ∩ B) = De kans dat A en B tezamen gebeuren\n",
    "<br>\n",
    "<img src=\"1_Kansen/rescources/img/Schermafbeelding 2024-03-17 103055.png\">"
   ],
   "metadata": {
    "collapsed": false
   },
   "id": "9baafee9a412a33c"
  },
  {
   "cell_type": "markdown",
   "source": [
    "### De regel van Bayes\n",
    "$$P(B|A) = \\frac{P(A|B) * P(B)}{P(A)}$$\n",
    "of\n",
    "$$P(A|B) = \\frac{P(B|A) * P(A)}{P(B)}$$\n",
    "\n",
    "- P(A|B) = De kans dat B zich voordoet als A zich voordoet\n",
    "- P(B|A) = De kans dat A zich voordoet als B zich voordoet\n",
    "- P(A) = De kans dat A zich voordoet\n",
    "- P(B) = De kans dat B zich voordoet"
   ],
   "metadata": {
    "collapsed": false
   },
   "id": "af86b422fd08534d"
  },
  {
   "cell_type": "markdown",
   "source": [
    "### De wet van de totale kans\n",
    "$$P(A) = P(G_1) * P(A|G_1) + P(G_2) * P(A|G_2) + ... + P(G_n) * P(A|G_n)$$\n",
    "\n",
    "- P(A) = De kans dat A zich voordoet\n",
    "- P(Gₙ) = De kans dat Gₙ zich voordoet\n",
    "- P(A|Gₙ) = De kans dat Gₙ zicht voordoet als A zich voordoet"
   ],
   "metadata": {
    "collapsed": false
   },
   "id": "d256919c4c61ac29"
  },
  {
   "cell_type": "markdown",
   "source": [
    "## Kansverdelingen"
   ],
   "metadata": {
    "collapsed": false
   },
   "id": "e4f7161341aa5932"
  },
  {
   "cell_type": "markdown",
   "source": [
    "### Gemiddelde\n",
    "$$\\mu = \\sum_{i=1}^{n} x_i * P(x_i)$$"
   ],
   "metadata": {
    "collapsed": false
   },
   "id": "f8ebcff630d21271"
  },
  {
   "cell_type": "code",
   "outputs": [
    {
     "data": {
      "text/plain": "6.999999999999998"
     },
     "execution_count": 6,
     "metadata": {},
     "output_type": "execute_result"
    }
   ],
   "source": [
    "from functions.functions_Y2.StandardDeviationAndAverage import *\n",
    "import pandas as pd\n",
    "\n",
    "value = range(2, 13)\n",
    "prob = pd.Series([1, 2, 3, 4, 5, 6, 5, 4, 3, 2, 1]) / 36\n",
    "\n",
    "µ = average(value, prob)\n",
    "#OF\n",
    "µ = (value * prob).sum()\n",
    "\n",
    "µ"
   ],
   "metadata": {
    "collapsed": false,
    "ExecuteTime": {
     "end_time": "2024-03-17T16:54:27.500080Z",
     "start_time": "2024-03-17T16:54:27.494814Z"
    }
   },
   "id": "883759131acbbc25",
   "execution_count": 6
  },
  {
   "cell_type": "markdown",
   "source": [
    "### Standaardafwijking\n",
    "$$\\sigma = \\sqrt{\\sum_{i=1}^{n} (x_i - \\mu)^2 * P(x_i)}$$"
   ],
   "metadata": {
    "collapsed": false
   },
   "id": "356e10bf512ab1fd"
  },
  {
   "cell_type": "code",
   "outputs": [
    {
     "data": {
      "text/plain": "2.41522945769824"
     },
     "execution_count": 7,
     "metadata": {},
     "output_type": "execute_result"
    }
   ],
   "source": [
    "σ = standard_deviation(value, prob)\n",
    "#OF\n",
    "σ = math.sqrt(((value - µ) ** 2 * prob).sum())\n",
    "\n",
    "σ"
   ],
   "metadata": {
    "collapsed": false,
    "ExecuteTime": {
     "end_time": "2024-03-17T16:54:27.512780Z",
     "start_time": "2024-03-17T16:54:27.507896Z"
    }
   },
   "id": "ea71fdba08971928",
   "execution_count": 7
  },
  {
   "cell_type": "markdown",
   "source": [
    "### Binomiaalverdeling\n",
    "$$P(X) = \\binom{n}{x} * p^x * (1 - p)^{n - x}$$\n",
    "- n = het aantal keer dat je het experiment doet\n",
    "- p = De kans dat een experiment de waarde oplevert waarin je geïnteresseerd bent\n",
    "- x = Het aantal keer dat je wil dat het experiment de waarde oplevert waarin je geïnteresseerd bent\n",
    "- $\\binom{n}{x}$ = het aantal mogelijkheden om uit $n$ waarden, er $x$ te kiezen. Oftwel $C^n_x$"
   ],
   "metadata": {
    "collapsed": false
   },
   "id": "9456655acf0932c1"
  },
  {
   "cell_type": "code",
   "outputs": [
    {
     "data": {
      "text/plain": "0.26367187499999983"
     },
     "execution_count": 8,
     "metadata": {},
     "output_type": "execute_result"
    }
   ],
   "source": [
    "from scipy import stats\n",
    "n = 5\n",
    "p = 1/4\n",
    "x = 2\n",
    "PX = stats.binom.pmf(x, n, p)\n",
    "\n",
    "PX"
   ],
   "metadata": {
    "collapsed": false,
    "ExecuteTime": {
     "end_time": "2024-03-17T17:00:10.696565Z",
     "start_time": "2024-03-17T17:00:08.388664Z"
    }
   },
   "id": "ab2875132dbb13a0",
   "execution_count": 8
  }
 ],
 "metadata": {
  "kernelspec": {
   "display_name": "Python 3",
   "language": "python",
   "name": "python3"
  },
  "language_info": {
   "codemirror_mode": {
    "name": "ipython",
    "version": 2
   },
   "file_extension": ".py",
   "mimetype": "text/x-python",
   "name": "python",
   "nbconvert_exporter": "python",
   "pygments_lexer": "ipython2",
   "version": "2.7.6"
  }
 },
 "nbformat": 4,
 "nbformat_minor": 5
}
