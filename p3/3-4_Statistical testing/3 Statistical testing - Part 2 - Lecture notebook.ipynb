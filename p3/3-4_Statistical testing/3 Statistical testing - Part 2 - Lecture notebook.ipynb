{
 "cells": [
  {
   "cell_type": "code",
   "execution_count": 2,
   "outputs": [],
   "source": [
    "import os\n",
    "os.chdir(r\"D:\\OneDrive\\codelib\\PycharmProjects\\da3\\data_aux\")\n",
    "\n",
    "import numpy as np\n",
    "import pandas as pd\n",
    "import matplotlib.pyplot as plt\n",
    "import scipy.stats as stats\n",
    "\n",
    "import math\n",
    "\n",
    "from scipy.stats import t\n",
    "from scipy.stats import ttest_1samp\n",
    "import statistics\n",
    "from scipy.stats import chi2\n",
    "from scipy.stats import chisquare\n",
    "\n",
    "pd.set_option('display.max_columns', None)\n",
    "pd.set_option('display.max_row', None)\n",
    "\n",
    "missing_values = ['n/a', 'na', 'nan', 'N/A', 'NA', 'NaN', 'NAN', '--', 'Missing', 'missing', 'Unknown', 'unknown', 'UNKNOWN']"
   ],
   "metadata": {
    "collapsed": false,
    "ExecuteTime": {
     "end_time": "2023-11-06T20:08:30.540974700Z",
     "start_time": "2023-11-06T20:08:27.739729300Z"
    }
   },
   "id": "3f93afb5eae9d5a8"
  },
  {
   "cell_type": "markdown",
   "source": [
    "# O. REFRESH"
   ],
   "metadata": {
    "collapsed": false
   },
   "id": "6a5c421bad3d807f"
  },
  {
   "cell_type": "code",
   "execution_count": null,
   "id": "35c53adc",
   "metadata": {
    "pycharm": {
     "name": "#%%\n"
    }
   },
   "outputs": [],
   "source": [
    "t.ppf(0.975,49)\n",
    "t.interval(confidence=0.95, df=50-1, loc=40, scale=10/math.sqrt(50))"
   ]
  },
  {
   "cell_type": "markdown",
   "id": "b865487f",
   "metadata": {
    "pycharm": {
     "name": "#%% md\n"
    }
   },
   "source": [
    "# 1. PUSHING ALPHA TO THE LIMIT\n"
   ]
  },
  {
   "cell_type": "code",
   "execution_count": 3,
   "outputs": [],
   "source": [
    "mu = 40\n",
    "n = 50\n",
    "x_bar = 43\n",
    "s = 10"
   ],
   "metadata": {
    "collapsed": false,
    "ExecuteTime": {
     "end_time": "2023-11-06T20:08:39.394858700Z",
     "start_time": "2023-11-06T20:08:39.375863300Z"
    }
   },
   "id": "c132e77953bb19f5"
  },
  {
   "cell_type": "code",
   "execution_count": null,
   "outputs": [],
   "source": [],
   "metadata": {
    "collapsed": false
   },
   "id": "e5bd6c36c6d925dd"
  },
  {
   "cell_type": "code",
   "execution_count": 4,
   "id": "21d8d0e03da5f621",
   "metadata": {
    "pycharm": {
     "name": "#%%\n"
    },
    "ExecuteTime": {
     "end_time": "2023-11-06T20:08:42.367299500Z",
     "start_time": "2023-11-06T20:08:42.315093800Z"
    }
   },
   "outputs": [
    {
     "data": {
      "text/plain": "(37.62899899064614, 42.37100100935386)"
     },
     "execution_count": 4,
     "metadata": {},
     "output_type": "execute_result"
    }
   ],
   "source": [
    "P = 0.9 # => alpha = 10%\n",
    "t.interval(confidence=P, df=n-1, loc=mu, scale=s/math.sqrt(n))"
   ]
  },
  {
   "cell_type": "code",
   "execution_count": 5,
   "outputs": [
    {
     "data": {
      "text/plain": "(37.15803144877627, 42.84196855122373)"
     },
     "execution_count": 5,
     "metadata": {},
     "output_type": "execute_result"
    }
   ],
   "source": [
    "P = 0.95 # alpha = 5%\n",
    "t.interval(confidence=P, df=n-1, loc=mu, scale=s/math.sqrt(n))"
   ],
   "metadata": {
    "collapsed": false,
    "ExecuteTime": {
     "end_time": "2023-11-06T20:08:46.328074400Z",
     "start_time": "2023-11-06T20:08:46.253835100Z"
    }
   },
   "id": "773e91cc09d89a99"
  },
  {
   "cell_type": "code",
   "execution_count": null,
   "outputs": [],
   "source": [
    "P = 0.99 # alpha = 1%\n",
    "t.interval(confidence=P, df=n-1, loc=mu, scale=s/math.sqrt(n))"
   ],
   "metadata": {
    "collapsed": false
   },
   "id": "e0b242c7984d9e2f"
  },
  {
   "cell_type": "code",
   "execution_count": null,
   "outputs": [],
   "source": [
    "factor = (43-40) / (10/math.sqrt(50))\n",
    "print(factor)"
   ],
   "metadata": {
    "collapsed": false
   },
   "id": "ada498423de61cb6"
  },
  {
   "cell_type": "code",
   "execution_count": null,
   "outputs": [],
   "source": [
    "P = t.cdf(factor, 49) - t.cdf(-factor, 49)\n",
    "print('P : ' + str(P))\n",
    "print('alpha : ' + str(1-P))"
   ],
   "metadata": {
    "collapsed": false
   },
   "id": "c82737ae8eecff0c"
  },
  {
   "cell_type": "code",
   "execution_count": null,
   "outputs": [],
   "source": [
    "t.interval(confidence=0.961, df=50-1, loc=40, scale=10/math.sqrt(50))"
   ],
   "metadata": {
    "collapsed": false
   },
   "id": "8c0bb28b4558b3dd"
  },
  {
   "cell_type": "markdown",
   "id": "900820c6",
   "metadata": {
    "pycharm": {
     "name": "#%% md\n"
    }
   },
   "source": [
    "# One sample t-test\n"
   ]
  },
  {
   "cell_type": "code",
   "execution_count": null,
   "id": "646d35f5209ef9f1",
   "metadata": {
    "pycharm": {
     "name": "#%%\n"
    }
   },
   "outputs": [],
   "source": [
    "from scipy.stats import ttest_1samp\n",
    "\n",
    "screens = pd.read_csv('screens.csv',delimiter=';', decimal='.')\n",
    "screens.info()\n",
    "screens[\"New_size\"].mean()\n",
    "screens[\"New_size\"].std()"
   ]
  },
  {
   "cell_type": "code",
   "execution_count": null,
   "outputs": [],
   "source": [
    "mu=40\n",
    "ttest_1samp(screens[\"New_size\"],mu)\n"
   ],
   "metadata": {
    "collapsed": false
   },
   "id": "34514fcf"
  },
  {
   "cell_type": "markdown",
   "id": "b77652a0",
   "metadata": {
    "pycharm": {
     "name": "#%% md\n"
    }
   },
   "source": [
    "# 4. CHI SQUARE TEST"
   ]
  },
  {
   "cell_type": "code",
   "execution_count": null,
   "outputs": [],
   "source": [
    "measured_values = [15,3,7,5]\n",
    "expected_values = [9,3,9,9]\n",
    "dev = [a - b for a, b in zip(measured_values,expected_values)]\n",
    "print(dev)\n",
    "sq_dev = [e ** 2 for e in dev]\n",
    "print(sq_dev)\n",
    "ratios = [a/b for a, b in zip(sq_dev, expected_values)]\n",
    "print(ratios)\n",
    "chisqr = sum(ratios)\n",
    "print(chisqr)"
   ],
   "metadata": {
    "collapsed": false
   },
   "id": "2d34ab38a5ceb858"
  },
  {
   "cell_type": "code",
   "execution_count": null,
   "id": "3da033f5a5a24193",
   "metadata": {
    "pycharm": {
     "name": "#%%\n"
    }
   },
   "outputs": [],
   "source": [
    "from scipy.stats import chi2\n",
    "chi2.ppf (0.95, df=4-1)"
   ]
  },
  {
   "cell_type": "code",
   "execution_count": null,
   "outputs": [],
   "source": [
    "1-chi2.cdf(6.22, 4-1)"
   ],
   "metadata": {
    "collapsed": false
   },
   "id": "e092bf6e3561d40"
  },
  {
   "cell_type": "code",
   "execution_count": null,
   "outputs": [],
   "source": [
    "alpha = 0.05\n",
    "chi2.ppf ((1- alpha), df=4-1)"
   ],
   "metadata": {
    "collapsed": false
   },
   "id": "49cce8f616bbf8ef"
  },
  {
   "cell_type": "code",
   "execution_count": null,
   "outputs": [],
   "source": [
    "chi2.cdf (7.815, df=4-1) "
   ],
   "metadata": {
    "collapsed": false
   },
   "id": "2cb93edafd9a3010"
  },
  {
   "cell_type": "code",
   "execution_count": null,
   "outputs": [],
   "source": [
    "1-chi2.cdf(6.2222,4-1)"
   ],
   "metadata": {
    "collapsed": false
   },
   "id": "d553389f5703e84f"
  },
  {
   "cell_type": "code",
   "execution_count": null,
   "outputs": [],
   "source": [
    "from scipy.stats import chisquare\n",
    "measured_values = [15,3,7,5]\n",
    "expected_values = [9,3,9,9]\n",
    "chisquare(measured_values , expected_values)"
   ],
   "metadata": {
    "collapsed": false
   },
   "id": "431dd883"
  },
  {
   "cell_type": "markdown",
   "id": "c31ed095",
   "metadata": {
    "pycharm": {
     "name": "#%% md\n"
    }
   },
   "source": [
    "# 6. QUESTIONNAIRE\n"
   ]
  },
  {
   "cell_type": "markdown",
   "source": [
    "Load data:"
   ],
   "metadata": {
    "collapsed": false
   },
   "id": "964649fdd32de887"
  },
  {
   "cell_type": "code",
   "execution_count": null,
   "id": "2a88471b",
   "metadata": {
    "pycharm": {
     "name": "#%%\n"
    }
   },
   "outputs": [],
   "source": [
    "studenq = pd.read_csv('Questionnaire 21-22.csv', delimiter=';', decimal='.')\n",
    "studenq.info()\n",
    "\n"
   ]
  },
  {
   "cell_type": "markdown",
   "id": "78ffded1",
   "metadata": {
    "pycharm": {
     "name": "#%% md\n"
    }
   },
   "source": [
    "## Question 1"
   ]
  },
  {
   "cell_type": "markdown",
   "source": [
    "1.a. Continue with last time's exercise. Add a column to the data frame and place in it the length of a person expressed in his shoe size (i.e. length divided by shoe size)"
   ],
   "metadata": {
    "collapsed": false
   },
   "id": "dd25766f350a5418"
  },
  {
   "cell_type": "code",
   "execution_count": null,
   "id": "da4806d1",
   "metadata": {
    "pycharm": {
     "name": "#%%\n"
    }
   },
   "outputs": [],
   "source": [
    "studenq[\"Length in shoe size\"] = studenq['Length'] / studenq['Shoe Size']"
   ]
  },
  {
   "cell_type": "markdown",
   "id": "23ffc23a",
   "metadata": {
    "pycharm": {
     "name": "#%% md\n"
    }
   },
   "source": [
    "1.b. Someone claims that the ratio of length to shoe size of a person is 4.2 with a standard deviation of 0.05. Based on the data from the questionnaire, can you agree with this? And this from which level of significance (&alpha;)?\n"
   ]
  },
  {
   "cell_type": "code",
   "execution_count": null,
   "id": "c72d2009",
   "metadata": {
    "pycharm": {
     "name": "#%%\n"
    }
   },
   "outputs": [],
   "source": [
    "mu = 4.2\n",
    "ttest_1samp(studenq[\"Length in shoe size\"].dropna(axis=0), mu)"
   ]
  },
  {
   "cell_type": "markdown",
   "id": "ed539e06",
   "metadata": {
    "pycharm": {
     "name": "#%% md\n"
    }
   },
   "source": [
    "## Question 2"
   ]
  },
  {
   "cell_type": "markdown",
   "source": [
    "2.a. Determine the 99% confidence interval for the distance to KdG (first remove the outliers!"
   ],
   "metadata": {
    "collapsed": false
   },
   "id": "75b795fc2dd1f042"
  },
  {
   "cell_type": "code",
   "execution_count": null,
   "id": "01b837af",
   "metadata": {
    "pycharm": {
     "name": "#%%\n"
    }
   },
   "outputs": [],
   "source": [
    "def no_outliers(data):\n",
    "    print(type(data))\n",
    "    Q1 = data.quantile(0.25)\n",
    "    Q3 = data.quantile(0.75)\n",
    "    I = Q3 - Q1\n",
    "    low = Q1 - 1.5 * I\n",
    "    high = Q3 + 1.5 * I\n",
    "    print(low)\n",
    "    print(high)\n",
    "    return[data[data.between(low, high)]]  #.copy().reset_index(drop=True)\n",
    "\n",
    "distance = no_outliers(studenq[\"Travel Distance\"])[0]\n",
    "x_bar = distance.mean()\n",
    "print('x_bar : ' + str(x_bar))\n",
    "s = distance.std()\n",
    "print('s : ' + str(s))\n",
    "n = len(distance)\n",
    "print('n : ' + str(n))\n",
    "t.interval(confidence=0.99, df=n-1, loc=x_bar, scale=s/math.sqrt(n))"
   ]
  },
  {
   "cell_type": "markdown",
   "id": "eff26ba5",
   "metadata": {
    "pycharm": {
     "name": "#%% md\n"
    }
   },
   "source": [
    "2.b. Someone claims that the distance to KdG is 7.5 km on average. From what leven of significance (&alpha;) can you not refute the claim?"
   ]
  },
  {
   "cell_type": "code",
   "execution_count": null,
   "id": "c395c471",
   "metadata": {
    "pycharm": {
     "name": "#%%\n"
    }
   },
   "outputs": [],
   "source": [
    "mu=7.5\n",
    "x_bar = distance.mean()\n",
    "print('x_bar : ' + str(x_bar))\n",
    "ttest_1samp(distance,mu)"
   ]
  },
  {
   "cell_type": "markdown",
   "id": "b44aa432d694eda8",
   "metadata": {
    "pycharm": {
     "name": "#%% md\n"
    }
   },
   "source": [
    "## Question 3"
   ]
  },
  {
   "cell_type": "markdown",
   "source": [
    "3 The table below shows the distribution of the world population according to different blood groups. Can you refute this on the basis of the sample? Take &alpha; = 0.05.\n",
    "\n",
    "O+ : 37.37% A+ : 27.24% B+ 22.83% AB+ 6.22% O- 2.69% A- 2.09% B- 1.16% AB- 0.4%"
   ],
   "metadata": {
    "collapsed": false
   },
   "id": "951919ea"
  },
  {
   "cell_type": "code",
   "execution_count": null,
   "id": "ac2873470beafed0",
   "metadata": {
    "pycharm": {
     "name": "#%%\n"
    }
   },
   "outputs": [],
   "source": [
    "pd.crosstab(index=studenq['Blood Type'], columns=studenq['Resus Factor'])"
   ]
  },
  {
   "cell_type": "code",
   "execution_count": null,
   "outputs": [],
   "source": [
    "observed_values = [6, 0, 3, 2, 1, 0, 0, 0]\n",
    "expected_values = [0.3737*12, 0.2724*12, 0.2283*12, 0.0622*12, 0.0269*12, 0.0209*12,0.0116*12, 0.004*12]\n",
    "chisquare(observed_values, expected_values)"
   ],
   "metadata": {
    "collapsed": false
   },
   "id": "1d274305"
  },
  {
   "cell_type": "markdown",
   "id": "4467494e",
   "metadata": {
    "pycharm": {
     "name": "#%% md\n"
    }
   },
   "source": [
    "# GRAPHS STATISTICAL TESTING"
   ]
  },
  {
   "cell_type": "code",
   "execution_count": null,
   "id": "67f1fbcb",
   "metadata": {
    "pycharm": {
     "name": "#%%\n"
    }
   },
   "outputs": [],
   "source": [
    "plt.figure()\n",
    "x = np.arange(40-4*20/math.sqrt(30) , 40+4*20/math.sqrt(30) , 0.001)\n",
    "p = stats.norm.pdf(x, 40.0, 20/math.sqrt(30))\n",
    "plt.plot(x, p)\n",
    "plt.xlabel('usage in watts')\n",
    "plt.ylabel('probability distribution')\n",
    "plt.title ('Laptop usage')\n",
    "plt.show()"
   ]
  },
  {
   "cell_type": "code",
   "execution_count": null,
   "outputs": [],
   "source": [
    "plt.figure()\n",
    "x = np.arange(40-4*20/math.sqrt(30) , 40+4*20/math.sqrt(30) , 0.001)\n",
    "p = stats.norm.pdf(x, 40.0, 20/math.sqrt(30))\n",
    "plt.plot(x, p)\n",
    "plt.fill_between(x,p, 0, where = ((x<=47.32) & (x>=32.68)))\n",
    "plt.xlabel('usage in watts')\n",
    "plt.ylabel('probability distribution')\n",
    "plt.title ('95.5% confidence interval')\n",
    "plt.show()"
   ],
   "metadata": {
    "collapsed": false
   },
   "id": "7cf8c0f983103977"
  },
  {
   "cell_type": "code",
   "execution_count": null,
   "outputs": [],
   "source": [
    "plt.figure()\n",
    "x = np.arange(40-4*20/math.sqrt(30) , 40+4*20/math.sqrt(30) , 0.001)\n",
    "p = t.pdf(x, df=30-1, loc=40, scale=20/math.sqrt(30))\n",
    "plt.plot(x, p)\n",
    "plt.fill_between(x,p, where = ((x<=46.2) & (x>=33.8)))\n",
    "plt.xlabel('usage in watts')\n",
    "plt.ylabel('probability distribution')\n",
    "plt.title ('90% confidence interval')\n",
    "plt.show()"
   ],
   "metadata": {
    "collapsed": false
   },
   "id": "befc080b9b929f8d"
  },
  {
   "cell_type": "code",
   "execution_count": null,
   "outputs": [],
   "source": [
    "plt.figure()\n",
    "n=50\n",
    "s=10\n",
    "mu = 40\n",
    "alpha = 0.01\n",
    "x = np.arange(mu-4*s/math.sqrt(n) , mu+4*s/math.sqrt(n) , 0.001)\n",
    "p = stats.norm.pdf(x, mu, s/math.sqrt(n))\n",
    "plt.plot(x, p)\n",
    "low= mu - t.ppf(1-alpha/2,n-1) * s/math.sqrt(n)\n",
    "high= mu + t.ppf(1-alpha/2,n-1) * s/math.sqrt(n)\n",
    "plt.fill_between(x,p, where = ((x<=high) & (x>=low)))\n",
    "plt.show()"
   ],
   "metadata": {
    "collapsed": false
   },
   "id": "9618dcf5"
  }
 ],
 "metadata": {
  "kernelspec": {
   "name": "python3",
   "language": "python",
   "display_name": "Python 3 (ipykernel)"
  }
 },
 "nbformat": 4,
 "nbformat_minor": 5
}
