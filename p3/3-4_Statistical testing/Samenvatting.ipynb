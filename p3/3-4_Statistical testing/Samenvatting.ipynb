{
 "cells": [
  {
   "cell_type": "markdown",
   "source": [
    "# Samenvatting"
   ],
   "metadata": {
    "collapsed": false
   },
   "id": "7d2773f40c6fa27"
  },
  {
   "cell_type": "markdown",
   "source": [
    "## Association Rules indentificeren\n",
    "Het identificeren van associatieregels gaat in **drie stappen**:\n",
    "1. De gegevens in het juiste formaat zetten met datamanagementtechnieken.\n",
    "2. De **frequenties van de combinaties** berekenen die voorkomen in de transacties.\n",
    "3. Met de frequenties van deze combinaties kun je daarna **associatieregels** bepalen.\n",
    "\n",
    "*Association Rules zullen worden beschreven als **AR***"
   ],
   "metadata": {
    "collapsed": false
   },
   "id": "6984955036c9aa86"
  },
  {
   "cell_type": "markdown",
   "source": [
    "## Stap 1: Datamanagement\n",
    "Stel:\n",
    "- Je krijgt van de verkoopafdeling een bestand met verkopen die er als volgt uit kan zien:\n",
    "\n",
    "| KassaTicket | Product   |\n",
    "|-------------|-----------|\n",
    "| 1000123     | Printer   |\n",
    "| 1000123     | Cartridge |\n",
    "| 1000123     | Balpen    |\n",
    "| 1000124     | Papier    |\n",
    "| 1000124     | Cartridge |\n",
    "| 1000125     | Papier    |\n",
    "| 1000125     | Cartridge |\n",
    "| 1000126     | Printer   |\n",
    "| 1000126     | Cartridge |\n",
    "| 1000127     | Printer   |\n",
    "| 1000127     | Cartridge |\n",
    "| 1000128     | Balpen    |\n",
    "| 1000129     | Papier    |\n",
    "| 1000129     | Cartridge |\n",
    "| 1000129     | Balpen    |\n",
    "| 1000130     | Cartridge |\n",
    "| 1000131     | Printer   |\n",
    "| 1000131     | Balpen    |\n",
    "| 1000132     | Papier    |"
   ],
   "metadata": {
    "collapsed": false
   },
   "id": "c674f69f33c4fd49"
  },
  {
   "cell_type": "code",
   "outputs": [
    {
     "data": {
      "text/plain": "               Product\nKassaTicket           \n1000123        Printer\n1000123      Cartridge\n1000123         Balpen\n1000124         Papier\n1000124      Cartridge\n1000125         Papier\n1000125      Cartridge\n1000126        Printer\n1000126      Cartridge\n1000127        Printer\n1000127      Cartridge\n1000128         Balpen\n1000129         Papier\n1000129      Cartridge\n1000129         Balpen\n1000130      Cartridge\n1000131        Printer\n1000131         Balpen\n1000132         Papier",
      "text/html": "<div>\n<style scoped>\n    .dataframe tbody tr th:only-of-type {\n        vertical-align: middle;\n    }\n\n    .dataframe tbody tr th {\n        vertical-align: top;\n    }\n\n    .dataframe thead th {\n        text-align: right;\n    }\n</style>\n<table border=\"1\" class=\"dataframe\">\n  <thead>\n    <tr style=\"text-align: right;\">\n      <th></th>\n      <th>Product</th>\n    </tr>\n    <tr>\n      <th>KassaTicket</th>\n      <th></th>\n    </tr>\n  </thead>\n  <tbody>\n    <tr>\n      <th>1000123</th>\n      <td>Printer</td>\n    </tr>\n    <tr>\n      <th>1000123</th>\n      <td>Cartridge</td>\n    </tr>\n    <tr>\n      <th>1000123</th>\n      <td>Balpen</td>\n    </tr>\n    <tr>\n      <th>1000124</th>\n      <td>Papier</td>\n    </tr>\n    <tr>\n      <th>1000124</th>\n      <td>Cartridge</td>\n    </tr>\n    <tr>\n      <th>1000125</th>\n      <td>Papier</td>\n    </tr>\n    <tr>\n      <th>1000125</th>\n      <td>Cartridge</td>\n    </tr>\n    <tr>\n      <th>1000126</th>\n      <td>Printer</td>\n    </tr>\n    <tr>\n      <th>1000126</th>\n      <td>Cartridge</td>\n    </tr>\n    <tr>\n      <th>1000127</th>\n      <td>Printer</td>\n    </tr>\n    <tr>\n      <th>1000127</th>\n      <td>Cartridge</td>\n    </tr>\n    <tr>\n      <th>1000128</th>\n      <td>Balpen</td>\n    </tr>\n    <tr>\n      <th>1000129</th>\n      <td>Papier</td>\n    </tr>\n    <tr>\n      <th>1000129</th>\n      <td>Cartridge</td>\n    </tr>\n    <tr>\n      <th>1000129</th>\n      <td>Balpen</td>\n    </tr>\n    <tr>\n      <th>1000130</th>\n      <td>Cartridge</td>\n    </tr>\n    <tr>\n      <th>1000131</th>\n      <td>Printer</td>\n    </tr>\n    <tr>\n      <th>1000131</th>\n      <td>Balpen</td>\n    </tr>\n    <tr>\n      <th>1000132</th>\n      <td>Papier</td>\n    </tr>\n  </tbody>\n</table>\n</div>"
     },
     "execution_count": 6,
     "metadata": {},
     "output_type": "execute_result"
    }
   ],
   "source": [
    "import pandas as pd\n",
    "\n",
    "verkopen = pd.DataFrame({\n",
    "    'KassaTicket': [1000123, 1000123, 1000123, 1000124, 1000124, 1000125, 1000125, 1000126, 1000126, 1000127, 1000127, 1000128, 1000129, 1000129, 1000129, 1000130, 1000131, 1000131, 1000132],\n",
    "    'Product': ['Printer', 'Cartridge', 'Balpen', 'Papier', 'Cartridge', 'Papier', 'Cartridge', 'Printer', 'Cartridge', 'Printer', 'Cartridge', 'Balpen', 'Papier', 'Cartridge', 'Balpen', 'Cartridge', 'Printer', 'Balpen', 'Papier']\n",
    "})\n",
    "verkopen.set_index('KassaTicket', inplace=True)\n",
    "\n",
    "verkopen"
   ],
   "metadata": {
    "collapsed": false,
    "ExecuteTime": {
     "end_time": "2024-03-18T09:02:16.763685Z",
     "start_time": "2024-03-18T09:02:16.756301Z"
    }
   },
   "id": "cd95bf2d0c18550e",
   "execution_count": 6
  },
  {
   "cell_type": "markdown",
   "source": [
    "De aankoop van één product komt in dit bestand overeen met één rij in het bestand: als iemand gelijktijdig meerdere dingen koopt krijg je meerdere lijnen.\n",
    "Het algoritme dat we gaan gebruiken heeft een ander dataformaat nodig: deze heeft één rij voor alle aankopen van één klant nodig.\n",
    "⇒"
   ],
   "metadata": {
    "collapsed": false
   },
   "id": "b7c1d9d52d09fb69"
  },
  {
   "cell_type": "code",
   "outputs": [
    {
     "data": {
      "text/plain": "             Balpen  Cartridge  Papier  Printer\nKassaTicket                                    \n1000123           1          1       0        1\n1000124           0          1       1        0\n1000125           0          1       1        0\n1000126           0          1       0        1\n1000127           0          1       0        1\n1000128           1          0       0        0\n1000129           1          1       1        0\n1000130           0          1       0        0\n1000131           1          0       0        1\n1000132           0          0       1        0",
      "text/html": "<div>\n<style scoped>\n    .dataframe tbody tr th:only-of-type {\n        vertical-align: middle;\n    }\n\n    .dataframe tbody tr th {\n        vertical-align: top;\n    }\n\n    .dataframe thead th {\n        text-align: right;\n    }\n</style>\n<table border=\"1\" class=\"dataframe\">\n  <thead>\n    <tr style=\"text-align: right;\">\n      <th></th>\n      <th>Balpen</th>\n      <th>Cartridge</th>\n      <th>Papier</th>\n      <th>Printer</th>\n    </tr>\n    <tr>\n      <th>KassaTicket</th>\n      <th></th>\n      <th></th>\n      <th></th>\n      <th></th>\n    </tr>\n  </thead>\n  <tbody>\n    <tr>\n      <th>1000123</th>\n      <td>1</td>\n      <td>1</td>\n      <td>0</td>\n      <td>1</td>\n    </tr>\n    <tr>\n      <th>1000124</th>\n      <td>0</td>\n      <td>1</td>\n      <td>1</td>\n      <td>0</td>\n    </tr>\n    <tr>\n      <th>1000125</th>\n      <td>0</td>\n      <td>1</td>\n      <td>1</td>\n      <td>0</td>\n    </tr>\n    <tr>\n      <th>1000126</th>\n      <td>0</td>\n      <td>1</td>\n      <td>0</td>\n      <td>1</td>\n    </tr>\n    <tr>\n      <th>1000127</th>\n      <td>0</td>\n      <td>1</td>\n      <td>0</td>\n      <td>1</td>\n    </tr>\n    <tr>\n      <th>1000128</th>\n      <td>1</td>\n      <td>0</td>\n      <td>0</td>\n      <td>0</td>\n    </tr>\n    <tr>\n      <th>1000129</th>\n      <td>1</td>\n      <td>1</td>\n      <td>1</td>\n      <td>0</td>\n    </tr>\n    <tr>\n      <th>1000130</th>\n      <td>0</td>\n      <td>1</td>\n      <td>0</td>\n      <td>0</td>\n    </tr>\n    <tr>\n      <th>1000131</th>\n      <td>1</td>\n      <td>0</td>\n      <td>0</td>\n      <td>1</td>\n    </tr>\n    <tr>\n      <th>1000132</th>\n      <td>0</td>\n      <td>0</td>\n      <td>1</td>\n      <td>0</td>\n    </tr>\n  </tbody>\n</table>\n</div>"
     },
     "execution_count": 10,
     "metadata": {},
     "output_type": "execute_result"
    }
   ],
   "source": [
    "transacties = pd.get_dummies(verkopen, columns=['Product'], prefix='',prefix_sep='').groupby(level='KassaTicket').sum()\n",
    "\n",
    "transacties"
   ],
   "metadata": {
    "collapsed": false,
    "ExecuteTime": {
     "end_time": "2024-03-18T09:03:47.066203Z",
     "start_time": "2024-03-18T09:03:47.058017Z"
    }
   },
   "id": "6048ca41526daa44",
   "execution_count": 10
  },
  {
   "cell_type": "markdown",
   "source": [
    "## Stap 2: Frequente patronen identificeren\n",
    "Met een correcte datastructuur kunnen we op zoek naar de itemsets die vaak samen voorkomen.\n",
    "Eerst moeten we de relatieve frequenties van alle itemcombinaties berekenen.\n",
    "\n",
    "In **AR Mining** wordt de relatieve frequentie de **support** genoemd."
   ],
   "metadata": {
    "collapsed": false
   },
   "id": "7449671ab0e6e3a7"
  },
  {
   "cell_type": "markdown",
   "source": [
    "### Support\n",
    "\n",
    "We kunnen de support van 1 item berekenen maar ook van itemsets met meerdere items."
   ],
   "metadata": {
    "collapsed": false
   },
   "id": "c7f24867ecc1faa7"
  },
  {
   "cell_type": "markdown",
   "source": [
    "#### Definitie\n",
    "De support geeft aan hoe vaak een itemset voorkomt in de volledige dataset van **$N\\ $** transacties.\n",
    "De support voor item **$A\\ $** kan als volgt worden berekend:\n",
    "$$support(A) = \\frac{\\#A}{N}$$"
   ],
   "metadata": {
    "collapsed": false
   },
   "id": "ecb5a37c2cd24a82"
  },
  {
   "cell_type": "markdown",
   "source": [
    "#### Met de hand berekenen\n",
    "Wanneer je de support van een itemset met de hand wilt berekenen begin je met een lege 'winkelmand' en voeg je telkens één item toe.\n",
    "Je voegt dan laag per laag een item toe aan de vorige itemset. Zoals hieronder is te zien.\n",
    "<br>\n",
    "<img src=\"rescources/img/Schermafbeelding 2024-03-18 102310.png\">\n",
    "\n",
    "Bovenstaande figuur wordt een **lattice** genoemd. De lattice begint met een lege set ∅ en eindigt met de volledige set van alle items.\n",
    "\n",
    "Het aantal itemsets dat gevormd kan worden op basis van het aantal items in de winkel kan **astronomisch groot** worden. Het totaal aantal combinaties voor een winkel die $n$ producten verkoopt kan je berekenen met volgende Python code:"
   ],
   "metadata": {
    "collapsed": false
   },
   "id": "15d5dd8e45099df0"
  },
  {
   "cell_type": "code",
   "outputs": [
    {
     "name": "stdout",
     "output_type": "stream",
     "text": [
      "Totaal aantal combinaties voor 100 producten 1267650600228240941970748342272\n"
     ]
    }
   ],
   "source": [
    "from scipy.special import comb\n",
    "\n",
    "n = 100\n",
    "\n",
    "sets = sum([comb(n, k) for k in range(1, n+1)])\n",
    "\n",
    "print('Totaal aantal combinaties voor 100 producten {:.0f}'.format(sets))"
   ],
   "metadata": {
    "collapsed": false,
    "ExecuteTime": {
     "end_time": "2024-03-18T09:29:00.520963Z",
     "start_time": "2024-03-18T09:28:59.644045Z"
    }
   },
   "id": "822fa8bd77e98c74",
   "execution_count": 11
  },
  {
   "cell_type": "markdown",
   "source": [
    "We berekenen de support handmatig voor alle itemsets die we kunnen vormen met de producten uit de transacties.\n",
    "Dit doen we door te tellen hoe vaak een itemset voorkomt in de transacties en dit te delen door het aantal transacties.\n",
    "\n",
    "- De support van alle 1 item itemsets:\n",
    "    - Printer wordt 4 keer verkocht:\n",
    "        - $support(Printer) = \\frac{4}{10} = 0.4$\n",
    "    - Papier wordt 4 keer verkocht:\n",
    "        - $support(Papier) = \\frac{4}{10} = 0.4$\n",
    "    - Cartridge wordt 7 keer verkocht:\n",
    "        - $support(Cartridge) = \\frac{7}{10} = 0.7$\n",
    "    - Balpen wordt 4 keer verkocht:\n",
    "        - $support(Balpen) = \\frac{4}{10} = 0.4$\n",
    "- De support van alle 2 item itemsets:\n",
    "    - $support(Printer ∧ Papier) = \\frac{0}{10} = 0$"
   ],
   "metadata": {
    "collapsed": false
   },
   "id": "3926db43d8480d23"
  }
 ],
 "metadata": {
  "kernelspec": {
   "display_name": "Python 3",
   "language": "python",
   "name": "python3"
  },
  "language_info": {
   "codemirror_mode": {
    "name": "ipython",
    "version": 2
   },
   "file_extension": ".py",
   "mimetype": "text/x-python",
   "name": "python",
   "nbconvert_exporter": "python",
   "pygments_lexer": "ipython2",
   "version": "2.7.6"
  }
 },
 "nbformat": 4,
 "nbformat_minor": 5
}
