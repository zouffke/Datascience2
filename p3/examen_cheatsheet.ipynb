{
 "cells": [
  {
   "cell_type": "markdown",
   "source": [
    "imports"
   ],
   "metadata": {
    "collapsed": false
   }
  },
  {
   "cell_type": "code",
   "execution_count": null,
   "metadata": {
    "collapsed": true
   },
   "outputs": [],
   "source": [
    "import pandas as pd\n",
    "from IPython.core.interactiveshell import InteractiveShell\n",
    "InteractiveShell.ast_node_interactivity = \"all\"\n",
    "import math\n",
    "from scipy.stats import binom\n",
    "from scipy.stats import norm\n",
    "from scipy.stats import poisson\n",
    "from scipy.stats import t\n",
    "from scipy.stats import ttest_1samp\n",
    "from scipy.stats import chi2\n",
    "from mlxtend.frequent_patterns import fpgrowth\n",
    "from mlxtend.frequent_patterns import association_rules\n",
    "from mlxtend.preprocessing import TransactionEncoder"
   ]
  },
  {
   "cell_type": "markdown",
   "source": [
    "kansen"
   ],
   "metadata": {
    "collapsed": false
   }
  },
  {
   "cell_type": "markdown",
   "source": [
    "laplace"
   ],
   "metadata": {
    "collapsed": false
   }
  },
  {
   "cell_type": "code",
   "execution_count": 1,
   "outputs": [
    {
     "ename": "SyntaxError",
     "evalue": "invalid syntax (425937038.py, line 1)",
     "output_type": "error",
     "traceback": [
      "\u001B[1;36m  Cell \u001B[1;32mIn[1], line 1\u001B[1;36m\u001B[0m\n\u001B[1;33m    G =     #gewenst\u001B[0m\n\u001B[1;37m            ^\u001B[0m\n\u001B[1;31mSyntaxError\u001B[0m\u001B[1;31m:\u001B[0m invalid syntax\n"
     ]
    }
   ],
   "source": [
    "G =     #gewenst\n",
    "U =     #alle\n",
    "P_G = G/U   #kans op G\n",
    "P_G"
   ],
   "metadata": {
    "collapsed": false,
    "ExecuteTime": {
     "end_time": "2024-02-24T12:56:55.348732Z",
     "start_time": "2024-02-24T12:56:55.340949600Z"
    }
   }
  },
  {
   "cell_type": "markdown",
   "source": [
    "tegengestelde kans"
   ],
   "metadata": {
    "collapsed": false
   }
  },
  {
   "cell_type": "code",
   "execution_count": null,
   "outputs": [],
   "source": [
    "P_TEGEN_G = 1 - P_G"
   ],
   "metadata": {
    "collapsed": false
   }
  },
  {
   "cell_type": "markdown",
   "source": [
    "deelgebeurtenis (OF)"
   ],
   "metadata": {
    "collapsed": false
   }
  },
  {
   "cell_type": "code",
   "execution_count": null,
   "outputs": [],
   "source": [
    "#uitsluitdende deelgebeurtenis\n",
    "P_UDG = P_G1 + P_G2\n",
    "#niet uitsluitende deelgebeurtenis\n",
    "P_NUDG = (P_G1 + P_G2) - P_OVERLAP"
   ],
   "metadata": {
    "collapsed": false
   }
  },
  {
   "cell_type": "markdown",
   "source": [
    "productregel (EN)"
   ],
   "metadata": {
    "collapsed": false
   }
  },
  {
   "cell_type": "code",
   "execution_count": null,
   "outputs": [],
   "source": [
    "#onafhankelijk\n",
    "P_OG = P_G1 * P_G2\n",
    "#afhankelijk\n",
    "P_AG = P_G2_GEGEVEN_G1 * P_G1"
   ],
   "metadata": {
    "collapsed": false
   }
  },
  {
   "cell_type": "markdown",
   "source": [
    "wet van totale kans"
   ],
   "metadata": {
    "collapsed": false
   }
  },
  {
   "cell_type": "code",
   "execution_count": null,
   "outputs": [],
   "source": [
    "P_B = P_B_GEGEVEN_G1 * P_G1 + P_B_GEGEVEN_G2 * P_G2"
   ],
   "metadata": {
    "collapsed": false
   }
  },
  {
   "cell_type": "markdown",
   "source": [
    "BAYES"
   ],
   "metadata": {
    "collapsed": false
   }
  },
  {
   "cell_type": "code",
   "execution_count": null,
   "outputs": [],
   "source": [
    "P_GK_GEGEVEN_B = (P_B_GEGEVEN_GK * P_GK)/ P_B"
   ],
   "metadata": {
    "collapsed": false
   }
  },
  {
   "cell_type": "markdown",
   "source": [
    "kansverdelingen"
   ],
   "metadata": {
    "collapsed": false
   }
  },
  {
   "cell_type": "code",
   "execution_count": null,
   "outputs": [],
   "source": [
    "n =         #populatie\n",
    "p =         #kans\n",
    "mu =        #verwachte waarde\n",
    "sigma =     #standaard afwijking"
   ],
   "metadata": {
    "collapsed": false
   }
  },
  {
   "cell_type": "markdown",
   "source": [
    "binomiaal\n",
    "    bij succes of falen"
   ],
   "metadata": {
    "collapsed": false
   }
  },
  {
   "cell_type": "code",
   "execution_count": null,
   "outputs": [],
   "source": [
    "n =         #populatie\n",
    "p =         #kans\n",
    "mu =        #verwachte waarde\n",
    "sigma =     #standaard afwijking\n",
    "x =         #gewenste hoeveelheid van succesvole uitkomst\n",
    "binom.pmf(x,n,p)        #kans op exact x keer een succesvolle uitkomst\n",
    "binom.cdf(x,n,p)        #kans op 0-x keer een succesvolle uitkomst\n",
    "binom.mean(n,p)         #mu = n * p\n",
    "binom.std(n,p)          #sigma = math.sqrt(n*p*(1-p))\n",
    "#Verwacht aantal juiste antwoorden\n",
    "MU = n*p\n",
    "#Verwachtte standaardafwijking\n",
    "sigma = math.sqrt(n*p*(1-p))"
   ],
   "metadata": {
    "collapsed": false
   }
  },
  {
   "cell_type": "markdown",
   "source": [
    "normaalverdeling (verwachtingswaarde en standaardafwijking gekend)\n",
    "mu-sigma en mu+sigma = 68,3%\n",
    "mu-2sigma en mu+2sigma = 95,5%\n",
    "mu-3sigma en mu+3sigma = 99,7%"
   ],
   "metadata": {
    "collapsed": false
   }
  },
  {
   "cell_type": "code",
   "execution_count": null,
   "outputs": [],
   "source": [
    "mu =        #verwachte waarde\n",
    "sigma =     #standaard afwijking\n",
    "x =         #gewilde waarde\n",
    "norm.cdf(x,mu,sigma)  #kans van -oneindig to gewenste waarde\n",
    "norm.cdf(x2,mu,sigma)-norm.cdf(x1,mu,sigma) #kans tussen x1 en x2"
   ],
   "metadata": {
    "collapsed": false
   }
  },
  {
   "cell_type": "markdown",
   "source": [
    "standaard normaalverdeling\n",
    "Z scores\n",
    "mu = 0\n",
    "sigma = 1"
   ],
   "metadata": {
    "collapsed": false
   }
  },
  {
   "cell_type": "code",
   "execution_count": null,
   "outputs": [],
   "source": [
    "mu =        #verwachte waarde\n",
    "sigma =     #standaard afwijking\n",
    "x =         #gewilde waarde\n",
    "Z = (x-mu)/sigma"
   ],
   "metadata": {
    "collapsed": false
   }
  },
  {
   "cell_type": "markdown",
   "source": [
    "poisson verdeling\n",
    "ivm tijd, afstand, gebied, volume, ..."
   ],
   "metadata": {
    "collapsed": false
   }
  },
  {
   "cell_type": "code",
   "execution_count": null,
   "outputs": [],
   "source": [
    "x =         #gewenste uitkomst\n",
    "y =         #gegeven aantal binnen tijdsinterval bv\n",
    "poisson.pmf(x,y)        #exact x keer\n",
    "1-poisson.cdf(x-1,y)    #minstens x keer"
   ],
   "metadata": {
    "collapsed": false
   }
  },
  {
   "cell_type": "markdown",
   "source": [
    "toetsen\n",
    "steekproef"
   ],
   "metadata": {
    "collapsed": false
   }
  },
  {
   "cell_type": "code",
   "execution_count": null,
   "outputs": [],
   "source": [
    "mean =      #gemiddelde waarde\n",
    "s =         #standaardafwijking van steekproef"
   ],
   "metadata": {
    "collapsed": false
   }
  },
  {
   "cell_type": "markdown",
   "source": [
    "betrouwbaarheids intervallen\n",
    "factor f geeft Z score"
   ],
   "metadata": {
    "collapsed": false
   }
  },
  {
   "cell_type": "code",
   "execution_count": null,
   "outputs": [],
   "source": [
    "norm.ppf((1-alpha)/2)       #alhpa = 1-p\n",
    "norm.ppf((1+p)/2)           #p zekerheids %\n",
    "\n",
    "\n",
    "\n",
    "#factor is hier Z-waarde van X\n",
    "factor = abs((mean -mu)/(sigma/math.sqrt(n)))\n",
    "#kans om een extremere waarde uit te komen\n",
    "from scipy.stats import t\n",
    "p_waarde = (1-t.cdf(factor,df=n-1))*2 #"
   ],
   "metadata": {
    "collapsed": false
   }
  },
  {
   "cell_type": "markdown",
   "source": [
    "student verdeling\n",
    "bij n<30"
   ],
   "metadata": {
    "collapsed": false
   }
  },
  {
   "cell_type": "code",
   "execution_count": null,
   "outputs": [],
   "source": [
    "t.cdf(x,n-1,mu,sigma)       #s als benadering voor sigma\n",
    "t.ppf(x,n-1,mu,sigma)"
   ],
   "metadata": {
    "collapsed": false
   }
  },
  {
   "cell_type": "markdown",
   "source": [
    "T toets\n",
    "aanvaardings interval"
   ],
   "metadata": {
    "collapsed": false
   }
  },
  {
   "cell_type": "code",
   "execution_count": null,
   "outputs": [],
   "source": [
    "factor = t.ppf(1-(alpha/2), df=n-1)\n",
    "ondergrens = mu0 - factor*s/math.sqrt(n)\n",
    "bovengrens = mu0 + factor*s/math.sqrt(n)\n",
    "\n",
    "ttest_1samp(dataset, mu)"
   ],
   "metadata": {
    "collapsed": false
   }
  },
  {
   "cell_type": "markdown",
   "source": [
    "chi2 toets"
   ],
   "metadata": {
    "collapsed": false
   }
  },
  {
   "cell_type": "code",
   "execution_count": null,
   "outputs": [],
   "source": [
    "m =         #aantal getelde waarden\n",
    "p =         #aanvaardings interval\n",
    "f = pd.DataFrame({'fo':gamehands,'fep':[1/3,1/3,1/3]})\n",
    "chikwadraat = (f.fo - f.fep*(f.fo.sum())) ** 2 / (f.fep*(f.fo.sum()))\n",
    "chikwadraat = chikwadraat.sum()\n",
    "\n",
    "m = f.fo.count()\n",
    "1-chi2.cdf(chikwadraat, df=m - 1)\n",
    "\n",
    "chi2.ppf(0.95,df=m-1)"
   ],
   "metadata": {
    "collapsed": false
   }
  },
  {
   "cell_type": "markdown",
   "source": [
    "association rules\n",
    "inlezen"
   ],
   "metadata": {
    "collapsed": false
   }
  },
  {
   "cell_type": "code",
   "execution_count": null,
   "outputs": [],
   "source": [
    "groceries = pd.read_csv('../datasets/groceries.csv',sep=',', index_col='transaction')\n",
    "transactions = groceries['items'].apply(lambda row: row[1:-\n",
    "1].split(';')).to_numpy()\n",
    "\n",
    "te = TransactionEncoder()\n",
    "\n",
    "transactionDummies = te.fit(transactions).transform(transactions)\n",
    "trans = pd.DataFrame(transactionDummies, columns=te.columns_)"
   ],
   "metadata": {
    "collapsed": false
   }
  },
  {
   "cell_type": "code",
   "execution_count": null,
   "outputs": [],
   "source": [
    "saleslineitems = pd.read_csv('../datasets/transactions.csv',sep=';',index_col=0)\n",
    "saleslineitems\n",
    "\n",
    "transactionTable = pd.get_dummies(saleslineitems,columns=['Product'],prefix='',prefix_sep='',dtype=bool).groupby(level='TransactionID').max()"
   ],
   "metadata": {
    "collapsed": false
   }
  },
  {
   "cell_type": "markdown",
   "source": [
    "data bewerken v association rules"
   ],
   "metadata": {
    "collapsed": false
   }
  },
  {
   "cell_type": "code",
   "execution_count": null,
   "outputs": [],
   "source": [
    "frequent_itemsets = fpgrowth(trans, min_support=0.05,use_colnames=True)\n",
    "frequent_itemsets\n",
    "association_rules(frequent_itemsets,metric=\"confidence\",min_threshold=0.1)"
   ],
   "metadata": {
    "collapsed": false
   }
  },
  {
   "cell_type": "markdown",
   "source": [],
   "metadata": {
    "collapsed": false
   }
  },
  {
   "cell_type": "markdown",
   "source": [],
   "metadata": {
    "collapsed": false
   }
  }
 ],
 "metadata": {
  "kernelspec": {
   "display_name": "Python 3",
   "language": "python",
   "name": "python3"
  },
  "language_info": {
   "codemirror_mode": {
    "name": "ipython",
    "version": 2
   },
   "file_extension": ".py",
   "mimetype": "text/x-python",
   "name": "python",
   "nbconvert_exporter": "python",
   "pygments_lexer": "ipython2",
   "version": "2.7.6"
  }
 },
 "nbformat": 4,
 "nbformat_minor": 0
}
