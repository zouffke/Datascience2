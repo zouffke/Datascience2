{
 "cells": [
  {
   "cell_type": "markdown",
   "source": [
    "# Samenvatting"
   ],
   "metadata": {
    "collapsed": false
   },
   "id": "7d2773f40c6fa27"
  },
  {
   "cell_type": "markdown",
   "source": [
    "## Association Rules indentificeren\n",
    "Het identificeren van associatieregels gaat in **drie stappen**:\n",
    "1. De gegevens in het juiste formaat zetten met datamanagementtechnieken.\n",
    "2. De **frequenties van de combinaties** berekenen die voorkomen in de transacties.\n",
    "3. Met de frequenties van deze combinaties kun je daarna **associatieregels** bepalen.\n",
    "\n",
    "*Association Rules zullen worden beschreven als **AR***"
   ],
   "metadata": {
    "collapsed": false
   },
   "id": "6984955036c9aa86"
  },
  {
   "cell_type": "markdown",
   "source": [
    "## Stap 1: Datamanagement\n",
    "Stel:\n",
    "- Je krijgt van de verkoopafdeling een bestand met verkopen die er als volgt uit kan zien:\n",
    "\n",
    "| KassaTicket | Product   |\n",
    "|-------------|-----------|\n",
    "| 1000123     | Printer   |\n",
    "| 1000123     | Cartridge |\n",
    "| 1000123     | Balpen    |\n",
    "| 1000124     | Papier    |\n",
    "| 1000124     | Cartridge |\n",
    "| 1000125     | Papier    |\n",
    "| 1000125     | Cartridge |\n",
    "| 1000126     | Printer   |\n",
    "| 1000126     | Cartridge |\n",
    "| 1000127     | Printer   |\n",
    "| 1000127     | Cartridge |\n",
    "| 1000128     | Balpen    |\n",
    "| 1000129     | Papier    |\n",
    "| 1000129     | Cartridge |\n",
    "| 1000129     | Balpen    |\n",
    "| 1000130     | Cartridge |\n",
    "| 1000131     | Printer   |\n",
    "| 1000131     | Balpen    |\n",
    "| 1000132     | Papier    |"
   ],
   "metadata": {
    "collapsed": false
   },
   "id": "c674f69f33c4fd49"
  },
  {
   "cell_type": "code",
   "outputs": [
    {
     "data": {
      "text/plain": "               Product\nKassaTicket           \n1000123        Printer\n1000123      Cartridge\n1000123         Balpen\n1000124         Papier\n1000124      Cartridge\n1000125         Papier\n1000125      Cartridge\n1000126        Printer\n1000126      Cartridge\n1000127        Printer\n1000127      Cartridge\n1000128         Balpen\n1000129         Papier\n1000129      Cartridge\n1000129         Balpen\n1000130      Cartridge\n1000131        Printer\n1000131         Balpen\n1000132         Papier",
      "text/html": "<div>\n<style scoped>\n    .dataframe tbody tr th:only-of-type {\n        vertical-align: middle;\n    }\n\n    .dataframe tbody tr th {\n        vertical-align: top;\n    }\n\n    .dataframe thead th {\n        text-align: right;\n    }\n</style>\n<table border=\"1\" class=\"dataframe\">\n  <thead>\n    <tr style=\"text-align: right;\">\n      <th></th>\n      <th>Product</th>\n    </tr>\n    <tr>\n      <th>KassaTicket</th>\n      <th></th>\n    </tr>\n  </thead>\n  <tbody>\n    <tr>\n      <th>1000123</th>\n      <td>Printer</td>\n    </tr>\n    <tr>\n      <th>1000123</th>\n      <td>Cartridge</td>\n    </tr>\n    <tr>\n      <th>1000123</th>\n      <td>Balpen</td>\n    </tr>\n    <tr>\n      <th>1000124</th>\n      <td>Papier</td>\n    </tr>\n    <tr>\n      <th>1000124</th>\n      <td>Cartridge</td>\n    </tr>\n    <tr>\n      <th>1000125</th>\n      <td>Papier</td>\n    </tr>\n    <tr>\n      <th>1000125</th>\n      <td>Cartridge</td>\n    </tr>\n    <tr>\n      <th>1000126</th>\n      <td>Printer</td>\n    </tr>\n    <tr>\n      <th>1000126</th>\n      <td>Cartridge</td>\n    </tr>\n    <tr>\n      <th>1000127</th>\n      <td>Printer</td>\n    </tr>\n    <tr>\n      <th>1000127</th>\n      <td>Cartridge</td>\n    </tr>\n    <tr>\n      <th>1000128</th>\n      <td>Balpen</td>\n    </tr>\n    <tr>\n      <th>1000129</th>\n      <td>Papier</td>\n    </tr>\n    <tr>\n      <th>1000129</th>\n      <td>Cartridge</td>\n    </tr>\n    <tr>\n      <th>1000129</th>\n      <td>Balpen</td>\n    </tr>\n    <tr>\n      <th>1000130</th>\n      <td>Cartridge</td>\n    </tr>\n    <tr>\n      <th>1000131</th>\n      <td>Printer</td>\n    </tr>\n    <tr>\n      <th>1000131</th>\n      <td>Balpen</td>\n    </tr>\n    <tr>\n      <th>1000132</th>\n      <td>Papier</td>\n    </tr>\n  </tbody>\n</table>\n</div>"
     },
     "execution_count": 1,
     "metadata": {},
     "output_type": "execute_result"
    }
   ],
   "source": [
    "import pandas as pd\n",
    "\n",
    "verkopen = pd.DataFrame({\n",
    "    'KassaTicket': [1000123, 1000123, 1000123, 1000124, 1000124, 1000125, 1000125, 1000126, 1000126, 1000127, 1000127,\n",
    "                    1000128, 1000129, 1000129, 1000129, 1000130, 1000131, 1000131, 1000132],\n",
    "    'Product': ['Printer', 'Cartridge', 'Balpen', 'Papier', 'Cartridge', 'Papier', 'Cartridge', 'Printer', 'Cartridge',\n",
    "                'Printer', 'Cartridge', 'Balpen', 'Papier', 'Cartridge', 'Balpen', 'Cartridge', 'Printer', 'Balpen',\n",
    "                'Papier']\n",
    "})\n",
    "verkopen.set_index('KassaTicket', inplace=True)\n",
    "\n",
    "verkopen"
   ],
   "metadata": {
    "collapsed": false,
    "ExecuteTime": {
     "end_time": "2024-03-28T13:29:49.062556Z",
     "start_time": "2024-03-28T13:29:48.598120Z"
    }
   },
   "id": "cd95bf2d0c18550e",
   "execution_count": 1
  },
  {
   "cell_type": "markdown",
   "source": [
    "De aankoop van één product komt in dit bestand overeen met één rij in het bestand: als iemand gelijktijdig meerdere dingen koopt krijg je meerdere lijnen.\n",
    "Het algoritme dat we gaan gebruiken heeft een ander dataformaat nodig: deze heeft één rij voor alle aankopen van één klant nodig.\n",
    "⇒"
   ],
   "metadata": {
    "collapsed": false
   },
   "id": "b7c1d9d52d09fb69"
  },
  {
   "cell_type": "code",
   "outputs": [
    {
     "data": {
      "text/plain": "             Balpen  Cartridge  Papier  Printer\nKassaTicket                                    \n1000123           1          1       0        1\n1000124           0          1       1        0\n1000125           0          1       1        0\n1000126           0          1       0        1\n1000127           0          1       0        1\n1000128           1          0       0        0\n1000129           1          1       1        0\n1000130           0          1       0        0\n1000131           1          0       0        1\n1000132           0          0       1        0",
      "text/html": "<div>\n<style scoped>\n    .dataframe tbody tr th:only-of-type {\n        vertical-align: middle;\n    }\n\n    .dataframe tbody tr th {\n        vertical-align: top;\n    }\n\n    .dataframe thead th {\n        text-align: right;\n    }\n</style>\n<table border=\"1\" class=\"dataframe\">\n  <thead>\n    <tr style=\"text-align: right;\">\n      <th></th>\n      <th>Balpen</th>\n      <th>Cartridge</th>\n      <th>Papier</th>\n      <th>Printer</th>\n    </tr>\n    <tr>\n      <th>KassaTicket</th>\n      <th></th>\n      <th></th>\n      <th></th>\n      <th></th>\n    </tr>\n  </thead>\n  <tbody>\n    <tr>\n      <th>1000123</th>\n      <td>1</td>\n      <td>1</td>\n      <td>0</td>\n      <td>1</td>\n    </tr>\n    <tr>\n      <th>1000124</th>\n      <td>0</td>\n      <td>1</td>\n      <td>1</td>\n      <td>0</td>\n    </tr>\n    <tr>\n      <th>1000125</th>\n      <td>0</td>\n      <td>1</td>\n      <td>1</td>\n      <td>0</td>\n    </tr>\n    <tr>\n      <th>1000126</th>\n      <td>0</td>\n      <td>1</td>\n      <td>0</td>\n      <td>1</td>\n    </tr>\n    <tr>\n      <th>1000127</th>\n      <td>0</td>\n      <td>1</td>\n      <td>0</td>\n      <td>1</td>\n    </tr>\n    <tr>\n      <th>1000128</th>\n      <td>1</td>\n      <td>0</td>\n      <td>0</td>\n      <td>0</td>\n    </tr>\n    <tr>\n      <th>1000129</th>\n      <td>1</td>\n      <td>1</td>\n      <td>1</td>\n      <td>0</td>\n    </tr>\n    <tr>\n      <th>1000130</th>\n      <td>0</td>\n      <td>1</td>\n      <td>0</td>\n      <td>0</td>\n    </tr>\n    <tr>\n      <th>1000131</th>\n      <td>1</td>\n      <td>0</td>\n      <td>0</td>\n      <td>1</td>\n    </tr>\n    <tr>\n      <th>1000132</th>\n      <td>0</td>\n      <td>0</td>\n      <td>1</td>\n      <td>0</td>\n    </tr>\n  </tbody>\n</table>\n</div>"
     },
     "execution_count": 2,
     "metadata": {},
     "output_type": "execute_result"
    }
   ],
   "source": [
    "transacties = pd.get_dummies(verkopen, columns=['Product'], prefix='', prefix_sep='').groupby(level='KassaTicket').sum()\n",
    "\n",
    "transacties"
   ],
   "metadata": {
    "collapsed": false,
    "ExecuteTime": {
     "end_time": "2024-03-28T13:29:49.072502Z",
     "start_time": "2024-03-28T13:29:49.063601Z"
    }
   },
   "id": "6048ca41526daa44",
   "execution_count": 2
  },
  {
   "cell_type": "markdown",
   "source": [
    "## Stap 2: Frequente patronen identificeren\n",
    "Met een correcte datastructuur kunnen we op zoek naar de itemsets die vaak samen voorkomen.\n",
    "Eerst moeten we de relatieve frequenties van alle itemcombinaties berekenen.\n",
    "\n",
    "In **AR Mining** wordt de relatieve frequentie de **support** genoemd."
   ],
   "metadata": {
    "collapsed": false
   },
   "id": "7449671ab0e6e3a7"
  },
  {
   "cell_type": "markdown",
   "source": [
    "### Support\n",
    "\n",
    "We kunnen de support van 1 item berekenen maar ook van itemsets met meerdere items."
   ],
   "metadata": {
    "collapsed": false
   },
   "id": "c7f24867ecc1faa7"
  },
  {
   "cell_type": "markdown",
   "source": [
    "#### Definitie\n",
    "De support geeft aan hoe vaak een itemset voorkomt in de volledige dataset van **$N\\ $** transacties.\n",
    "De support voor item **$A\\ $** kan als volgt worden berekend:\n",
    "$$support(A) = \\frac{\\#A}{N}$$"
   ],
   "metadata": {
    "collapsed": false
   },
   "id": "ecb5a37c2cd24a82"
  },
  {
   "cell_type": "markdown",
   "source": [
    "#### Met de hand berekenen\n",
    "Wanneer je de support van een itemset met de hand wilt berekenen begin je met een lege 'winkelmand' en voeg je telkens één item toe.\n",
    "Je voegt dan laag per laag een item toe aan de vorige itemset. Zoals hieronder is te zien.\n",
    "<br>\n",
    "<img src=\"rescources/img/Schermafbeelding 2024-03-18 102310.png\">\n",
    "\n",
    "Bovenstaande figuur wordt een **lattice** genoemd. De lattice begint met een lege set ∅ en eindigt met de volledige set van alle items.\n",
    "\n",
    "Het aantal itemsets dat gevormd kan worden op basis van het aantal items in de winkel kan **astronomisch groot** worden. Het totaal aantal combinaties voor een winkel die $n$ producten verkoopt kan je berekenen met volgende Python code:"
   ],
   "metadata": {
    "collapsed": false
   },
   "id": "15d5dd8e45099df0"
  },
  {
   "cell_type": "code",
   "outputs": [
    {
     "name": "stdout",
     "output_type": "stream",
     "text": [
      "Totaal aantal combinaties voor 100 producten 1267650600228240941970748342272\n"
     ]
    }
   ],
   "source": [
    "from scipy.special import comb\n",
    "\n",
    "n = 100\n",
    "\n",
    "sets = sum([comb(n, k) for k in range(1, n + 1)])\n",
    "\n",
    "print('Totaal aantal combinaties voor 100 producten {:.0f}'.format(sets))"
   ],
   "metadata": {
    "collapsed": false,
    "ExecuteTime": {
     "end_time": "2024-03-28T13:29:49.209412Z",
     "start_time": "2024-03-28T13:29:49.072502Z"
    }
   },
   "id": "822fa8bd77e98c74",
   "execution_count": 3
  },
  {
   "cell_type": "markdown",
   "source": [
    "We berekenen de support handmatig voor alle itemsets die we kunnen vormen met de producten uit de transacties.\n",
    "Dit doen we door te tellen hoe vaak een itemset voorkomt in de transacties en dit te delen door het aantal transacties.\n",
    "\n",
    "- De support van alle 1 item itemsets:\n",
    "    - Printer wordt 4 keer verkocht:\n",
    "        - $support(Printer) = \\frac{4}{10} = 0.4$\n",
    "    - Papier wordt 4 keer verkocht:\n",
    "        - $support(Papier) = \\frac{4}{10} = 0.4$\n",
    "    - Cartridge wordt 7 keer verkocht:\n",
    "        - $support(Cartridge) = \\frac{7}{10} = 0.7$\n",
    "    - Balpen wordt 4 keer verkocht:\n",
    "        - $support(Balpen) = \\frac{4}{10} = 0.4$\n",
    "- De support van alle 2 item itemsets:\n",
    "    - $support(Printer ∧ Papier) = \\frac{0}{10} = 0$\n",
    "    - $support(Printer ∧ Cartridge) = \\frac{3}{10} = 0.3$\n",
    "    - $support(Printer ∧ Balpen) = \\frac{2}{10} = 0.2$\n",
    "    - $support(Papier ∧ Cartridge) = \\frac{3}{10} = 0.3$\n",
    "    - $support(Papier ∧ Balpen) = \\frac{1}{10} = 0.1$\n",
    "    - $support(Cartridge ∧ Balpen) = \\frac{2}{10} = 0.2$\n",
    "- De support van alle 3 item itemsets:\n",
    "    - $support(Printer ∧ Papier ∧ Cartridge) = \\frac{0}{10} = 0$\n",
    "    - $support(Printer ∧ Papier ∧ Balpen) = \\frac{0}{10} = 0$\n",
    "    - $support(Printer ∧ Cartridge ∧ Balpen) = \\frac{1}{10} = 0.1$\n",
    "    - $support(Papier ∧ Cartridge ∧ Balpen) = \\frac{1}{10} = 0.1$\n",
    "- De support van alle 4 item itemsets:\n",
    "    - $support(Printer ∧ Papier ∧ Cartridge ∧ Balpen) = \\frac{0}{10} = 0$\n",
    "\n",
    "\n",
    "| Itemset                               | Support |\n",
    "|---------------------------------------|---------|\n",
    "| Printer                               | 0.4     |\n",
    "| Papier                                | 0.4     |\n",
    "| Cartridge                             | 0.7     |\n",
    "| Balpen                                | 0.4     |\n",
    "| Printer ∧ Papier                      | 0       |\n",
    "| Printer ∧ Cartridge                   | 0.3     |\n",
    "| Printer ∧ Balpen                      | 0.2     |\n",
    "| Papier ∧ Cartridge                    | 0.3     |\n",
    "| Papier ∧ Balpen                       | 0.1     |\n",
    "| Cartridge ∧ Balpen                    | 0.2     |\n",
    "| Printer ∧ Papier ∧ Cartridge          | 0       |\n",
    "| Printer ∧ Papier ∧ Balpen             | 0       |\n",
    "| Printer ∧ Cartridge ∧ Balpen          | 0.1     |\n",
    "| Papier ∧ Cartridge ∧ Balpen           | 0.1     |\n",
    "| Printer ∧ Papier ∧ Cartridge ∧ Balpen | 0       |\n",
    "\n",
    "De support wordt steeds kleiner naarmate dat de itemset groter wordt, dit wordt **monotonciteit** genoemd."
   ],
   "metadata": {
    "collapsed": false
   },
   "id": "3926db43d8480d23"
  },
  {
   "cell_type": "markdown",
   "source": [
    "### AR Mining Algoritme"
   ],
   "metadata": {
    "collapsed": false
   },
   "id": "369091f037c90e43"
  },
  {
   "cell_type": "markdown",
   "source": [
    "#### Apriori Algoritme\n",
    "Het Aprirori algoritme maakt gebruik van de monotonciteiteigenschap van support om het aantal berekeningen te beperken door uit te gaan van een gekozen minimum support waaraan een combinatie moet voldoen.\n",
    "\n",
    "Stel:\n",
    "- We zijn enkel geïnteresseerd in itemsets met een support van minstens 0.2.\n",
    "\n",
    "1. Begin vanaf de 1 item itemsets en bereken de support:\n",
    "    - $support(Printer) = 0.4$\n",
    "    - $support(Papier)=0.4$\n",
    "    - $support(Cartridge)=0.7$\n",
    "    - $support(Balpen)=0.4$\n",
    "2. **Schrap** de combinaties met een support kleiner dan de minimum support.\n",
    "3. Herhaal voor n item itemsets\n",
    "    - $support(Printer ∧ Papier) = \\frac{0}{10} = 0$\n",
    "    - $support(Printer ∧ Cartridge) = \\frac{3}{10} = 0.3$\n",
    "    - $support(Printer ∧ Balpen) = \\frac{2}{10} = 0.2$\n",
    "    - $support(Papier ∧ Cartridge) = \\frac{3}{10} = 0.3$\n",
    "    - $support(Papier ∧ Balpen) = \\frac{1}{10} = 0.1$\n",
    "    - $support(Cartridge ∧ Balpen) = \\frac{2}{10} = 0.2$\n",
    "    - ⇒\n",
    "    - $support(Printer ∧ Cartridge) = \\frac{3}{10} = 0.3$\n",
    "    - $support(Printer ∧ Balpen) = \\frac{2}{10} = 0.2$\n",
    "    - $support(Papier ∧ Cartridge) = \\frac{3}{10} = 0.3$\n",
    "    - $support(Cartridge ∧ Balpen) = \\frac{2}{10} = 0.2$\n",
    "    - ⇒\n",
    "    - $support(Printer ∧ Cartridge ∧ Balpen) = 0.1$\n",
    "    - ⇒\n",
    "    - \n",
    "    \n",
    "In Python is dit mogelijk op deze manier:"
   ],
   "metadata": {
    "collapsed": false
   },
   "id": "7d6f4132fdae9d17"
  },
  {
   "cell_type": "code",
   "outputs": [
    {
     "name": "stderr",
     "output_type": "stream",
     "text": [
      "C:\\Users\\zouff\\.venvs\\DS2\\Lib\\site-packages\\mlxtend\\frequent_patterns\\fpcommon.py:110: DeprecationWarning: DataFrames with non-bool types result in worse computationalperformance and their support might be discontinued in the future.Please use a DataFrame with bool type\n",
      "  warnings.warn(\n"
     ]
    },
    {
     "data": {
      "text/plain": "   support              itemsets\n0      0.4              (Balpen)\n1      0.7           (Cartridge)\n2      0.4              (Papier)\n3      0.4             (Printer)\n4      0.2   (Balpen, Cartridge)\n5      0.2     (Balpen, Printer)\n6      0.3   (Papier, Cartridge)\n7      0.3  (Printer, Cartridge)",
      "text/html": "<div>\n<style scoped>\n    .dataframe tbody tr th:only-of-type {\n        vertical-align: middle;\n    }\n\n    .dataframe tbody tr th {\n        vertical-align: top;\n    }\n\n    .dataframe thead th {\n        text-align: right;\n    }\n</style>\n<table border=\"1\" class=\"dataframe\">\n  <thead>\n    <tr style=\"text-align: right;\">\n      <th></th>\n      <th>support</th>\n      <th>itemsets</th>\n    </tr>\n  </thead>\n  <tbody>\n    <tr>\n      <th>0</th>\n      <td>0.4</td>\n      <td>(Balpen)</td>\n    </tr>\n    <tr>\n      <th>1</th>\n      <td>0.7</td>\n      <td>(Cartridge)</td>\n    </tr>\n    <tr>\n      <th>2</th>\n      <td>0.4</td>\n      <td>(Papier)</td>\n    </tr>\n    <tr>\n      <th>3</th>\n      <td>0.4</td>\n      <td>(Printer)</td>\n    </tr>\n    <tr>\n      <th>4</th>\n      <td>0.2</td>\n      <td>(Balpen, Cartridge)</td>\n    </tr>\n    <tr>\n      <th>5</th>\n      <td>0.2</td>\n      <td>(Balpen, Printer)</td>\n    </tr>\n    <tr>\n      <th>6</th>\n      <td>0.3</td>\n      <td>(Papier, Cartridge)</td>\n    </tr>\n    <tr>\n      <th>7</th>\n      <td>0.3</td>\n      <td>(Printer, Cartridge)</td>\n    </tr>\n  </tbody>\n</table>\n</div>"
     },
     "execution_count": 4,
     "metadata": {},
     "output_type": "execute_result"
    }
   ],
   "source": [
    "from mlxtend.frequent_patterns import apriori\n",
    "\n",
    "itemsets = apriori(transacties, min_support=0.2, use_colnames=True)\n",
    "\n",
    "itemsets"
   ],
   "metadata": {
    "collapsed": false,
    "ExecuteTime": {
     "end_time": "2024-03-28T13:29:49.457377Z",
     "start_time": "2024-03-28T13:29:49.210516Z"
    }
   },
   "id": "9f3b0d8bf9831856",
   "execution_count": 4
  },
  {
   "cell_type": "markdown",
   "source": [
    "#### FP-Growth Algoritme\n",
    "Het probleem met het Apriori algoritme is dat het voor elke combinatie opnieuw alle transacties moet doorlopen. Dit maakt het heel inefficiënt voor grote datasets. Omdat datasets tegenwoordig vaak heel groot zijn is er een efficiënter algoritme ontwikkeld: het FP-Growth (Frequent Pattern Growth) algoritme.\n",
    "\n",
    "1. Bepaal de supports van alle 1 item itemsets. Het algorithme doorloop een eerste keer de transacties\n",
    "    * $support(Printer) = 0.4$\n",
    "    * $support(Papier) = 0.4$\n",
    "    * $support(Cartridge) = 0.7$\n",
    "    * $support(Balpen) = 0.4$\n",
    "2. **Schrap** de items met een support kleiner dan minimumsupport (0,2). In dit geval zijn er geen items die geschrapt moeten worden.\n",
    "3. **Sorteer** de items van groot naar klein volgens support ⇒ Cartridge, Printer, Papier, Balpen.\n",
    "4. Bouw transactie per transactie een **boomstructuur** op.\n",
    "    * Maak een eerste node. Dat is de zogenaamde **Null** node.\n",
    "    * Neem de eerste transactie en sorteer de items uit die transactie volgens de volgorde uit stap 3 ⇒ $Cartridge, Printer, Balpen$\n",
    "    * Plaats de items in die volgorde in de boom. Als er nog geen subnode bestaat dan voeg je die toe met een **counter** op 1. Aangezien dit de eerste transactie is zijn alle subnodes nieuw en hebben ze allemaal een counter van 1.\n",
    "        * Als er al wel een subnode van het item zou bestaan dan verhoog je de counter van die subnode met 1.\n",
    "<img src=\"rescources/img/Schermafbeelding 2024-03-28 131942.png\">\n",
    "    * Herhaal dit voor alle transacties.\n",
    "\n",
    "\n",
    "In Python kan dit bereikt worden met de volgende code:"
   ],
   "metadata": {
    "collapsed": false
   },
   "id": "7e06b4007c65a0c0"
  },
  {
   "cell_type": "code",
   "outputs": [
    {
     "name": "stderr",
     "output_type": "stream",
     "text": [
      "C:\\Users\\zouff\\.venvs\\DS2\\Lib\\site-packages\\mlxtend\\frequent_patterns\\fpcommon.py:110: DeprecationWarning: DataFrames with non-bool types result in worse computationalperformance and their support might be discontinued in the future.Please use a DataFrame with bool type\n",
      "  warnings.warn(\n"
     ]
    },
    {
     "data": {
      "text/plain": "   support              itemsets\n0      0.7           (Cartridge)\n1      0.4             (Printer)\n2      0.4              (Balpen)\n3      0.4              (Papier)\n4      0.3  (Printer, Cartridge)\n5      0.2     (Balpen, Printer)\n6      0.2   (Balpen, Cartridge)\n7      0.3   (Papier, Cartridge)",
      "text/html": "<div>\n<style scoped>\n    .dataframe tbody tr th:only-of-type {\n        vertical-align: middle;\n    }\n\n    .dataframe tbody tr th {\n        vertical-align: top;\n    }\n\n    .dataframe thead th {\n        text-align: right;\n    }\n</style>\n<table border=\"1\" class=\"dataframe\">\n  <thead>\n    <tr style=\"text-align: right;\">\n      <th></th>\n      <th>support</th>\n      <th>itemsets</th>\n    </tr>\n  </thead>\n  <tbody>\n    <tr>\n      <th>0</th>\n      <td>0.7</td>\n      <td>(Cartridge)</td>\n    </tr>\n    <tr>\n      <th>1</th>\n      <td>0.4</td>\n      <td>(Printer)</td>\n    </tr>\n    <tr>\n      <th>2</th>\n      <td>0.4</td>\n      <td>(Balpen)</td>\n    </tr>\n    <tr>\n      <th>3</th>\n      <td>0.4</td>\n      <td>(Papier)</td>\n    </tr>\n    <tr>\n      <th>4</th>\n      <td>0.3</td>\n      <td>(Printer, Cartridge)</td>\n    </tr>\n    <tr>\n      <th>5</th>\n      <td>0.2</td>\n      <td>(Balpen, Printer)</td>\n    </tr>\n    <tr>\n      <th>6</th>\n      <td>0.2</td>\n      <td>(Balpen, Cartridge)</td>\n    </tr>\n    <tr>\n      <th>7</th>\n      <td>0.3</td>\n      <td>(Papier, Cartridge)</td>\n    </tr>\n  </tbody>\n</table>\n</div>"
     },
     "execution_count": 5,
     "metadata": {},
     "output_type": "execute_result"
    }
   ],
   "source": [
    "from mlxtend.frequent_patterns import fpgrowth\n",
    "\n",
    "itemsets = fpgrowth(transacties, min_support=0.2, use_colnames=True)\n",
    "\n",
    "itemsets"
   ],
   "metadata": {
    "collapsed": false,
    "ExecuteTime": {
     "end_time": "2024-03-28T13:29:49.468548Z",
     "start_time": "2024-03-28T13:29:49.458403Z"
    }
   },
   "id": "e8035b4e479f143b",
   "execution_count": 5
  },
  {
   "cell_type": "markdown",
   "source": [
    "## Stap 3: AR vastleggen\n",
    "Met de berekende supportgegevens is het niet moeilijk om nu verschillende **associatieregels** op te stellen.\n",
    "\n",
    "Volgende regels komen aan bod:\n",
    "- **Confidence**\n",
    "- **Lift**\n",
    "- **Leverage**\n",
    "- **Conviction**"
   ],
   "metadata": {
    "collapsed": false
   },
   "id": "9143c2445f367416"
  },
  {
   "cell_type": "markdown",
   "source": [
    "### Confidence\n",
    "De confidence geeft de zekerheid dat een klant item B koopt als hij item A koopt. Algemeen geeft de confidence de zekerheid op item B gegeven item A.\n",
    "\n",
    "#### Definitie\n",
    "$$confidence(A \\Rightarrow B) = \\frac{support(A ∧ B)}{support(A)}$$\n",
    "Nader beschouwd is de confidence niet meer dan een voorwaardelijke kans, want:\n",
    "$$confidence(A \\Rightarrow B) = P(B|A) = \\frac{P(A ∧ B)}{P(A)}$$\n",
    "Confidence is dan ook een getal in het interval [0,1] met 1 de beste waarde\n",
    "\n",
    "#### Voorbeeld\n",
    "We kunnen makkelijk de confidence berekenen van Cartidge op Printer:\n",
    "$confidence(Printer \\rightarrow Cartridge)$\n",
    "Je dient dit te interpreteren als: hoe zeker zijn we er van dat men een cartridge koopt als men een Printer koopt. In dit geval kan dit als volgt berekend worden:\n",
    "$$confidence(Printer \\rightarrow Cartridge) = \\frac{support(Printer ∧ Cartridge)}{support(Printer)} = \\frac{0.3}{0.4} = 0.75$$\n",
    "\n",
    "- Als de confidence 1 zou zijn dan is er in het verleden altijd een cartridge verkocht als er een printer werd verkocht.\n",
    "- Als de confidence 0 zou zijn dan is er in het verleden nooit een cartridge verkocht als er een printer werd verkocht.\n",
    "\n",
    "Of de confidence een geldige regel is hang af van de selectiecriteria. Vaak wordt een minimum confidence vastgelegd. Als de confidence groter is dan de minimum confidence dan is de regel geldig. Een andere optie kan zijn de top 3 regels te selecteren.\n",
    "\n",
    "In Python kan dit als volgt berekend worden:"
   ],
   "metadata": {
    "collapsed": false
   },
   "id": "53b1a62ad7137955"
  },
  {
   "cell_type": "code",
   "outputs": [
    {
     "data": {
      "text/plain": "0.7499999999999999"
     },
     "execution_count": 6,
     "metadata": {},
     "output_type": "execute_result"
    }
   ],
   "source": [
    "from functions.functions_Y2.Ar import *\n",
    "\n",
    "confidence(itemsets, 'Printer', 'Cartridge')"
   ],
   "metadata": {
    "collapsed": false,
    "ExecuteTime": {
     "end_time": "2024-03-28T13:29:49.478291Z",
     "start_time": "2024-03-28T13:29:49.469574Z"
    }
   },
   "id": "a2f7cb66c3dceb8f",
   "execution_count": 6
  },
  {
   "cell_type": "markdown",
   "source": [
    "#### Nadelen van confidence\n",
    "Wanneer je twee zeer courante items hebt die iedereen altijd aanschat (bv. water en melk) dan zal hun confidence ook heel hoog zijn. hoewel ze niet per sé iets met elkaar te maken hebben. Confidence kan dit niet onderscheiden."
   ],
   "metadata": {
    "collapsed": false
   },
   "id": "a933a846cade907"
  },
  {
   "cell_type": "markdown",
   "source": [
    "### Lift\n",
    "Om een AR vast te leggen is het verstandig om zowel naar de confidence als naar de support te kijken. Er is gelukkig nog een betere maatstaf om het nut en de sterkte van een AR vast te leggen: de **Lift**.\n",
    "\n",
    "#### Definitie\n",
    "$$Lift(A → B)=\\frac{Confidence(A∧B)}{Support(B)}$$\n",
    "De lift is de verhouding van de kans dat B voorkomt dat A t.o.v. de kans dat B zelf voorkomt.\n",
    "\n",
    "- Als de lift > 1 dan komt B heel vaak somen met A.\n",
    "- De lift is een getal tussen \\[0, inf] met oneindig de beste waarde.\n",
    "\n",
    "De lift beantwoordt de vraag: *\"In welke mate levert een bepaalde regel meer zekerheid op?\"*\n",
    "\n",
    "In Python:"
   ],
   "metadata": {
    "collapsed": false
   },
   "id": "60485ed3ffafeb7c"
  },
  {
   "cell_type": "code",
   "outputs": [
    {
     "data": {
      "text/plain": "0.7142857142857143"
     },
     "execution_count": 9,
     "metadata": {},
     "output_type": "execute_result"
    }
   ],
   "source": [
    "lift(itemsets, 'Balpen', 'Cartridge')"
   ],
   "metadata": {
    "collapsed": false,
    "ExecuteTime": {
     "end_time": "2024-03-28T13:36:28.288393Z",
     "start_time": "2024-03-28T13:36:28.283429Z"
    }
   },
   "id": "5cdc83147f698463",
   "execution_count": 9
  }
 ],
 "metadata": {
  "kernelspec": {
   "display_name": "Python 3",
   "language": "python",
   "name": "python3"
  },
  "language_info": {
   "codemirror_mode": {
    "name": "ipython",
    "version": 2
   },
   "file_extension": ".py",
   "mimetype": "text/x-python",
   "name": "python",
   "nbconvert_exporter": "python",
   "pygments_lexer": "ipython2",
   "version": "2.7.6"
  }
 },
 "nbformat": 4,
 "nbformat_minor": 5
}
