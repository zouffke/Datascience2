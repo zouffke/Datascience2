{
 "cells": [
  {
   "cell_type": "code",
   "execution_count": 20,
   "outputs": [],
   "source": [
    "from IPython import InteractiveShell\n",
    "InteractiveShell.ast_node_interactivity = \"all\"\n",
    "\n",
    "#Pas de locatie aan van het bestand naar hoe het in jouw systeem zit\n",
    "from functions.p4.decissionTrees import *\n",
    "\n",
    "simpsN = pd.read_csv(\"datasets/simpsons_nominal.csv\")\n",
    "simps = pd.read_csv(\"datasets/simpsons.csv\")"
   ],
   "metadata": {
    "collapsed": false,
    "ExecuteTime": {
     "end_time": "2023-06-12T16:19:32.512105700Z",
     "start_time": "2023-06-12T16:19:32.494088900Z"
    }
   }
  },
  {
   "cell_type": "markdown",
   "source": [
    "# Decision Trees"
   ],
   "metadata": {
    "collapsed": false
   }
  },
  {
   "cell_type": "markdown",
   "source": [
    "Het doel van een beslissingsboom is om informatie te kunnen voorspellen. Tot nu toe werd dit gedaan aan de hand van regressie en forecasting.\n",
    "Een beslissingsboom is een model voor de weergave van alternatieven en keuzen in een besluitvormingsproces.\n",
    "Een boom kan opgesteld worden door het capteren van expert knowledge (Expert Systems) of door het afleiden van rules uit empirische verzamelde data (Mahine Learning)\n",
    "<br>\n",
    "<img src=\"https://wcs.smartdraw.com/decision-tree/img/structure-of-a-decision-tree.png?bn=15100111874\" width=\"500\" height=\"359\">"
   ],
   "metadata": {
    "collapsed": false
   }
  },
  {
   "cell_type": "markdown",
   "source": [
    "## Maken van een beslissingsboom\n",
    "* Kies een kolom in de data, dit wordt je <font color=\"#ADD8E6\">Root node</font>\n",
    "* Maak een decision <font color=\"blue\">node</font> voor deze kolom\n",
    "* Maak pijlen naar kind-nodes voor iedere mogelijke waarde van deze kolom\n",
    "* per pijl maak je een kindTabel waarin enkel die rijen voorkomen met de gekozen waarde\n",
    "* Doe het algoritme recursief voor alle kind-nodes\n",
    "* als alle rijen van de tabel eenzelfde uitkomst hebben, stop dan. Dit is je <font color='orange'>Leaf Node</font>"
   ],
   "metadata": {
    "collapsed": false
   }
  },
  {
   "cell_type": "markdown",
   "source": [
    "## ID$_{3}$ algorithme"
   ],
   "metadata": {
    "collapsed": false
   }
  },
  {
   "cell_type": "markdown",
   "source": [
    "### Theorie\n",
    "Er zijn 2 belangrijke begrippen\n"
   ],
   "metadata": {
    "collapsed": false
   }
  },
  {
   "cell_type": "markdown",
   "source": [
    "#### Entropie\n",
    "De entropie is de maatstaf voor de wanorde\n",
    "Het is een waarde tussen 0 (=orde) en 1 (=totale wanorde)"
   ],
   "metadata": {
    "collapsed": false
   }
  },
  {
   "cell_type": "markdown",
   "source": [
    "##### Formule\n",
    "E (tabel) = $\\sum \\limits_{klassen} - (\\frac{p}{n}) * log_{2}(\\frac{p}{n})$\n",
    "$klassen$ = alle mogelijke waarden van het te voorspellen attribuut\n",
    "$p$ = het aantal rijen met een bepaalde te voorspellen waarde\n",
    "$n$ = het totaal aantal rijen in de tabel"
   ],
   "metadata": {
    "collapsed": false
   }
  },
  {
   "cell_type": "code",
   "execution_count": 13,
   "outputs": [
    {
     "data": {
      "text/plain": "0.9910760598382221"
     },
     "execution_count": 13,
     "metadata": {},
     "output_type": "execute_result"
    }
   ],
   "source": [
    "#De entropie kan worden berekend met volgende functie\n",
    "entropy(simpsN.geslacht)\n",
    "#De functie verwacht een kolom van de tabel"
   ],
   "metadata": {
    "collapsed": false,
    "ExecuteTime": {
     "end_time": "2023-06-12T16:05:05.688283300Z",
     "start_time": "2023-06-12T16:05:05.580679100Z"
    }
   }
  },
  {
   "cell_type": "markdown",
   "source": [
    "#### Information Gain\n",
    "De information gain geeft de winst op het vlak van de orde weer\n",
    "Hoe groter de waarde is hoe minder wanorde er is"
   ],
   "metadata": {
    "collapsed": false
   }
  },
  {
   "cell_type": "markdown",
   "source": [
    "##### Formule\n",
    "Welke kolom moet er worden geselecteerd?\n",
    "* De kolom die het meeste informatie bevat, die het meeste bijdraagt tot de orde\n",
    "\n",
    "\n",
    "$Gain(kolom) = E(tabel) - \\sum\\limits_{waarden} (\\frac{p}{n}) * E(kindtabel)$\n",
    "\n",
    "$kindtabel$ = een tabel waarvan alle rijen dezelfde waarden hebben voor de gekoze kolom\n",
    "$n$ = het aantal rijen in de tabel\n",
    "$p$ = het aan rijen in de kindtabel\n",
    "$E(tabel)$ = de Entropie"
   ],
   "metadata": {
    "collapsed": false
   }
  },
  {
   "cell_type": "code",
   "execution_count": 14,
   "outputs": [
    {
     "data": {
      "text/plain": "0.45165906291896163"
     },
     "execution_count": 14,
     "metadata": {},
     "output_type": "execute_result"
    }
   ],
   "source": [
    "#De information gain kan worden berekend met volgende functie\n",
    "information_gain(simpsN, 'haarlengte', 'geslacht')\n",
    "#De functie verwacht een tabel, een kolom en een te voorspellen kolomb"
   ],
   "metadata": {
    "collapsed": false,
    "ExecuteTime": {
     "end_time": "2023-06-12T16:05:05.693297700Z",
     "start_time": "2023-06-12T16:05:05.588561Z"
    }
   }
  },
  {
   "cell_type": "code",
   "execution_count": 15,
   "outputs": [
    {
     "data": {
      "text/plain": "('naam', 0.9910760598382221)"
     },
     "execution_count": 15,
     "metadata": {},
     "output_type": "execute_result"
    }
   ],
   "source": [
    "#Er kan snel worden berekend welke kolom het beste is om op te spliten via volgende functie\n",
    "best_split(simpsN, 'geslacht')"
   ],
   "metadata": {
    "collapsed": false,
    "ExecuteTime": {
     "end_time": "2023-06-12T16:05:05.694298500Z",
     "start_time": "2023-06-12T16:05:05.599526700Z"
    }
   }
  },
  {
   "cell_type": "markdown",
   "source": [],
   "metadata": {
    "collapsed": false
   }
  },
  {
   "cell_type": "markdown",
   "source": [
    "### Model"
   ],
   "metadata": {
    "collapsed": false
   }
  },
  {
   "cell_type": "markdown",
   "source": [
    "#### ID3Estimator & Graphviz packages installeren\n",
    "\n",
    "* `pip install decision-tree-id-fork`\n",
    "* Graphviz <a href=\"https://graphviz.org/download/\">installeren</a> (nodig voor de visualisatie) door te downloaden van de website voor Windows en Mac en te installeren.\n",
    "    *  Zorg ervoor dat je GraphViz toevoegt aan je PATH in de installatiewizard!\n",
    "    *  Anders krijg je _ExecutableNotFound: failed to execute WindowsPath('dot'), make sure the Graphviz executables are on your systems' PATH_\n",
    "* `pip install graphviz` moet je ook nog doen"
   ],
   "metadata": {
    "collapsed": false
   }
  },
  {
   "cell_type": "markdown",
   "source": [
    "#### Trainen\n",
    "Het ID3 model kan getraind worden via volgende functie. De functie zal het model zelf terug geven en de parameter die nodig is om de boom te visualiseren."
   ],
   "metadata": {
    "collapsed": false
   }
  },
  {
   "cell_type": "code",
   "execution_count": 16,
   "outputs": [
    {
     "data": {
      "image/svg+xml": "<?xml version=\"1.0\" encoding=\"UTF-8\" standalone=\"no\"?>\n<!DOCTYPE svg PUBLIC \"-//W3C//DTD SVG 1.1//EN\"\n \"http://www.w3.org/Graphics/SVG/1.1/DTD/svg11.dtd\">\n<!-- Generated by graphviz version 8.0.5 (20230430.1635)\n -->\n<!-- Title: ID3_Tree Pages: 1 -->\n<svg width=\"215pt\" height=\"227pt\"\n viewBox=\"0.00 0.00 215.00 226.50\" xmlns=\"http://www.w3.org/2000/svg\" xmlns:xlink=\"http://www.w3.org/1999/xlink\">\n<g id=\"graph0\" class=\"graph\" transform=\"scale(1 1) rotate(0) translate(4 222.5)\">\n<title>ID3_Tree</title>\n<polygon fill=\"white\" stroke=\"none\" points=\"-4,4 -4,-222.5 211,-222.5 211,4 -4,4\"/>\n<!-- 0 -->\n<g id=\"node1\" class=\"node\">\n<title>0</title>\n<polygon fill=\"lightgrey\" stroke=\"black\" points=\"169.38,-218.5 110.62,-218.5 110.62,-182.5 169.38,-182.5 169.38,-218.5\"/>\n<text text-anchor=\"middle\" x=\"140\" y=\"-195.07\" font-family=\"Times New Roman,serif\" font-size=\"14.00\">gewicht</text>\n</g>\n<!-- 1 -->\n<g id=\"node2\" class=\"node\">\n<title>1</title>\n<polygon fill=\"lightgrey\" stroke=\"black\" points=\"134.75,-129 63.25,-129 63.25,-93 134.75,-93 134.75,-129\"/>\n<text text-anchor=\"middle\" x=\"99\" y=\"-105.58\" font-family=\"Times New Roman,serif\" font-size=\"14.00\">haarlengte</text>\n</g>\n<!-- 0&#45;&gt;1 -->\n<g id=\"edge1\" class=\"edge\">\n<title>0&#45;&gt;1</title>\n<path fill=\"none\" stroke=\"black\" d=\"M126.92,-182.28C123.14,-176.79 119.23,-170.56 116.25,-164.5 112.37,-156.6 109.05,-147.61 106.39,-139.34\"/>\n<polygon fill=\"black\" stroke=\"black\" points=\"109.52,-138.59 103.29,-130.02 102.82,-140.6 109.52,-138.59\"/>\n<text text-anchor=\"middle\" x=\"135.38\" y=\"-151.2\" font-family=\"Times New Roman,serif\" font-size=\"14.00\">&lt;=160</text>\n</g>\n<!-- 5 -->\n<g id=\"node6\" class=\"node\">\n<title>5</title>\n<polygon fill=\"lightgrey\" stroke=\"black\" points=\"207,-130.75 153,-130.75 153,-91.25 207,-91.25 207,-130.75\"/>\n<text text-anchor=\"middle\" x=\"180\" y=\"-113.45\" font-family=\"Times New Roman,serif\" font-size=\"14.00\">M</text>\n<text text-anchor=\"middle\" x=\"180\" y=\"-97.7\" font-family=\"Times New Roman,serif\" font-size=\"14.00\">(4)</text>\n</g>\n<!-- 0&#45;&gt;5 -->\n<g id=\"edge5\" class=\"edge\">\n<title>0&#45;&gt;5</title>\n<path fill=\"none\" stroke=\"black\" d=\"M147.9,-182.21C153.27,-170.47 160.51,-154.64 166.75,-140.99\"/>\n<polygon fill=\"black\" stroke=\"black\" points=\"170.31,-142.62 171.28,-132.07 163.94,-139.71 170.31,-142.62\"/>\n<text text-anchor=\"middle\" x=\"177.25\" y=\"-151.2\" font-family=\"Times New Roman,serif\" font-size=\"14.00\">&gt;160</text>\n</g>\n<!-- 2 -->\n<g id=\"node3\" class=\"node\">\n<title>2</title>\n<polygon fill=\"lightgrey\" stroke=\"black\" points=\"54,-39.5 0,-39.5 0,0 54,0 54,-39.5\"/>\n<text text-anchor=\"middle\" x=\"27\" y=\"-22.2\" font-family=\"Times New Roman,serif\" font-size=\"14.00\">V</text>\n<text text-anchor=\"middle\" x=\"27\" y=\"-6.45\" font-family=\"Times New Roman,serif\" font-size=\"14.00\">(1)</text>\n</g>\n<!-- 1&#45;&gt;2 -->\n<g id=\"edge2\" class=\"edge\">\n<title>1&#45;&gt;2</title>\n<path fill=\"none\" stroke=\"black\" d=\"M85.12,-92.79C74.87,-80.09 60.72,-62.55 48.94,-47.95\"/>\n<polygon fill=\"black\" stroke=\"black\" points=\"51.34,-46.35 42.34,-40.76 45.89,-50.74 51.34,-46.35\"/>\n<text text-anchor=\"middle\" x=\"77\" y=\"-59.95\" font-family=\"Times New Roman,serif\" font-size=\"14.00\">3&#45;5</text>\n</g>\n<!-- 3 -->\n<g id=\"node4\" class=\"node\">\n<title>3</title>\n<polygon fill=\"lightgrey\" stroke=\"black\" points=\"126,-39.5 72,-39.5 72,0 126,0 126,-39.5\"/>\n<text text-anchor=\"middle\" x=\"99\" y=\"-22.2\" font-family=\"Times New Roman,serif\" font-size=\"14.00\">M</text>\n<text text-anchor=\"middle\" x=\"99\" y=\"-6.45\" font-family=\"Times New Roman,serif\" font-size=\"14.00\">(1)</text>\n</g>\n<!-- 1&#45;&gt;3 -->\n<g id=\"edge3\" class=\"edge\">\n<title>1&#45;&gt;3</title>\n<path fill=\"none\" stroke=\"black\" d=\"M99,-92.79C99,-80.8 99,-64.5 99,-50.43\"/>\n<polygon fill=\"black\" stroke=\"black\" points=\"102.5,-50.76 99,-40.76 95.5,-50.76 102.5,-50.76\"/>\n<text text-anchor=\"middle\" x=\"106.5\" y=\"-59.95\" font-family=\"Times New Roman,serif\" font-size=\"14.00\">&lt;3</text>\n</g>\n<!-- 4 -->\n<g id=\"node5\" class=\"node\">\n<title>4</title>\n<polygon fill=\"lightgrey\" stroke=\"black\" points=\"198,-39.5 144,-39.5 144,0 198,0 198,-39.5\"/>\n<text text-anchor=\"middle\" x=\"171\" y=\"-22.2\" font-family=\"Times New Roman,serif\" font-size=\"14.00\">V</text>\n<text text-anchor=\"middle\" x=\"171\" y=\"-6.45\" font-family=\"Times New Roman,serif\" font-size=\"14.00\">(3)</text>\n</g>\n<!-- 1&#45;&gt;4 -->\n<g id=\"edge4\" class=\"edge\">\n<title>1&#45;&gt;4</title>\n<path fill=\"none\" stroke=\"black\" d=\"M112.88,-92.79C123.13,-80.09 137.28,-62.55 149.06,-47.95\"/>\n<polygon fill=\"black\" stroke=\"black\" points=\"152.11,-50.74 155.66,-40.76 146.66,-46.35 152.11,-50.74\"/>\n<text text-anchor=\"middle\" x=\"147.5\" y=\"-59.95\" font-family=\"Times New Roman,serif\" font-size=\"14.00\">&gt;5</text>\n</g>\n</g>\n</svg>\n",
      "text/plain": "<graphviz.sources.Source at 0x1b90c384d50>"
     },
     "execution_count": 16,
     "metadata": {},
     "output_type": "execute_result"
    }
   ],
   "source": [
    "# Model is het model waarmee voorspellingen kunnen gemaakt worden\n",
    "#Model_tree is de parameter nodig in de functie graphviz.Source() om de boom te visualiseren\n",
    "model, model_tree = trainID3(simpsN, 'geslacht', ['naam'])\n",
    "graphviz.Source(model_tree.dot_tree)"
   ],
   "metadata": {
    "collapsed": false,
    "ExecuteTime": {
     "end_time": "2023-06-12T16:05:05.695296900Z",
     "start_time": "2023-06-12T16:05:05.617005400Z"
    }
   }
  },
  {
   "cell_type": "markdown",
   "source": [
    "#### Voorspellen\n",
    "Volgended functie kan worden gebruikt om een waarde te voorspellen"
   ],
   "metadata": {
    "collapsed": false
   }
  },
  {
   "cell_type": "code",
   "execution_count": 17,
   "outputs": [
    {
     "data": {
      "text/plain": "array(['M'], dtype='<U1')"
     },
     "execution_count": 17,
     "metadata": {},
     "output_type": "execute_result"
    }
   ],
   "source": [
    "model.predict([['>5', '>160', '30-40']])"
   ],
   "metadata": {
    "collapsed": false,
    "ExecuteTime": {
     "end_time": "2023-06-12T16:05:05.696299700Z",
     "start_time": "2023-06-12T16:05:05.674257200Z"
    }
   }
  },
  {
   "cell_type": "markdown",
   "source": [
    "### Problemen\n",
    "Het ID3 model heeft wat 'problemen' waardoor het soms lastig is om te kunnen gebruiken. Dit komt omdat\n",
    "* Alle waarden moeten kwalitatief zijn\n",
    "* Kwantitatieve variabelen: eerst splitsen in categorieën (welke?)\n",
    "* In de praktijk zijn er soms NA values, ID3 kan hier niet mee werken\n",
    "* ..."
   ],
   "metadata": {
    "collapsed": false
   }
  },
  {
   "cell_type": "markdown",
   "source": [
    "### Alternatieven\n",
    "C$_{4.5}$ of J$_{4}$8"
   ],
   "metadata": {
    "collapsed": false
   }
  },
  {
   "cell_type": "code",
   "execution_count": 18,
   "outputs": [
    {
     "data": {
      "text/plain": "<Figure size 640x480 with 1 Axes>",
      "image/png": "[encoded data removed]"
     },
     "metadata": {},
     "output_type": "display_data"
    }
   ],
   "source": [
    "# Het nieuwe model kan getraind worden met volgende functie\n",
    "model = trainDecisionTree(simps, 'geslacht', ['naam'])"
   ],
   "metadata": {
    "collapsed": false,
    "ExecuteTime": {
     "end_time": "2023-06-12T16:05:05.840105300Z",
     "start_time": "2023-06-12T16:05:05.680777700Z"
    }
   }
  }
 ],
 "metadata": {
  "kernelspec": {
   "display_name": "Python 3",
   "language": "python",
   "name": "python3"
  },
  "language_info": {
   "codemirror_mode": {
    "name": "ipython",
    "version": 2
   },
   "file_extension": ".py",
   "mimetype": "text/x-python",
   "name": "python",
   "nbconvert_exporter": "python",
   "pygments_lexer": "ipython2",
   "version": "2.7.6"
  }
 },
 "nbformat": 4,
 "nbformat_minor": 0
}
