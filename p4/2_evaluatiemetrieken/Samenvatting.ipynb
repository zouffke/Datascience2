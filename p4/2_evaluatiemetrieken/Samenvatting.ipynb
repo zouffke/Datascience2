{
 "cells": [
  {
   "metadata": {},
   "cell_type": "markdown",
   "source": "# Evalutatiemetrieken",
   "id": "f42d4927e357840c"
  },
  {
   "metadata": {},
   "cell_type": "markdown",
   "source": [
    "## Wat?\n",
    "* Machine Learning Algorithm\n",
    "    * Supervised Machine Learning Algorithm\n",
    "        * Regressie\n",
    "        * Classificatie\n",
    "    * Unsupervised Machine Learning Algorithm\n",
    "        * Clustering\n",
    "        * Associatie\n",
    "\n",
    "- Regressie: poging om de sterkte en het karakter van de relatie tussen een afhankelijke variabele en een of een reeks onafhankelijke variabelen te bepalen.\n",
    "- Classificatie: Het probleem van het identificeren tot welke van een reeks categorieën (subpopulaties) een waarneming (of waarnemingen) behoort.\n",
    "- Clustering: Het groeperen van objecten, zodat objecten in hetzelfde cluster meer op elkaar lijken dan op objecten in een andere cluster.\n",
    "- Associatie: Vindt belangrijke relaties tussen variabelen of functies in een gegevensset.\n",
    "\n",
    "| In Data Science behandelde modelleringstechniek         | Evaluatietechniek                          |               |\n",
    "|---------------------------------------------------------|--------------------------------------------|---------------|\n",
    "| Lineaire Regressie                                      | R², MAE, RMSE, MAPE                        | Regressie     |\n",
    "| Forecasting, ANN                                        | MAE, RMSE, MAPE                            | Regressie     |\n",
    "| Clustering                                              | interclusterafstand, intraclusterafstand   | Clustering    |\n",
    "| Association rules                                       | support, confidence, lift                  | Associatie    |\n",
    "| Metaheuristieken                                        | objective function                         | Andere        |\n",
    "| Naive Bayes, beslissingsbomen, discriminantanalyse, ANN | accuracy, precision, recall, TPR, FPR, ROC | Classificatie |"
   ],
   "id": "a073b2a63f288b69"
  },
  {
   "metadata": {},
   "cell_type": "markdown",
   "source": [
    "### Regressie\n",
    "\n",
    "* $R² = (\\frac{1}{2} \\sum_{i=1}^{n}Z_{xi}Z_{yi})² = r_{xy}^{2}$\n",
    "* Mean Absolute Error, $MAE = \\frac{1}{n}\\sum_{i=1}^{n}|y_i - ŷ _i |$\n",
    "* Root Mean Squared Error, $RMSE = \\sqrt{\\frac{1}{n}\\sum_{i=1}^{n}(y_i - ŷ _i)^2}$\n",
    "* Mean Absolute Percentage Error, $MAPE = \\frac{1}{n}\\sum_{i=1}^{n}|\\frac{y_i - ŷ _i}{y_i}|$"
   ],
   "id": "c93b2f9c9f18840a"
  },
  {
   "metadata": {},
   "cell_type": "markdown",
   "source": "## Classificatie metrieken",
   "id": "5765ce9e16e14104"
  },
  {
   "metadata": {},
   "cell_type": "markdown",
   "source": [
    "### Binair vs. Multiclass\n",
    "* Binair: 2 klassen\n",
    "    * M/V\n",
    "    * Goed/Fout\n",
    "    * ...\n",
    "* Multiclass: meer dan 2 klassen\n",
    "    * onvoldoende/Voldoende/Onderscheiding/...\n",
    "\n",
    "Een decision tree wordt gebruikt voor het voorspellen van de klassen.\n",
    "\n",
    "<img src=\"rsc/img/Schermafbeelding 2024-05-16 160750.png\">\n",
    "\n",
    "|                |  Accuracy (ACC)  |  Precision Recall  |  F-measure  |  TP Rate & FP Rate (Confusion Matrix)  |  ROC Curve  |\n",
    "|----------------|:----------------:|:------------------:|:-----------:|:--------------------------------------:|:-----------:|\n",
    "| **Binair**     |        x         |         x          |      x      |                   x                    |      x      |\n",
    "| **Multiclass** |        x         |         x          |      x      |                                        |             |\n"
   ],
   "id": "c0467aead6f4b0ba"
  },
  {
   "metadata": {},
   "cell_type": "markdown",
   "source": [
    "### Confusion Matrix\n",
    "Gebruikt door:\n",
    "* Binair\n",
    "* Multiclass"
   ],
   "id": "2ae2a6b38ed464de"
  },
  {
   "metadata": {
    "ExecuteTime": {
     "end_time": "2024-05-16T15:37:52.928425Z",
     "start_time": "2024-05-16T15:37:52.503638Z"
    }
   },
   "cell_type": "code",
   "source": [
    "import pandas as pd\n",
    "\n",
    "from functions.functions_Y2.evaluationMetrics import *\n",
    "from IPython import InteractiveShell\n",
    "\n",
    "InteractiveShell.ast_node_interactivity = \"all\"\n",
    "\n",
    "animals = pd.DataFrame([\n",
    "    [60, 3, 1],\n",
    "    [6, 40, 1],\n",
    "    [2, 10, 20]\n",
    "],\n",
    "    columns=[\"kat\", \"hond\", \"konijn\"],\n",
    "    index=[\"kat\", \"hond\", \"konijn\"])\n",
    "\n",
    "animals"
   ],
   "id": "38ace3b814026a02",
   "outputs": [
    {
     "data": {
      "text/plain": [
       "        kat  hond  konijn\n",
       "kat      60     3       1\n",
       "hond      6    40       1\n",
       "konijn    2    10      20"
      ],
      "text/html": [
       "<div>\n",
       "<style scoped>\n",
       "    .dataframe tbody tr th:only-of-type {\n",
       "        vertical-align: middle;\n",
       "    }\n",
       "\n",
       "    .dataframe tbody tr th {\n",
       "        vertical-align: top;\n",
       "    }\n",
       "\n",
       "    .dataframe thead th {\n",
       "        text-align: right;\n",
       "    }\n",
       "</style>\n",
       "<table border=\"1\" class=\"dataframe\">\n",
       "  <thead>\n",
       "    <tr style=\"text-align: right;\">\n",
       "      <th></th>\n",
       "      <th>kat</th>\n",
       "      <th>hond</th>\n",
       "      <th>konijn</th>\n",
       "    </tr>\n",
       "  </thead>\n",
       "  <tbody>\n",
       "    <tr>\n",
       "      <th>kat</th>\n",
       "      <td>60</td>\n",
       "      <td>3</td>\n",
       "      <td>1</td>\n",
       "    </tr>\n",
       "    <tr>\n",
       "      <th>hond</th>\n",
       "      <td>6</td>\n",
       "      <td>40</td>\n",
       "      <td>1</td>\n",
       "    </tr>\n",
       "    <tr>\n",
       "      <th>konijn</th>\n",
       "      <td>2</td>\n",
       "      <td>10</td>\n",
       "      <td>20</td>\n",
       "    </tr>\n",
       "  </tbody>\n",
       "</table>\n",
       "</div>"
      ]
     },
     "execution_count": 1,
     "metadata": {},
     "output_type": "execute_result"
    }
   ],
   "execution_count": 1
  },
  {
   "metadata": {},
   "cell_type": "markdown",
   "source": "De bovenste table is een voorbeeld van een confusion matrix. De rijen zijn de voorspellingen en de kolommen zijn de werkelijke waarden. De diagonaal van linksboven naar rechtsonder zijn de correcte voorspellingen. De overige cellen zijn de foutieve voorspellingen.",
   "id": "bcb066443b2a93c4"
  },
  {
   "metadata": {},
   "cell_type": "markdown",
   "source": [
    "#### Terminologie\n",
    "* True Positive (TP): de voorspelling is correct en is positief\n",
    "* True Negative (TN): de voorspelling is correct en is negatief\n",
    "* False Positive (FP): de voorspelling is fout en is positief\n",
    "* False Negative (FN): de voorspelling is fout en is negatief\n",
    "* Hoofddiagonaal: de lijn van linksboven naar rechtsonder\n",
    "    * Hoe meer waarden op de hoofddiagonaal, hoe beter"
   ],
   "id": "2cad338747e16f12"
  },
  {
   "metadata": {},
   "cell_type": "markdown",
   "source": [
    "### Accuracy (ACC)\n",
    "- Een van de meest gebruikte maatstaven voor de classificatie.\n",
    "\n",
    "$$ACC = \\frac{TP + TN}{TP + TN + FP + FN}$$\n",
    "OF\n",
    "$$ACC = \\frac{aantal\\ correcte\\ voorspellingen}{aantal\\ voorspellingen}$$"
   ],
   "id": "fdbbf4b81df34345"
  },
  {
   "metadata": {
    "ExecuteTime": {
     "end_time": "2024-05-16T15:37:52.938901Z",
     "start_time": "2024-05-16T15:37:52.929761Z"
    }
   },
   "cell_type": "code",
   "source": [
    "tot = animals.join(pd.DataFrame(animals.sum(axis=1), columns=[\"Totaal\"]))\n",
    "\n",
    "cm = pd.concat([tot, pd.DataFrame(tot.sum(axis=0), columns=[\"Totaal\"]).T])\n",
    "\n",
    "cm"
   ],
   "id": "56bb743a9cf67aff",
   "outputs": [
    {
     "data": {
      "text/plain": [
       "        kat  hond  konijn  Totaal\n",
       "kat      60     3       1      64\n",
       "hond      6    40       1      47\n",
       "konijn    2    10      20      32\n",
       "Totaal   68    53      22     143"
      ],
      "text/html": [
       "<div>\n",
       "<style scoped>\n",
       "    .dataframe tbody tr th:only-of-type {\n",
       "        vertical-align: middle;\n",
       "    }\n",
       "\n",
       "    .dataframe tbody tr th {\n",
       "        vertical-align: top;\n",
       "    }\n",
       "\n",
       "    .dataframe thead th {\n",
       "        text-align: right;\n",
       "    }\n",
       "</style>\n",
       "<table border=\"1\" class=\"dataframe\">\n",
       "  <thead>\n",
       "    <tr style=\"text-align: right;\">\n",
       "      <th></th>\n",
       "      <th>kat</th>\n",
       "      <th>hond</th>\n",
       "      <th>konijn</th>\n",
       "      <th>Totaal</th>\n",
       "    </tr>\n",
       "  </thead>\n",
       "  <tbody>\n",
       "    <tr>\n",
       "      <th>kat</th>\n",
       "      <td>60</td>\n",
       "      <td>3</td>\n",
       "      <td>1</td>\n",
       "      <td>64</td>\n",
       "    </tr>\n",
       "    <tr>\n",
       "      <th>hond</th>\n",
       "      <td>6</td>\n",
       "      <td>40</td>\n",
       "      <td>1</td>\n",
       "      <td>47</td>\n",
       "    </tr>\n",
       "    <tr>\n",
       "      <th>konijn</th>\n",
       "      <td>2</td>\n",
       "      <td>10</td>\n",
       "      <td>20</td>\n",
       "      <td>32</td>\n",
       "    </tr>\n",
       "    <tr>\n",
       "      <th>Totaal</th>\n",
       "      <td>68</td>\n",
       "      <td>53</td>\n",
       "      <td>22</td>\n",
       "      <td>143</td>\n",
       "    </tr>\n",
       "  </tbody>\n",
       "</table>\n",
       "</div>"
      ]
     },
     "execution_count": 2,
     "metadata": {},
     "output_type": "execute_result"
    }
   ],
   "execution_count": 2
  },
  {
   "metadata": {},
   "cell_type": "markdown",
   "source": "$$accuracy= \\frac{60 + 40 + 20}{143} = 0.84$$",
   "id": "1f5e2a8c8e9bcacf"
  },
  {
   "metadata": {
    "ExecuteTime": {
     "end_time": "2024-05-16T15:37:52.947923Z",
     "start_time": "2024-05-16T15:37:52.939921Z"
    }
   },
   "cell_type": "code",
   "source": "accuracy(cm)",
   "id": "808d89675e78133a",
   "outputs": [
    {
     "data": {
      "text/plain": [
       "0.8391608391608392"
      ]
     },
     "execution_count": 3,
     "metadata": {},
     "output_type": "execute_result"
    }
   ],
   "execution_count": 3
  },
  {
   "metadata": {},
   "cell_type": "markdown",
   "source": [
    "### Precision\n",
    "Hoeveel van de positieve voorspellingen zijn correct?\n",
    "\n",
    "$$Precision = \\frac{TP}{TP + FP}$$*per klasse*\n"
   ],
   "id": "e4f3daa17649f559"
  },
  {
   "metadata": {
    "ExecuteTime": {
     "end_time": "2024-05-16T15:37:52.955064Z",
     "start_time": "2024-05-16T15:37:52.949038Z"
    }
   },
   "cell_type": "code",
   "source": [
    "precision(cm, \"kat\")\n",
    "precision(cm, \"hond\")\n",
    "precision(cm, \"konijn\")"
   ],
   "id": "e4f2e064d0cb289d",
   "outputs": [
    {
     "data": {
      "text/plain": [
       "0.8823529411764706"
      ]
     },
     "execution_count": 4,
     "metadata": {},
     "output_type": "execute_result"
    },
    {
     "data": {
      "text/plain": [
       "0.7547169811320755"
      ]
     },
     "execution_count": 4,
     "metadata": {},
     "output_type": "execute_result"
    },
    {
     "data": {
      "text/plain": [
       "0.9090909090909091"
      ]
     },
     "execution_count": 4,
     "metadata": {},
     "output_type": "execute_result"
    }
   ],
   "execution_count": 4
  },
  {
   "metadata": {},
   "cell_type": "markdown",
   "source": [
    "### Recall\n",
    "Hoeveel van de werkelijke positieve voorspellingen zijn correct?\n",
    "\n",
    "$$Recall = \\frac{TP}{TP + FN}$$*per klasse*"
   ],
   "id": "3a3847902619b4a4"
  },
  {
   "metadata": {
    "ExecuteTime": {
     "end_time": "2024-05-16T15:37:52.962229Z",
     "start_time": "2024-05-16T15:37:52.956071Z"
    }
   },
   "cell_type": "code",
   "source": [
    "recall(cm, \"kat\")\n",
    "recall(cm, \"hond\")\n",
    "recall(cm, \"konijn\")"
   ],
   "id": "25866c1d30c40c3",
   "outputs": [
    {
     "data": {
      "text/plain": [
       "0.9375"
      ]
     },
     "execution_count": 5,
     "metadata": {},
     "output_type": "execute_result"
    },
    {
     "data": {
      "text/plain": [
       "0.851063829787234"
      ]
     },
     "execution_count": 5,
     "metadata": {},
     "output_type": "execute_result"
    },
    {
     "data": {
      "text/plain": [
       "0.625"
      ]
     },
     "execution_count": 5,
     "metadata": {},
     "output_type": "execute_result"
    }
   ],
   "execution_count": 5
  },
  {
   "metadata": {
    "ExecuteTime": {
     "end_time": "2024-05-16T15:37:57.682772Z",
     "start_time": "2024-05-16T15:37:57.673637Z"
    }
   },
   "cell_type": "code",
   "source": "evaluatue(cm)",
   "id": "71ffbda3dc51f2c4",
   "outputs": [
    {
     "data": {
      "text/plain": [
       "                       kat       hond     konijn  Totaal  Class Recall\n",
       "kat              60.000000   3.000000   1.000000    64.0      0.937500\n",
       "hond              6.000000  40.000000   1.000000    47.0      0.851064\n",
       "konijn            2.000000  10.000000  20.000000    32.0      0.625000\n",
       "Totaal           68.000000  53.000000  22.000000   143.0           NaN\n",
       "Class Precision   0.882353   0.754717   0.909091     NaN           NaN"
      ],
      "text/html": [
       "<div>\n",
       "<style scoped>\n",
       "    .dataframe tbody tr th:only-of-type {\n",
       "        vertical-align: middle;\n",
       "    }\n",
       "\n",
       "    .dataframe tbody tr th {\n",
       "        vertical-align: top;\n",
       "    }\n",
       "\n",
       "    .dataframe thead th {\n",
       "        text-align: right;\n",
       "    }\n",
       "</style>\n",
       "<table border=\"1\" class=\"dataframe\">\n",
       "  <thead>\n",
       "    <tr style=\"text-align: right;\">\n",
       "      <th></th>\n",
       "      <th>kat</th>\n",
       "      <th>hond</th>\n",
       "      <th>konijn</th>\n",
       "      <th>Totaal</th>\n",
       "      <th>Class Recall</th>\n",
       "    </tr>\n",
       "  </thead>\n",
       "  <tbody>\n",
       "    <tr>\n",
       "      <th>kat</th>\n",
       "      <td>60.000000</td>\n",
       "      <td>3.000000</td>\n",
       "      <td>1.000000</td>\n",
       "      <td>64.0</td>\n",
       "      <td>0.937500</td>\n",
       "    </tr>\n",
       "    <tr>\n",
       "      <th>hond</th>\n",
       "      <td>6.000000</td>\n",
       "      <td>40.000000</td>\n",
       "      <td>1.000000</td>\n",
       "      <td>47.0</td>\n",
       "      <td>0.851064</td>\n",
       "    </tr>\n",
       "    <tr>\n",
       "      <th>konijn</th>\n",
       "      <td>2.000000</td>\n",
       "      <td>10.000000</td>\n",
       "      <td>20.000000</td>\n",
       "      <td>32.0</td>\n",
       "      <td>0.625000</td>\n",
       "    </tr>\n",
       "    <tr>\n",
       "      <th>Totaal</th>\n",
       "      <td>68.000000</td>\n",
       "      <td>53.000000</td>\n",
       "      <td>22.000000</td>\n",
       "      <td>143.0</td>\n",
       "      <td>NaN</td>\n",
       "    </tr>\n",
       "    <tr>\n",
       "      <th>Class Precision</th>\n",
       "      <td>0.882353</td>\n",
       "      <td>0.754717</td>\n",
       "      <td>0.909091</td>\n",
       "      <td>NaN</td>\n",
       "      <td>NaN</td>\n",
       "    </tr>\n",
       "  </tbody>\n",
       "</table>\n",
       "</div>"
      ]
     },
     "execution_count": 7,
     "metadata": {},
     "output_type": "execute_result"
    }
   ],
   "execution_count": 7
  },
  {
   "metadata": {},
   "cell_type": "markdown",
   "source": [
    "De rij Class precision zal weergeven wat de kans is dat als het model zegt dat het juist is dat het ook juist zal zijn.\n",
    "De kolom Class recall zal weergeven wat de kans is dat het model een andere voorspelling geeft dan het juiste antwoord. "
   ],
   "id": "3ea076d1475fee09"
  }
 ],
 "metadata": {
  "kernelspec": {
   "display_name": "Python 3",
   "language": "python",
   "name": "python3"
  },
  "language_info": {
   "codemirror_mode": {
    "name": "ipython",
    "version": 2
   },
   "file_extension": ".py",
   "mimetype": "text/x-python",
   "name": "python",
   "nbconvert_exporter": "python",
   "pygments_lexer": "ipython2",
   "version": "2.7.6"
  }
 },
 "nbformat": 4,
 "nbformat_minor": 5
}
