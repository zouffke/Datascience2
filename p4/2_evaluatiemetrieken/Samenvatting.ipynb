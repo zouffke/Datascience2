{
 "cells": [
  {
   "metadata": {},
   "cell_type": "markdown",
   "source": "# Evalutatiemetrieken",
   "id": "f42d4927e357840c"
  },
  {
   "metadata": {},
   "cell_type": "markdown",
   "source": [
    "## Wat?\n",
    "* Machine Learning Algorithm\n",
    "    * Supervised Machine Learning Algorithm\n",
    "        * Regressie\n",
    "        * Classificatie\n",
    "    * Unsupervised Machine Learning Algorithm\n",
    "        * Clustering\n",
    "        * Associatie\n",
    "\n",
    "- Regressie: poging om de sterkte en het karakter van de relatie tussen een afhankelijke variabele en een of een reeks onafhankelijke variabelen te bepalen.\n",
    "- Classificatie: Het probleem van het identificeren tot welke van een reeks categorieën (subpopulaties) een waarneming (of waarnemingen) behoort.\n",
    "- Clustering: Het groeperen van objecten, zodat objecten in hetzelfde cluster meer op elkaar lijken dan op objecten in een andere cluster.\n",
    "- Associatie: Vindt belangrijke relaties tussen variabelen of functies in een gegevensset.\n",
    "\n",
    "| In Data Science behandelde modelleringstechniek         | Evaluatietechniek                          |               |\n",
    "|---------------------------------------------------------|--------------------------------------------|---------------|\n",
    "| Lineaire Regressie                                      | R², MAE, RMSE, MAPE                        | Regressie     |\n",
    "| Forecasting, ANN                                        | MAE, RMSE, MAPE                            | Regressie     |\n",
    "| Clustering                                              | interclusterafstand, intraclusterafstand   | Clustering    |\n",
    "| Association rules                                       | support, confidence, lift                  | Associatie    |\n",
    "| Metaheuristieken                                        | objective function                         | Andere        |\n",
    "| Naive Bayes, beslissingsbomen, discriminantanalyse, ANN | accuracy, precision, recall, TPR, FPR, ROC | Classificatie |"
   ],
   "id": "a073b2a63f288b69"
  },
  {
   "metadata": {},
   "cell_type": "markdown",
   "source": [
    "### Regressie\n",
    "\n",
    "* $R² = (\\frac{1}{2} \\sum_{i=1}^{n}Z_{xi}Z_{yi})² = r_{xy}^{2}$\n",
    "* Mean Absolute Error, $MAE = \\frac{1}{n}\\sum_{i=1}^{n}|y_i - ŷ _i |$\n",
    "* Root Mean Squared Error, $RMSE = \\sqrt{\\frac{1}{n}\\sum_{i=1}^{n}(y_i - ŷ _i)^2}$\n",
    "* Mean Absolute Percentage Error, $MAPE = \\frac{1}{n}\\sum_{i=1}^{n}|\\frac{y_i - ŷ _i}{y_i}|$"
   ],
   "id": "c93b2f9c9f18840a"
  },
  {
   "metadata": {},
   "cell_type": "markdown",
   "source": "## Classificatie metrieken",
   "id": "5765ce9e16e14104"
  },
  {
   "metadata": {},
   "cell_type": "markdown",
   "source": [
    "### Binair vs. Multiclass\n",
    "* Binair: 2 klassen\n",
    "    * M/V\n",
    "    * Goed/Fout\n",
    "    * ...\n",
    "* Multiclass: meer dan 2 klassen\n",
    "    * onvoldoende/Voldoende/Onderscheiding/...\n",
    "\n",
    "Een decision tree wordt gebruikt voor het voorspellen van de klassen.\n",
    "\n",
    "<img src=\"rsc/img/Schermafbeelding 2024-05-16 160750.png\">\n",
    "\n",
    "|                |  Accuracy (ACC)  |  Precision Recall  |  F-measure  |  TP Rate & FP Rate (Confusion Matrix)  |  ROC Curve  |\n",
    "|----------------|:----------------:|:------------------:|:-----------:|:--------------------------------------:|:-----------:|\n",
    "| **Binair**     |        x         |         x          |      x      |                   x                    |      x      |\n",
    "| **Multiclass** |        x         |         x          |      x      |                                        |             |\n"
   ],
   "id": "c0467aead6f4b0ba"
  },
  {
   "metadata": {},
   "cell_type": "markdown",
   "source": [
    "### Confusion Matrix\n",
    "Gebruikt door:\n",
    "* Binair\n",
    "* Multiclass"
   ],
   "id": "2ae2a6b38ed464de"
  }
 ],
 "metadata": {
  "kernelspec": {
   "display_name": "Python 3",
   "language": "python",
   "name": "python3"
  },
  "language_info": {
   "codemirror_mode": {
    "name": "ipython",
    "version": 2
   },
   "file_extension": ".py",
   "mimetype": "text/x-python",
   "name": "python",
   "nbconvert_exporter": "python",
   "pygments_lexer": "ipython2",
   "version": "2.7.6"
  }
 },
 "nbformat": 4,
 "nbformat_minor": 5
}
