{
 "cells": [
  {
   "metadata": {},
   "cell_type": "markdown",
   "source": "# Oef",
   "id": "8d6399abfc08cc21"
  },
  {
   "metadata": {},
   "cell_type": "markdown",
   "source": "## Imports",
   "id": "e3476e801fb5ffa0"
  },
  {
   "metadata": {
    "ExecuteTime": {
     "end_time": "2024-06-10T08:13:45.837878Z",
     "start_time": "2024-06-10T08:13:44.562180Z"
    }
   },
   "cell_type": "code",
   "source": [
    "import pandas as pd\n",
    "from IPython import InteractiveShell\n",
    "\n",
    "from functions.functions_Y2.evaluationMetrics import *\n",
    "\n",
    "InteractiveShell.ast_node_interactivity = \"all\""
   ],
   "id": "3142f629584a0329",
   "outputs": [],
   "execution_count": 1
  },
  {
   "metadata": {},
   "cell_type": "markdown",
   "source": "## Oef 1",
   "id": "e7dbffc08a1b217d"
  },
  {
   "metadata": {},
   "cell_type": "markdown",
   "source": [
    "### a)\n",
    "- TP = 100\n",
    "- TN = 50\n",
    "- FP = 10\n",
    "- FN = 5"
   ],
   "id": "5ac4f6e926e59791"
  },
  {
   "metadata": {},
   "cell_type": "markdown",
   "source": "### b)",
   "id": "6f6f52530a2e6d62"
  },
  {
   "metadata": {
    "ExecuteTime": {
     "end_time": "2024-06-10T08:13:45.849445Z",
     "start_time": "2024-06-10T08:13:45.838886Z"
    }
   },
   "cell_type": "code",
   "source": [
    "pm = pd.DataFrame([[100, 5, 105], [10, 50, 60], [110, 55, 165]], columns=['YES', 'NO', 'Total'],\n",
    "                  index=['YES', 'NO', 'Total'])\n",
    "\n",
    "pm"
   ],
   "id": "c25e39cf67148153",
   "outputs": [
    {
     "data": {
      "text/plain": [
       "       YES  NO  Total\n",
       "YES    100   5    105\n",
       "NO      10  50     60\n",
       "Total  110  55    165"
      ],
      "text/html": [
       "<div>\n",
       "<style scoped>\n",
       "    .dataframe tbody tr th:only-of-type {\n",
       "        vertical-align: middle;\n",
       "    }\n",
       "\n",
       "    .dataframe tbody tr th {\n",
       "        vertical-align: top;\n",
       "    }\n",
       "\n",
       "    .dataframe thead th {\n",
       "        text-align: right;\n",
       "    }\n",
       "</style>\n",
       "<table border=\"1\" class=\"dataframe\">\n",
       "  <thead>\n",
       "    <tr style=\"text-align: right;\">\n",
       "      <th></th>\n",
       "      <th>YES</th>\n",
       "      <th>NO</th>\n",
       "      <th>Total</th>\n",
       "    </tr>\n",
       "  </thead>\n",
       "  <tbody>\n",
       "    <tr>\n",
       "      <th>YES</th>\n",
       "      <td>100</td>\n",
       "      <td>5</td>\n",
       "      <td>105</td>\n",
       "    </tr>\n",
       "    <tr>\n",
       "      <th>NO</th>\n",
       "      <td>10</td>\n",
       "      <td>50</td>\n",
       "      <td>60</td>\n",
       "    </tr>\n",
       "    <tr>\n",
       "      <th>Total</th>\n",
       "      <td>110</td>\n",
       "      <td>55</td>\n",
       "      <td>165</td>\n",
       "    </tr>\n",
       "  </tbody>\n",
       "</table>\n",
       "</div>"
      ]
     },
     "execution_count": 2,
     "metadata": {},
     "output_type": "execute_result"
    }
   ],
   "execution_count": 2
  },
  {
   "metadata": {
    "ExecuteTime": {
     "end_time": "2024-06-10T08:13:45.863597Z",
     "start_time": "2024-06-10T08:13:45.850453Z"
    }
   },
   "cell_type": "code",
   "source": [
    "acc, comb = evaluate(pm)\n",
    "acc\n",
    "comb"
   ],
   "id": "4e07f891d33e653f",
   "outputs": [
    {
     "data": {
      "text/plain": [
       "0.9090909090909091"
      ]
     },
     "execution_count": 3,
     "metadata": {},
     "output_type": "execute_result"
    },
    {
     "data": {
      "text/plain": [
       "                        YES         NO  Total  Class Recall  F1-Score\n",
       "YES              100.000000   5.000000  105.0      0.952381  0.930233\n",
       "NO                10.000000  50.000000   60.0      0.833333  0.869565\n",
       "Total            110.000000  55.000000  165.0           NaN       NaN\n",
       "Class Precision    0.909091   0.909091    NaN           NaN       NaN"
      ],
      "text/html": [
       "<div>\n",
       "<style scoped>\n",
       "    .dataframe tbody tr th:only-of-type {\n",
       "        vertical-align: middle;\n",
       "    }\n",
       "\n",
       "    .dataframe tbody tr th {\n",
       "        vertical-align: top;\n",
       "    }\n",
       "\n",
       "    .dataframe thead th {\n",
       "        text-align: right;\n",
       "    }\n",
       "</style>\n",
       "<table border=\"1\" class=\"dataframe\">\n",
       "  <thead>\n",
       "    <tr style=\"text-align: right;\">\n",
       "      <th></th>\n",
       "      <th>YES</th>\n",
       "      <th>NO</th>\n",
       "      <th>Total</th>\n",
       "      <th>Class Recall</th>\n",
       "      <th>F1-Score</th>\n",
       "    </tr>\n",
       "  </thead>\n",
       "  <tbody>\n",
       "    <tr>\n",
       "      <th>YES</th>\n",
       "      <td>100.000000</td>\n",
       "      <td>5.000000</td>\n",
       "      <td>105.0</td>\n",
       "      <td>0.952381</td>\n",
       "      <td>0.930233</td>\n",
       "    </tr>\n",
       "    <tr>\n",
       "      <th>NO</th>\n",
       "      <td>10.000000</td>\n",
       "      <td>50.000000</td>\n",
       "      <td>60.0</td>\n",
       "      <td>0.833333</td>\n",
       "      <td>0.869565</td>\n",
       "    </tr>\n",
       "    <tr>\n",
       "      <th>Total</th>\n",
       "      <td>110.000000</td>\n",
       "      <td>55.000000</td>\n",
       "      <td>165.0</td>\n",
       "      <td>NaN</td>\n",
       "      <td>NaN</td>\n",
       "    </tr>\n",
       "    <tr>\n",
       "      <th>Class Precision</th>\n",
       "      <td>0.909091</td>\n",
       "      <td>0.909091</td>\n",
       "      <td>NaN</td>\n",
       "      <td>NaN</td>\n",
       "      <td>NaN</td>\n",
       "    </tr>\n",
       "  </tbody>\n",
       "</table>\n",
       "</div>"
      ]
     },
     "execution_count": 3,
     "metadata": {},
     "output_type": "execute_result"
    }
   ],
   "execution_count": 3
  },
  {
   "metadata": {},
   "cell_type": "markdown",
   "source": "### c)",
   "id": "46f68508d56fa955"
  },
  {
   "metadata": {},
   "cell_type": "markdown",
   "source": "#### $F_1$",
   "id": "5ce9248ca853a63e"
  },
  {
   "metadata": {
    "ExecuteTime": {
     "end_time": "2024-06-10T08:13:45.869857Z",
     "start_time": "2024-06-10T08:13:45.864605Z"
    }
   },
   "cell_type": "code",
   "source": [
    "f1_score(pm, 'YES', 1)\n",
    "f1_score(pm, 'NO', 1)"
   ],
   "id": "bc53339d29ab1c62",
   "outputs": [
    {
     "data": {
      "text/plain": [
       "0.9302325581395349"
      ]
     },
     "execution_count": 4,
     "metadata": {},
     "output_type": "execute_result"
    },
    {
     "data": {
      "text/plain": [
       "0.8695652173913043"
      ]
     },
     "execution_count": 4,
     "metadata": {},
     "output_type": "execute_result"
    }
   ],
   "execution_count": 4
  },
  {
   "metadata": {},
   "cell_type": "markdown",
   "source": "#### $F_{1.5}$",
   "id": "a6f17961744c4af2"
  },
  {
   "metadata": {
    "ExecuteTime": {
     "end_time": "2024-06-10T08:13:45.875331Z",
     "start_time": "2024-06-10T08:13:45.870368Z"
    }
   },
   "cell_type": "code",
   "source": [
    "f1_score(pm, 'YES', 1.5)\n",
    "f1_score(pm, 'NO', 1.5)"
   ],
   "id": "7641384d0b60ff5d",
   "outputs": [
    {
     "data": {
      "text/plain": [
       "0.9386281588447655"
      ]
     },
     "execution_count": 5,
     "metadata": {},
     "output_type": "execute_result"
    },
    {
     "data": {
      "text/plain": [
       "0.855263157894737"
      ]
     },
     "execution_count": 5,
     "metadata": {},
     "output_type": "execute_result"
    }
   ],
   "execution_count": 5
  },
  {
   "metadata": {},
   "cell_type": "markdown",
   "source": [
    "### d)\n",
    "- TPR = 100/111 == recall\n",
    "- FPR = 10 / 60"
   ],
   "id": "5754af7eae49497"
  },
  {
   "metadata": {},
   "cell_type": "markdown",
   "source": "## Oef 2.",
   "id": "3868d75f5ae7602f"
  },
  {
   "metadata": {
    "ExecuteTime": {
     "end_time": "2024-06-10T08:13:45.882396Z",
     "start_time": "2024-06-10T08:13:45.876345Z"
    }
   },
   "cell_type": "code",
   "source": [
    "cm = pd.DataFrame([[100, 0, 100], [50, 5, 55], [150, 5, 155]], columns=['A', 'B', 'Total'], index=['A', 'B', 'Total'])\n",
    "\n",
    "cm"
   ],
   "id": "476d562cffdfb9d0",
   "outputs": [
    {
     "data": {
      "text/plain": [
       "         A  B  Total\n",
       "A      100  0    100\n",
       "B       50  5     55\n",
       "Total  150  5    155"
      ],
      "text/html": [
       "<div>\n",
       "<style scoped>\n",
       "    .dataframe tbody tr th:only-of-type {\n",
       "        vertical-align: middle;\n",
       "    }\n",
       "\n",
       "    .dataframe tbody tr th {\n",
       "        vertical-align: top;\n",
       "    }\n",
       "\n",
       "    .dataframe thead th {\n",
       "        text-align: right;\n",
       "    }\n",
       "</style>\n",
       "<table border=\"1\" class=\"dataframe\">\n",
       "  <thead>\n",
       "    <tr style=\"text-align: right;\">\n",
       "      <th></th>\n",
       "      <th>A</th>\n",
       "      <th>B</th>\n",
       "      <th>Total</th>\n",
       "    </tr>\n",
       "  </thead>\n",
       "  <tbody>\n",
       "    <tr>\n",
       "      <th>A</th>\n",
       "      <td>100</td>\n",
       "      <td>0</td>\n",
       "      <td>100</td>\n",
       "    </tr>\n",
       "    <tr>\n",
       "      <th>B</th>\n",
       "      <td>50</td>\n",
       "      <td>5</td>\n",
       "      <td>55</td>\n",
       "    </tr>\n",
       "    <tr>\n",
       "      <th>Total</th>\n",
       "      <td>150</td>\n",
       "      <td>5</td>\n",
       "      <td>155</td>\n",
       "    </tr>\n",
       "  </tbody>\n",
       "</table>\n",
       "</div>"
      ]
     },
     "execution_count": 6,
     "metadata": {},
     "output_type": "execute_result"
    }
   ],
   "execution_count": 6
  },
  {
   "metadata": {},
   "cell_type": "markdown",
   "source": [
    "### a)\n",
    "- TP = 100\n",
    "- TN = 5\n",
    "- FP = 50\n",
    "- FN = 0"
   ],
   "id": "7ef80dad3f7984ee"
  },
  {
   "metadata": {},
   "cell_type": "markdown",
   "source": "### b)",
   "id": "42da97a16fec9503"
  },
  {
   "metadata": {
    "ExecuteTime": {
     "end_time": "2024-06-10T08:13:45.893940Z",
     "start_time": "2024-06-10T08:13:45.883405Z"
    }
   },
   "cell_type": "code",
   "source": "evaluate(cm, do_print=True)",
   "id": "e8387e655b6119d5",
   "outputs": [
    {
     "name": "stdout",
     "output_type": "stream",
     "text": [
      "The accuracy is: 0.6774193548387096\n"
     ]
    },
    {
     "data": {
      "text/plain": [
       "                          A    B  Total  Class Recall  F1-Score\n",
       "A                100.000000  0.0  100.0      1.000000  0.800000\n",
       "B                 50.000000  5.0   55.0      0.090909  0.166667\n",
       "Total            150.000000  5.0  155.0           NaN       NaN\n",
       "Class Precision    0.666667  1.0    NaN           NaN       NaN"
      ],
      "text/html": [
       "<div>\n",
       "<style scoped>\n",
       "    .dataframe tbody tr th:only-of-type {\n",
       "        vertical-align: middle;\n",
       "    }\n",
       "\n",
       "    .dataframe tbody tr th {\n",
       "        vertical-align: top;\n",
       "    }\n",
       "\n",
       "    .dataframe thead th {\n",
       "        text-align: right;\n",
       "    }\n",
       "</style>\n",
       "<table border=\"1\" class=\"dataframe\">\n",
       "  <thead>\n",
       "    <tr style=\"text-align: right;\">\n",
       "      <th></th>\n",
       "      <th>A</th>\n",
       "      <th>B</th>\n",
       "      <th>Total</th>\n",
       "      <th>Class Recall</th>\n",
       "      <th>F1-Score</th>\n",
       "    </tr>\n",
       "  </thead>\n",
       "  <tbody>\n",
       "    <tr>\n",
       "      <th>A</th>\n",
       "      <td>100.000000</td>\n",
       "      <td>0.0</td>\n",
       "      <td>100.0</td>\n",
       "      <td>1.000000</td>\n",
       "      <td>0.800000</td>\n",
       "    </tr>\n",
       "    <tr>\n",
       "      <th>B</th>\n",
       "      <td>50.000000</td>\n",
       "      <td>5.0</td>\n",
       "      <td>55.0</td>\n",
       "      <td>0.090909</td>\n",
       "      <td>0.166667</td>\n",
       "    </tr>\n",
       "    <tr>\n",
       "      <th>Total</th>\n",
       "      <td>150.000000</td>\n",
       "      <td>5.0</td>\n",
       "      <td>155.0</td>\n",
       "      <td>NaN</td>\n",
       "      <td>NaN</td>\n",
       "    </tr>\n",
       "    <tr>\n",
       "      <th>Class Precision</th>\n",
       "      <td>0.666667</td>\n",
       "      <td>1.0</td>\n",
       "      <td>NaN</td>\n",
       "      <td>NaN</td>\n",
       "      <td>NaN</td>\n",
       "    </tr>\n",
       "  </tbody>\n",
       "</table>\n",
       "</div>"
      ]
     },
     "metadata": {},
     "output_type": "display_data"
    }
   ],
   "execution_count": 7
  },
  {
   "metadata": {},
   "cell_type": "markdown",
   "source": [
    "### c)\n",
    "Voor de A zijn het hoge scores maar de F score van B is zeer laag."
   ],
   "id": "8ca21f0a2add6e32"
  },
  {
   "metadata": {},
   "cell_type": "markdown",
   "source": "## Oef 3.",
   "id": "d9b0f78ade864235"
  },
  {
   "metadata": {
    "ExecuteTime": {
     "end_time": "2024-06-10T08:13:45.901964Z",
     "start_time": "2024-06-10T08:13:45.893940Z"
    }
   },
   "cell_type": "code",
   "source": [
    "cm = pd.DataFrame([[2385, 0, 0, 0, 12, 2397], [4, 332, 1, 0, 0, 337], [0, 0, 908, 0, 0, 908], [1, 0, 8, 1084, 6, 1099],\n",
    "                   [4, 1, 0, 9, 2053, 20679], [2394, 333, 917, 1093, 2071, 6808]],\n",
    "                  columns=['Asfalt', 'Beton', 'Gras', 'Boom', 'Gebouw', 'Totaal'],\n",
    "                  index=['Asfalt', 'Beton', 'Gras', 'Boom', 'Gebouw', 'Totaal'])\n",
    "\n",
    "cm"
   ],
   "id": "547969184b206380",
   "outputs": [
    {
     "data": {
      "text/plain": [
       "        Asfalt  Beton  Gras  Boom  Gebouw  Totaal\n",
       "Asfalt    2385      0     0     0      12    2397\n",
       "Beton        4    332     1     0       0     337\n",
       "Gras         0      0   908     0       0     908\n",
       "Boom         1      0     8  1084       6    1099\n",
       "Gebouw       4      1     0     9    2053   20679\n",
       "Totaal    2394    333   917  1093    2071    6808"
      ],
      "text/html": [
       "<div>\n",
       "<style scoped>\n",
       "    .dataframe tbody tr th:only-of-type {\n",
       "        vertical-align: middle;\n",
       "    }\n",
       "\n",
       "    .dataframe tbody tr th {\n",
       "        vertical-align: top;\n",
       "    }\n",
       "\n",
       "    .dataframe thead th {\n",
       "        text-align: right;\n",
       "    }\n",
       "</style>\n",
       "<table border=\"1\" class=\"dataframe\">\n",
       "  <thead>\n",
       "    <tr style=\"text-align: right;\">\n",
       "      <th></th>\n",
       "      <th>Asfalt</th>\n",
       "      <th>Beton</th>\n",
       "      <th>Gras</th>\n",
       "      <th>Boom</th>\n",
       "      <th>Gebouw</th>\n",
       "      <th>Totaal</th>\n",
       "    </tr>\n",
       "  </thead>\n",
       "  <tbody>\n",
       "    <tr>\n",
       "      <th>Asfalt</th>\n",
       "      <td>2385</td>\n",
       "      <td>0</td>\n",
       "      <td>0</td>\n",
       "      <td>0</td>\n",
       "      <td>12</td>\n",
       "      <td>2397</td>\n",
       "    </tr>\n",
       "    <tr>\n",
       "      <th>Beton</th>\n",
       "      <td>4</td>\n",
       "      <td>332</td>\n",
       "      <td>1</td>\n",
       "      <td>0</td>\n",
       "      <td>0</td>\n",
       "      <td>337</td>\n",
       "    </tr>\n",
       "    <tr>\n",
       "      <th>Gras</th>\n",
       "      <td>0</td>\n",
       "      <td>0</td>\n",
       "      <td>908</td>\n",
       "      <td>0</td>\n",
       "      <td>0</td>\n",
       "      <td>908</td>\n",
       "    </tr>\n",
       "    <tr>\n",
       "      <th>Boom</th>\n",
       "      <td>1</td>\n",
       "      <td>0</td>\n",
       "      <td>8</td>\n",
       "      <td>1084</td>\n",
       "      <td>6</td>\n",
       "      <td>1099</td>\n",
       "    </tr>\n",
       "    <tr>\n",
       "      <th>Gebouw</th>\n",
       "      <td>4</td>\n",
       "      <td>1</td>\n",
       "      <td>0</td>\n",
       "      <td>9</td>\n",
       "      <td>2053</td>\n",
       "      <td>20679</td>\n",
       "    </tr>\n",
       "    <tr>\n",
       "      <th>Totaal</th>\n",
       "      <td>2394</td>\n",
       "      <td>333</td>\n",
       "      <td>917</td>\n",
       "      <td>1093</td>\n",
       "      <td>2071</td>\n",
       "      <td>6808</td>\n",
       "    </tr>\n",
       "  </tbody>\n",
       "</table>\n",
       "</div>"
      ]
     },
     "execution_count": 8,
     "metadata": {},
     "output_type": "execute_result"
    }
   ],
   "execution_count": 8
  },
  {
   "metadata": {},
   "cell_type": "markdown",
   "source": "### a)",
   "id": "d9f1c39044d7401e"
  },
  {
   "metadata": {
    "ExecuteTime": {
     "end_time": "2024-06-10T08:13:45.906984Z",
     "start_time": "2024-06-10T08:13:45.901964Z"
    }
   },
   "cell_type": "code",
   "source": "pos_neg(cm, target='Gras', total_name='Totaal', do_print=True)",
   "id": "420951431af1270d",
   "outputs": [
    {
     "name": "stdout",
     "output_type": "stream",
     "text": [
      "The true positive rate is: 908\n",
      "The false positive rate is: 9\n",
      "The false negative rate is: 0\n",
      "The true negative rate is: None\n"
     ]
    }
   ],
   "execution_count": 9
  },
  {
   "metadata": {},
   "cell_type": "markdown",
   "source": "### b)",
   "id": "8ecb87a075d44997"
  },
  {
   "metadata": {
    "ExecuteTime": {
     "end_time": "2024-06-10T08:14:54.540752Z",
     "start_time": "2024-06-10T08:14:54.528811Z"
    }
   },
   "cell_type": "code",
   "source": "evaluate(cm, do_print=True)",
   "id": "b624c7f651bf0bb3",
   "outputs": [
    {
     "name": "stdout",
     "output_type": "stream",
     "text": [
      "The accuracy is: 0.9932432432432432\n"
     ]
    },
    {
     "data": {
      "text/plain": [
       "                      Asfalt       Beton        Gras         Boom  \\\n",
       "Asfalt           2385.000000    0.000000    0.000000     0.000000   \n",
       "Beton               4.000000  332.000000    1.000000     0.000000   \n",
       "Gras                0.000000    0.000000  908.000000     0.000000   \n",
       "Boom                1.000000    0.000000    8.000000  1084.000000   \n",
       "Gebouw              4.000000    1.000000    0.000000     9.000000   \n",
       "Totaal           2394.000000  333.000000  917.000000  1093.000000   \n",
       "Class Precision     0.996241    0.996997    0.990185     0.991766   \n",
       "\n",
       "                      Gebouw   Totaal  Class Recall  F1-Score  \n",
       "Asfalt             12.000000   2397.0      0.994994  0.995617  \n",
       "Beton               0.000000    337.0      0.985163  0.991045  \n",
       "Gras                0.000000    908.0      1.000000  0.995068  \n",
       "Boom                6.000000   1099.0      0.986351  0.989051  \n",
       "Gebouw           2053.000000  20679.0      0.099279  0.180484  \n",
       "Totaal           2071.000000   6808.0           NaN       NaN  \n",
       "Class Precision     0.991309      NaN           NaN       NaN  "
      ],
      "text/html": [
       "<div>\n",
       "<style scoped>\n",
       "    .dataframe tbody tr th:only-of-type {\n",
       "        vertical-align: middle;\n",
       "    }\n",
       "\n",
       "    .dataframe tbody tr th {\n",
       "        vertical-align: top;\n",
       "    }\n",
       "\n",
       "    .dataframe thead th {\n",
       "        text-align: right;\n",
       "    }\n",
       "</style>\n",
       "<table border=\"1\" class=\"dataframe\">\n",
       "  <thead>\n",
       "    <tr style=\"text-align: right;\">\n",
       "      <th></th>\n",
       "      <th>Asfalt</th>\n",
       "      <th>Beton</th>\n",
       "      <th>Gras</th>\n",
       "      <th>Boom</th>\n",
       "      <th>Gebouw</th>\n",
       "      <th>Totaal</th>\n",
       "      <th>Class Recall</th>\n",
       "      <th>F1-Score</th>\n",
       "    </tr>\n",
       "  </thead>\n",
       "  <tbody>\n",
       "    <tr>\n",
       "      <th>Asfalt</th>\n",
       "      <td>2385.000000</td>\n",
       "      <td>0.000000</td>\n",
       "      <td>0.000000</td>\n",
       "      <td>0.000000</td>\n",
       "      <td>12.000000</td>\n",
       "      <td>2397.0</td>\n",
       "      <td>0.994994</td>\n",
       "      <td>0.995617</td>\n",
       "    </tr>\n",
       "    <tr>\n",
       "      <th>Beton</th>\n",
       "      <td>4.000000</td>\n",
       "      <td>332.000000</td>\n",
       "      <td>1.000000</td>\n",
       "      <td>0.000000</td>\n",
       "      <td>0.000000</td>\n",
       "      <td>337.0</td>\n",
       "      <td>0.985163</td>\n",
       "      <td>0.991045</td>\n",
       "    </tr>\n",
       "    <tr>\n",
       "      <th>Gras</th>\n",
       "      <td>0.000000</td>\n",
       "      <td>0.000000</td>\n",
       "      <td>908.000000</td>\n",
       "      <td>0.000000</td>\n",
       "      <td>0.000000</td>\n",
       "      <td>908.0</td>\n",
       "      <td>1.000000</td>\n",
       "      <td>0.995068</td>\n",
       "    </tr>\n",
       "    <tr>\n",
       "      <th>Boom</th>\n",
       "      <td>1.000000</td>\n",
       "      <td>0.000000</td>\n",
       "      <td>8.000000</td>\n",
       "      <td>1084.000000</td>\n",
       "      <td>6.000000</td>\n",
       "      <td>1099.0</td>\n",
       "      <td>0.986351</td>\n",
       "      <td>0.989051</td>\n",
       "    </tr>\n",
       "    <tr>\n",
       "      <th>Gebouw</th>\n",
       "      <td>4.000000</td>\n",
       "      <td>1.000000</td>\n",
       "      <td>0.000000</td>\n",
       "      <td>9.000000</td>\n",
       "      <td>2053.000000</td>\n",
       "      <td>20679.0</td>\n",
       "      <td>0.099279</td>\n",
       "      <td>0.180484</td>\n",
       "    </tr>\n",
       "    <tr>\n",
       "      <th>Totaal</th>\n",
       "      <td>2394.000000</td>\n",
       "      <td>333.000000</td>\n",
       "      <td>917.000000</td>\n",
       "      <td>1093.000000</td>\n",
       "      <td>2071.000000</td>\n",
       "      <td>6808.0</td>\n",
       "      <td>NaN</td>\n",
       "      <td>NaN</td>\n",
       "    </tr>\n",
       "    <tr>\n",
       "      <th>Class Precision</th>\n",
       "      <td>0.996241</td>\n",
       "      <td>0.996997</td>\n",
       "      <td>0.990185</td>\n",
       "      <td>0.991766</td>\n",
       "      <td>0.991309</td>\n",
       "      <td>NaN</td>\n",
       "      <td>NaN</td>\n",
       "      <td>NaN</td>\n",
       "    </tr>\n",
       "  </tbody>\n",
       "</table>\n",
       "</div>"
      ]
     },
     "metadata": {},
     "output_type": "display_data"
    }
   ],
   "execution_count": 11
  },
  {
   "metadata": {},
   "cell_type": "markdown",
   "source": "## Oef 4.",
   "id": "b2f652fbfeea2784"
  },
  {
   "metadata": {
    "ExecuteTime": {
     "end_time": "2024-06-10T08:17:06.421045Z",
     "start_time": "2024-06-10T08:17:06.413090Z"
    }
   },
   "cell_type": "code",
   "source": [
    "simpsons = pd.read_csv('../../../data_aux/simpsons_roc1.csv')\n",
    "\n",
    "simpsons"
   ],
   "id": "40e5aa950f46c6bf",
   "outputs": [
    {
     "data": {
      "text/plain": [
       "   y_true   y_score\n",
       "0       0  0.001611\n",
       "1       1  0.568856\n",
       "2       0  0.224951\n",
       "3       1  0.678186\n",
       "4       1  0.780744\n",
       "5       0  0.030405\n",
       "6       1  0.431997\n",
       "7       0  0.346567\n",
       "8       0  0.102228"
      ],
      "text/html": [
       "<div>\n",
       "<style scoped>\n",
       "    .dataframe tbody tr th:only-of-type {\n",
       "        vertical-align: middle;\n",
       "    }\n",
       "\n",
       "    .dataframe tbody tr th {\n",
       "        vertical-align: top;\n",
       "    }\n",
       "\n",
       "    .dataframe thead th {\n",
       "        text-align: right;\n",
       "    }\n",
       "</style>\n",
       "<table border=\"1\" class=\"dataframe\">\n",
       "  <thead>\n",
       "    <tr style=\"text-align: right;\">\n",
       "      <th></th>\n",
       "      <th>y_true</th>\n",
       "      <th>y_score</th>\n",
       "    </tr>\n",
       "  </thead>\n",
       "  <tbody>\n",
       "    <tr>\n",
       "      <th>0</th>\n",
       "      <td>0</td>\n",
       "      <td>0.001611</td>\n",
       "    </tr>\n",
       "    <tr>\n",
       "      <th>1</th>\n",
       "      <td>1</td>\n",
       "      <td>0.568856</td>\n",
       "    </tr>\n",
       "    <tr>\n",
       "      <th>2</th>\n",
       "      <td>0</td>\n",
       "      <td>0.224951</td>\n",
       "    </tr>\n",
       "    <tr>\n",
       "      <th>3</th>\n",
       "      <td>1</td>\n",
       "      <td>0.678186</td>\n",
       "    </tr>\n",
       "    <tr>\n",
       "      <th>4</th>\n",
       "      <td>1</td>\n",
       "      <td>0.780744</td>\n",
       "    </tr>\n",
       "    <tr>\n",
       "      <th>5</th>\n",
       "      <td>0</td>\n",
       "      <td>0.030405</td>\n",
       "    </tr>\n",
       "    <tr>\n",
       "      <th>6</th>\n",
       "      <td>1</td>\n",
       "      <td>0.431997</td>\n",
       "    </tr>\n",
       "    <tr>\n",
       "      <th>7</th>\n",
       "      <td>0</td>\n",
       "      <td>0.346567</td>\n",
       "    </tr>\n",
       "    <tr>\n",
       "      <th>8</th>\n",
       "      <td>0</td>\n",
       "      <td>0.102228</td>\n",
       "    </tr>\n",
       "  </tbody>\n",
       "</table>\n",
       "</div>"
      ]
     },
     "execution_count": 12,
     "metadata": {},
     "output_type": "execute_result"
    }
   ],
   "execution_count": 12
  },
  {
   "metadata": {},
   "cell_type": "markdown",
   "source": "### a)",
   "id": "4a62b898d1ffd175"
  },
  {
   "metadata": {
    "ExecuteTime": {
     "end_time": "2024-06-10T08:17:58.301636Z",
     "start_time": "2024-06-10T08:17:58.152215Z"
    }
   },
   "cell_type": "code",
   "source": "plot_roc(simpsons['y_true'], simpsons['y_score'])",
   "id": "290a962c09e4b8dc",
   "outputs": [
    {
     "data": {
      "text/plain": [
       "<Figure size 700x700 with 1 Axes>"
      ],
      "image/png": "[encoded data removed]"
     },
     "metadata": {},
     "output_type": "display_data"
    }
   ],
   "execution_count": 13
  },
  {
   "metadata": {},
   "cell_type": "markdown",
   "source": [
    "### b)\n",
    "De optimale cutoff is 0.43"
   ],
   "id": "ff644c4d5ce358c9"
  },
  {
   "metadata": {},
   "cell_type": "markdown",
   "source": [
    "### c)\n",
    "Een kwaliteitsmaatstaaf. Hoe dichter bij 1, hoe beter"
   ],
   "id": "c09c9b608fcf44d9"
  },
  {
   "metadata": {},
   "cell_type": "markdown",
   "source": "## Oef 5.",
   "id": "c3a4e3b87d5a4f31"
  },
  {
   "metadata": {},
   "cell_type": "markdown",
   "source": "### a)",
   "id": "36bd8780e155fa28"
  },
  {
   "metadata": {
    "ExecuteTime": {
     "end_time": "2024-06-10T08:39:08.992920Z",
     "start_time": "2024-06-10T08:39:08.978323Z"
    }
   },
   "cell_type": "code",
   "source": [
    "inf1 = pd.read_csv('../../../data_aux/education_roc1.csv')\n",
    "\n",
    "inf1\n",
    "\n",
    "inf2 = pd.read_csv('../../../data_aux/education_roc2.csv')\n",
    "\n",
    "inf2"
   ],
   "id": "8edf4384fa6b81bd",
   "outputs": [
    {
     "data": {
      "text/plain": [
       "      12+ yrs   6-11yrs   y_true\n",
       "0    0.337185  0.662815  6-11yrs\n",
       "1    0.275267  0.724733  6-11yrs\n",
       "2    0.766077  0.233923  6-11yrs\n",
       "3    0.468015  0.531985  6-11yrs\n",
       "4    0.808740  0.191260  6-11yrs\n",
       "..        ...       ...      ...\n",
       "231  0.540929  0.459071  12+ yrs\n",
       "232  0.445407  0.554593  12+ yrs\n",
       "233  0.374855  0.625145  12+ yrs\n",
       "234  0.603396  0.396604  12+ yrs\n",
       "235  0.766077  0.233923  12+ yrs\n",
       "\n",
       "[236 rows x 3 columns]"
      ],
      "text/html": [
       "<div>\n",
       "<style scoped>\n",
       "    .dataframe tbody tr th:only-of-type {\n",
       "        vertical-align: middle;\n",
       "    }\n",
       "\n",
       "    .dataframe tbody tr th {\n",
       "        vertical-align: top;\n",
       "    }\n",
       "\n",
       "    .dataframe thead th {\n",
       "        text-align: right;\n",
       "    }\n",
       "</style>\n",
       "<table border=\"1\" class=\"dataframe\">\n",
       "  <thead>\n",
       "    <tr style=\"text-align: right;\">\n",
       "      <th></th>\n",
       "      <th>12+ yrs</th>\n",
       "      <th>6-11yrs</th>\n",
       "      <th>y_true</th>\n",
       "    </tr>\n",
       "  </thead>\n",
       "  <tbody>\n",
       "    <tr>\n",
       "      <th>0</th>\n",
       "      <td>0.337185</td>\n",
       "      <td>0.662815</td>\n",
       "      <td>6-11yrs</td>\n",
       "    </tr>\n",
       "    <tr>\n",
       "      <th>1</th>\n",
       "      <td>0.275267</td>\n",
       "      <td>0.724733</td>\n",
       "      <td>6-11yrs</td>\n",
       "    </tr>\n",
       "    <tr>\n",
       "      <th>2</th>\n",
       "      <td>0.766077</td>\n",
       "      <td>0.233923</td>\n",
       "      <td>6-11yrs</td>\n",
       "    </tr>\n",
       "    <tr>\n",
       "      <th>3</th>\n",
       "      <td>0.468015</td>\n",
       "      <td>0.531985</td>\n",
       "      <td>6-11yrs</td>\n",
       "    </tr>\n",
       "    <tr>\n",
       "      <th>4</th>\n",
       "      <td>0.808740</td>\n",
       "      <td>0.191260</td>\n",
       "      <td>6-11yrs</td>\n",
       "    </tr>\n",
       "    <tr>\n",
       "      <th>...</th>\n",
       "      <td>...</td>\n",
       "      <td>...</td>\n",
       "      <td>...</td>\n",
       "    </tr>\n",
       "    <tr>\n",
       "      <th>231</th>\n",
       "      <td>0.540929</td>\n",
       "      <td>0.459071</td>\n",
       "      <td>12+ yrs</td>\n",
       "    </tr>\n",
       "    <tr>\n",
       "      <th>232</th>\n",
       "      <td>0.445407</td>\n",
       "      <td>0.554593</td>\n",
       "      <td>12+ yrs</td>\n",
       "    </tr>\n",
       "    <tr>\n",
       "      <th>233</th>\n",
       "      <td>0.374855</td>\n",
       "      <td>0.625145</td>\n",
       "      <td>12+ yrs</td>\n",
       "    </tr>\n",
       "    <tr>\n",
       "      <th>234</th>\n",
       "      <td>0.603396</td>\n",
       "      <td>0.396604</td>\n",
       "      <td>12+ yrs</td>\n",
       "    </tr>\n",
       "    <tr>\n",
       "      <th>235</th>\n",
       "      <td>0.766077</td>\n",
       "      <td>0.233923</td>\n",
       "      <td>12+ yrs</td>\n",
       "    </tr>\n",
       "  </tbody>\n",
       "</table>\n",
       "<p>236 rows × 3 columns</p>\n",
       "</div>"
      ]
     },
     "execution_count": 15,
     "metadata": {},
     "output_type": "execute_result"
    },
    {
     "data": {
      "text/plain": [
       "     12+ yrs       6-11yrs   y_true\n",
       "0        0.0  1.000000e+00  6-11yrs\n",
       "1        0.0  1.000000e+00  6-11yrs\n",
       "2        0.0  1.000000e+00  6-11yrs\n",
       "3        0.0  1.000000e+00  6-11yrs\n",
       "4        0.0  1.000000e+00  6-11yrs\n",
       "..       ...           ...      ...\n",
       "231      1.0  1.116710e-29  12+ yrs\n",
       "232      1.0  5.423213e-31  12+ yrs\n",
       "233      1.0  3.530097e-30  12+ yrs\n",
       "234      1.0  1.599679e-28  12+ yrs\n",
       "235      1.0  1.730881e-28  12+ yrs\n",
       "\n",
       "[236 rows x 3 columns]"
      ],
      "text/html": [
       "<div>\n",
       "<style scoped>\n",
       "    .dataframe tbody tr th:only-of-type {\n",
       "        vertical-align: middle;\n",
       "    }\n",
       "\n",
       "    .dataframe tbody tr th {\n",
       "        vertical-align: top;\n",
       "    }\n",
       "\n",
       "    .dataframe thead th {\n",
       "        text-align: right;\n",
       "    }\n",
       "</style>\n",
       "<table border=\"1\" class=\"dataframe\">\n",
       "  <thead>\n",
       "    <tr style=\"text-align: right;\">\n",
       "      <th></th>\n",
       "      <th>12+ yrs</th>\n",
       "      <th>6-11yrs</th>\n",
       "      <th>y_true</th>\n",
       "    </tr>\n",
       "  </thead>\n",
       "  <tbody>\n",
       "    <tr>\n",
       "      <th>0</th>\n",
       "      <td>0.0</td>\n",
       "      <td>1.000000e+00</td>\n",
       "      <td>6-11yrs</td>\n",
       "    </tr>\n",
       "    <tr>\n",
       "      <th>1</th>\n",
       "      <td>0.0</td>\n",
       "      <td>1.000000e+00</td>\n",
       "      <td>6-11yrs</td>\n",
       "    </tr>\n",
       "    <tr>\n",
       "      <th>2</th>\n",
       "      <td>0.0</td>\n",
       "      <td>1.000000e+00</td>\n",
       "      <td>6-11yrs</td>\n",
       "    </tr>\n",
       "    <tr>\n",
       "      <th>3</th>\n",
       "      <td>0.0</td>\n",
       "      <td>1.000000e+00</td>\n",
       "      <td>6-11yrs</td>\n",
       "    </tr>\n",
       "    <tr>\n",
       "      <th>4</th>\n",
       "      <td>0.0</td>\n",
       "      <td>1.000000e+00</td>\n",
       "      <td>6-11yrs</td>\n",
       "    </tr>\n",
       "    <tr>\n",
       "      <th>...</th>\n",
       "      <td>...</td>\n",
       "      <td>...</td>\n",
       "      <td>...</td>\n",
       "    </tr>\n",
       "    <tr>\n",
       "      <th>231</th>\n",
       "      <td>1.0</td>\n",
       "      <td>1.116710e-29</td>\n",
       "      <td>12+ yrs</td>\n",
       "    </tr>\n",
       "    <tr>\n",
       "      <th>232</th>\n",
       "      <td>1.0</td>\n",
       "      <td>5.423213e-31</td>\n",
       "      <td>12+ yrs</td>\n",
       "    </tr>\n",
       "    <tr>\n",
       "      <th>233</th>\n",
       "      <td>1.0</td>\n",
       "      <td>3.530097e-30</td>\n",
       "      <td>12+ yrs</td>\n",
       "    </tr>\n",
       "    <tr>\n",
       "      <th>234</th>\n",
       "      <td>1.0</td>\n",
       "      <td>1.599679e-28</td>\n",
       "      <td>12+ yrs</td>\n",
       "    </tr>\n",
       "    <tr>\n",
       "      <th>235</th>\n",
       "      <td>1.0</td>\n",
       "      <td>1.730881e-28</td>\n",
       "      <td>12+ yrs</td>\n",
       "    </tr>\n",
       "  </tbody>\n",
       "</table>\n",
       "<p>236 rows × 3 columns</p>\n",
       "</div>"
      ]
     },
     "execution_count": 15,
     "metadata": {},
     "output_type": "execute_result"
    }
   ],
   "execution_count": 15
  },
  {
   "metadata": {},
   "cell_type": "markdown",
   "source": "### b)",
   "id": "fb7184389d885b98"
  },
  {
   "metadata": {
    "ExecuteTime": {
     "end_time": "2024-06-10T08:43:16.124793Z",
     "start_time": "2024-06-10T08:43:15.998995Z"
    }
   },
   "cell_type": "code",
   "source": "plot_roc(inf1['y_true'].apply(lambda x: 1 if x == '6-11yrs' else 0), inf1['6-11yrs'])",
   "id": "45f11e609cab18a8",
   "outputs": [
    {
     "data": {
      "text/plain": [
       "<Figure size 700x700 with 1 Axes>"
      ],
      "image/png": "[encoded data removed]"
     },
     "metadata": {},
     "output_type": "display_data"
    }
   ],
   "execution_count": 17
  },
  {
   "metadata": {
    "ExecuteTime": {
     "end_time": "2024-06-10T08:43:33.305680Z",
     "start_time": "2024-06-10T08:43:33.191681Z"
    }
   },
   "cell_type": "code",
   "source": "plot_roc(inf2['y_true'].apply(lambda x: 1 if x == '6-11yrs' else 0), inf2['6-11yrs'])",
   "id": "b5edb0843d2144e8",
   "outputs": [
    {
     "data": {
      "text/plain": [
       "<Figure size 700x700 with 1 Axes>"
      ],
      "image/png": "[encoded data removed]"
     },
     "metadata": {},
     "output_type": "display_data"
    }
   ],
   "execution_count": 18
  },
  {
   "metadata": {},
   "cell_type": "markdown",
   "source": [
    "### c)\n",
    "1. 0.51\n",
    "2. 1.00"
   ],
   "id": "5dc4b66606ec521f"
  },
  {
   "metadata": {},
   "cell_type": "markdown",
   "source": [
    "### d)\n",
    "De tweede"
   ],
   "id": "e55cead4ca73b0d7"
  }
 ],
 "metadata": {
  "kernelspec": {
   "display_name": "Python 3",
   "language": "python",
   "name": "python3"
  },
  "language_info": {
   "codemirror_mode": {
    "name": "ipython",
    "version": 2
   },
   "file_extension": ".py",
   "mimetype": "text/x-python",
   "name": "python",
   "nbconvert_exporter": "python",
   "pygments_lexer": "ipython2",
   "version": "2.7.6"
  }
 },
 "nbformat": 4,
 "nbformat_minor": 5
}
