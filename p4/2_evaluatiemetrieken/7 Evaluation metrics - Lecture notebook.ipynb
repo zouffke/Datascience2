{
 "cells": [
  {
   "cell_type": "code",
   "execution_count": 1,
   "source": [
    "import os\n",
    "os.chdir('D:\\OneDrive\\codelib\\PycharmProjects\\DA3\\data_aux')"
   ],
   "metadata": {
    "collapsed": false,
    "ExecuteTime": {
     "end_time": "2023-10-11T10:00:53.647187900Z",
     "start_time": "2023-10-11T10:00:53.626850100Z"
    }
   },
   "id": "6bc92cca55f05f76",
   "outputs": []
  },
  {
   "cell_type": "code",
   "execution_count": 2,
   "source": [
    "import numpy as np\n",
    "import pandas as pd\n",
    "import matplotlib\n",
    "import matplotlib.pyplot as plt\n",
    "import math\n",
    "import six\n",
    "import sys\n",
    "import scipy.stats as stats\n",
    "from scipy.stats import binom\n",
    "from scipy.stats import norm\n",
    "from scipy.stats import poisson\n",
    "from scipy.stats import t\n",
    "from scipy.stats import ttest_1samp\n",
    "import statistics"
   ],
   "metadata": {
    "collapsed": false,
    "ExecuteTime": {
     "end_time": "2023-10-11T10:00:58.006967300Z",
     "start_time": "2023-10-11T10:00:55.024954200Z"
    }
   },
   "id": "e851aa5238044ab4",
   "outputs": []
  },
  {
   "cell_type": "code",
   "execution_count": 3,
   "source": [
    "pd.set_option('display.max_columns', None)\n",
    "pd.set_option('display.max_row', None)"
   ],
   "metadata": {
    "collapsed": false,
    "ExecuteTime": {
     "end_time": "2023-10-11T10:00:59.492747500Z",
     "start_time": "2023-10-11T10:00:59.475754Z"
    }
   },
   "id": "b9ab4e4c2d76516f",
   "outputs": []
  },
  {
   "cell_type": "code",
   "execution_count": 4,
   "source": [
    "missing_values = ['n/a', 'na', 'nan', 'N/A', 'NA', 'NaN', 'NAN', '--', 'Missing', 'missing', 'Unknown', 'unknown', 'UNKNOWN']"
   ],
   "metadata": {
    "collapsed": false,
    "ExecuteTime": {
     "end_time": "2023-10-11T10:01:02.742440600Z",
     "start_time": "2023-10-11T10:01:02.722432200Z"
    }
   },
   "id": "9364b7f86f7d60e4",
   "outputs": []
  },
  {
   "cell_type": "markdown",
   "source": [
    "# 3. EVALUATION METRICS IN PYTHON"
   ],
   "metadata": {
    "collapsed": false
   },
   "id": "98c7ec0df9c27f6d"
  },
  {
   "cell_type": "markdown",
   "source": [
    "## Example confusion matrix dataset Iris"
   ],
   "metadata": {
    "collapsed": false
   },
   "id": "f3ac68554cc21050"
  },
  {
   "cell_type": "code",
   "execution_count": null,
   "source": [
    "#Step 1\n",
    "iris = pd.read_csv('iris.csv', delimiter=',', decimal='.')\n",
    "iris.info()"
   ],
   "metadata": {
    "collapsed": false
   },
   "id": "64b9951ba92546f4",
   "outputs": []
  },
  {
   "cell_type": "code",
   "execution_count": null,
   "id": "c425db21",
   "metadata": {},
   "source": [
    "#Step 2\n",
    "from sklearn.discriminant_analysis import LinearDiscriminantAnalysis\n",
    "X = iris[['sepal length', 'sepal width', 'petal length', 'petal width']]\n",
    "y = iris['target']\n",
    "model = LinearDiscriminantAnalysis()\n",
    "model.fit(X, y)"
   ],
   "outputs": []
  },
  {
   "cell_type": "code",
   "execution_count": null,
   "id": "7fc5dfeae4224ad9",
   "metadata": {},
   "source": [
    "#Step 3\n",
    "real= iris.target\n",
    "listoflabels = sorted(real.unique().tolist())\n",
    "predicted = model.predict(X)"
   ],
   "outputs": []
  },
  {
   "cell_type": "code",
   "execution_count": null,
   "source": [
    "from sklearn.metrics import confusion_matrix\n",
    "conf_matrix = confusion_matrix(y_true=real,y_pred=predicted,labels = listoflabels)\n",
    "conf_matrix"
   ],
   "metadata": {
    "collapsed": false
   },
   "id": "5a534e50",
   "outputs": []
  },
  {
   "cell_type": "code",
   "execution_count": null,
   "id": "3bb9b180",
   "metadata": {},
   "source": [
    "from sklearn.metrics import ConfusionMatrixDisplay\n",
    "plt.figure()\n",
    "cmd = ConfusionMatrixDisplay(conf_matrix, display_labels=listoflabels)\n",
    "cmd.plot()\n",
    "plt.show()"
   ],
   "outputs": []
  },
  {
   "cell_type": "code",
   "execution_count": null,
   "id": "e8603078",
   "metadata": {},
   "source": [
    "\"\"\"\n",
    "def show_confusion_table(conf_matrix, labels):\n",
    "    fig, ax = plt.subplots(figsize=(5, 5))\n",
    "    ax.matshow(conf_matrix, cmap=plt.cm.Oranges, alpha=0.3)\n",
    "    for i in range(conf_matrix.shape[0]):\n",
    "        for j in range(conf_matrix.shape[1]):\n",
    "            ax.text(x=j, y=i,s=conf_matrix[i, j], va='center', ha='center', size='xx-large')\n",
    "    plt.xlabel('Predictions', fontsize=18)\n",
    "    plt.ylabel('Actuals', fontsize=18)\n",
    "    plt.title('Confusion Matrix', fontsize=18)\n",
    "    ax.set_xticks(range(0,len(labels)))\n",
    "    ax.set_xticklabels(labels)\n",
    "    ax.set_yticks(range(0,len(labels)))\n",
    "    ax.set_yticklabels(labels)\n",
    "    plt.show()\n",
    "\n",
    "show_confusion_table(conf_matrix, listoflabels) \"\"\""
   ],
   "outputs": []
  },
  {
   "cell_type": "code",
   "execution_count": null,
   "id": "f6a484f470cde31a",
   "metadata": {},
   "source": [
    "#Step 4\n",
    "from sklearn.metrics import accuracy_score, precision_recall_fscore_support\n",
    "accuracy_score (y_true=real,y_pred=predicted)"
   ],
   "outputs": []
  },
  {
   "cell_type": "code",
   "execution_count": null,
   "source": [
    "print(real.unique())\n",
    "precision_recall_fscore_support (y_true=real,y_pred=predicted,labels = real.unique(), beta=1.0)"
   ],
   "metadata": {
    "collapsed": false
   },
   "id": "4b30590f",
   "outputs": []
  },
  {
   "cell_type": "markdown",
   "source": [
    "## Example ROC-curve dataset biopsy"
   ],
   "metadata": {
    "collapsed": false
   },
   "id": "95b8f2cd14fc6578"
  },
  {
   "cell_type": "code",
   "execution_count": 5,
   "id": "34ed45fa",
   "metadata": {
    "lines_to_next_cell": 1,
    "ExecuteTime": {
     "end_time": "2023-10-11T10:01:08.612875500Z",
     "start_time": "2023-10-11T10:01:08.351866800Z"
    }
   },
   "source": [
    "from sklearn.metrics import roc_curve, roc_auc_score \n",
    "\n",
    "def plot_roc(y_true, y_score, title='ROC Curve', **kwargs):\n",
    "    if 'pos_label' in kwargs:\n",
    "        fpr, tpr, thresholds = roc_curve(y_true=y_true, y_score=y_score, pos_label=kwargs.get('pos_label'))\n",
    "        auc = 1-roc_auc_score(y_true, y_score,max_fpr=1.0)\n",
    "    else:\n",
    "        fpr, tpr, thresholds = roc_curve(y_true=y_true, y_score=y_score)\n",
    "        auc = 1-roc_auc_score(y_true, y_score, max_fpr=1.0)\n",
    "\n",
    "    # calculate optimal cut-off with Youden index method\n",
    "    optimal_idx = np.argmax(tpr - fpr)\n",
    "    optimal_threshold = thresholds[optimal_idx]\n",
    "\n",
    "    figsize = kwargs.get('figsize', (7, 7))\n",
    "    fig, ax = plt.subplots(1, 1, figsize=figsize)\n",
    "    ax.grid(linestyle='--')\n",
    "\n",
    "    # plot ROC curve\n",
    "    ax.plot(fpr, tpr, color='darkorange', label='AUC: {}'.format(auc))\n",
    "    ax.set_title(title)\n",
    "    ax.set_xlabel('False Positive Rate (FPR)')\n",
    "    ax.set_ylabel('True Positive Rate (TPR)')\n",
    "    ax.fill_between(fpr, tpr, alpha=0.3, color='darkorange', edgecolor='black')\n",
    "\n",
    "    # plot classifier\n",
    "    ax.plot([0, 1], [0, 1], color='navy', lw=2, linestyle='--')\n",
    "\n",
    "    # plot optimal cut-off\n",
    "    ax.scatter(fpr[optimal_idx], tpr[optimal_idx], label='optimal cutoff {:.2f} on ({:.2f},{:.2f})'.format(optimal_threshold, fpr[optimal_idx], tpr[optimal_idx]), color='red')\n",
    "    ax.plot([fpr[optimal_idx], fpr[optimal_idx]], [0, tpr[optimal_idx]], linestyle='--', color='red')\n",
    "    ax.plot([0, fpr[optimal_idx]], [tpr[optimal_idx], tpr[optimal_idx]], linestyle='--', color='red')\n",
    "\n",
    "    ax.legend(loc='lower right')\n",
    "    plt.show()"
   ],
   "outputs": []
  },
  {
   "cell_type": "code",
   "execution_count": null,
   "id": "b7f58a0c",
   "metadata": {},
   "source": [
    "#Step 1: Read the data\n",
    "biopsy = pd.read_csv('biopsy.csv', delimiter=';')"
   ],
   "outputs": []
  },
  {
   "cell_type": "markdown",
   "source": [
    "Model based on V1"
   ],
   "metadata": {
    "collapsed": false
   },
   "id": "3a2b832100d79ea0"
  },
  {
   "cell_type": "code",
   "execution_count": null,
   "source": [
    "#Step 2: Make a model\n",
    "#X = biopsy[['V1']]\n",
    "X = biopsy[['V1']]\n",
    "y = biopsy['class']\n",
    "listoflabels = sorted(y.unique().tolist())\n",
    "model = LinearDiscriminantAnalysis()\n",
    "model.fit(X,y)"
   ],
   "metadata": {
    "collapsed": false
   },
   "id": "b51978d81b9e6c3d",
   "outputs": []
  },
  {
   "cell_type": "markdown",
   "source": [
    "Model based on V1 and V2"
   ],
   "metadata": {
    "collapsed": false
   },
   "id": "845481bbfc65855e"
  },
  {
   "cell_type": "code",
   "execution_count": null,
   "id": "994d4b26",
   "metadata": {},
   "source": [
    "#Step 2: Make a model\n",
    "#X = biopsy[['V1']]\n",
    "X = biopsy[['V1','V2']]\n",
    "y = biopsy['class']\n",
    "listoflabels = sorted(y.unique().tolist())\n",
    "model = LinearDiscriminantAnalysis()\n",
    "model.fit(X,y)"
   ],
   "outputs": []
  },
  {
   "cell_type": "code",
   "execution_count": null,
   "id": "714d2ae4",
   "metadata": {
    "lines_to_next_cell": 2
   },
   "source": [
    "# Step 3: confusion matrix\n",
    "from sklearn.metrics import confusion_matrix, ConfusionMatrixDisplay\n",
    "predicted = model.predict(X)\n",
    "conf_matrix = confusion_matrix(y_true=y,y_pred=predicted)\n",
    "plt.figure()\n",
    "cmd = ConfusionMatrixDisplay(conf_matrix, display_labels=listoflabels)\n",
    "cmd.plot()\n",
    "plt.show()"
   ],
   "outputs": []
  },
  {
   "cell_type": "code",
   "execution_count": null,
   "id": "9753a15a28a23c5a",
   "metadata": {},
   "source": [
    "# Step 4: calculate metrics\n",
    "accuracy_score (y_true=y,y_pred=predicted)"
   ],
   "outputs": []
  },
  {
   "cell_type": "code",
   "execution_count": null,
   "source": [
    "precision_recall_fscore_support (y_true=y,y_pred=predicted, beta=1.0)"
   ],
   "metadata": {
    "collapsed": false
   },
   "id": "24c198c7",
   "outputs": []
  },
  {
   "cell_type": "code",
   "execution_count": null,
   "id": "c3fd85469b25f0ae",
   "metadata": {},
   "source": [
    "#Step 5: Plot ROC curve with home made function\n",
    "y_true = y\n",
    "y_score = model.predict_proba(X)[:,0]\n",
    "plot_roc(y_true, y_score, pos_label='benign')"
   ],
   "outputs": []
  },
  {
   "cell_type": "markdown",
   "source": [
    "# 6. QUESTIONNAIRE"
   ],
   "metadata": {
    "collapsed": false
   },
   "id": "939de44028a3ef8b"
  },
  {
   "cell_type": "markdown",
   "source": [
    "Load data:"
   ],
   "metadata": {
    "collapsed": false
   },
   "id": "b342b75110854ad8"
  },
  {
   "cell_type": "code",
   "execution_count": 7,
   "source": [
    "studenq = pd.read_csv('Questionnaire 21-22.csv', delimiter=';', decimal='.')\n",
    "studenq.info()\n",
    "studenq.describe()"
   ],
   "metadata": {
    "collapsed": false,
    "ExecuteTime": {
     "end_time": "2023-10-11T10:03:21.235859700Z",
     "start_time": "2023-10-11T10:03:21.167743100Z"
    }
   },
   "id": "26fe9a15affae0ed",
   "outputs": []
  },
  {
   "cell_type": "markdown",
   "source": [
    "## Question 1"
   ],
   "metadata": {
    "collapsed": false
   },
   "id": "1dce7999def5a7e0"
  },
  {
   "cell_type": "markdown",
   "source": [
    "1\\. We want to predict whether students are very motivated to obtain a degree in Applied Computer Science."
   ],
   "metadata": {
    "collapsed": false
   },
   "id": "61ba582aa58e72a9"
  },
  {
   "cell_type": "markdown",
   "source": [
    "1.a. A The independent data (the forecasters) are \"whether or not to do shopping over the internet\", \"the number of devices used\", \"the number of hours of mathematics\" \n",
    "\n",
    "Put the independent data in a new dataframe with name df and make sure the values of the forecasters are numeric and that unrealistic data is changes into nan-values."
   ],
   "metadata": {
    "collapsed": false
   },
   "id": "ef13874cb0da23fd"
  },
  {
   "cell_type": "code",
   "execution_count": 8,
   "source": [
    "df = pd.DataFrame()\n",
    "df['Mobile Devices'] = studenq['Mobile Devices'].copy()\n",
    "df['Hours Math'] = studenq['Hours Math'].copy()\n",
    "df['Internet Purchase'] = studenq['Internet Purchase'].copy()\n",
    "#OR\n",
    "#df = studenq.loc[:,['Mobile Devices','Hours Math','Internet Purchase']].copy()"
   ],
   "metadata": {
    "collapsed": false,
    "ExecuteTime": {
     "end_time": "2023-10-11T10:03:27.756745300Z",
     "start_time": "2023-10-11T10:03:27.729964700Z"
    }
   },
   "id": "6be49a82",
   "outputs": []
  },
  {
   "cell_type": "code",
   "execution_count": 9,
   "id": "562c19b2",
   "metadata": {
    "ExecuteTime": {
     "end_time": "2023-10-11T10:03:39.052272900Z",
     "start_time": "2023-10-11T10:03:39.017952700Z"
    }
   },
   "source": [
    "df['Hours Math'] = pd.to_numeric(df['Hours Math'], errors = 'coerce')\n",
    "df.loc[df['Hours Math'] > 15, 'Hours Math'] = np.nan"
   ],
   "outputs": []
  },
  {
   "cell_type": "code",
   "execution_count": 10,
   "id": "c5aa541f",
   "metadata": {
    "ExecuteTime": {
     "end_time": "2023-10-11T10:03:48.643398100Z",
     "start_time": "2023-10-11T10:03:48.619722200Z"
    }
   },
   "source": [
    "df.loc[df['Internet Purchase'] == 'No', 'Internet Purchase'] = 0\n",
    "df.loc[df['Internet Purchase'] == 'Yes', 'Internet Purchase'] = 1\n",
    "df['Internet Purchase'] = pd.to_numeric(df['Internet Purchase'])"
   ],
   "outputs": []
  },
  {
   "cell_type": "code",
   "execution_count": 11,
   "id": "55185a43",
   "metadata": {
    "ExecuteTime": {
     "end_time": "2023-10-11T10:03:53.586405900Z",
     "start_time": "2023-10-11T10:03:53.507450600Z"
    }
   },
   "source": [
    "df.describe()"
   ],
   "outputs": []
  },
  {
   "cell_type": "markdown",
   "source": [
    "1.b. In the questionnaire you want to predict the \"importance of AI study\". This is an ordinal fact that you will have to reduce to two possible values: anything equal or more than \"Great importance\" is \"large\", everything smaller is \"moderate\". Put this as a column in the dataframe df"
   ],
   "metadata": {
    "collapsed": false
   },
   "id": "8a875d84b12c8c1a"
  },
  {
   "cell_type": "code",
   "execution_count": 12,
   "id": "9752afd1",
   "metadata": {
    "ExecuteTime": {
     "end_time": "2023-10-11T10:04:32.523963200Z",
     "start_time": "2023-10-11T10:04:32.485136700Z"
    }
   },
   "source": [
    "df['Importance AI Study'] = studenq['Importance AI Study'].copy()\n",
    "df['Importance AI Study'].unique()\n",
    "df['Importance AI Study'] = df['Importance AI Study'].replace(to_replace=['Not at all', 'Little importance', 'Moderate importance'], value=['moderate', 'moderate', 'moderate'])\n",
    "df['Importance AI Study'] = df['Importance AI Study'].replace(to_replace=['Great importance', 'Very great importance', 'Extreemly important'], value=['large', 'large', 'large'])\n",
    "df['Importance AI Study'] = df['Importance AI Study'].astype(pd.CategoricalDtype( categories=[\"moderate\", \"large\"], ordered=True))"
   ],
   "outputs": []
  },
  {
   "cell_type": "code",
   "execution_count": null,
   "id": "2de4401f",
   "metadata": {},
   "source": [
    "#OR\n",
    "#studenq['Importance AI Study'] = studenq['Importance AI Study'].astype(pd.CategoricalDtype(categories=['Not at all', 'Little importance', 'Moderate importance', 'Great importance', 'Very great importance', 'Extreemly important'], ordered=True))\n",
    "#importance = pd.Series(index=range(len(studenq)),dtype='category').astype(pd.CategoricalDtype( categories=[\"moderate\", \"large\"], ordered=True))\n",
    "#for i in range(0,len(studenq)):\n",
    "#    if studenq.loc[i,'Importance AI Study'] < 'Great importance':\n",
    "#        importance[i] = 'moderate'\n",
    "#    else:\n",
    "#        importance[i] = 'large'\n",
    "#df['Importance AI Study'] = importance"
   ],
   "outputs": []
  },
  {
   "cell_type": "markdown",
   "source": [
    "1.c. Use linear discriminant analysis as model to predict the dependent variable “importance of AI study” my means of the independent variables (forecasters). \n",
    "Make the predictions for the available data."
   ],
   "metadata": {
    "collapsed": false
   },
   "id": "9f42b96845227d"
  },
  {
   "cell_type": "code",
   "execution_count": 13,
   "id": "02e67276",
   "metadata": {
    "ExecuteTime": {
     "end_time": "2023-10-11T10:05:37.343373400Z",
     "start_time": "2023-10-11T10:05:37.184344100Z"
    }
   },
   "source": [
    "from sklearn.discriminant_analysis import LinearDiscriminantAnalysis\n",
    "model = LinearDiscriminantAnalysis()\n",
    "df=df.dropna(axis='rows')\n",
    "X = df.loc[:,['Mobile Devices','Hours Math','Internet Purchase']].copy()\n",
    "y = df['Importance AI Study'].copy()\n",
    "model.fit(X, y)\n",
    "predicted = model.predict(X)"
   ],
   "outputs": []
  },
  {
   "cell_type": "markdown",
   "source": [
    "1.d. Look at the results of the evaluation mertrics:\n",
    "- Make the confusion matrix\n",
    "- Calculate the Accuracy, Precision, Recall and F1-Measure\n",
    "- Make a ROC curve"
   ],
   "metadata": {
    "collapsed": false
   },
   "id": "3033db4d04edca9"
  },
  {
   "cell_type": "code",
   "execution_count": 14,
   "id": "a1f78e51",
   "metadata": {
    "ExecuteTime": {
     "end_time": "2023-10-11T10:06:38.817515700Z",
     "start_time": "2023-10-11T10:06:38.460253Z"
    }
   },
   "source": [
    "from sklearn.metrics import confusion_matrix, ConfusionMatrixDisplay, accuracy_score, precision_recall_fscore_support, roc_curve, roc_auc_score\n",
    "conf_matrix = confusion_matrix(y_true=y,y_pred=predicted)\n",
    "listoflabels = sorted(y.unique().tolist())\n",
    "plt.figure()\n",
    "cmd = ConfusionMatrixDisplay(conf_matrix, display_labels=listoflabels)\n",
    "cmd.plot()\n",
    "plt.show()"
   ],
   "outputs": []
  },
  {
   "cell_type": "code",
   "execution_count": 15,
   "id": "44e22fe073c71051",
   "metadata": {
    "ExecuteTime": {
     "end_time": "2023-10-11T10:07:59.228041500Z",
     "start_time": "2023-10-11T10:07:59.180732900Z"
    }
   },
   "source": [
    "accuracy_score (y_true=y,y_pred=predicted)"
   ],
   "outputs": []
  },
  {
   "cell_type": "code",
   "execution_count": 16,
   "source": [
    "precision_recall_fscore_support (y_true=y,y_pred=predicted, beta=1.0)"
   ],
   "metadata": {
    "collapsed": false,
    "ExecuteTime": {
     "end_time": "2023-10-11T10:08:15.607898200Z",
     "start_time": "2023-10-11T10:08:15.580274400Z"
    }
   },
   "id": "4466bb60",
   "outputs": []
  },
  {
   "cell_type": "code",
   "execution_count": 17,
   "id": "85c20402",
   "metadata": {
    "ExecuteTime": {
     "end_time": "2023-10-11T10:11:20.934576700Z",
     "start_time": "2023-10-11T10:11:20.614093700Z"
    }
   },
   "source": [
    "y_score = model.predict_proba(X)[:,0]\n",
    "plot_roc(y, y_score, pos_label='large') #home made functio,"
   ],
   "outputs": []
  },
  {
   "cell_type": "code",
   "execution_count": 18,
   "id": "5a60ba8236a47d17",
   "metadata": {
    "ExecuteTime": {
     "end_time": "2023-10-11T10:14:47.576695800Z",
     "start_time": "2023-10-11T10:14:47.547677400Z"
    }
   },
   "source": [
    "fpr, tpr, thresholds = roc_curve(y_true=y, y_score=y_score, pos_label='large')\n",
    "print(fpr)\n",
    "print(tpr)\n",
    "print(thresholds)"
   ],
   "outputs": []
  },
  {
   "cell_type": "code",
   "execution_count": 19,
   "source": [
    "auc = roc_auc_score(y, y_score)\n",
    "print(auc)"
   ],
   "metadata": {
    "collapsed": false,
    "ExecuteTime": {
     "end_time": "2023-10-11T10:16:58.137443Z",
     "start_time": "2023-10-11T10:16:58.113305Z"
    }
   },
   "id": "d2794f3d",
   "outputs": []
  },
  {
   "cell_type": "code",
   "execution_count": null,
   "id": "cdc4e0f5",
   "metadata": {},
   "source": [
    "print(y_score)"
   ],
   "outputs": []
  },
  {
   "cell_type": "code",
   "execution_count": null,
   "source": [],
   "metadata": {
    "collapsed": false
   },
   "id": "b1301489aec3af08",
   "outputs": []
  }
 ],
 "metadata": {
  "jupytext": {
   "cell_metadata_filter": "-all",
   "formats": "py,ipynb",
   "main_language": "python"
  },
  "kernelspec": {
   "name": "python3",
   "language": "python",
   "display_name": "Python 3 (ipykernel)"
  }
 },
 "nbformat": 4,
 "nbformat_minor": 5
}
