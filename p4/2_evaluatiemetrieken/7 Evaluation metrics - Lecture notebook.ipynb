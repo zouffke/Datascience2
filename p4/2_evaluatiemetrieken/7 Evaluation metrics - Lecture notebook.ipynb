{
 "cells": [
  {
   "cell_type": "code",
   "execution_count": 1,
   "outputs": [],
   "source": [
    "import os\n",
    "os.chdir('D:\\OneDrive\\codelib\\PycharmProjects\\DA3\\data_aux')"
   ],
   "metadata": {
    "collapsed": false,
    "ExecuteTime": {
     "end_time": "2023-10-11T10:00:53.647187900Z",
     "start_time": "2023-10-11T10:00:53.626850100Z"
    }
   },
   "id": "6bc92cca55f05f76"
  },
  {
   "cell_type": "code",
   "execution_count": 2,
   "outputs": [],
   "source": [
    "import numpy as np\n",
    "import pandas as pd\n",
    "import matplotlib\n",
    "import matplotlib.pyplot as plt\n",
    "import math\n",
    "import six\n",
    "import sys\n",
    "import scipy.stats as stats\n",
    "from scipy.stats import binom\n",
    "from scipy.stats import norm\n",
    "from scipy.stats import poisson\n",
    "from scipy.stats import t\n",
    "from scipy.stats import ttest_1samp\n",
    "import statistics"
   ],
   "metadata": {
    "collapsed": false,
    "ExecuteTime": {
     "end_time": "2023-10-11T10:00:58.006967300Z",
     "start_time": "2023-10-11T10:00:55.024954200Z"
    }
   },
   "id": "e851aa5238044ab4"
  },
  {
   "cell_type": "code",
   "execution_count": 3,
   "outputs": [],
   "source": [
    "pd.set_option('display.max_columns', None)\n",
    "pd.set_option('display.max_row', None)"
   ],
   "metadata": {
    "collapsed": false,
    "ExecuteTime": {
     "end_time": "2023-10-11T10:00:59.492747500Z",
     "start_time": "2023-10-11T10:00:59.475754Z"
    }
   },
   "id": "b9ab4e4c2d76516f"
  },
  {
   "cell_type": "code",
   "execution_count": 4,
   "outputs": [],
   "source": [
    "missing_values = ['n/a', 'na', 'nan', 'N/A', 'NA', 'NaN', 'NAN', '--', 'Missing', 'missing', 'Unknown', 'unknown', 'UNKNOWN']"
   ],
   "metadata": {
    "collapsed": false,
    "ExecuteTime": {
     "end_time": "2023-10-11T10:01:02.742440600Z",
     "start_time": "2023-10-11T10:01:02.722432200Z"
    }
   },
   "id": "9364b7f86f7d60e4"
  },
  {
   "cell_type": "markdown",
   "source": [
    "# 3. EVALUATION METRICS IN PYTHON"
   ],
   "metadata": {
    "collapsed": false
   },
   "id": "98c7ec0df9c27f6d"
  },
  {
   "cell_type": "markdown",
   "source": [
    "## Example confusion matrix dataset Iris"
   ],
   "metadata": {
    "collapsed": false
   },
   "id": "f3ac68554cc21050"
  },
  {
   "cell_type": "code",
   "execution_count": null,
   "outputs": [],
   "source": [
    "#Step 1\n",
    "iris = pd.read_csv('iris.csv', delimiter=',', decimal='.')\n",
    "iris.info()"
   ],
   "metadata": {
    "collapsed": false
   },
   "id": "64b9951ba92546f4"
  },
  {
   "cell_type": "code",
   "execution_count": null,
   "id": "c425db21",
   "metadata": {},
   "outputs": [],
   "source": [
    "#Step 2\n",
    "from sklearn.discriminant_analysis import LinearDiscriminantAnalysis\n",
    "X = iris[['sepal length', 'sepal width', 'petal length', 'petal width']]\n",
    "y = iris['target']\n",
    "model = LinearDiscriminantAnalysis()\n",
    "model.fit(X, y)"
   ]
  },
  {
   "cell_type": "code",
   "execution_count": null,
   "id": "7fc5dfeae4224ad9",
   "metadata": {},
   "outputs": [],
   "source": [
    "#Step 3\n",
    "real= iris.target\n",
    "listoflabels = sorted(real.unique().tolist())\n",
    "predicted = model.predict(X)"
   ]
  },
  {
   "cell_type": "code",
   "execution_count": null,
   "outputs": [],
   "source": [
    "from sklearn.metrics import confusion_matrix\n",
    "conf_matrix = confusion_matrix(y_true=real,y_pred=predicted,labels = listoflabels)\n",
    "conf_matrix"
   ],
   "metadata": {
    "collapsed": false
   },
   "id": "5a534e50"
  },
  {
   "cell_type": "code",
   "execution_count": null,
   "id": "3bb9b180",
   "metadata": {},
   "outputs": [],
   "source": [
    "from sklearn.metrics import ConfusionMatrixDisplay\n",
    "plt.figure()\n",
    "cmd = ConfusionMatrixDisplay(conf_matrix, display_labels=listoflabels)\n",
    "cmd.plot()\n",
    "plt.show()"
   ]
  },
  {
   "cell_type": "code",
   "execution_count": null,
   "id": "e8603078",
   "metadata": {},
   "outputs": [],
   "source": [
    "\"\"\"\n",
    "def show_confusion_table(conf_matrix, labels):\n",
    "    fig, ax = plt.subplots(figsize=(5, 5))\n",
    "    ax.matshow(conf_matrix, cmap=plt.cm.Oranges, alpha=0.3)\n",
    "    for i in range(conf_matrix.shape[0]):\n",
    "        for j in range(conf_matrix.shape[1]):\n",
    "            ax.text(x=j, y=i,s=conf_matrix[i, j], va='center', ha='center', size='xx-large')\n",
    "    plt.xlabel('Predictions', fontsize=18)\n",
    "    plt.ylabel('Actuals', fontsize=18)\n",
    "    plt.title('Confusion Matrix', fontsize=18)\n",
    "    ax.set_xticks(range(0,len(labels)))\n",
    "    ax.set_xticklabels(labels)\n",
    "    ax.set_yticks(range(0,len(labels)))\n",
    "    ax.set_yticklabels(labels)\n",
    "    plt.show()\n",
    "\n",
    "show_confusion_table(conf_matrix, listoflabels) \"\"\""
   ]
  },
  {
   "cell_type": "code",
   "execution_count": null,
   "id": "f6a484f470cde31a",
   "metadata": {},
   "outputs": [],
   "source": [
    "#Step 4\n",
    "from sklearn.metrics import accuracy_score, precision_recall_fscore_support\n",
    "accuracy_score (y_true=real,y_pred=predicted)"
   ]
  },
  {
   "cell_type": "code",
   "execution_count": null,
   "outputs": [],
   "source": [
    "print(real.unique())\n",
    "precision_recall_fscore_support (y_true=real,y_pred=predicted,labels = real.unique(), beta=1.0)"
   ],
   "metadata": {
    "collapsed": false
   },
   "id": "4b30590f"
  },
  {
   "cell_type": "markdown",
   "source": [
    "## Example ROC-curve dataset biopsy"
   ],
   "metadata": {
    "collapsed": false
   },
   "id": "95b8f2cd14fc6578"
  },
  {
   "cell_type": "code",
   "execution_count": 5,
   "id": "34ed45fa",
   "metadata": {
    "lines_to_next_cell": 1,
    "ExecuteTime": {
     "end_time": "2023-10-11T10:01:08.612875500Z",
     "start_time": "2023-10-11T10:01:08.351866800Z"
    }
   },
   "outputs": [],
   "source": [
    "from sklearn.metrics import roc_curve, roc_auc_score \n",
    "\n",
    "def plot_roc(y_true, y_score, title='ROC Curve', **kwargs):\n",
    "    if 'pos_label' in kwargs:\n",
    "        fpr, tpr, thresholds = roc_curve(y_true=y_true, y_score=y_score, pos_label=kwargs.get('pos_label'))\n",
    "        auc = 1-roc_auc_score(y_true, y_score,max_fpr=1.0)\n",
    "    else:\n",
    "        fpr, tpr, thresholds = roc_curve(y_true=y_true, y_score=y_score)\n",
    "        auc = 1-roc_auc_score(y_true, y_score, max_fpr=1.0)\n",
    "\n",
    "    # calculate optimal cut-off with Youden index method\n",
    "    optimal_idx = np.argmax(tpr - fpr)\n",
    "    optimal_threshold = thresholds[optimal_idx]\n",
    "\n",
    "    figsize = kwargs.get('figsize', (7, 7))\n",
    "    fig, ax = plt.subplots(1, 1, figsize=figsize)\n",
    "    ax.grid(linestyle='--')\n",
    "\n",
    "    # plot ROC curve\n",
    "    ax.plot(fpr, tpr, color='darkorange', label='AUC: {}'.format(auc))\n",
    "    ax.set_title(title)\n",
    "    ax.set_xlabel('False Positive Rate (FPR)')\n",
    "    ax.set_ylabel('True Positive Rate (TPR)')\n",
    "    ax.fill_between(fpr, tpr, alpha=0.3, color='darkorange', edgecolor='black')\n",
    "\n",
    "    # plot classifier\n",
    "    ax.plot([0, 1], [0, 1], color='navy', lw=2, linestyle='--')\n",
    "\n",
    "    # plot optimal cut-off\n",
    "    ax.scatter(fpr[optimal_idx], tpr[optimal_idx], label='optimal cutoff {:.2f} on ({:.2f},{:.2f})'.format(optimal_threshold, fpr[optimal_idx], tpr[optimal_idx]), color='red')\n",
    "    ax.plot([fpr[optimal_idx], fpr[optimal_idx]], [0, tpr[optimal_idx]], linestyle='--', color='red')\n",
    "    ax.plot([0, fpr[optimal_idx]], [tpr[optimal_idx], tpr[optimal_idx]], linestyle='--', color='red')\n",
    "\n",
    "    ax.legend(loc='lower right')\n",
    "    plt.show()"
   ]
  },
  {
   "cell_type": "code",
   "execution_count": null,
   "id": "b7f58a0c",
   "metadata": {},
   "outputs": [],
   "source": [
    "#Step 1: Read the data\n",
    "biopsy = pd.read_csv('biopsy.csv', delimiter=';')"
   ]
  },
  {
   "cell_type": "markdown",
   "source": [
    "Model based on V1"
   ],
   "metadata": {
    "collapsed": false
   },
   "id": "3a2b832100d79ea0"
  },
  {
   "cell_type": "code",
   "execution_count": null,
   "outputs": [],
   "source": [
    "#Step 2: Make a model\n",
    "#X = biopsy[['V1']]\n",
    "X = biopsy[['V1']]\n",
    "y = biopsy['class']\n",
    "listoflabels = sorted(y.unique().tolist())\n",
    "model = LinearDiscriminantAnalysis()\n",
    "model.fit(X,y)"
   ],
   "metadata": {
    "collapsed": false
   },
   "id": "b51978d81b9e6c3d"
  },
  {
   "cell_type": "markdown",
   "source": [
    "Model based on V1 and V2"
   ],
   "metadata": {
    "collapsed": false
   },
   "id": "845481bbfc65855e"
  },
  {
   "cell_type": "code",
   "execution_count": null,
   "id": "994d4b26",
   "metadata": {},
   "outputs": [],
   "source": [
    "#Step 2: Make a model\n",
    "#X = biopsy[['V1']]\n",
    "X = biopsy[['V1','V2']]\n",
    "y = biopsy['class']\n",
    "listoflabels = sorted(y.unique().tolist())\n",
    "model = LinearDiscriminantAnalysis()\n",
    "model.fit(X,y)"
   ]
  },
  {
   "cell_type": "code",
   "execution_count": null,
   "id": "714d2ae4",
   "metadata": {
    "lines_to_next_cell": 2
   },
   "outputs": [],
   "source": [
    "# Step 3: confusion matrix\n",
    "from sklearn.metrics import confusion_matrix, ConfusionMatrixDisplay\n",
    "predicted = model.predict(X)\n",
    "conf_matrix = confusion_matrix(y_true=y,y_pred=predicted)\n",
    "plt.figure()\n",
    "cmd = ConfusionMatrixDisplay(conf_matrix, display_labels=listoflabels)\n",
    "cmd.plot()\n",
    "plt.show()"
   ]
  },
  {
   "cell_type": "code",
   "execution_count": null,
   "id": "9753a15a28a23c5a",
   "metadata": {},
   "outputs": [],
   "source": [
    "# Step 4: calculate metrics\n",
    "accuracy_score (y_true=y,y_pred=predicted)"
   ]
  },
  {
   "cell_type": "code",
   "execution_count": null,
   "outputs": [],
   "source": [
    "precision_recall_fscore_support (y_true=y,y_pred=predicted, beta=1.0)"
   ],
   "metadata": {
    "collapsed": false
   },
   "id": "24c198c7"
  },
  {
   "cell_type": "code",
   "execution_count": null,
   "id": "c3fd85469b25f0ae",
   "metadata": {},
   "outputs": [],
   "source": [
    "#Step 5: Plot ROC curve with home made function\n",
    "y_true = y\n",
    "y_score = model.predict_proba(X)[:,0]\n",
    "plot_roc(y_true, y_score, pos_label='benign')"
   ]
  },
  {
   "cell_type": "markdown",
   "source": [
    "# 6. QUESTIONNAIRE"
   ],
   "metadata": {
    "collapsed": false
   },
   "id": "939de44028a3ef8b"
  },
  {
   "cell_type": "markdown",
   "source": [
    "Load data:"
   ],
   "metadata": {
    "collapsed": false
   },
   "id": "b342b75110854ad8"
  },
  {
   "cell_type": "code",
   "execution_count": 7,
   "outputs": [
    {
     "name": "stdout",
     "output_type": "stream",
     "text": [
      "<class 'pandas.core.frame.DataFrame'>\n",
      "RangeIndex: 39 entries, 0 to 38\n",
      "Data columns (total 25 columns):\n",
      " #   Column               Non-Null Count  Dtype  \n",
      "---  ------               --------------  -----  \n",
      " 0   First Letter         39 non-null     object \n",
      " 1   Number Languages     39 non-null     float64\n",
      " 2   Writing Hand         39 non-null     object \n",
      " 3   Shoe Size            39 non-null     float64\n",
      " 4   Length               39 non-null     int64  \n",
      " 5   Blood Type           39 non-null     object \n",
      " 6   Resus Factor         39 non-null     object \n",
      " 7   Siblings             39 non-null     int64  \n",
      " 8   Internet Purchase    39 non-null     object \n",
      " 9   Mobile Devices       39 non-null     int64  \n",
      " 10  Leisure              39 non-null     object \n",
      " 11  Hours Math           39 non-null     object \n",
      " 12  Importance AI Study  39 non-null     object \n",
      " 13  Antwerp Address      39 non-null     object \n",
      " 14  Travel Distance      39 non-null     float64\n",
      " 15  Travel Time          39 non-null     int64  \n",
      " 16  Driver License       39 non-null     object \n",
      " 17  Smoker               39 non-null     object \n",
      " 18  Fruit                39 non-null     object \n",
      " 19  Favorite Fruit       39 non-null     object \n",
      " 20  OS                   39 non-null     object \n",
      " 21  App                  39 non-null     object \n",
      " 22  Biden                39 non-null     int64  \n",
      " 23  Class Mascot         39 non-null     object \n",
      " 24  Study Load           39 non-null     object \n",
      "dtypes: float64(3), int64(5), object(17)\n",
      "memory usage: 7.7+ KB\n"
     ]
    },
    {
     "data": {
      "text/plain": "       Number Languages  Shoe Size      Length   Siblings  Mobile Devices  \\\ncount         39.000000  39.000000   39.000000  39.000000       39.000000   \nmean           3.006410  42.423077  177.358974   1.846154        2.692308   \nstd            0.987566   2.896319    9.560024   1.203907        1.379432   \nmin            1.250000  36.500000  158.000000   0.000000        1.000000   \n25%            2.000000  41.000000  170.000000   1.000000        2.000000   \n50%            3.000000  43.000000  178.000000   2.000000        2.000000   \n75%            4.000000  44.250000  185.000000   2.000000        3.000000   \nmax            6.000000  48.000000  195.000000   6.000000        7.000000   \n\n       Travel Distance  Travel Time      Biden  \ncount        39.000000    39.000000  39.000000  \nmean         10.815897    31.205128   4.358974  \nstd          14.377038    27.939954   1.662072  \nmin           0.100000     0.000000   2.000000  \n25%           1.700000    10.000000   3.500000  \n50%           2.600000    19.000000   4.000000  \n75%          16.000000    45.500000   4.000000  \nmax          48.000000    90.000000   8.000000  ",
      "text/html": "<div>\n<style scoped>\n    .dataframe tbody tr th:only-of-type {\n        vertical-align: middle;\n    }\n\n    .dataframe tbody tr th {\n        vertical-align: top;\n    }\n\n    .dataframe thead th {\n        text-align: right;\n    }\n</style>\n<table border=\"1\" class=\"dataframe\">\n  <thead>\n    <tr style=\"text-align: right;\">\n      <th></th>\n      <th>Number Languages</th>\n      <th>Shoe Size</th>\n      <th>Length</th>\n      <th>Siblings</th>\n      <th>Mobile Devices</th>\n      <th>Travel Distance</th>\n      <th>Travel Time</th>\n      <th>Biden</th>\n    </tr>\n  </thead>\n  <tbody>\n    <tr>\n      <th>count</th>\n      <td>39.000000</td>\n      <td>39.000000</td>\n      <td>39.000000</td>\n      <td>39.000000</td>\n      <td>39.000000</td>\n      <td>39.000000</td>\n      <td>39.000000</td>\n      <td>39.000000</td>\n    </tr>\n    <tr>\n      <th>mean</th>\n      <td>3.006410</td>\n      <td>42.423077</td>\n      <td>177.358974</td>\n      <td>1.846154</td>\n      <td>2.692308</td>\n      <td>10.815897</td>\n      <td>31.205128</td>\n      <td>4.358974</td>\n    </tr>\n    <tr>\n      <th>std</th>\n      <td>0.987566</td>\n      <td>2.896319</td>\n      <td>9.560024</td>\n      <td>1.203907</td>\n      <td>1.379432</td>\n      <td>14.377038</td>\n      <td>27.939954</td>\n      <td>1.662072</td>\n    </tr>\n    <tr>\n      <th>min</th>\n      <td>1.250000</td>\n      <td>36.500000</td>\n      <td>158.000000</td>\n      <td>0.000000</td>\n      <td>1.000000</td>\n      <td>0.100000</td>\n      <td>0.000000</td>\n      <td>2.000000</td>\n    </tr>\n    <tr>\n      <th>25%</th>\n      <td>2.000000</td>\n      <td>41.000000</td>\n      <td>170.000000</td>\n      <td>1.000000</td>\n      <td>2.000000</td>\n      <td>1.700000</td>\n      <td>10.000000</td>\n      <td>3.500000</td>\n    </tr>\n    <tr>\n      <th>50%</th>\n      <td>3.000000</td>\n      <td>43.000000</td>\n      <td>178.000000</td>\n      <td>2.000000</td>\n      <td>2.000000</td>\n      <td>2.600000</td>\n      <td>19.000000</td>\n      <td>4.000000</td>\n    </tr>\n    <tr>\n      <th>75%</th>\n      <td>4.000000</td>\n      <td>44.250000</td>\n      <td>185.000000</td>\n      <td>2.000000</td>\n      <td>3.000000</td>\n      <td>16.000000</td>\n      <td>45.500000</td>\n      <td>4.000000</td>\n    </tr>\n    <tr>\n      <th>max</th>\n      <td>6.000000</td>\n      <td>48.000000</td>\n      <td>195.000000</td>\n      <td>6.000000</td>\n      <td>7.000000</td>\n      <td>48.000000</td>\n      <td>90.000000</td>\n      <td>8.000000</td>\n    </tr>\n  </tbody>\n</table>\n</div>"
     },
     "execution_count": 7,
     "metadata": {},
     "output_type": "execute_result"
    }
   ],
   "source": [
    "studenq = pd.read_csv('Questionnaire 21-22.csv', delimiter=';', decimal='.')\n",
    "studenq.info()\n",
    "studenq.describe()"
   ],
   "metadata": {
    "collapsed": false,
    "ExecuteTime": {
     "end_time": "2023-10-11T10:03:21.235859700Z",
     "start_time": "2023-10-11T10:03:21.167743100Z"
    }
   },
   "id": "26fe9a15affae0ed"
  },
  {
   "cell_type": "markdown",
   "source": [
    "## Question 1"
   ],
   "metadata": {
    "collapsed": false
   },
   "id": "1dce7999def5a7e0"
  },
  {
   "cell_type": "markdown",
   "source": [
    "1\\. We want to predict whether students are very motivated to obtain a degree in Applied Computer Science."
   ],
   "metadata": {
    "collapsed": false
   },
   "id": "61ba582aa58e72a9"
  },
  {
   "cell_type": "markdown",
   "source": [
    "1.a. A The independent data (the forecasters) are \"whether or not to do shopping over the internet\", \"the number of devices used\", \"the number of hours of mathematics\" \n",
    "\n",
    "Put the independent data in a new dataframe with name df and make sure the values of the forecasters are numeric and that unrealistic data is changes into nan-values."
   ],
   "metadata": {
    "collapsed": false
   },
   "id": "ef13874cb0da23fd"
  },
  {
   "cell_type": "code",
   "execution_count": 8,
   "outputs": [],
   "source": [
    "df = pd.DataFrame()\n",
    "df['Mobile Devices'] = studenq['Mobile Devices'].copy()\n",
    "df['Hours Math'] = studenq['Hours Math'].copy()\n",
    "df['Internet Purchase'] = studenq['Internet Purchase'].copy()\n",
    "#OR\n",
    "#df = studenq.loc[:,['Mobile Devices','Hours Math','Internet Purchase']].copy()"
   ],
   "metadata": {
    "collapsed": false,
    "ExecuteTime": {
     "end_time": "2023-10-11T10:03:27.756745300Z",
     "start_time": "2023-10-11T10:03:27.729964700Z"
    }
   },
   "id": "6be49a82"
  },
  {
   "cell_type": "code",
   "execution_count": 9,
   "id": "562c19b2",
   "metadata": {
    "ExecuteTime": {
     "end_time": "2023-10-11T10:03:39.052272900Z",
     "start_time": "2023-10-11T10:03:39.017952700Z"
    }
   },
   "outputs": [],
   "source": [
    "df['Hours Math'] = pd.to_numeric(df['Hours Math'], errors = 'coerce')\n",
    "df.loc[df['Hours Math'] > 15, 'Hours Math'] = np.nan"
   ]
  },
  {
   "cell_type": "code",
   "execution_count": 10,
   "id": "c5aa541f",
   "metadata": {
    "ExecuteTime": {
     "end_time": "2023-10-11T10:03:48.643398100Z",
     "start_time": "2023-10-11T10:03:48.619722200Z"
    }
   },
   "outputs": [],
   "source": [
    "df.loc[df['Internet Purchase'] == 'No', 'Internet Purchase'] = 0\n",
    "df.loc[df['Internet Purchase'] == 'Yes', 'Internet Purchase'] = 1\n",
    "df['Internet Purchase'] = pd.to_numeric(df['Internet Purchase'])"
   ]
  },
  {
   "cell_type": "code",
   "execution_count": 11,
   "id": "55185a43",
   "metadata": {
    "ExecuteTime": {
     "end_time": "2023-10-11T10:03:53.586405900Z",
     "start_time": "2023-10-11T10:03:53.507450600Z"
    }
   },
   "outputs": [
    {
     "data": {
      "text/plain": "       Mobile Devices  Hours Math  Internet Purchase\ncount       39.000000   18.000000          39.000000\nmean         2.692308    4.666667           0.794872\nstd          1.379432    2.589572           0.409074\nmin          1.000000    0.000000           0.000000\n25%          2.000000    3.250000           1.000000\n50%          2.000000    5.500000           1.000000\n75%          3.000000    6.000000           1.000000\nmax          7.000000    8.000000           1.000000",
      "text/html": "<div>\n<style scoped>\n    .dataframe tbody tr th:only-of-type {\n        vertical-align: middle;\n    }\n\n    .dataframe tbody tr th {\n        vertical-align: top;\n    }\n\n    .dataframe thead th {\n        text-align: right;\n    }\n</style>\n<table border=\"1\" class=\"dataframe\">\n  <thead>\n    <tr style=\"text-align: right;\">\n      <th></th>\n      <th>Mobile Devices</th>\n      <th>Hours Math</th>\n      <th>Internet Purchase</th>\n    </tr>\n  </thead>\n  <tbody>\n    <tr>\n      <th>count</th>\n      <td>39.000000</td>\n      <td>18.000000</td>\n      <td>39.000000</td>\n    </tr>\n    <tr>\n      <th>mean</th>\n      <td>2.692308</td>\n      <td>4.666667</td>\n      <td>0.794872</td>\n    </tr>\n    <tr>\n      <th>std</th>\n      <td>1.379432</td>\n      <td>2.589572</td>\n      <td>0.409074</td>\n    </tr>\n    <tr>\n      <th>min</th>\n      <td>1.000000</td>\n      <td>0.000000</td>\n      <td>0.000000</td>\n    </tr>\n    <tr>\n      <th>25%</th>\n      <td>2.000000</td>\n      <td>3.250000</td>\n      <td>1.000000</td>\n    </tr>\n    <tr>\n      <th>50%</th>\n      <td>2.000000</td>\n      <td>5.500000</td>\n      <td>1.000000</td>\n    </tr>\n    <tr>\n      <th>75%</th>\n      <td>3.000000</td>\n      <td>6.000000</td>\n      <td>1.000000</td>\n    </tr>\n    <tr>\n      <th>max</th>\n      <td>7.000000</td>\n      <td>8.000000</td>\n      <td>1.000000</td>\n    </tr>\n  </tbody>\n</table>\n</div>"
     },
     "execution_count": 11,
     "metadata": {},
     "output_type": "execute_result"
    }
   ],
   "source": [
    "df.describe()"
   ]
  },
  {
   "cell_type": "markdown",
   "source": [
    "1.b. In the questionnaire you want to predict the \"importance of AI study\". This is an ordinal fact that you will have to reduce to two possible values: anything equal or more than \"Great importance\" is \"large\", everything smaller is \"moderate\". Put this as a column in the dataframe df"
   ],
   "metadata": {
    "collapsed": false
   },
   "id": "8a875d84b12c8c1a"
  },
  {
   "cell_type": "code",
   "execution_count": 12,
   "id": "9752afd1",
   "metadata": {
    "ExecuteTime": {
     "end_time": "2023-10-11T10:04:32.523963200Z",
     "start_time": "2023-10-11T10:04:32.485136700Z"
    }
   },
   "outputs": [],
   "source": [
    "df['Importance AI Study'] = studenq['Importance AI Study'].copy()\n",
    "df['Importance AI Study'].unique()\n",
    "df['Importance AI Study'] = df['Importance AI Study'].replace(to_replace=['Not at all', 'Little importance', 'Moderate importance'], value=['moderate', 'moderate', 'moderate'])\n",
    "df['Importance AI Study'] = df['Importance AI Study'].replace(to_replace=['Great importance', 'Very great importance', 'Extreemly important'], value=['large', 'large', 'large'])\n",
    "df['Importance AI Study'] = df['Importance AI Study'].astype(pd.CategoricalDtype( categories=[\"moderate\", \"large\"], ordered=True))"
   ]
  },
  {
   "cell_type": "code",
   "execution_count": null,
   "id": "2de4401f",
   "metadata": {},
   "outputs": [],
   "source": [
    "#OR\n",
    "#studenq['Importance AI Study'] = studenq['Importance AI Study'].astype(pd.CategoricalDtype(categories=['Not at all', 'Little importance', 'Moderate importance', 'Great importance', 'Very great importance', 'Extreemly important'], ordered=True))\n",
    "#importance = pd.Series(index=range(len(studenq)),dtype='category').astype(pd.CategoricalDtype( categories=[\"moderate\", \"large\"], ordered=True))\n",
    "#for i in range(0,len(studenq)):\n",
    "#    if studenq.loc[i,'Importance AI Study'] < 'Great importance':\n",
    "#        importance[i] = 'moderate'\n",
    "#    else:\n",
    "#        importance[i] = 'large'\n",
    "#df['Importance AI Study'] = importance"
   ]
  },
  {
   "cell_type": "markdown",
   "source": [
    "1.c. Use linear discriminant analysis as model to predict the dependent variable “importance of AI study” my means of the independent variables (forecasters). \n",
    "Make the predictions for the available data."
   ],
   "metadata": {
    "collapsed": false
   },
   "id": "9f42b96845227d"
  },
  {
   "cell_type": "code",
   "execution_count": 13,
   "id": "02e67276",
   "metadata": {
    "ExecuteTime": {
     "end_time": "2023-10-11T10:05:37.343373400Z",
     "start_time": "2023-10-11T10:05:37.184344100Z"
    }
   },
   "outputs": [],
   "source": [
    "from sklearn.discriminant_analysis import LinearDiscriminantAnalysis\n",
    "model = LinearDiscriminantAnalysis()\n",
    "df=df.dropna(axis='rows')\n",
    "X = df.loc[:,['Mobile Devices','Hours Math','Internet Purchase']].copy()\n",
    "y = df['Importance AI Study'].copy()\n",
    "model.fit(X, y)\n",
    "predicted = model.predict(X)"
   ]
  },
  {
   "cell_type": "markdown",
   "source": [
    "1.d. Look at the results of the evaluation mertrics:\n",
    "- Make the confusion matrix\n",
    "- Calculate the Accuracy, Precision, Recall and F1-Measure\n",
    "- Make a ROC curve"
   ],
   "metadata": {
    "collapsed": false
   },
   "id": "3033db4d04edca9"
  },
  {
   "cell_type": "code",
   "execution_count": 14,
   "id": "a1f78e51",
   "metadata": {
    "ExecuteTime": {
     "end_time": "2023-10-11T10:06:38.817515700Z",
     "start_time": "2023-10-11T10:06:38.460253Z"
    }
   },
   "outputs": [
    {
     "data": {
      "text/plain": "<Figure size 640x480 with 0 Axes>"
     },
     "metadata": {},
     "output_type": "display_data"
    },
    {
     "data": {
      "text/plain": "<Figure size 640x480 with 2 Axes>",
      "image/png": "[encoded data removed]"
     },
     "metadata": {},
     "output_type": "display_data"
    }
   ],
   "source": [
    "from sklearn.metrics import confusion_matrix, ConfusionMatrixDisplay, accuracy_score, precision_recall_fscore_support, roc_curve, roc_auc_score\n",
    "conf_matrix = confusion_matrix(y_true=y,y_pred=predicted)\n",
    "listoflabels = sorted(y.unique().tolist())\n",
    "plt.figure()\n",
    "cmd = ConfusionMatrixDisplay(conf_matrix, display_labels=listoflabels)\n",
    "cmd.plot()\n",
    "plt.show()"
   ]
  },
  {
   "cell_type": "code",
   "execution_count": 15,
   "id": "44e22fe073c71051",
   "metadata": {
    "ExecuteTime": {
     "end_time": "2023-10-11T10:07:59.228041500Z",
     "start_time": "2023-10-11T10:07:59.180732900Z"
    }
   },
   "outputs": [
    {
     "data": {
      "text/plain": "0.5555555555555556"
     },
     "execution_count": 15,
     "metadata": {},
     "output_type": "execute_result"
    }
   ],
   "source": [
    "accuracy_score (y_true=y,y_pred=predicted)"
   ]
  },
  {
   "cell_type": "code",
   "execution_count": 16,
   "outputs": [
    {
     "data": {
      "text/plain": "(array([0.6       , 0.33333333]),\n array([0.81818182, 0.14285714]),\n array([0.69230769, 0.2       ]),\n array([11,  7], dtype=int64))"
     },
     "execution_count": 16,
     "metadata": {},
     "output_type": "execute_result"
    }
   ],
   "source": [
    "precision_recall_fscore_support (y_true=y,y_pred=predicted, beta=1.0)"
   ],
   "metadata": {
    "collapsed": false,
    "ExecuteTime": {
     "end_time": "2023-10-11T10:08:15.607898200Z",
     "start_time": "2023-10-11T10:08:15.580274400Z"
    }
   },
   "id": "4466bb60"
  },
  {
   "cell_type": "code",
   "execution_count": 17,
   "id": "85c20402",
   "metadata": {
    "ExecuteTime": {
     "end_time": "2023-10-11T10:11:20.934576700Z",
     "start_time": "2023-10-11T10:11:20.614093700Z"
    }
   },
   "outputs": [
    {
     "data": {
      "text/plain": "<Figure size 700x700 with 1 Axes>",
      "image/png": "[encoded data removed]"
     },
     "metadata": {},
     "output_type": "display_data"
    }
   ],
   "source": [
    "y_score = model.predict_proba(X)[:,0]\n",
    "plot_roc(y, y_score, pos_label='large') #home made functio,"
   ]
  },
  {
   "cell_type": "code",
   "execution_count": 18,
   "id": "5a60ba8236a47d17",
   "metadata": {
    "ExecuteTime": {
     "end_time": "2023-10-11T10:14:47.576695800Z",
     "start_time": "2023-10-11T10:14:47.547677400Z"
    }
   },
   "outputs": [
    {
     "name": "stdout",
     "output_type": "stream",
     "text": [
      "[0.         0.         0.         0.         0.14285714 0.14285714\n",
      " 0.28571429 0.28571429 0.42857143 0.71428571 1.         1.        ]\n",
      "[0.         0.09090909 0.27272727 0.36363636 0.36363636 0.45454545\n",
      " 0.45454545 0.63636364 0.72727273 0.81818182 0.81818182 1.        ]\n",
      "[       inf 0.83175932 0.75759607 0.74844299 0.69449851 0.67068836\n",
      " 0.62314666 0.58967757 0.58661633 0.5702951  0.48044748 0.38316476]\n"
     ]
    }
   ],
   "source": [
    "fpr, tpr, thresholds = roc_curve(y_true=y, y_score=y_score, pos_label='large')\n",
    "print(fpr)\n",
    "print(tpr)\n",
    "print(thresholds)"
   ]
  },
  {
   "cell_type": "code",
   "execution_count": 19,
   "outputs": [
    {
     "name": "stdout",
     "output_type": "stream",
     "text": [
      "0.3311688311688311\n"
     ]
    }
   ],
   "source": [
    "auc = roc_auc_score(y, y_score)\n",
    "print(auc)"
   ],
   "metadata": {
    "collapsed": false,
    "ExecuteTime": {
     "end_time": "2023-10-11T10:16:58.137443Z",
     "start_time": "2023-10-11T10:16:58.113305Z"
    }
   },
   "id": "d2794f3d"
  },
  {
   "cell_type": "code",
   "execution_count": null,
   "id": "cdc4e0f5",
   "metadata": {},
   "outputs": [],
   "source": [
    "print(y_score)"
   ]
  },
  {
   "cell_type": "code",
   "execution_count": null,
   "outputs": [],
   "source": [],
   "metadata": {
    "collapsed": false
   },
   "id": "b1301489aec3af08"
  }
 ],
 "metadata": {
  "jupytext": {
   "cell_metadata_filter": "-all",
   "formats": "py,ipynb",
   "main_language": "python"
  },
  "kernelspec": {
   "name": "python3",
   "language": "python",
   "display_name": "Python 3 (ipykernel)"
  }
 },
 "nbformat": 4,
 "nbformat_minor": 5
}
