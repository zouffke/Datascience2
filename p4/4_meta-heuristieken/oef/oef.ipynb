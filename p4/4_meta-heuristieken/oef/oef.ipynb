{
 "cells": [
  {
   "metadata": {},
   "cell_type": "markdown",
   "source": "# Oef",
   "id": "5bc525282ada2114"
  },
  {
   "metadata": {},
   "cell_type": "markdown",
   "source": "## Imports",
   "id": "ca325fce24ead08"
  },
  {
   "metadata": {
    "ExecuteTime": {
     "end_time": "2024-06-11T07:47:12.681081Z",
     "start_time": "2024-06-11T07:47:12.551399Z"
    }
   },
   "cell_type": "code",
   "source": [
    "import math\n",
    "from simanneal import Annealer\n",
    "import numpy as np\n",
    "from IPython import InteractiveShell\n",
    "\n",
    "InteractiveShell.ast_node_interactivity = \"all\""
   ],
   "id": "8e16d73c086b579",
   "outputs": [],
   "execution_count": 2
  },
  {
   "metadata": {},
   "cell_type": "markdown",
   "source": "## Oef 1.",
   "id": "87ad5753ad1f2d0"
  },
  {
   "metadata": {
    "ExecuteTime": {
     "end_time": "2024-06-11T07:47:14.591173Z",
     "start_time": "2024-06-11T07:47:13.939722Z"
    }
   },
   "cell_type": "code",
   "source": [
    "class Dakgoot(Annealer):\n",
    "    def move(self):\n",
    "        self.state[0] += np.random.normal(0, 0.1)\n",
    "        self.state[0] = np.clip(self.state[0], 0, 1)\n",
    "\n",
    "    def energy(self):\n",
    "        b = self.state[0]\n",
    "        sum_f = b * ((1 - b) / 2)\n",
    "        return -sum_f\n",
    "\n",
    "\n",
    "init = np.random.normal(0, 1, size=1)\n",
    "problem = Dakgoot(init)\n",
    "opt = problem.anneal()\n",
    "opt"
   ],
   "id": "f41ebf9d901f7b8b",
   "outputs": [
    {
     "name": "stderr",
     "output_type": "stream",
     "text": [
      " Temperature        Energy    Accept   Improve     Elapsed   Remaining\n",
      "     2.50000         -0.04    99.80%    45.00%     0:00:01     0:00:00\r"
     ]
    },
    {
     "data": {
      "text/plain": [
       "(array([0.50002338]), -0.12499999972668303)"
      ]
     },
     "execution_count": 3,
     "metadata": {},
     "output_type": "execute_result"
    }
   ],
   "execution_count": 3
  }
 ],
 "metadata": {
  "kernelspec": {
   "display_name": "Python 3",
   "language": "python",
   "name": "python3"
  },
  "language_info": {
   "codemirror_mode": {
    "name": "ipython",
    "version": 2
   },
   "file_extension": ".py",
   "mimetype": "text/x-python",
   "name": "python",
   "nbconvert_exporter": "python",
   "pygments_lexer": "ipython2",
   "version": "2.7.6"
  }
 },
 "nbformat": 4,
 "nbformat_minor": 5
}
