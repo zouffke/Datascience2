{
 "cells": [
  {
   "cell_type": "code",
   "execution_count": 5,
   "outputs": [],
   "source": [
    "import collections\n",
    "\n",
    "import numpy as np\n",
    "import pandas as pd\n",
    "from inspyred.ec.analysis import fitness_statistics, generation_plot\n",
    "from simanneal import Annealer\n",
    "import math\n",
    "from random import Random\n",
    "from inspyred import ec #ec staat voor Evolutionary computation\n",
    "from random import Random, randrange, random"
   ],
   "metadata": {
    "collapsed": false,
    "pycharm": {
     "name": "#%%\n"
    },
    "ExecuteTime": {
     "end_time": "2024-05-16T13:08:18.637587100Z",
     "start_time": "2024-05-16T13:08:18.619531300Z"
    }
   }
  },
  {
   "cell_type": "markdown",
   "source": [
    "# Simulated annaeling in python\n",
    "## a. Stel de nodige functies op"
   ],
   "metadata": {
    "collapsed": false
   }
  },
  {
   "cell_type": "code",
   "execution_count": 41,
   "outputs": [],
   "source": [
    "\n",
    "        \n",
    "\n",
    "# Using simulated annealing\n",
    "class RastriginProblem(Annealer): ##Een klasse die overerft van de Annealer klasse uit package simanneal\n",
    "\n",
    "# 1. Maak een energyfunctie (objective function, optimalisatie-functie)\n",
    "# De annaeler minimaliseert, wil je maximaliseren dan moet je de oplossing negatief maken.\n",
    " def energy(self): #Dit geeft terug hoe goed de oplossing is.\n",
    "     s = self.state\n",
    "     return -(10 *  len(s)+((s**2-10*np.cos(2*np.pi*s))).sum())\n",
    "# 2. Bepaal de move functie. Waarbij je een nieuwe oplossing maakt die in de buurt ligt van de vorige oplossing.\n",
    " def move(self): #Implementatie van de move klasse\n",
    "     s = self.state\n",
    "     changing_index = np.random.randint(0,len(s))\n",
    "     s[changing_index] += np.random.normal(0,0.5,1)\n",
    "     self.state = np.clip(s,a_min=-5.12,a_max= 5.12) \n",
    "     \n",
    "# We wijzigen 1 van de variabelen uit de oplossings-array naar een nieuwe waarde"
   ],
   "metadata": {
    "collapsed": false,
    "pycharm": {
     "name": "#%%\n"
    },
    "ExecuteTime": {
     "end_time": "2024-05-16T13:36:54.326604700Z",
     "start_time": "2024-05-16T13:36:54.310355600Z"
    }
   }
  },
  {
   "cell_type": "markdown",
   "source": [
    "## b. Maak een initiële oplossing"
   ],
   "metadata": {
    "collapsed": false
   }
  },
  {
   "cell_type": "code",
   "execution_count": 36,
   "outputs": [],
   "source": [
    "init_sol = np.random.uniform(-5.12,5.12,8)\n"
   ],
   "metadata": {
    "collapsed": false,
    "pycharm": {
     "name": "#%%\n"
    },
    "ExecuteTime": {
     "end_time": "2024-05-16T13:35:21.760872Z",
     "start_time": "2024-05-16T13:35:21.753200Z"
    }
   }
  },
  {
   "cell_type": "markdown",
   "source": [
    "## c. Voer het algoritme uit\n",
    "\n"
   ],
   "metadata": {
    "collapsed": false
   }
  },
  {
   "cell_type": "code",
   "outputs": [
    {
     "name": "stderr",
     "output_type": "stream",
     "text": [
      " Temperature        Energy    Accept   Improve     Elapsed   Remaining\n",
      "C:\\Users\\overvelj\\AppData\\Local\\Temp\\ipykernel_30020\\2986360276.py:13: DeprecationWarning: Conversion of an array with ndim > 0 to a scalar is deprecated, and will error in future. Ensure you extract a single element from your array before performing this operation. (Deprecated NumPy 1.25.)\n",
      "  s[changing_index] += np.random.normal(0,0.5,1)\n",
      "   100.00000       -144.47   100.00%     0.00%     0:00:01     0:00:00\r"
     ]
    },
    {
     "name": "stdout",
     "output_type": "stream",
     "text": [
      "[ 5.05070182 -3.3187946  -3.51316807  4.51011981 -0.49653991 -3.60003811\n",
      " -4.34590131 -1.62447365]\n",
      "-229.4263907173222\n"
     ]
    }
   ],
   "source": [
    "rastrigin = RastriginProblem(init_sol)\n",
    "rastrigin.Tmax= 100000\n",
    "rastrigin.steps = 5000\n",
    "rastrigin.updates = 1000\n",
    "rastrigin.Tmin = 100\n",
    "\n",
    "solution, best = rastrigin.anneal()\n",
    "print(solution)\n",
    "print(best)"
   ],
   "metadata": {
    "collapsed": false,
    "ExecuteTime": {
     "end_time": "2024-05-16T13:36:59.119186100Z",
     "start_time": "2024-05-16T13:36:57.611966800Z"
    }
   },
   "execution_count": 42
  },
  {
   "cell_type": "markdown",
   "source": [
    "# Oefeningen"
   ],
   "metadata": {
    "collapsed": false
   }
  },
  {
   "cell_type": "markdown",
   "source": [
    "## Knapsack\n"
   ],
   "metadata": {
    "collapsed": false
   }
  },
  {
   "cell_type": "code",
   "outputs": [],
   "source": [
    "ks = pd.read_csv(\"../datasets/Knapsack Items.csv\", index_col=0)\n",
    "init_sol= np.random.choice([0,1],15)"
   ],
   "metadata": {
    "collapsed": false,
    "ExecuteTime": {
     "end_time": "2024-05-16T13:45:10.911978100Z",
     "start_time": "2024-05-16T13:45:10.899198400Z"
    }
   },
   "execution_count": 44
  },
  {
   "cell_type": "code",
   "outputs": [
    {
     "name": "stderr",
     "output_type": "stream",
     "text": [
      " Temperature        Energy    Accept   Improve     Elapsed   Remaining\n",
      "   100.00000      -1329.00    24.80%    12.40%     0:00:02     0:00:00\r"
     ]
    },
    {
     "name": "stdout",
     "output_type": "stream",
     "text": [
      "[1 1 0 0 0 1 1 1 1 0 0 0 0 1 1]\n",
      "-1455\n"
     ]
    }
   ],
   "source": [
    "class Knapsack(Annealer):\n",
    "\n",
    "    def move(self):\n",
    "     s = self.state\n",
    "     changing_index = np.random.randint(0,len(s))\n",
    "     self.state[changing_index] = int(not s[changing_index])\n",
    "\n",
    "\n",
    "    def energy(self):\n",
    "        s = self.state \n",
    "        if (s*ks.gewicht).sum() > 750:\n",
    "            return 0\n",
    "        else:\n",
    "            return -(self.state*ks.waarde).sum()\n",
    "an = Knapsack(init_sol)\n",
    "an.Tmax= 10000\n",
    "an.steps = 5000\n",
    "an.updates = 10\n",
    "an.Tmin = 100\n",
    "\n",
    "solution, best = an.anneal()\n",
    "print(solution)\n",
    "print(best)"
   ],
   "metadata": {
    "collapsed": false,
    "ExecuteTime": {
     "end_time": "2024-05-16T13:58:34.594687800Z",
     "start_time": "2024-05-16T13:58:32.856408700Z"
    }
   },
   "execution_count": 61
  }
 ],
 "metadata": {
  "kernelspec": {
   "display_name": "Python 3",
   "language": "python",
   "name": "python3"
  },
  "language_info": {
   "codemirror_mode": {
    "name": "ipython",
    "version": 2
   },
   "file_extension": ".py",
   "mimetype": "text/x-python",
   "name": "python",
   "nbconvert_exporter": "python",
   "pygments_lexer": "ipython2",
   "version": "2.7.6"
  }
 },
 "nbformat": 4,
 "nbformat_minor": 0
}
