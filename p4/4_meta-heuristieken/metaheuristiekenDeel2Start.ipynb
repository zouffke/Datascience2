{
 "cells": [
  {
   "cell_type": "code",
   "execution_count": null,
   "metadata": {
    "collapsed": false,
    "pycharm": {
     "name": "#%%\n"
    }
   },
   "outputs": [],
   "source": [
    "import collections\n",
    "\n",
    "import numpy as np\n",
    "import pandas as pd\n",
    "from inspyred.ec.analysis import fitness_statistics, generation_plot\n",
    "from simanneal import Annealer\n",
    "import math\n",
    "from random import Random\n",
    "from inspyred import ec #ec staat voor Evolutionary computation\n",
    "from random import Random, randrange, random"
   ]
  },
  {
   "cell_type": "code",
   "execution_count": null,
   "metadata": {
    "collapsed": false,
    "pycharm": {
     "name": "#%%\n"
    }
   },
   "outputs": [],
   "source": [
    "# Using simulated annealing\n",
    "class RastriginProblem(Annealer): ##Een klasse die overerft van de Annealer klasse uit package simanneal\n",
    "# 1. Maak een energyfunctie (objective function, optimalisatie-functie)\n",
    "# De annaeler minimaliseert\n",
    " def energy(self): #Dit geeft terug hoe goed de oplossing is.\n",
    "   s = self.state\n",
    "   return -10 * len(s)+((s**2-10*np.cos(2*np.pi*s))).sum()\n",
    "\n",
    "# 2. Bepaal de move functie. Waarbij je een nieuwe oplossing maakt die in de buurt ligt van de vorige oplossing.\n",
    " def move(self): #Implementatie van de move klasse\n",
    "   # We wijzigen 1 van de variabelen uit de oplossings-array naar een nieuwe waarde\n",
    "   s =self.state\n",
    "   changing_index = np.random.randint(0,len(s)) #We geven gewoon één van de waarden van de solution een nieuwe waarde\n",
    "   s[changing_index]+=np.random.normal(0,0.5,1)\n",
    "   s = np.clip(s, a_min=-5.12, a_max=5.12)"
   ]
  },
  {
   "cell_type": "code",
   "execution_count": null,
   "metadata": {
    "collapsed": false,
    "pycharm": {
     "name": "#%%\n"
    }
   },
   "outputs": [],
   "source": [
    "init_sol = np.random.uniform(-5.12,5.12, size=9)"
   ]
  },
  {
   "cell_type": "code",
   "execution_count": null,
   "metadata": {
    "collapsed": false,
    "pycharm": {
     "name": "#%%\n"
    }
   },
   "outputs": [],
   "source": [
    "\n",
    "rastrigin=RastriginProblem(init_sol)\n",
    "rastrigin.Tmax =100000\n",
    "rastrigin.steps = 50000\n",
    "rastrigin.updates = 100\n",
    "rastrigin.Tmin = 100\n",
    "\n",
    "\n",
    "solution, best = rastrigin.anneal()\n",
    "print(solution)\n",
    "best"
   ]
  },
  {
   "cell_type": "markdown",
   "metadata": {
    "collapsed": false,
    "pycharm": {
     "name": "#%% md\n"
    }
   },
   "source": [
    "# Genetic algorithms\n",
    "## Rastrigin revisited\n",
    "### 1. Maak een generate functie die een geldige oplossing kan maken"
   ]
  },
  {
   "cell_type": "code",
   "execution_count": null,
   "metadata": {
    "collapsed": false
   },
   "outputs": [],
   "source": [
    "#Geen initial solution nodig, wel een functie die een solution genereert. \n",
    "#De library gebruikt deze functie om een populatie te maken.\n",
    "def generate(random = None, args =  None) -> []:\n",
    "     return "
   ]
  },
  {
   "cell_type": "markdown",
   "source": [
    "### 2. Maak een evaluate functie die een populatie van oplossingen evalueert"
   ],
   "metadata": {
    "collapsed": false
   }
  },
  {
   "cell_type": "code",
   "outputs": [],
   "source": [
    "#Evalueert voor een set van oplossingen (een populatie) de fitness.\n",
    "# Je plaatst de ojective function best afzonderlijk en verwijst hiernaar in de evaluate functie\n",
    "# De return is een array van oplossingen.\n",
    "def evaluate(candidates, args = {}):\n",
    "    return\n",
    "\n",
    "#Equivalent van de energy functie. Bij inspyred kan je bij de uitvoering kiezen tussen minimalisatie of maximalisatie. Je moet de functie dus niet omkeren door er een min voor te zetten.\n",
    "\n",
    "def obj_func(solution):\n",
    "    return (10 * len(solution))+(solution**2-10*np.cos(2*np.pi*solution)).sum()\n"
   ],
   "metadata": {
    "collapsed": false
   },
   "execution_count": null
  },
  {
   "cell_type": "markdown",
   "source": [],
   "metadata": {
    "collapsed": false
   }
  },
  {
   "cell_type": "markdown",
   "source": [
    "### 4. Genetisch algoritme configureren en uitvoeren"
   ],
   "metadata": {
    "collapsed": false
   }
  },
  {
   "cell_type": "code",
   "outputs": [],
   "source": [
    "#Imports\n",
    "from inspyred import ec #ec staat voor Evolutionary computation\n",
    "from random import Random\n",
    "rand = Random()\n",
    "\n",
    "\n",
    "\n",
    "# ga object maken\n",
    "ga = ec.GA(rand)\n",
    "\n",
    "# a. Heuristiek configureren\n",
    "#------------------------------------------------\n",
    "# observer, terminator, variator, replacer strategieën kiezen\n",
    "\n",
    "# b. Heuristiek uitvoeren\n",
    "#------------------------------------------------\n",
    "# generate = , evaluate=: verwijs naar generate functie en evaluate functie\n",
    "# selector: selectie strategie kiezen\n",
    "# maximize: maximalisatie of minimalisatie\n",
    "# bounder: de grenzen van de oplossingen\n",
    "# strategie specieke parameters: zie uitleg van de gekozen strategieën\n",
    "# eigen vastgelegde parameters: vb. num_inputs gebruikt in generate\n"
   ],
   "metadata": {
    "collapsed": false
   },
   "execution_count": null
  },
  {
   "cell_type": "markdown",
   "source": [
    "## Traveling salesperson \n",
    "### Omzetten naar een probleem met binaire solutions"
   ],
   "metadata": {
    "collapsed": false
   }
  },
  {
   "cell_type": "code",
   "outputs": [],
   "source": [
    "distance_matrix = [0, 100, 125, 100, 75, 100, 0, 50, 75, 125, 125, 50, 0, 100, 125, 100, 75, 100, 0, 50, 75, 125, 125, 50, 0]"
   ],
   "metadata": {
    "collapsed": false
   },
   "execution_count": null
  },
  {
   "cell_type": "markdown",
   "source": [
    "### Functies"
   ],
   "metadata": {
    "collapsed": false
   }
  },
  {
   "cell_type": "code",
   "execution_count": null,
   "metadata": {
    "collapsed": false
   },
   "outputs": [],
   "source": [
    "#Generate maakt een oplossing met 5 ééntjes\n",
    "def generate(random = None, args =  None) -> []:\n",
    "    size = args.get('num_cities',5)\n",
    "    #Create a random but valid solution for the TSP problem\n",
    "    solution = np.zeros(size*size,dtype=int)\n",
    "    for i in range (0, size):\n",
    "        j = np.random.randint(low=0, high=size)\n",
    "        solution[i*size+j]=1\n",
    "    return solution.tolist()\n",
    "\n",
    "#Berekent de scores van een hele populatie\n",
    "def evaluate(candidates, args = {}):\n",
    "    weights = args.get('distance_matrix',[])\n",
    "    fitness = []\n",
    "    for candidate in candidates:\n",
    "        fitness.append(obj_func(candidate,weights))\n",
    "    return fitness\n",
    "\n",
    "#Functie die op basis van de weights en de solution matrix een score geeft aan de oplossing.\n",
    "def obj_func(solution, weights):\n",
    "    n=int(math.sqrt(len(solution))) #Het aantal steden\n",
    "    matrix_solution = np.array(solution).reshape(n,n)\n",
    "    leaveOK=matrix_solution.sum(axis=0) #Tel in de matrix de som van de kolommen op\n",
    "    arriveOK=matrix_solution.sum(axis=1) #Tel in de matrix de som van de rijen op\n",
    "    notStayingOK = np.diag(matrix_solution).sum() #De som van diagonaal moet 0 zijn\n",
    "    # #No subloops or infinite loop but one loop with length n\n",
    "    loop_length = 0;\n",
    "    city=0\n",
    "    in_loop = True\n",
    "    while(in_loop & (loop_length < n+1)):\n",
    "        loop_length = loop_length + 1\n",
    "        index = range(city*n,(city+1)*n, 1) # row of city\n",
    "        next_city = 0\n",
    "        while ((solution[index[next_city]] == 0) & (next_city < n-1)): next_city=next_city+1\n",
    "        in_loop = (next_city != 0) & (solution[index[next_city]] == 1)\n",
    "        city = next_city\n",
    "    #Test if all of the conditions are fulfilled\n",
    "    if (    (notStayingOK == 0) &\n",
    "            (np.min(arriveOK) == 1) &\n",
    "            (np.max(arriveOK) == 1) &\n",
    "            (np.sum(arriveOK) == n) &\n",
    "            (np.min(leaveOK) == 1) &\n",
    "            (np.max(leaveOK) == 1) &\n",
    "            (np.sum(leaveOK) == n) &\n",
    "            (loop_length == n)          ):\n",
    "        score=np.sum(np.multiply(solution, weights))  #value objective function\n",
    "    else:\n",
    "        score=10000*n #not a feasible solution, so very bad value for the objective function\n",
    "    return score"
   ]
  },
  {
   "cell_type": "markdown",
   "source": [
    "### Configuratie van het genetisch algoritme en uitvoering"
   ],
   "metadata": {
    "collapsed": false
   }
  },
  {
   "cell_type": "code",
   "outputs": [],
   "source": [
    "\n",
    "from inspyred import ec #ec staat voor Evolutionary computation\n",
    "from random import Random\n",
    "\n",
    "rand = Random()\n",
    "ga = ec.GA(rand)\n",
    "ga.observer = ec.observers.plot_observer\n",
    "ga.terminator = ec.terminators.evaluation_termination\n",
    "ga.variator = [ec.variators.n_point_crossover, ec.variators.bit_flip_mutation]\n",
    "ga.replacer = ec.replacers.plus_replacement #Bij de volgende populatie worden uit alle parents en offsprings de beste resultaten geselecteerd.\n",
    "population = ga.evolve(\n",
    "    generator=generate,\n",
    "    evaluator=evaluate,\n",
    "    selector = ec.selectors.fitness_proportionate_selection, # dit is het rouletteselectiemechanisme (wie mag paren?\n",
    "    pop_size=1000,\n",
    "    maximize= False,\n",
    "    #bounder=ec.DiscreteBounder([0,1]), #bounder die enkel 0 en 1 oplevert (is in principe niet nodig in dit geval)\n",
    "    max_evaluations=50000,\n",
    "    mutation_rate=0.01,\n",
    "    num_crossover_points = 3,\n",
    "    distance_matrix=distance_matrix\n",
    "    )\n",
    "print(population[0])\n",
    "ec.analysis.fitness_statistics(population)"
   ],
   "metadata": {
    "collapsed": false,
    "pycharm": {
     "name": "#%%\n"
    }
   },
   "execution_count": null
  },
  {
   "cell_type": "markdown",
   "metadata": {
    "collapsed": false,
    "pycharm": {
     "name": "#%% md\n"
    }
   },
   "source": [
    "# Oefeningen"
   ]
  },
  {
   "cell_type": "markdown",
   "metadata": {
    "collapsed": false,
    "pycharm": {
     "name": "#%% md\n"
    }
   },
   "source": [
    "## Gutter"
   ]
  },
  {
   "cell_type": "markdown",
   "metadata": {
    "collapsed": false,
    "pycharm": {
     "name": "#%% md\n"
    }
   },
   "source": [
    "### Simmulated annealing"
   ]
  },
  {
   "cell_type": "code",
   "execution_count": null,
   "metadata": {
    "collapsed": false,
    "pycharm": {
     "name": "#%%\n"
    }
   },
   "outputs": [],
   "source": [
    "class VolumeProblem(Annealer):\n",
    "    def energy(self):\n",
    "        s = self.state\n",
    "        return -s*(1-s/2)\n",
    "\n",
    "    def move(self):\n",
    "        s = self.state\n",
    "        s += np.random.normal(0, 0.1, 1)\n",
    "\n",
    "init_sol = np.random.uniform(0.1, 1, size=1)\n",
    "rastrigin = VolumeProblem(init_sol)\n",
    "rastrigin.Tmax = 100000\n",
    "rastrigin.steps = 1000\n",
    "rastrigin.updates = 5000\n",
    "rastrigin.Tmin = 100\n",
    "\n",
    "solution, best = rastrigin.anneal()\n",
    "print(solution)\n",
    "print(best)"
   ]
  },
  {
   "cell_type": "code",
   "execution_count": null,
   "metadata": {
    "collapsed": false,
    "pycharm": {
     "name": "#%%\n"
    }
   },
   "outputs": [],
   "source": [
    "class GutterProblem(Annealer):\n",
    "    def energy(self):\n",
    "        b = self.state[0]\n",
    "        h = (1 - b)/2\n",
    "        return -b*h\n",
    "\n",
    "    def move(self):\n",
    "        self.state += np.random.normal(0,0.1,1)\n",
    "        return\n",
    "\n",
    "init_sol = [0]\n",
    "\n",
    "gutter=GutterProblem(init_sol)\n",
    "gutter.Tmax =100000\n",
    "gutter.steps = 1000\n",
    "gutter.updates = 5000\n",
    "gutter.Tmin = 100\n",
    "\n",
    "#Doelfunctie resultaat van de initiële oplussing\n",
    "gutter.energy()\n",
    "gutter.anneal()\n",
    "#initial solution\n"
   ]
  },
  {
   "cell_type": "markdown",
   "metadata": {
    "collapsed": false,
    "pycharm": {
     "name": "#%% md\n"
    }
   },
   "source": [
    "### Genetic algorithms"
   ]
  },
  {
   "cell_type": "code",
   "execution_count": null,
   "metadata": {
    "collapsed": false,
    "pycharm": {
     "name": "#%%\n"
    }
   },
   "outputs": [],
   "source": []
  },
  {
   "cell_type": "markdown",
   "metadata": {
    "collapsed": false,
    "pycharm": {
     "name": "#%% md\n"
    }
   },
   "source": [
    "## KNAPSACK"
   ]
  },
  {
   "cell_type": "markdown",
   "metadata": {
    "collapsed": false,
    "pycharm": {
     "name": "#%% md\n"
    }
   },
   "source": [
    "### Simmulated annealing"
   ]
  },
  {
   "cell_type": "code",
   "execution_count": null,
   "metadata": {
    "collapsed": false,
    "pycharm": {
     "name": "#%%\n"
    }
   },
   "outputs": [],
   "source": [
    "df = pd.read_csv('../datasets/Knapsack Items.csv', index_col=0)\n",
    "weights = df['gewichten(gr)']\n",
    "values = df['waarde']\n",
    "\n",
    "class KnapsackProblem(Annealer):\n",
    "    def energy(self):\n",
    "        b = self.state\n",
    "        total_weight = (b * weights).sum()\n",
    "        total_values = (b * values).sum()\n",
    "        if total_weight > 750:\n",
    "            return -(750 - total_weight)\n",
    "        else:\n",
    "            return -total_values\n",
    "\n",
    "    def move(self):\n",
    "        index= self.state[np.random.randint(0,len(values))]\n",
    "        if (self.state[index]==0):\n",
    "            self.state[index]=1\n",
    "        else:\n",
    "            self.state[index]=0\n",
    "        return\n",
    "    \n",
    "init_sol = np.random.choice([0,1],len(values)) #initial solution\n",
    "gutter=KnapsackProblem(init_sol)\n",
    "gutter.Tmax =100000\n",
    "gutter.steps = 10000\n",
    "gutter.updates = 5000\n",
    "gutter.Tmin = 100\n",
    "\n",
    "\n",
    "gutter.anneal()\n"
   ]
  },
  {
   "cell_type": "markdown",
   "metadata": {
    "collapsed": false,
    "pycharm": {
     "name": "#%% md\n"
    }
   },
   "source": [
    "### Genetic algorithms\n",
    "\n",
    "#### Vervolledig de generate en evaluate functies"
   ]
  },
  {
   "cell_type": "code",
   "execution_count": null,
   "metadata": {
    "collapsed": false,
    "pycharm": {
     "name": "#%%\n"
    }
   },
   "outputs": [],
   "source": [
    "def obj_funct(weights, values, selection):\n",
    "    total_weight = (selection* weights).sum()\n",
    "    total_values = (selection* values).sum()\n",
    "    if total_weight > 750:\n",
    "        return total_values/3\n",
    "    else:\n",
    "        return total_values\n",
    "\n",
    "def evaluate(candidates, args = {}):\n",
    "\n",
    "    return \n",
    "\n",
    "def generate(random = None, args = {}) -> []:\n",
    "    return "
   ]
  },
  {
   "cell_type": "code",
   "execution_count": null,
   "metadata": {
    "collapsed": false,
    "pycharm": {
     "name": "#%%\n"
    }
   },
   "outputs": [],
   "source": [
    "df = pd.read_csv('../datasets/Knapsack Items.csv', index_col=0)\n",
    "weights = df['gewichten(gr)']\n",
    "values = df['waarde']"
   ]
  },
  {
   "cell_type": "markdown",
   "source": [
    "### Configuratie van het genetisch algoritme en uitvoering\n",
    "Gebruik n_point_crossover en bit_flip_mutation als variators, gebruik de descrete bounder en de tournament selection."
   ],
   "metadata": {
    "collapsed": false
   }
  },
  {
   "cell_type": "code",
   "execution_count": null,
   "metadata": {
    "collapsed": false,
    "pycharm": {
     "name": "#%%\n"
    }
   },
   "outputs": [],
   "source": [
    "\n"
   ]
  }
 ],
 "metadata": {
  "kernelspec": {
   "display_name": "Python 3 (ipykernel)",
   "language": "python",
   "name": "python3"
  },
  "language_info": {
   "codemirror_mode": {
    "name": "ipython",
    "version": 3
   },
   "file_extension": ".py",
   "mimetype": "text/x-python",
   "name": "python",
   "nbconvert_exporter": "python",
   "pygments_lexer": "ipython3",
   "version": "3.11.7"
  }
 },
 "nbformat": 4,
 "nbformat_minor": 4
}
