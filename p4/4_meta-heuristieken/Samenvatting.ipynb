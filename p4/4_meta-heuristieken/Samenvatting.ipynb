{
 "cells": [
  {
   "metadata": {},
   "cell_type": "markdown",
   "source": "# Metaheuristieken",
   "id": "37ec32f8b0707452"
  },
  {
   "metadata": {},
   "cell_type": "markdown",
   "source": [
    "## Optimalisatieproblemen (OPP)\n",
    "Een optimalisatieprobleem (**OPP**) bestaat uit mogelijke **oplossingen**, een **doelfunctie** of een **kostenfunctie** en een lijst van beperkingen, **constraints**.\n",
    "Een **OPP** omvat in de praktijk een aantal **variabelen**. Een oplossingen kan men bekomen door aan de variabelen een concrete waarde toe te kennen.\n",
    "De constraints van een **OPP** bepaalt de **oplossingsruimte**. De oplossingsruimte bevat alle mogelijke oplossingen waaruit de besluiter kan kiezen.\n",
    "De doelfunctie levert voor elke oplossingen een waarde op die aangeeft hoe goed de oplossing is."
   ],
   "id": "6c71b9ef4f01b909"
  },
  {
   "metadata": {},
   "cell_type": "markdown",
   "source": [
    "## Computationele complexiteit (CC)\n",
    "De computationele complexiteit van een probleem is een maat voor de hoeveelheid rekentijd en geheugen die nodig is om het probleem op te lossen.\n",
    "Voor de **computationele complexiteit van een algortime** wordt meestal uit gegaan van de worst-case scenario.\n",
    "Voor de **computationele complexiteit van een probleem** wordt uiteindelijk gekozen voor het meest efficiënte algoritme.\n",
    "De **computationele complexiteit** van een probleem wordt vaak uitgedrukt in de **grootte van de invoer**. In de computationele complexiteit wordt ≈ aangeduid door de notatie **$O()$**.\n",
    "\n",
    "Voorbeelden van computationele tijdscomplexiteit:\n",
    "\n",
    "| Tijd                 | Notatie    | Voorbeeld                                     |\n",
    "|----------------------|------------|-----------------------------------------------|\n",
    "| Constant             | O(1)       | Het opvragen van een element in een array     |\n",
    "| Lineair              | O(n)       | Het minimum in een ongeordende array vinden   |\n",
    "| Logaritmisch         | O(log n)   | Binary search                                 |\n",
    "| Lineair-logaritmisch | O(n log n) | Mergesort                                     |\n",
    "| Kwadratisch          | O(n^2)     | Bubble sort, Selection sort, Quick sort       |\n",
    "| Expontieel           | O(2^n)     | Recursief berekenen van het n-fibonacci getal |\n"
   ],
   "id": "1022c455b99d45a7"
  },
  {
   "metadata": {},
   "cell_type": "markdown",
   "source": [
    "### Polynomiale tijd\n",
    "Een algoritme wordt in **polynomiale tijd** uitgevoerd als de computationele complexiteit begrensd is door een polynomiale functie van de grootte van de invoer.\n",
    "\n",
    "In de computationele complexiteit beschouwt men meerdere complexiteitsklassen:\n",
    "- **P**: Problemen die in polynomiale tijd opgelost kunnen worden door een deterministische Turingmachine.\n",
    "- **NP**: Problemen waarvan de oplossing in polynomiale tijd kunnen worden opgelost door een niet-deterministische Turingmachine.\n",
    "- **NP-complete**: dit is een subklasse van de klasse NP. Problemen die tot deze klasse behoren kunnen in polynomiale tijd op een deterministische Turingmachine omgezet worden naar een ander probleem in deze subklasse. Met ander woorden, indien voor één van de problemen behorende tot de klasse NP-complete een algoritme kan gevonden worden dat in polynomiale tijd op een deterministische Turingmachine kan worden opgelost, behoren in één klap alle problemen in de klasse NP-complete tot de klasse P.\n",
    "- **NP-hard**: Alle problemen die niet behoren tot P of NP-complete."
   ],
   "id": "9fc7b31ef390426"
  },
  {
   "metadata": {},
   "cell_type": "markdown",
   "source": [
    "## Waarom heuristieken?\n",
    "Heuristieken worden gebruikt voor het oplossen van problemen waarvoor geen efficiënte algoritmes bestaan. De heuristieken zullen een goed antwoord geven in een veel kortere tijd dan het algoritme dat een perfect antwoord zal geven. een voorbeeld is het travelling salesman probleem. *Een handelsreiziger dient $n$ steden 1 maal te bezoeken en terug te keren naar zijn vertrekpunt. De handelsreiziger wil de kortst mogelijke route afleggen.* In totaal zijn er n! aantal mogelijke routes.\n",
    "- Een algoritme om deze route optimale route te berekenen heeft een tijdscomplexiteit van $O(n² * 2^n)$\n",
    "- Een heuristiek zoals de **nearest neighbour** heeft een tijdscomplexiteit van $O(n²)$ (De nearest neighbour is een algoritme dat de dichtsbijzijnde, niet bezochte, stad kiest en deze toevoegt aan de route)\n",
    "Als we deze complexiteiten gebruiken en waarde geven aan $n$ kunnen we zien dat de heuristiek veel sneller is dan het algoritme.\n",
    "\n",
    "| $n$ | $n!$                      | $n² * 2^n$  | $n²$ |\n",
    "|-----|---------------------------|-------------|------|\n",
    "| 5   | 120                       | 800         | 25   |\n",
    "| 10  | 3.628.800                 | 102.400     | 100  |\n",
    "| 15  | 1.307.674.368.000         | 7.372.800   | 225  |\n",
    "| 20  | 2.432.902.008.176.640.000 | 419.430.400 | 400  | "
   ],
   "id": "40857649788aee3b"
  },
  {
   "metadata": {},
   "cell_type": "markdown",
   "source": "### Soorten heuristieken",
   "id": "f0e60c435f39b2bd"
  },
  {
   "metadata": {},
   "cell_type": "markdown",
   "source": [
    "#### 'Custom-made' heuristieken\n",
    "Vele heuristieken zijn specifiek ontworpen voor een bepaald probleem. Deze kunnen niet gebruikt worden voor andere problemen."
   ],
   "id": "a178614c4b60c02b"
  },
  {
   "metadata": {},
   "cell_type": "markdown",
   "source": [
    "#### Eenvoudige heuristieken\n",
    "Eenvoudige heuristieken zijn vaak gebaseerd op een bepaalde strategie. Deze heuristieken zijn vaak niet optimaal, maar kunnen wel een goede oplossing geven.\n",
    "Het *nearest neighbour* algoritme is een voorbeeld van een eenvoudige heuristiek."
   ],
   "id": "9aced00d564798e2"
  },
  {
   "metadata": {},
   "cell_type": "markdown",
   "source": [
    "##### 'constructie'-heuristieken\n",
    "Een constructie-heuristiek bouwt een oplossing op door een aantal stappen te volgen. Een voorbeeld hiervan is het *nearest neighbour* algoritme."
   ],
   "id": "42ad90583b416753"
  },
  {
   "metadata": {},
   "cell_type": "markdown",
   "source": [
    "##### 'twee-fasen'-heuristieken\n",
    "Een twee-fasen-heuristiek bestaat uit twee stappen. De eerste stap is een constructie-heuristiek en de tweede stap is een verbeteringsheuristiek."
   ],
   "id": "3f1c5523bbcde0e5"
  },
  {
   "metadata": {},
   "cell_type": "markdown",
   "source": [
    "#### Meta-heuristieken\n",
    "Een meta-heuristiek is een high level procedure dat op bijna elk probleem kan worden toegepast."
   ],
   "id": "205a897192ac3e0c"
  },
  {
   "metadata": {},
   "cell_type": "markdown",
   "source": [
    "##### Simulated Annealing\n",
    "Simulated Annealing is een meta-heuristiek gebaseerd op het proces van het afkoelen van metalen. Het algoritme zal een oplossing accepteren die slechter is dan de huidige oplossing. Dit wordt gedaan om uit het lokale minimum te geraken. Het algoritme zal na verloop van tijd minder slechtere oplossingen accepteren."
   ],
   "id": "b5ceaf230b1c81de"
  },
  {
   "metadata": {},
   "cell_type": "markdown",
   "source": [
    "###### Python\n",
    "Voor het uitvoeren van Simulated Annealing in python moet je eerst een subklasse aanmaken van de klasse Annealer waarin de functies **move** en **energy** worden gedefinieerd.\n",
    "De functie **move** bepaalt hoe men van een oplossing naar een buuroplossing kan gaan.\n",
    "De functie **energy** berekent de waarde van de objectieve functie van een oplossing.\n",
    "\n",
    "```python\n",
    "class Problem(Annealer):\n",
    "    def move(self):\n",
    "        pass\n",
    "\n",
    "    def energy(self):\n",
    "        pass\n",
    "```"
   ],
   "id": "cbf8be3eda4d6fbb"
  },
  {
   "metadata": {},
   "cell_type": "markdown",
   "source": [
    "Als voorbeeld maken we gebruik van de **Rastrigin functie**. Voor de functie kiezen we 30 variabelen die in het interval [-5.12, 5.12] kunnen liggen.\n",
    "De objectieve functie is gekend en ziet er als volgt uit:\n",
    "\n",
    "$f(x) = 10*n+∑_{i=1}^{n}(x²-10*cos(2*π*x_{i}))$\n",
    "\n",
    "Deze functie kunnen we schrijven in onze functie **energy**:\n",
    "\n",
    "```python\n",
    "def energy(self):\n",
    "    sum_f = 10 * len(self.state)\n",
    "    for i in range(0, len(self.state)):\n",
    "        sum_f = sum_f + (self.state[i] ** 2 - 10 * math.cos(2 * math.pi * self.state[i]))\n",
    "    return sum_f\n",
    "```"
   ],
   "id": "10604d8c0b813b15"
  },
  {
   "metadata": {},
   "cell_type": "markdown",
   "source": "We kunnen een initiële startoplossing, bestaande uit 30 random gegenereerde getallen tussen de gestelde onder- en bovengrens, genereren.",
   "id": "9e7dbfcc42646326"
  },
  {
   "metadata": {
    "ExecuteTime": {
     "end_time": "2024-06-09T09:26:09.210445Z",
     "start_time": "2024-06-09T09:26:09.206551Z"
    }
   },
   "cell_type": "code",
   "source": [
    "import numpy as np\n",
    "\n",
    "init_sol = np.random.uniform(-5.12, 5.12, size=30)"
   ],
   "id": "27a6b39ddbc33461",
   "outputs": [],
   "execution_count": 73
  },
  {
   "metadata": {},
   "cell_type": "markdown",
   "source": [
    "Voor de overgang van een oplossing naar een buuroplossing kunnen we willekeurig een van de 30 dimensies selecteren en voor die dimensie een nieuwe waarde genereren.\n",
    "\n",
    "```python\n",
    "def move(self):\n",
    "    i = np.random.randint(0, len(self.state))\n",
    "    self.state[i] = np.random.uniform(-5.12, 5.12)\n",
    "```"
   ],
   "id": "cd49aae590330c06"
  },
  {
   "metadata": {
    "ExecuteTime": {
     "end_time": "2024-06-09T09:26:09.225807Z",
     "start_time": "2024-06-09T09:26:09.220146Z"
    }
   },
   "cell_type": "code",
   "source": [
    "import math\n",
    "from simanneal import Annealer\n",
    "\n",
    "class RastriginProblem(Annealer):\n",
    "    def move(self):\n",
    "        i = np.random.randint(0, len(self.state))\n",
    "        self.state[i] = np.random.uniform(-5.12, 5.12)\n",
    "        \n",
    "        \n",
    "    def energy(self):\n",
    "        sum_f = 10 * len(self.state)\n",
    "        for i in range(0, len(self.state)):\n",
    "            sum_f = sum_f + (self.state[i] ** 2 - 10 * math.cos(2 * math.pi * self.state[i]))\n",
    "        return sum_f"
   ],
   "id": "3e140125ba6df965",
   "outputs": [],
   "execution_count": 74
  },
  {
   "metadata": {},
   "cell_type": "markdown",
   "source": "Nu kunnen we een nieuw object aanmaken van de nieuwe klasse en de initiële oplossing meegeven",
   "id": "4cd8669a4802bbb3"
  },
  {
   "metadata": {
    "ExecuteTime": {
     "end_time": "2024-06-09T09:26:09.232087Z",
     "start_time": "2024-06-09T09:26:09.226872Z"
    }
   },
   "cell_type": "code",
   "source": [
    "rastrigin = RastriginProblem(init_sol)\n",
    "init_sol"
   ],
   "id": "49e0961cff0561f",
   "outputs": [
    {
     "data": {
      "text/plain": [
       "array([ 2.39737412, -1.56868991,  1.95311905, -0.29843033, -3.43105703,\n",
       "       -0.96364854,  5.01801604, -4.98539217, -1.89162231, -2.85355847,\n",
       "       -1.43523489, -4.72062249,  3.27569475,  1.02003694,  2.92018899,\n",
       "       -5.11873817,  0.40999543, -1.81885929,  0.57543031,  3.10712323,\n",
       "        4.33159547, -2.60930614,  1.2946745 ,  3.88223591, -2.19931468,\n",
       "        1.18597717,  4.70727975,  2.11316976, -1.59768719, -0.65591622])"
      ]
     },
     "execution_count": 75,
     "metadata": {},
     "output_type": "execute_result"
    }
   ],
   "execution_count": 75
  },
  {
   "metadata": {},
   "cell_type": "markdown",
   "source": "Voor het te bekomen van een resultaat moeten we het simulated annealing proces laten uitvoeren",
   "id": "640ba24e28d89aab"
  },
  {
   "metadata": {
    "ExecuteTime": {
     "end_time": "2024-06-09T09:26:10.989556Z",
     "start_time": "2024-06-09T09:26:09.233096Z"
    }
   },
   "cell_type": "code",
   "source": "rastrigin.anneal()",
   "id": "269e4a31f8732a50",
   "outputs": [
    {
     "name": "stderr",
     "output_type": "stream",
     "text": [
      " Temperature        Energy    Accept   Improve     Elapsed   Remaining\n",
      "\r    2.50000         74.94    11.80%     6.00%     0:00:02     0:00:00"
     ]
    },
    {
     "data": {
      "text/plain": [
       "(array([-0.98435809, -0.92643434, -0.11957337, -1.9863871 , -1.00808321,\n",
       "        -1.02601599,  1.04573653, -0.00977794, -0.12658816, -0.07554596,\n",
       "         0.02504202, -1.04967754, -0.05500252,  0.0319085 , -0.03304844,\n",
       "        -1.10620831, -2.03530224,  0.83135168,  1.99771853, -2.00040773,\n",
       "         0.87239328, -0.01693468, -0.03542966, -0.09157199,  2.00149911,\n",
       "         0.06195938, -0.07895591, -1.03340674,  0.03335864, -1.00561587]),\n",
       " 55.973514061311974)"
      ]
     },
     "execution_count": 76,
     "metadata": {},
     "output_type": "execute_result"
    }
   ],
   "execution_count": 76
  },
  {
   "metadata": {},
   "cell_type": "markdown",
   "source": [
    "Met bovenstaande functie hebben we geen parameters meegeven dus zijn de default waarde gebruikt.\n",
    "- Tmax = 25000.00 (de start temperatuur)\n",
    "- Tmin = 2.5 (de stop temperatuur)\n",
    "- temparature steps = 50.000 (het aantal iteraties)\n",
    "- updates = 100 (het aantal updates)\n",
    "\n",
    "We kunnen deze parameters ook zelf een waarde geven:"
   ],
   "id": "d76c7f029b093306"
  }
 ],
 "metadata": {
  "kernelspec": {
   "display_name": "Python 3",
   "language": "python",
   "name": "python3"
  },
  "language_info": {
   "codemirror_mode": {
    "name": "ipython",
    "version": 2
   },
   "file_extension": ".py",
   "mimetype": "text/x-python",
   "name": "python",
   "nbconvert_exporter": "python",
   "pygments_lexer": "ipython2",
   "version": "2.7.6"
  }
 },
 "nbformat": 4,
 "nbformat_minor": 5
}
