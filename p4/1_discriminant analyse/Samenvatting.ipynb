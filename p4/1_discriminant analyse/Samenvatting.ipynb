{
 "cells": [
  {
   "metadata": {},
   "cell_type": "markdown",
   "source": "# Discriminant analyse",
   "id": "d4049086bb3cd36d"
  },
  {
   "metadata": {},
   "cell_type": "markdown",
   "source": [
    "*Discriminant analyse zal worden verwezen door DA*\n",
    "\n",
    "## Inleidende begrippen\n",
    "\n",
    "### Univariate statistiek\n",
    "- Statische techniek waar 1 variabele voor nodig is\n",
    "\n",
    "### Bivariate statistiek\n",
    "- Statische techniek waar 2 variabelen voor nodig zijn\n",
    "\n",
    "- vb. Regressie analyse waarbij 2 variabelen nodig zijn om een onafhankelijke variabele (x) en een afhankelijke variabele (y) te voorspellen.\n",
    "\n",
    "### Multivariate statistiek\n",
    "- Statische techniek waar 3 of meer variabelen voor nodig zijn\n",
    "- vb. Cluster analyse\n",
    "    - Wanneer elk element een punt is in drie of meer dimensionale ruimte.\n",
    "\n",
    "### Wederzijds uitsluitende deelgroepen\n",
    "- Deelgroepen die niet overlappen\n",
    "- vb. Mannen en vrouwen"
   ],
   "id": "d0a1c6923a7a33e3"
  },
  {
   "metadata": {},
   "cell_type": "markdown",
   "source": [
    "## Wat is DA?\n",
    "\n",
    "- DA behoort tot de **multivariate statistiek**\n",
    "\n",
    "bv. Een bank moet beslissen of een klant een lening krijgt of niet.\n",
    "- De klant wordt in 1 van 2 groepen gedeeld:\n",
    "    - Kredietwaardige klanten\n",
    "    - Niet-kredietwaardige klanten\n",
    "\n",
    "De bank heeft in het verleden al leningen gegeven en heeft gegevens over de klanten die de lening hebben terugbetaald en de klanten die de lening niet hebben terugbetaald.\n",
    "Stel dat deze databank 3 discriminanten (criteria) bevat die het duidelijkste aangeven of de klant waardig is of niet.\n",
    "- Stabiliteit\n",
    "- finianciële draagkracht\n",
    "- leeftijd\n",
    "Aan de hand van deze data in de databank en de waardes van de klant kan de bank beslissen of deze waardig is of niet."
   ],
   "id": "a55cfd27bda34e5c"
  },
  {
   "metadata": {},
   "cell_type": "markdown",
   "source": [
    "## Afhankelijke en onafhankelijke variabelen\n",
    "- De afhankelijke variabele is de categorie.\n",
    "    *In het vorig voorbeeld, kredietwaardig of niet.* \n",
    "- De onafhankelijke variabelen zijn de gegevens die worden gebruikt om tot de categorie te komen.\n",
    "    *In het vorig voorbeeld, stabiliteit, financiële draagkracht en leeftijd.*\n",
    "- De afhankelijke variabele is minstens op een nominaal schaalniveau.\n",
    "- De onafhankelijke variabelen zijn continue variabelen op minstens interval schaalniveau.\n",
    "\n",
    "<center><img src=\"rsc/img/de-vier-meetniveaus-scribbr-1423x732-1.png\" width=\"1000\"></center>"
   ],
   "id": "7154c9896ee50913"
  },
  {
   "metadata": {},
   "cell_type": "markdown",
   "source": [
    "## Karakteristieken\n",
    "DA kan voor 2 verschillende doeleinden worden gebruikt:\n",
    "- Om verschillen te bepalen tussen verschillende -wederzijds uitsluitende- groepen, weergeven door de afhankelijke variabele, door patronen te vinden in de onafhankelijke variabelen. Dit wordt ook wel aangeduid als **Descriptive (beschrijvende) DA**\n",
    "- om te bepalen tot welke groep een nieuwe waarneming behoort. Dit wordt ook wel aangeduid als **Predictive (voorspellende) DA**\n",
    "\n",
    "Het doel van DA is om de relatieve belangrijkheid van kenmerken/eigenschappen van elkaar te onderscheiden, te bepalen of te beschrijven.\n",
    "\n",
    "**De onafhankelijke variabelen worden de discriminanten (criteria) genoemd.**\n",
    "Het resultaat van de **descriptive DA** is een **discriminantfunctie**. Hierbij wordt de waarde voor elk van de discriminanten vermenigvuldigt met een gewicht en opgeteld.\n",
    "Men kan de de discriminantfunctie toepassen op een waarneming. Neem enkel de waardes van de waarneming die overeenstemt met de discriminanten en vermenigvuldig deze met de overeenkomende gewichten.\n",
    "**De som hiervan geeft de discriminantfunctiescore weer voor de waarneming.**\n",
    "Deze discriminant functie wordt ook gebruikt om de **predictive DA** uit te voeren."
   ],
   "id": "2c08e4541bc46086"
  },
  {
   "metadata": {},
   "cell_type": "markdown",
   "source": [
    "## Veronderstellingen\n",
    "\n",
    "Om een DA te kunnen uitvoeren worden een aantal veronderstellingen gemaakt:\n",
    "1. Er is **geen afhankelijkheid** tussen de onafhankelijke variabelen.\n",
    "2. Tussen elk paar van onafhankelijke variabelen is er **lineariteit**.\n",
    "3. Er is geen **co-lineariteit** tussen de onafhankelijke variabelen.\n",
    "4. Multivariate **normaliteit**.\n",
    "5. **Homogeniteit** van de variantie-covariantie matrixen."
   ],
   "id": "804828f1c088ddc1"
  },
  {
   "metadata": {},
   "cell_type": "markdown",
   "source": [
    "## Python\n",
    "\n",
    "```python\n",
    "from sklearn.discriminant_analysis import LinearDiscriminantAnalysis\n",
    "lda = LinearDiscriminantAnalysis()\n",
    "lda.fit(X,y)\n",
    "```\n",
    "- X = de onafhankelijke variabele\n",
    "- y = de afhankelijke variabele\n",
    "\n",
    "Voor de uitwerking gebruiken we de dataset ``biopsy.csv``\n",
    "Waarbij:\n",
    "- ID: sample code number (not unique)\n",
    "- V1: clump thickness\n",
    "- V2: uniformity of cell size\n",
    "- V3: uniformity of cell shape\n",
    "- V4: marginal adhesion\n",
    "- V5: single epithelial cell size\n",
    "- V6: bare nuclei\n",
    "- V7: bland chromatin\n",
    "- V8: normal nucleoli\n",
    "- V9: mitoses\n",
    "- class: begign (goedaardig) or malignant (kwaadaardig)"
   ],
   "id": "6168cf5adef0eb61"
  },
  {
   "metadata": {
    "ExecuteTime": {
     "end_time": "2024-05-16T14:58:54.338822Z",
     "start_time": "2024-05-16T14:58:53.914666Z"
    }
   },
   "cell_type": "code",
   "source": [
    "import os\n",
    "\n",
    "os.chdir(r\"C:\\Users\\zouff\\PycharmProjects\\Y2\\Datascience2\\data_aux\")\n",
    "import pandas as pd\n",
    "from IPython import InteractiveShell\n",
    "\n",
    "InteractiveShell.ast_node_interactivity = \"all\"\n",
    "\n",
    "#Inlezen van gegevens\n",
    "biopsy = pd.read_csv('biopsy.csv', sep=\";\")\n",
    "biopsy.head(8)"
   ],
   "id": "5ed771bee7ac0fc3",
   "execution_count": 1,
   "outputs": []
  },
  {
   "metadata": {},
   "cell_type": "markdown",
   "source": [
    "De eerste kolom, ID, kunnen we niet gebruiken omdat dezelfde patiënten meerdere keren voorkomen.\n",
    "We gaan op deze data de DA uitvoeren. We gaan enkel de eerste 3 waardes gebruiken (V1, V2, V3)\n"
   ],
   "id": "6dafe3b792e1fd91"
  },
  {
   "metadata": {
    "ExecuteTime": {
     "end_time": "2024-05-16T14:58:54.349761Z",
     "start_time": "2024-05-16T14:58:54.339827Z"
    }
   },
   "cell_type": "code",
   "source": [
    "X = biopsy[['V1', 'V2', 'V3']]\n",
    "X\n",
    "y = biopsy['class']\n",
    "y"
   ],
   "id": "2ddabea30c8fd4c0",
   "execution_count": 2,
   "outputs": []
  },
  {
   "metadata": {
    "ExecuteTime": {
     "end_time": "2024-05-16T14:58:55.494755Z",
     "start_time": "2024-05-16T14:58:54.350775Z"
    }
   },
   "cell_type": "code",
   "source": [
    "from functions.functions_Y2.lda import *\n",
    "\n",
    "lda = LinearDiscriminantAnalysis()\n",
    "lda.fit(X, y)\n",
    "\n",
    "dfs1, dfs2, dfs3 = lda_info(lda, X)\n",
    "\n",
    "dfs1\n",
    "dfs2\n",
    "dfs3"
   ],
   "id": "8b51246e1407ebc8",
   "execution_count": 3,
   "outputs": []
  },
  {
   "metadata": {},
   "cell_type": "markdown",
   "source": [
    "### Uitleg\n",
    "- **Prior probabilities of groups**: berekent de kans dat een waarneming **apriori** in 1 van de 2 klassen valt. Het gaat dus over de waargenomen relatieve frequentie van de twee klassen in de steekproef. Het blijkt dat 'benign' al 65.5% keer voorkomt in de biopsie\n",
    "- **Group means**: Geeft het gemiddelde van elke onafhankelijke variabelen weer per categorie. Deze gemiddelde worden bij de berekingen gebruikt om de discriminantfuncties te berekenen.\n",
    "- **Coefficients of linear discriminants**: Geeft de coëfficiënten van de lineaire discriminant functie(s). Deze coëfficiënten worden gebruikt elke originele instantie te **transformeren** naar de oorspronkelijke 3 dimensies (V1, V2, V3) naar 1 dimensie *$(LD_1)$*. In het **algemene geval** is het aantal *$(N)$* discriminant functies *$(LD_i)$* gelijk aan:\n",
    "$$N = min(\\#onafhankelijke variabelen, \\#afhankelijke waarden -1)$$\n",
    "- Op ons voorbeeld is dit: $N = min(3, 2-1) = 1$"
   ],
   "id": "da0db2847bfef753"
  },
  {
   "metadata": {},
   "cell_type": "markdown",
   "source": "### Met gebruik van de transform functie kunnen we de dataset van 3 dimensies omzetten naar 1 dimensie.",
   "id": "b89114f98717d146"
  },
  {
   "metadata": {
    "ExecuteTime": {
     "end_time": "2024-05-16T14:58:55.517301Z",
     "start_time": "2024-05-16T14:58:55.494755Z"
    }
   },
   "cell_type": "code",
   "source": [
    "# map de onafhankelijke variabelen met de discriminantfuncties LDi uit het LDA-model naar hun discriminantwaarden\n",
    "LD = lda.transform(X)\n",
    "\n",
    "#combineer met de oorspronkelijke afhankelijke variabele\n",
    "LD = pd.DataFrame(zip(LD[:, 0], biopsy['class']), columns=['LD1', 'Target'], index=biopsy.index)\n",
    "\n",
    "LD\n",
    "\n",
    "#OF\n",
    "\n",
    "LD = ld1(lda, X, target=biopsy['class'], index=biopsy.index)\n",
    "\n",
    "LD\n",
    "\n",
    "#Combineren van de originele DF met de LD1 waardes\n",
    "combinatie = biopsy[['V1', 'V2', 'V3']].join(LD)\n",
    "\n",
    "combinatie"
   ],
   "id": "734a99f13183701e",
   "execution_count": 4,
   "outputs": []
  },
  {
   "metadata": {},
   "cell_type": "markdown",
   "source": "### Visualiseren LD1-waarden",
   "id": "f5359307f28cb55d"
  },
  {
   "metadata": {},
   "cell_type": "markdown",
   "source": [
    "De inspecite van de LD1-waarden laat zien dat 'benign'-instanties over het algemeen een lagere LD1-waarde hebben\n",
    "<br>\n",
    "Met volgende functie kunnen we de DA visualiseren:"
   ],
   "id": "6e14244212cefd1a"
  },
  {
   "metadata": {
    "ExecuteTime": {
     "end_time": "2024-05-16T14:58:55.806933Z",
     "start_time": "2024-05-16T14:58:55.518833Z"
    }
   },
   "cell_type": "code",
   "source": "vis_da(LD)",
   "id": "32c3b3182f788037",
   "execution_count": 5,
   "outputs": []
  },
  {
   "metadata": {},
   "cell_type": "markdown",
   "source": [
    "#### Voorspellingen maken\n",
    "Om voor bestaande observaties na te gaan in welke klasse ze terecht komen kan gebruik gemaakt worden van:"
   ],
   "id": "d676c1ef814900ba"
  },
  {
   "metadata": {
    "ExecuteTime": {
     "end_time": "2024-05-16T14:58:55.818308Z",
     "start_time": "2024-05-16T14:58:55.807945Z"
    }
   },
   "cell_type": "code",
   "source": [
    "overview = pd.DataFrame(lda.predict_proba(X), columns=[\"P(benign)\", \"P(malignant)\"]).join(\n",
    "    pd.DataFrame(lda.predict(X), columns=[\"prediction\"])).join(biopsy['class'])\n",
    "overview"
   ],
   "id": "366aae91b1a052f3",
   "execution_count": 6,
   "outputs": []
  },
  {
   "metadata": {},
   "cell_type": "markdown",
   "source": "Voor bestaande observaties kunnen we volgende functie gebruiken:",
   "id": "d125bdd461542bfc"
  },
  {
   "metadata": {
    "ExecuteTime": {
     "end_time": "2024-05-16T14:58:55.829454Z",
     "start_time": "2024-05-16T14:58:55.818308Z"
    }
   },
   "cell_type": "code",
   "source": [
    "waarneming = pd.DataFrame([[4.41774, 3.134478, 3.207439]], columns=['V1', 'V2', 'V3'])\n",
    "\n",
    "Chances, Predictions = pred_da(lda, waarneming)\n",
    "\n",
    "waarneming\n",
    "\n",
    "print(f'Kansen: {Chances}')\n",
    "print(f'Voorspelling: {Predictions}')"
   ],
   "id": "465b6b7a756e8ca2",
   "execution_count": 7,
   "outputs": []
  },
  {
   "metadata": {
    "ExecuteTime": {
     "end_time": "2024-05-16T14:58:55.860503Z",
     "start_time": "2024-05-16T14:58:55.830462Z"
    }
   },
   "cell_type": "code",
   "source": [
    "confusionMatrix, accuracy, precision, recall, f1 = evaluate_da(overview, \"class\")\n",
    "confusionMatrix\n",
    "accuracy\n",
    "precision\n",
    "recall\n",
    "f1"
   ],
   "id": "65e002886871b592",
   "execution_count": 8,
   "outputs": []
  }
 ],
 "metadata": {
  "kernelspec": {
   "display_name": "Python 3",
   "language": "python",
   "name": "python3"
  },
  "language_info": {
   "codemirror_mode": {
    "name": "ipython",
    "version": 2
   },
   "file_extension": ".py",
   "mimetype": "text/x-python",
   "name": "python",
   "nbconvert_exporter": "python",
   "pygments_lexer": "ipython2",
   "version": "2.7.6"
  }
 },
 "nbformat": 4,
 "nbformat_minor": 5
}
