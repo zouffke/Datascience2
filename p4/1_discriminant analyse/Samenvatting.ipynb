{
 "cells": [
  {
   "metadata": {},
   "cell_type": "markdown",
   "source": "# Discriminant analyse",
   "id": "d4049086bb3cd36d"
  },
  {
   "metadata": {},
   "cell_type": "markdown",
   "source": [
    "*Discriminant analyse zal worden verwezen door DA*\n",
    "\n",
    "## Inleidende begrippen\n",
    "\n",
    "### Univariate statistiek\n",
    "- Statische techniek waar 1 variabele voor nodig is\n",
    "\n",
    "### Bivariate statistiek\n",
    "- Statische techniek waar 2 variabelen voor nodig zijn\n",
    "\n",
    "- vb. Regressie analyse waarbij 2 variabelen nodig zijn om een onafhankelijke variabele (x) en een afhankelijke variabele (y) te voorspellen.\n",
    "\n",
    "### Multivariate statistiek\n",
    "- Statische techniek waar 3 of meer variabelen voor nodig zijn\n",
    "- vb. Cluster analyse\n",
    "    - Wanneer elk element een punt is in drie of meer dimensionale ruimte.\n",
    "\n",
    "### Wederzijds uitsluitende deelgroepen\n",
    "- Deelgroepen die niet overlappen\n",
    "- vb. Mannen en vrouwen"
   ],
   "id": "d0a1c6923a7a33e3"
  },
  {
   "metadata": {},
   "cell_type": "markdown",
   "source": [
    "## Wat is DA?\n",
    "\n",
    "- DA behoort tot de **multivariate statistiek**\n",
    "\n",
    "bv. Een bank moet beslissen of een klant een lening krijgt of niet.\n",
    "- De klant wordt in 1 van 2 groepen gedeeld:\n",
    "    - Kredietwaardige klanten\n",
    "    - Niet-kredietwaardige klanten\n",
    "\n",
    "De bank heeft in het verleden al leningen gegeven en heeft gegevens over de klanten die de lening hebben terugbetaald en de klanten die de lening niet hebben terugbetaald.\n",
    "Stel dat deze databank 3 discriminanten (criteria) bevat die het duidelijkste aangeven of de klant waardig is of niet.\n",
    "- Stabiliteit\n",
    "- finianciële draagkracht\n",
    "- leeftijd\n",
    "Aan de hand van deze data in de databank en de waardes van de klant kan de bank beslissen of deze waardig is of niet."
   ],
   "id": "a55cfd27bda34e5c"
  },
  {
   "metadata": {},
   "cell_type": "markdown",
   "source": [
    "## Afhankelijke en onafhankelijke variabelen\n",
    "- De afhankelijke variabele is de categorie.\n",
    "    *In het vorig voorbeeld, kredietwaardig of niet.* \n",
    "- De onafhankelijke variabelen zijn de gegevens die worden gebruikt om tot de categorie te komen.\n",
    "    *In het vorig voorbeeld, stabiliteit, financiële draagkracht en leeftijd.*\n",
    "- De afhankelijke variabele is minstens op een nominaal schaalniveau.\n",
    "- De onafhankelijke variabelen zijn continue variabelen op minstens interval schaalniveau.\n",
    "\n",
    "<center><img src=\"rsc/img/de-vier-meetniveaus-scribbr-1423x732-1.png\" width=\"1000\"></center>"
   ],
   "id": "7154c9896ee50913"
  }
 ],
 "metadata": {
  "kernelspec": {
   "display_name": "Python 3",
   "language": "python",
   "name": "python3"
  },
  "language_info": {
   "codemirror_mode": {
    "name": "ipython",
    "version": 2
   },
   "file_extension": ".py",
   "mimetype": "text/x-python",
   "name": "python",
   "nbconvert_exporter": "python",
   "pygments_lexer": "ipython2",
   "version": "2.7.6"
  }
 },
 "nbformat": 4,
 "nbformat_minor": 5
}
